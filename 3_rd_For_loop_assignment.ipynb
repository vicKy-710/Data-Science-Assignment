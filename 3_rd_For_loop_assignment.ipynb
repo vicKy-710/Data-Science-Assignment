{
 "cells": [
  {
   "cell_type": "code",
   "execution_count": 2,
   "id": "06a980e6-5fe5-4100-9fca-a85fda9fba63",
   "metadata": {},
   "outputs": [],
   "source": [
    "#1) Write a Python program to print the numbers from 1 to 10 using a `for` loop."
   ]
  },
  {
   "cell_type": "code",
   "execution_count": 8,
   "id": "9ef4f757-1200-4f17-8252-9a2e77ece315",
   "metadata": {},
   "outputs": [
    {
     "name": "stdout",
     "output_type": "stream",
     "text": [
      "1 2 3 4 5 6 7 8 9 10 "
     ]
    }
   ],
   "source": [
    "for i in range(1,11):\n",
    "    print(i,end=\" \")"
   ]
  },
  {
   "cell_type": "code",
   "execution_count": 9,
   "id": "aa1b3341-6128-4523-8f7a-e52519b38460",
   "metadata": {},
   "outputs": [],
   "source": [
    "#2) 2. Create a program that calculates the sum of all numbers in a list using a `for` loop."
   ]
  },
  {
   "cell_type": "code",
   "execution_count": 12,
   "id": "288dbde2-9c80-41ef-96cc-ae8f2bb12db1",
   "metadata": {},
   "outputs": [
    {
     "name": "stdout",
     "output_type": "stream",
     "text": [
      "the total sum is 63\n"
     ]
    }
   ],
   "source": [
    "def cal_sum(number):\n",
    "    total = 0\n",
    "    \n",
    "    for i in number:\n",
    "        total += i\n",
    "    return total\n",
    "\n",
    "#main program\n",
    "lst = [4,15,26,3,6,9]\n",
    "\n",
    "result = cal_sum(lst)\n",
    "print(\"the total sum is\",result)"
   ]
  },
  {
   "cell_type": "code",
   "execution_count": 13,
   "id": "ddc92f70-0eba-4a56-bbdd-2b57dc6a1eab",
   "metadata": {},
   "outputs": [],
   "source": [
    "#3) Write a program to print the characters of a string in reverse order using a `for` loop."
   ]
  },
  {
   "cell_type": "code",
   "execution_count": 18,
   "id": "f98ad67a-5f72-40b5-9921-1a27b70198f6",
   "metadata": {},
   "outputs": [
    {
     "name": "stdout",
     "output_type": "stream",
     "text": [
      "S L L I K S W P "
     ]
    }
   ],
   "source": [
    "word = \"PWSKILLS\"\n",
    "\n",
    "for i in reversed(word):\n",
    "    print(i,end=\" \")"
   ]
  },
  {
   "cell_type": "code",
   "execution_count": 19,
   "id": "33376f7e-72cb-4bec-b166-d0ec16a88fca",
   "metadata": {},
   "outputs": [],
   "source": [
    "#4) Develop a program that finds the factorial of a given number using a `for` loop."
   ]
  },
  {
   "cell_type": "code",
   "execution_count": 26,
   "id": "0cea87ba-4f36-4d17-952d-c1fcc558b8d4",
   "metadata": {},
   "outputs": [
    {
     "name": "stdin",
     "output_type": "stream",
     "text": [
      "Enter the no: 5\n"
     ]
    },
    {
     "name": "stdout",
     "output_type": "stream",
     "text": [
      "5! = 120\n"
     ]
    }
   ],
   "source": [
    "word = int(input(\"Enter the no:\"))\n",
    "\n",
    "k = 1\n",
    "for i in range(1,word+1):\n",
    "    k = k*i\n",
    "\n",
    "\n",
    "print(\"{}! = {}\".format(word,k))"
   ]
  },
  {
   "cell_type": "code",
   "execution_count": 27,
   "id": "eafeee8b-d580-495a-becd-ab0f0235db76",
   "metadata": {},
   "outputs": [],
   "source": [
    "#5) Create a program to print the multiplication table of a given number using a `for` loop."
   ]
  },
  {
   "cell_type": "code",
   "execution_count": 29,
   "id": "ef56d07d-2389-4994-b284-3eae9e118a29",
   "metadata": {},
   "outputs": [
    {
     "name": "stdin",
     "output_type": "stream",
     "text": [
      "Enter the number: 5\n"
     ]
    },
    {
     "name": "stdout",
     "output_type": "stream",
     "text": [
      "5 * 1 = 5\n",
      "5 * 2 = 10\n",
      "5 * 3 = 15\n",
      "5 * 4 = 20\n",
      "5 * 5 = 25\n",
      "5 * 6 = 30\n",
      "5 * 7 = 35\n",
      "5 * 8 = 40\n",
      "5 * 9 = 45\n",
      "5 * 10 = 50\n"
     ]
    }
   ],
   "source": [
    "num = int(input(\"Enter the number:\"))\n",
    "\n",
    "for i in range(1,11):\n",
    "    print(\"{} * {} = {}\".format(num,i,num*i))\n",
    "    "
   ]
  },
  {
   "cell_type": "code",
   "execution_count": 30,
   "id": "05e2f802-f6f6-4e40-9ee2-13a98378d6f6",
   "metadata": {},
   "outputs": [],
   "source": [
    "#6) Write a program that counts the number of even and odd numbers in a list using a `for` loop."
   ]
  },
  {
   "cell_type": "code",
   "execution_count": 38,
   "id": "5dfbcb1e-6bd2-455a-86c5-4d4278d9ef47",
   "metadata": {},
   "outputs": [
    {
     "name": "stdout",
     "output_type": "stream",
     "text": [
      "The count of even numbers in list is: 4\n",
      "The count of odd numbers in list is: 3\n"
     ]
    }
   ],
   "source": [
    "def count_even_odd(input_list):\n",
    "    even = 0\n",
    "    odd = 0\n",
    "    for i in input_list:\n",
    "        if i%2 == 0:\n",
    "            even += 1\n",
    "        else:\n",
    "            odd += 1\n",
    "    print(\"The count of even numbers in list is: {}\".format(even))\n",
    "    print(\"The count of odd numbers in list is: {}\".format(odd))\n",
    "\n",
    "#main program\n",
    "lst = [36,25,14,74,56,89,23]\n",
    "count_even_odd(lst)"
   ]
  },
  {
   "cell_type": "code",
   "execution_count": 39,
   "id": "50738963-e765-4b03-94b6-58a9054b9b88",
   "metadata": {},
   "outputs": [],
   "source": [
    "#7) Develop a program that prints the squares of numbers from 1 to 5 using a `for` loop."
   ]
  },
  {
   "cell_type": "code",
   "execution_count": 40,
   "id": "a4562a7c-1c5f-46ed-87d6-195b6c3d75e6",
   "metadata": {},
   "outputs": [
    {
     "name": "stdout",
     "output_type": "stream",
     "text": [
      "Square of 1 is 1\n",
      "Square of 2 is 4\n",
      "Square of 3 is 9\n",
      "Square of 4 is 16\n",
      "Square of 5 is 25\n"
     ]
    }
   ],
   "source": [
    "for i in range(1,6):\n",
    "    print(\"Square of {} is {}\".format(i,i**2))"
   ]
  },
  {
   "cell_type": "code",
   "execution_count": 41,
   "id": "685b730b-3f25-44fb-9604-de72202d1dcd",
   "metadata": {},
   "outputs": [],
   "source": [
    "#8) Create a program to find the length of a string without using the `len()` function."
   ]
  },
  {
   "cell_type": "code",
   "execution_count": 43,
   "id": "c4498145-0e64-47dd-9c9c-f0e479dab7aa",
   "metadata": {},
   "outputs": [
    {
     "name": "stdout",
     "output_type": "stream",
     "text": [
      "The length of a string without using len function = 12\n"
     ]
    }
   ],
   "source": [
    "def count_string(input_string):\n",
    "    count = 0\n",
    "    for i in input_string:\n",
    "        count += 1\n",
    "    print(\"The length of a string without using len function = {}\".format(count))\n",
    "#main program\n",
    "word = \"Data Science\"\n",
    "count_string(word)"
   ]
  },
  {
   "cell_type": "code",
   "execution_count": 44,
   "id": "44f07b08-4f21-4cca-a7d1-8badd6082d3a",
   "metadata": {},
   "outputs": [],
   "source": [
    "#9) Write a program that calculates the average of a list of numbers using a `for` loop."
   ]
  },
  {
   "cell_type": "code",
   "execution_count": 47,
   "id": "81b94cc2-9b1b-400a-9cdb-196090fb8021",
   "metadata": {},
   "outputs": [
    {
     "name": "stdout",
     "output_type": "stream",
     "text": [
      "List = [24, 20, 36, 14]\n",
      "Average = 23.5\n"
     ]
    }
   ],
   "source": [
    "def calculate_average(input_list):\n",
    "    total = 0\n",
    "    num_list = len(input_list)\n",
    "    \n",
    "    for i in input_list:\n",
    "        total += i\n",
    "        \n",
    "        average = total /num_list\n",
    "        \n",
    "    print(\"List = {}\".format(lst))\n",
    "    print(\"Average = {}\".format(average))\n",
    "    \n",
    "lst = [24,20,36,14]\n",
    "calculate_average(lst)"
   ]
  },
  {
   "cell_type": "code",
   "execution_count": 48,
   "id": "5342c5c1-1cef-4c5c-949a-d18fa5912454",
   "metadata": {},
   "outputs": [],
   "source": [
    "#10) Develop a program that prints the first `n` Fibonacci numbers using a `for` loop."
   ]
  },
  {
   "cell_type": "code",
   "execution_count": 51,
   "id": "b5503b48-80fa-4675-9996-a9a72c62a528",
   "metadata": {},
   "outputs": [
    {
     "name": "stdin",
     "output_type": "stream",
     "text": [
      "Enter the number:  10\n"
     ]
    },
    {
     "name": "stdout",
     "output_type": "stream",
     "text": [
      "The first 10 fibonacci numbers are : 0 1 1 2 3 5 8 13 21 34 "
     ]
    }
   ],
   "source": [
    "def fibonacci(n):\n",
    "    a, b =0, 1\n",
    "    print(\"The first\",n, \"fibonacci numbers are :\", a, b, end = \" \") \n",
    "    \n",
    "    for i in range(2,n):\n",
    "        next_fibo = a + b\n",
    "        print(next_fibo, end = \" \")\n",
    "        a, b = b, next_fibo\n",
    "        \n",
    "num_terms = int(input(\"Enter the number: \"))\n",
    "fibonacci(num_terms)"
   ]
  },
  {
   "cell_type": "code",
   "execution_count": 52,
   "id": "27975f95-fd28-4faa-bb3a-ad6d59981c95",
   "metadata": {},
   "outputs": [],
   "source": [
    "#11) Write a program to check if a given list contains any duplicates using a `for` loop."
   ]
  },
  {
   "cell_type": "code",
   "execution_count": 54,
   "id": "1984e498-e988-4b6b-aa55-aa7c8e2a2006",
   "metadata": {},
   "outputs": [
    {
     "name": "stdout",
     "output_type": "stream",
     "text": [
      "The list contains duplicates.\n"
     ]
    }
   ],
   "source": [
    "def find_duplicates(input_list):\n",
    "    a_set = set()\n",
    "    for i in input_list:\n",
    "        if i in a_set:\n",
    "            return True\n",
    "        a_set.add(i)\n",
    "    return False\n",
    "\n",
    "#main program         \n",
    "lst = [1,2,3,4,5,2,1]\n",
    "if find_duplicates(lst):\n",
    "    print(\"The list contains duplicates.\")\n",
    "else:\n",
    "    print(\"the list doesn't contain duplicates.\")"
   ]
  },
  {
   "cell_type": "code",
   "execution_count": 55,
   "id": "80ceb89f-0908-4f19-b8fa-a89b3174de7f",
   "metadata": {},
   "outputs": [],
   "source": [
    "#12) Create a program that prints the prime numbers in a given range using a `for` loop.     "
   ]
  },
  {
   "cell_type": "code",
   "execution_count": 78,
   "id": "dbff5eaf-7fdc-4f00-b5a8-6bf2e08eb1f2",
   "metadata": {},
   "outputs": [
    {
     "name": "stdout",
     "output_type": "stream",
     "text": [
      "Prime numbers in the range 10 to 50:\n",
      "11\n",
      "13\n",
      "17\n",
      "19\n",
      "23\n",
      "29\n",
      "31\n",
      "37\n",
      "41\n",
      "43\n",
      "47\n"
     ]
    }
   ],
   "source": [
    "def is_prime(num):\n",
    "    if num < 2:\n",
    "        return False\n",
    "    for i in range(2, int(num**0.5) + 1):\n",
    "        if num % i == 0:\n",
    "            return False\n",
    "    return True\n",
    "\n",
    "def print_primes_in_range(start, end):\n",
    "    for num in range(start, end + 1):\n",
    "        if is_prime(num):\n",
    "            print(num)\n",
    "\n",
    "# Example usage:\n",
    "start_range = 10\n",
    "end_range = 50\n",
    "\n",
    "print(f\"Prime numbers in the range {start_range} to {end_range}:\")\n",
    "print_primes_in_range(start_range, end_range)\n"
   ]
  },
  {
   "cell_type": "code",
   "execution_count": 61,
   "id": "958066e1-92e3-4645-bf3f-dffb495a3f81",
   "metadata": {},
   "outputs": [],
   "source": [
    "#13) Develop a program that counts the number of vowels in a string using a `for` loop."
   ]
  },
  {
   "cell_type": "code",
   "execution_count": 73,
   "id": "3399914a-362b-4e97-a11c-787bdf9f0a17",
   "metadata": {},
   "outputs": [
    {
     "name": "stdout",
     "output_type": "stream",
     "text": [
      "The Count of vowels present here are : 5\n"
     ]
    }
   ],
   "source": [
    "def count_vowels(input_string):\n",
    "    vowels = \"aeiouAEIOU\"\n",
    "    vowels_count = 0\n",
    "    for i in input_string:\n",
    "        if i in vowels:\n",
    "            vowels_count += 1\n",
    "    print(\"The Count of vowels present here are : {}\".format(vowels_count))\n",
    "\n",
    "#main program \n",
    "word = \"Data Science\"\n",
    "count_vowels(word)"
   ]
  },
  {
   "cell_type": "code",
   "execution_count": 79,
   "id": "aaceedac-66a9-492e-9b71-986a1fb06a16",
   "metadata": {},
   "outputs": [],
   "source": [
    "#14) Write a program to find the maximum element in a 2D list using a nested `for` loop."
   ]
  },
  {
   "cell_type": "code",
   "execution_count": null,
   "id": "211c6362-8972-4fc7-9211-f37d3ce3547a",
   "metadata": {},
   "outputs": [],
   "source": [
    "#Don't Know the Answer."
   ]
  },
  {
   "cell_type": "code",
   "execution_count": 1,
   "id": "390c163d-bb46-4ed3-8633-fcc6ac39b0ae",
   "metadata": {},
   "outputs": [],
   "source": [
    "#15) Create a program that removes all occurrences of a specific element from a list using a `for` loop."
   ]
  },
  {
   "cell_type": "code",
   "execution_count": 2,
   "id": "4725b5df-4387-48a6-87ef-e6af9cd54c45",
   "metadata": {},
   "outputs": [
    {
     "name": "stdin",
     "output_type": "stream",
     "text": [
      "Enter the number: 5\n"
     ]
    },
    {
     "name": "stdout",
     "output_type": "stream",
     "text": [
      "The removed_occurence list is : [1, 2, 3, 4, 8, 4, 3, 6]\n"
     ]
    }
   ],
   "source": [
    "def remove_occurence(input_lst,number):\n",
    "    new_list = [element for element in input_lst if element != number]\n",
    "    print(\"The removed_occurence list is : {}\".format(new_list))\n",
    "\n",
    "#main program\n",
    "input_lst = [1,2,3,4,5,8,5,5,4,3,5,6]\n",
    "number = int(input(\"Enter the number:\"))\n",
    "remove_occurence(input_lst,number)"
   ]
  },
  {
   "cell_type": "code",
   "execution_count": 1,
   "id": "36fea760-11a8-49f8-89a6-e4f85424c0be",
   "metadata": {},
   "outputs": [],
   "source": [
    "#16) Develop a program that generates a multiplication table for numbers from 1 to 5 using a nested `for` loop."
   ]
  },
  {
   "cell_type": "code",
   "execution_count": 14,
   "id": "2130f8d6-bde1-4f83-8dfb-485dd078d593",
   "metadata": {},
   "outputs": [
    {
     "name": "stdout",
     "output_type": "stream",
     "text": [
      "---------------\n",
      "Table of 1\n",
      "---------------\n",
      "\t1 * 1 = 1\n",
      "\t1 * 2 = 2\n",
      "\t1 * 3 = 3\n",
      "\t1 * 4 = 4\n",
      "\t1 * 5 = 5\n",
      "\t1 * 6 = 6\n",
      "\t1 * 7 = 7\n",
      "\t1 * 8 = 8\n",
      "\t1 * 9 = 9\n",
      "\t1 * 10 = 10\n",
      "---------------\n",
      "Table of 2\n",
      "---------------\n",
      "\t2 * 1 = 2\n",
      "\t2 * 2 = 4\n",
      "\t2 * 3 = 6\n",
      "\t2 * 4 = 8\n",
      "\t2 * 5 = 10\n",
      "\t2 * 6 = 12\n",
      "\t2 * 7 = 14\n",
      "\t2 * 8 = 16\n",
      "\t2 * 9 = 18\n",
      "\t2 * 10 = 20\n",
      "---------------\n",
      "Table of 3\n",
      "---------------\n",
      "\t3 * 1 = 3\n",
      "\t3 * 2 = 6\n",
      "\t3 * 3 = 9\n",
      "\t3 * 4 = 12\n",
      "\t3 * 5 = 15\n",
      "\t3 * 6 = 18\n",
      "\t3 * 7 = 21\n",
      "\t3 * 8 = 24\n",
      "\t3 * 9 = 27\n",
      "\t3 * 10 = 30\n",
      "---------------\n",
      "Table of 4\n",
      "---------------\n",
      "\t4 * 1 = 4\n",
      "\t4 * 2 = 8\n",
      "\t4 * 3 = 12\n",
      "\t4 * 4 = 16\n",
      "\t4 * 5 = 20\n",
      "\t4 * 6 = 24\n",
      "\t4 * 7 = 28\n",
      "\t4 * 8 = 32\n",
      "\t4 * 9 = 36\n",
      "\t4 * 10 = 40\n",
      "---------------\n",
      "Table of 5\n",
      "---------------\n",
      "\t5 * 1 = 5\n",
      "\t5 * 2 = 10\n",
      "\t5 * 3 = 15\n",
      "\t5 * 4 = 20\n",
      "\t5 * 5 = 25\n",
      "\t5 * 6 = 30\n",
      "\t5 * 7 = 35\n",
      "\t5 * 8 = 40\n",
      "\t5 * 9 = 45\n",
      "\t5 * 10 = 50\n"
     ]
    }
   ],
   "source": [
    "for i in range(1,6):\n",
    "    print(\"-\"*15)\n",
    "    print(\"Table of\",i)\n",
    "    print(\"-\"*15)\n",
    "    \n",
    "    for j in range(1,11):\n",
    "        \n",
    "        print(\"\\t{} * {} = {}\".format(i,j,i*j))\n",
    "        "
   ]
  },
  {
   "cell_type": "code",
   "execution_count": 15,
   "id": "6fa019f3-e51a-49f1-88bd-9d1f589ebec9",
   "metadata": {},
   "outputs": [],
   "source": [
    "#17) Write a program that converts a list of Fahrenheit temperatures to Celsius using a `for` loop."
   ]
  },
  {
   "cell_type": "code",
   "execution_count": 17,
   "id": "281deca5-3718-4f1e-967e-4d5353e77f35",
   "metadata": {},
   "outputs": [
    {
     "name": "stdout",
     "output_type": "stream",
     "text": [
      "Given list = [32, 64, 56, 35.6, 59]\n",
      "--------------------------------------------------\n",
      "Celsius List = [0.0, 17.77777777777778, 13.333333333333334, 2.000000000000001, 15.0]\n"
     ]
    }
   ],
   "source": [
    "def celsius(input_list):\n",
    "    celsius_list = []\n",
    "    for i in input_list:\n",
    "        i = (i-32)*5/9\n",
    "        celsius_list.append(i)\n",
    "    return celsius_list\n",
    "\n",
    "#main program\n",
    "lst = [32,64,56,35.6,59]\n",
    "result = celsius(lst)\n",
    "print(\"Given list =\",lst)\n",
    "print(\"-\"*50)\n",
    "print(\"Celsius List =\",result)"
   ]
  },
  {
   "cell_type": "code",
   "execution_count": 18,
   "id": "48e93d84-cfbb-435b-ad5b-a49c295dea72",
   "metadata": {},
   "outputs": [],
   "source": [
    "#18) Create a program to print the common elements from two lists using a `for` loop."
   ]
  },
  {
   "cell_type": "code",
   "execution_count": 24,
   "id": "1b10e6a5-0455-4595-bb92-5ab13981aaa1",
   "metadata": {},
   "outputs": [
    {
     "name": "stdout",
     "output_type": "stream",
     "text": [
      "The Common elements are: [45, 25, 69, 14, 45]\n"
     ]
    }
   ],
   "source": [
    "def find_common(lst_1,lst_2):\n",
    "    common_element_list = []\n",
    "    for i in lst_1:\n",
    "        for j in lst_2:\n",
    "            if i == j:\n",
    "                common_element_list.append(i)\n",
    "    return common_element_list\n",
    "\n",
    "#main program\n",
    "lst_1 = [45,25,36,69,32,14,15,45]\n",
    "lst_2 = [25,69,17,13,20,14,45]\n",
    "result = find_common(lst_1,lst_2)\n",
    "print(\"The Common elements are:\",result)\n",
    "            "
   ]
  },
  {
   "cell_type": "code",
   "execution_count": 25,
   "id": "6228c77e-cb65-41c9-a1f6-47cf678b3c39",
   "metadata": {},
   "outputs": [],
   "source": [
    "#19) Develop a program that prints the pattern of right-angled triangles using a `for` loop. Use ‘*’ to draw the pattern"
   ]
  },
  {
   "cell_type": "code",
   "execution_count": 30,
   "id": "58fa0507-08e2-481d-b2de-c733dfc00f5f",
   "metadata": {},
   "outputs": [
    {
     "name": "stdout",
     "output_type": "stream",
     "text": [
      "* \n",
      "* * \n",
      "* * * \n",
      "* * * * \n",
      "* * * * * \n",
      "* * * * * * \n",
      "* * * * * * * \n",
      "* * * * * * * * \n",
      "* * * * * * * * * \n",
      "* * * * * * * * * * \n",
      "* * * * * * * * * * * \n"
     ]
    }
   ],
   "source": [
    "for i in range(11):\n",
    "    for j in range(i+1):\n",
    "        print(\"*\",end=\" \")\n",
    "    print()\n",
    "        "
   ]
  },
  {
   "cell_type": "code",
   "execution_count": 31,
   "id": "c8884f66-ec7d-4eae-854c-fef6cdf254bf",
   "metadata": {},
   "outputs": [],
   "source": [
    "#20) Write a program to find the greatest common divisor (GCD) of two numbers using a `for` loop."
   ]
  },
  {
   "cell_type": "code",
   "execution_count": 37,
   "id": "e934c3b7-0885-4b73-a309-bf3b34db3412",
   "metadata": {},
   "outputs": [
    {
     "name": "stdout",
     "output_type": "stream",
     "text": [
      "The gcd of 8 and 12 is 4\n"
     ]
    }
   ],
   "source": [
    "def find_gcd(a, b):\n",
    "    for i in range(min(a,b),0,-1):\n",
    "        if a % i == 0 and b % i == 0:\n",
    "            return i \n",
    "\n",
    "#main program\n",
    "num1 = 8\n",
    "num2 = 12\n",
    "result = find_gcd(num1,num2)\n",
    "print(\"The gcd of {} and {} is {}\".format(num1,num2,result))"
   ]
  },
  {
   "cell_type": "code",
   "execution_count": 38,
   "id": "eac70a72-302f-40d0-9633-c1f745092ea6",
   "metadata": {},
   "outputs": [],
   "source": [
    "#21) Create a program that calculates the sum of the digits of numbers in a list using a list comprehension."
   ]
  },
  {
   "cell_type": "code",
   "execution_count": 40,
   "id": "afeb761e-5b1e-4c46-ace1-d1e6be8bf4f3",
   "metadata": {},
   "outputs": [
    {
     "name": "stdout",
     "output_type": "stream",
     "text": [
      "Original number : [123, 456, 789]\n",
      "Sum of digits for each number is [6, 15, 24]\n"
     ]
    }
   ],
   "source": [
    "def calculate_sum(num):\n",
    "    return sum(int(digit) for digit in str(num))\n",
    "\n",
    "#main program\n",
    "lst = [123,456,789]\n",
    "sum_of_digit = [calculate_sum(num) for num in lst]\n",
    "\n",
    "print(\"Original number :\",lst)\n",
    "print(\"Sum of digits for each number is {}\".format(sum_of_digit))"
   ]
  },
  {
   "cell_type": "code",
   "execution_count": 41,
   "id": "f0ae636f-0ee3-43d1-a2ac-cec9662af962",
   "metadata": {},
   "outputs": [],
   "source": [
    "#22) Write a program to find the prime factors of a given number using a `for` loop and list comprehension."
   ]
  },
  {
   "cell_type": "code",
   "execution_count": 45,
   "id": "589438ba-534b-4276-8559-290cd290dac2",
   "metadata": {},
   "outputs": [
    {
     "name": "stdout",
     "output_type": "stream",
     "text": [
      "The prime factors of 36 are: [2, 3]\n"
     ]
    }
   ],
   "source": [
    "def prime_factors(n):\n",
    "    factors = [i for i in range(2, n + 1) if n % i == 0 and all(i % j != 0 for j in range(2, int(i**0.5) + 1))]\n",
    "    return factors\n",
    "\n",
    "#main program \n",
    "number = 36\n",
    "\n",
    "result = prime_factors(number)\n",
    "print(\"The prime factors of {} are: {}\".format(number,result))\n"
   ]
  },
  {
   "cell_type": "code",
   "execution_count": 46,
   "id": "69df043c-01be-4ebb-a7f5-b097b6d2dc4c",
   "metadata": {},
   "outputs": [],
   "source": [
    "#23) Develop a program that extracts unique elements from a list and stores them in a new list using a list comprehension."
   ]
  },
  {
   "cell_type": "code",
   "execution_count": 48,
   "id": "9fefc854-c6cf-4a7d-a742-48b7fd14b66e",
   "metadata": {},
   "outputs": [
    {
     "name": "stdout",
     "output_type": "stream",
     "text": [
      "[1, 4, 5, 6, 7, 8]\n"
     ]
    }
   ],
   "source": [
    "def extract_unique(input_list):\n",
    "    return [x for x in input_list if input_list.count(x) == 1] \n",
    "\n",
    "#main program\n",
    "input_list = [1, 2, 3, 2, 4, 5, 3, 6, 7, 8]\n",
    "print(extract_unique(input_list))"
   ]
  },
  {
   "cell_type": "code",
   "execution_count": 1,
   "id": "ecb40a9b-23cc-4a11-8075-60898bbcb551",
   "metadata": {},
   "outputs": [],
   "source": [
    "#24) Create a program that generates a list of all palindromic numbers up to a specified limit using a list comprehension."
   ]
  },
  {
   "cell_type": "code",
   "execution_count": 5,
   "id": "d7702256-a7b8-4066-89d3-d95004090760",
   "metadata": {},
   "outputs": [
    {
     "name": "stdout",
     "output_type": "stream",
     "text": [
      "Palindromic numbers upto 1000 = [0, 1, 2, 3, 4, 5, 6, 7, 8, 9, 11, 22, 33, 44, 55, 66, 77, 88, 99, 101, 111, 121, 131, 141, 151, 161, 171, 181, 191, 202, 212, 222, 232, 242, 252, 262, 272, 282, 292, 303, 313, 323, 333, 343, 353, 363, 373, 383, 393, 404, 414, 424, 434, 444, 454, 464, 474, 484, 494, 505, 515, 525, 535, 545, 555, 565, 575, 585, 595, 606, 616, 626, 636, 646, 656, 666, 676, 686, 696, 707, 717, 727, 737, 747, 757, 767, 777, 787, 797, 808, 818, 828, 838, 848, 858, 868, 878, 888, 898, 909, 919, 929, 939, 949, 959, 969, 979, 989, 999]\n"
     ]
    }
   ],
   "source": [
    "def generate_numbers(limit):\n",
    "    return [num for num in range(limit + 1) if str(num) == str(num)[::-1]]\n",
    "#main program\n",
    "limit = 1000\n",
    "palindrome_numbers = generate_numbers(limit)\n",
    "\n",
    "print(\"Palindromic numbers upto {} = {}\".format(limit, palindrome_numbers))"
   ]
  },
  {
   "cell_type": "code",
   "execution_count": 6,
   "id": "8bffbe4c-6208-463e-8d6b-e2aaa17584b9",
   "metadata": {},
   "outputs": [],
   "source": [
    "#25) Write a program to flatten a nested list using list comprehension."
   ]
  },
  {
   "cell_type": "code",
   "execution_count": 9,
   "id": "a4632036-3047-467f-8423-3a53b05b589e",
   "metadata": {},
   "outputs": [
    {
     "name": "stdout",
     "output_type": "stream",
     "text": [
      "The Original list is: [1, [2, 3, [4, 5]], 6, [7, 8]]\n",
      "The flattened list is: [1, 2, 3, 4, 5, 6, 7, 8]\n"
     ]
    }
   ],
   "source": [
    "def flattened_nested(lst):\n",
    "    return [item for sublist in lst for item in (flattened_nested(sublist) if isinstance(sublist, list) else [sublist])]\n",
    "\n",
    "lst = [1,[2,3,[4,5]],6,[7,8]]\n",
    "flattened_list = flattened_nested(lst)\n",
    "\n",
    "print(\"The Original list is:\",lst)\n",
    "print(\"The flattened list is:\",flattened_list)"
   ]
  },
  {
   "cell_type": "code",
   "execution_count": 10,
   "id": "d442da83-3f52-423c-a5e3-50ad515aa838",
   "metadata": {},
   "outputs": [],
   "source": [
    "#26) Develop a program that computes the sum of even and odd numbers in a list separately using list comprehension."
   ]
  },
  {
   "cell_type": "code",
   "execution_count": 13,
   "id": "757bc554-93ce-41c5-9d10-24cc9084cc52",
   "metadata": {},
   "outputs": [
    {
     "name": "stdout",
     "output_type": "stream",
     "text": [
      "The Even sum is: 80\n",
      "the Odd sum is: 148\n"
     ]
    }
   ],
   "source": [
    "def find_even_odd(lst):\n",
    "    even_sum = sum([num for num in lst if num % 2 == 0]) \n",
    "    odd_sum = sum([num for num in lst if num % 2 != 0 ])\n",
    "    return even_sum, odd_sum\n",
    "\n",
    "#main program\n",
    "lst = [14,25,36,71,21,31,30]\n",
    "even_sum,odd_sum = find_even_odd(lst)\n",
    "print(\"The Even sum is:\",even_sum)\n",
    "print(\"the Odd sum is:\",odd_sum)"
   ]
  },
  {
   "cell_type": "code",
   "execution_count": 14,
   "id": "e0cbd313-d2a3-4d84-a0f2-68e7cf8db2e9",
   "metadata": {},
   "outputs": [],
   "source": [
    "#27) Create a program that generates a list of squares of odd numbers between 1 and 10 using list comprehension."
   ]
  },
  {
   "cell_type": "code",
   "execution_count": 20,
   "id": "0bd19b0b-2de6-4a1b-a82e-663c54d16608",
   "metadata": {},
   "outputs": [
    {
     "name": "stdout",
     "output_type": "stream",
     "text": [
      "[1, 9, 25, 49, 81]\n"
     ]
    }
   ],
   "source": [
    "#using list comprhension squares of odd numbers\n",
    "squares = [num ** 2 for num in range(1,11) if num % 2 != 0]\n",
    "\n",
    "print(squares)"
   ]
  },
  {
   "cell_type": "code",
   "execution_count": 24,
   "id": "349e337a-b233-4794-a5f4-9d832dcd0491",
   "metadata": {},
   "outputs": [],
   "source": [
    "#28) Write a program that combines two lists into a dictionary using list comprehension."
   ]
  },
  {
   "cell_type": "code",
   "execution_count": 31,
   "id": "a4e57df4-c700-4c59-b5ea-098b50e45630",
   "metadata": {},
   "outputs": [
    {
     "name": "stdout",
     "output_type": "stream",
     "text": [
      "{'Name': 'Vicky', 'Course': 'Data Science', 'Duration': '1 Year', 'Organisation': 'PhysicsWallah'}\n"
     ]
    }
   ],
   "source": [
    "lst_1 = [\"Name\",\"Course\",\"Duration\",\"Organisation\"]\n",
    "\n",
    "lst_2 = [\"Vicky\",\"Data Science\",\"1 Year\",\"PhysicsWallah\"]\n",
    "\n",
    "#used dict comprehension \n",
    "dict = {key: value for key,value in zip(lst_1,lst_2)}\n",
    "\n",
    "print(dict)"
   ]
  },
  {
   "cell_type": "code",
   "execution_count": 32,
   "id": "a9c512a5-cd1d-4ecf-81b9-c8cf04d5f0f5",
   "metadata": {},
   "outputs": [],
   "source": [
    "#29) Develop a program that extracts the vowels from a string and stores them in a list using list comprehension."
   ]
  },
  {
   "cell_type": "code",
   "execution_count": 34,
   "id": "2078627e-434d-4697-8375-1153a3212410",
   "metadata": {},
   "outputs": [
    {
     "name": "stdout",
     "output_type": "stream",
     "text": [
      "The extracted Vowels are: ['a', 'A', 'I', 'e', 'E']\n"
     ]
    }
   ],
   "source": [
    "def find_vowels(input_string):\n",
    "    return [ val for val in input_string if val in \"aeiouAEIOU\"]\n",
    "\n",
    "word = \"DatA ScIencE\"\n",
    "result = find_vowels(word)\n",
    "print(\"The extracted Vowels are:\",result)"
   ]
  },
  {
   "cell_type": "code",
   "execution_count": 35,
   "id": "87308b99-2674-48d4-a0e8-12f5ccde882d",
   "metadata": {},
   "outputs": [],
   "source": [
    "#30) Create a program that removes all non-numeric characters from a list of strings using list comprehension."
   ]
  },
  {
   "cell_type": "code",
   "execution_count": 2,
   "id": "95d54411-5663-46ae-bb3b-c001a6459a68",
   "metadata": {},
   "outputs": [
    {
     "name": "stdout",
     "output_type": "stream",
     "text": [
      "The result is : ['1', '7', '0', '1', '3', '7']\n"
     ]
    }
   ],
   "source": [
    "def remove_non_num(input_string):\n",
    "    return [val for val in input_string if val.isdigit()]\n",
    "\n",
    "word = \"Vicky_1701_PWskills_37\"\n",
    "result = remove_non_num(word)\n",
    "print(\"The result is :\",result)"
   ]
  },
  {
   "cell_type": "code",
   "execution_count": 1,
   "id": "bcf00f99-b41a-4b69-834d-741794ce9104",
   "metadata": {},
   "outputs": [],
   "source": [
    "#31) Write a program to generate a list of prime numbers using the Sieve of Eratosthenes algorithm and list comprehension."
   ]
  },
  {
   "cell_type": "code",
   "execution_count": 7,
   "id": "676d00e0-6a7a-4e83-9ece-45bff6b9098b",
   "metadata": {},
   "outputs": [
    {
     "name": "stdout",
     "output_type": "stream",
     "text": [
      "[2, 3, 5, 7, 11, 13, 17, 19, 23, 29, 31, 37, 41, 43, 47]\n"
     ]
    }
   ],
   "source": [
    "#Sieve of Erastothenes is an Ancient algorithm for finding all Prime Numbers upto a given limit. \n",
    "def Sieve_of_Eratosthenes(limit):\n",
    "    is_prime = [True] * (limit +1)\n",
    "    is_prime[0] = is_prime[1] = False, False   #Because 0 and 1 are not prime numbers\n",
    "    \n",
    "    [is_prime.__setitem__(multiple,False) for num in range(2, int(limit)+1) if is_prime[num] for multiple in range(num*num, limit+1,num)]\n",
    "    \n",
    "    primes = [num for num in range(2, limit+1) if is_prime[num]]\n",
    "    return primes\n",
    "\n",
    "limit = 50\n",
    "result = Sieve_of_Eratosthenes(limit)\n",
    "print(result)"
   ]
  },
  {
   "cell_type": "code",
   "execution_count": 8,
   "id": "affbc03b-3955-4dad-86c9-5b012f9638dd",
   "metadata": {},
   "outputs": [],
   "source": [
    "#32) Create a program that generates a list of all Pythagorean triplets up to a specified limit using list comprehension."
   ]
  },
  {
   "cell_type": "code",
   "execution_count": 13,
   "id": "5de20650-b31e-4f64-9806-dbedc4a018b5",
   "metadata": {},
   "outputs": [
    {
     "name": "stdout",
     "output_type": "stream",
     "text": [
      "[(3, 4, 5), (5, 12, 13), (6, 8, 10), (7, 24, 25), (8, 15, 17), (9, 12, 15), (10, 24, 26), (12, 16, 20), (15, 20, 25), (18, 24, 30), (20, 21, 29)]\n"
     ]
    }
   ],
   "source": [
    "def generate_triplet(limit):\n",
    "    triplets = [\n",
    "        (a,b,c)\n",
    "        for a in range(1,limit+1)\n",
    "        for b in range(a,limit+1)\n",
    "        for c in range(b,limit+1)\n",
    "        if a**2 + b**2 == c**2       \n",
    "    ]\n",
    "\n",
    "    return triplets\n",
    "\n",
    "#main program\n",
    "limit = 30\n",
    "pythagorean_triplet = generate_triplet(limit)\n",
    "print(pythagorean_triplet)"
   ]
  },
  {
   "cell_type": "code",
   "execution_count": 14,
   "id": "b2887006-99c1-4927-a813-d09882200fe7",
   "metadata": {},
   "outputs": [],
   "source": [
    "#33) Develop a program that generates a list of all possible combinations of two lists using list comprehension."
   ]
  },
  {
   "cell_type": "code",
   "execution_count": 18,
   "id": "06948742-9120-4621-986f-49bf824ffe4e",
   "metadata": {},
   "outputs": [
    {
     "name": "stdout",
     "output_type": "stream",
     "text": [
      "The list of all Possible Combination is:\n",
      " [(1, 'A'), (1, 'b'), (1, 'C'), (2, 'A'), (2, 'b'), (2, 'C'), (3, 'A'), (3, 'b'), (3, 'C'), (4, 'A'), (4, 'b'), (4, 'C'), (5, 'A'), (5, 'b'), (5, 'C')]\n"
     ]
    }
   ],
   "source": [
    "def generate_combinations(lst_1, lst_2):\n",
    "    combination = [(x,y) for x in lst_1 for y in lst_2]\n",
    "    return combination\n",
    "\n",
    "#main program\n",
    "lst_1 = [1,2,3,4,5]\n",
    "lst_2 = ['A','b','C']\n",
    "result = generate_combinations(lst_1, lst_2)\n",
    "print(\"The list of all Possible Combination is:\\n\",result)"
   ]
  },
  {
   "cell_type": "code",
   "execution_count": 19,
   "id": "85af0fbc-de46-4b0b-abf6-ca1c5d221d10",
   "metadata": {},
   "outputs": [],
   "source": [
    "#34) Write a program that calculates the mean, median, and mode of a list of numbers using list comprehension."
   ]
  },
  {
   "cell_type": "code",
   "execution_count": 20,
   "id": "29ba575d-6223-47a7-ad5e-c1e0bb2fd284",
   "metadata": {},
   "outputs": [
    {
     "name": "stdout",
     "output_type": "stream",
     "text": [
      "Mean = 4.454545454545454\n",
      "Median = 4\n",
      "Mode = [3, 4, 5]\n"
     ]
    }
   ],
   "source": [
    "from collections import Counter\n",
    "\n",
    "def calculate_mean(numbers):\n",
    "    return sum(numbers)/len(numbers)\n",
    "\n",
    "def calculate_median(numbers):\n",
    "    sorted_numbers = sorted(numbers)\n",
    "    length = len(sorted_numbers)\n",
    "    mid = length//2\n",
    "    if length % 2 == 0:\n",
    "        return (sorted_numbers[mid - 1] + sorted_numbers[mid]) / 2\n",
    "    else:\n",
    "        return sorted_numbers[mid]\n",
    "    \n",
    "def calculate_mode(numbers):\n",
    "    counts = Counter(numbers)\n",
    "    max_count = max(counts.values())\n",
    "    mode = [num for num, count in counts.items() if count == max_count]\n",
    "    return mode\n",
    "\n",
    "lst = [1,2,3,4,5,4,6,3,5,7,9]\n",
    "mean = calculate_mean(lst)\n",
    "median = calculate_median(lst)\n",
    "mode = calculate_mode(lst)\n",
    "\n",
    "print(\"Mean = {}\".format(mean))\n",
    "print(\"Median = {}\".format(median))\n",
    "print(\"Mode = {}\".format(mode))"
   ]
  },
  {
   "cell_type": "code",
   "execution_count": 21,
   "id": "4f7c853a-24b5-41f8-a985-5c9539d3d458",
   "metadata": {},
   "outputs": [],
   "source": [
    "#35) Create a program that generates Pascal's triangle up to a specified number of rows using list comprehension."
   ]
  },
  {
   "cell_type": "code",
   "execution_count": null,
   "id": "5234a12c-c8bc-4b6f-860b-527d69abcd15",
   "metadata": {},
   "outputs": [],
   "source": [
    "#Don't Know the Answer."
   ]
  },
  {
   "cell_type": "code",
   "execution_count": 26,
   "id": "1213d72c-be73-4bde-84fc-61b2134ad47b",
   "metadata": {},
   "outputs": [],
   "source": [
    "#36) Develop a program that calculates the sum of the digits of a factorial of numbers from 1 to 5 using list comprehension."
   ]
  },
  {
   "cell_type": "code",
   "execution_count": 27,
   "id": "fca823fd-5d1a-4cd1-8fef-acf3ee4829a1",
   "metadata": {},
   "outputs": [
    {
     "name": "stdout",
     "output_type": "stream",
     "text": [
      "[1, 2, 6, 6, 3]\n"
     ]
    }
   ],
   "source": [
    "import math\n",
    "\n",
    "def factorial_sum_digits(n):\n",
    "    return [sum(int(digit) for digit in str(math.factorial(i))) for i in range(1, n+1)]\n",
    "\n",
    "# Example usage:\n",
    "result = factorial_sum_digits(5)\n",
    "print(result)\n"
   ]
  },
  {
   "cell_type": "code",
   "execution_count": 28,
   "id": "24d3fa17-7207-4f39-9cbd-a612a47472d1",
   "metadata": {},
   "outputs": [],
   "source": [
    "#37) Write a program that finds the longest word in a sentence using list comprehension."
   ]
  },
  {
   "cell_type": "code",
   "execution_count": 30,
   "id": "c204d662-b32b-479e-8adc-0ed0a67c2caf",
   "metadata": {},
   "outputs": [
    {
     "name": "stdout",
     "output_type": "stream",
     "text": [
      "['sentence']\n"
     ]
    }
   ],
   "source": [
    "def find_longest_word(input_string):\n",
    "    words = input_string.split()\n",
    "    return [max(words, key = lambda word:len(word))]\n",
    "\n",
    "sentence = \"Program to find the longest word from a sentence\"\n",
    "result = find_longest_word(sentence)\n",
    "print(result)"
   ]
  },
  {
   "cell_type": "code",
   "execution_count": 31,
   "id": "7dddebb6-9b57-4e16-a5d1-56dfdada6f72",
   "metadata": {},
   "outputs": [],
   "source": [
    "#38) Create a program that filters a list of strings to include only those with more than three vowels using list comprehension."
   ]
  },
  {
   "cell_type": "code",
   "execution_count": 1,
   "id": "174b160d-4cd5-4799-ab04-0d0869ee9154",
   "metadata": {},
   "outputs": [
    {
     "name": "stdout",
     "output_type": "stream",
     "text": [
      "The Filtered string is : ['Eunoia', 'engineering', 'Data Science']\n"
     ]
    }
   ],
   "source": [
    "def count_vowel(word):\n",
    "    return sum(1 for char in word.lower() if char in 'aeiou')\n",
    "\n",
    "def filter_string_vowel(strings, threshold = 3):\n",
    "    return [ val for val in strings if count_vowel(val) > threshold]\n",
    "\n",
    "#main program\n",
    "input_string = ['apple', 'banana', 'Eunoia','programming','engineering','Data Science']\n",
    "filtered_strings = filter_string_vowel(input_string)\n",
    "print(\"The Filtered string is :\",filtered_strings)\n"
   ]
  },
  {
   "cell_type": "code",
   "execution_count": 2,
   "id": "9242014a-0159-4dfa-afe1-fb6ce80c06f6",
   "metadata": {},
   "outputs": [],
   "source": [
    "#39) Develop a program that calculates the sum of the digits of numbers from 1 to 1000 using list comprehension."
   ]
  },
  {
   "cell_type": "code",
   "execution_count": 3,
   "id": "abcf6d5a-a7f9-446b-b76a-b8c0cd8e9f51",
   "metadata": {},
   "outputs": [
    {
     "name": "stdout",
     "output_type": "stream",
     "text": [
      "Sum of the digits for numbers from 1 to 1000: 13501\n"
     ]
    }
   ],
   "source": [
    "def digit_sum(number):\n",
    "    return sum(int(digit) for digit in str(number))\n",
    "\n",
    "# Using list comprehension to calculate the sum of digits for numbers from 1 to 1000\n",
    "sum_of_digits = sum(digit_sum(i) for i in range(1, 1001))\n",
    "\n",
    "print(\"Sum of the digits for numbers from 1 to 1000:\", sum_of_digits)"
   ]
  },
  {
   "cell_type": "code",
   "execution_count": 4,
   "id": "12b1cdee-8c95-45be-b715-66d6b5e60a15",
   "metadata": {},
   "outputs": [],
   "source": [
    "#40) Write a program that generates a list of prime palindromic numbers using list comprehension."
   ]
  },
  {
   "cell_type": "code",
   "execution_count": 7,
   "id": "1734c881-d192-43ae-a3f4-80b262b96833",
   "metadata": {},
   "outputs": [
    {
     "name": "stdout",
     "output_type": "stream",
     "text": [
      "Prime palindromic numbers up to 1000: [2, 3, 5, 7, 11, 101, 131, 151, 181, 191, 313, 353, 373, 383, 727, 757, 787, 797, 919, 929]\n"
     ]
    }
   ],
   "source": [
    "def is_prime(num):\n",
    "    if num < 2:\n",
    "        return False\n",
    "    for i in range(2, int(num**0.5) + 1):\n",
    "        if num % i  == 0:\n",
    "            return False\n",
    "    return True\n",
    "\n",
    "def is_palindrome(num):\n",
    "    return str(num) == str(num)[::-1]\n",
    "\n",
    "# Generate a list of prime palindromic numbers using list comprehension\n",
    "prime_palindromes = [num for num in range(1, 1000) if is_prime(num) and is_palindrome(num)]\n",
    "\n",
    "#main program\n",
    "print(\"Prime palindromic numbers up to 1000:\", prime_palindromes)\n"
   ]
  },
  {
   "cell_type": "code",
   "execution_count": null,
   "id": "2e2a458b-ec34-4ac1-910e-ce382f3b83a2",
   "metadata": {},
   "outputs": [],
   "source": []
  }
 ],
 "metadata": {
  "kernelspec": {
   "display_name": "Python 3 (ipykernel)",
   "language": "python",
   "name": "python3"
  },
  "language_info": {
   "codemirror_mode": {
    "name": "ipython",
    "version": 3
   },
   "file_extension": ".py",
   "mimetype": "text/x-python",
   "name": "python",
   "nbconvert_exporter": "python",
   "pygments_lexer": "ipython3",
   "version": "3.10.8"
  }
 },
 "nbformat": 4,
 "nbformat_minor": 5
}
