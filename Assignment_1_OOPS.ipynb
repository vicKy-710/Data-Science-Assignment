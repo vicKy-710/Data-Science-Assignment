{
 "cells": [
  {
   "cell_type": "code",
   "execution_count": null,
   "id": "172e7431-86e3-4174-ba06-7be57c243ffb",
   "metadata": {},
   "outputs": [],
   "source": [
    "Problem 1: Bank Account Create a class representing a bank account with attributes like account number, \n",
    "           account holder name, and balance. Implement methods to deposit and withdraw money from the account."
   ]
  },
  {
   "cell_type": "code",
   "execution_count": 12,
   "id": "b0b1b0fd-b9e2-42e9-88ec-7d17afac19ae",
   "metadata": {},
   "outputs": [],
   "source": [
    "class BankAccount:\n",
    "    def __init__(self, account_number, account_holder_name, balance):\n",
    "        self.account_number = account_number\n",
    "        self.account_holder_name = account_holder_name\n",
    "        self.balance = balance\n",
    "        \n",
    "    #implementing the methods \n",
    "    def deposit(self, amount):\n",
    "        if amount > 0 :\n",
    "            self.balance += amount\n",
    "            print(\"Your account got credited with Rs.{} . \\n Your new Balance is Rs.{}\".format(amount,self.balance))\n",
    "        else:\n",
    "            print(\"Invalid deposit amount. Please enter a positive number.\")\n",
    "    \n",
    "    def withdraw(self, amount):\n",
    "        if 0 < amount <= self.balance:\n",
    "            self.balance -= amount\n",
    "            print(\"Your account got debited by Rs.{}.\\n Your Balance is Rs.{}\".format(amount,self.balance))\n",
    "        elif amount <= 0:\n",
    "            print(\"Invalid amount entered.\")\n",
    "        else:\n",
    "            print(\"Insiufficient funds.\")\n",
    "    \n",
    "    \n",
    "    def display_balance(self):\n",
    "        print(\"Your Account {} Balance is Rs.{}\".format(self.account_number,self.balance))\n",
    "                "
   ]
  },
  {
   "cell_type": "code",
   "execution_count": 22,
   "id": "b30a3176-3007-4ee6-8fe8-6f2ad23e9c79",
   "metadata": {},
   "outputs": [],
   "source": [
    "user_1 = BankAccount(25140432,\"Rehaan\",500)"
   ]
  },
  {
   "cell_type": "code",
   "execution_count": 23,
   "id": "ecc2edc6-b982-4290-a7ce-2798634e4063",
   "metadata": {},
   "outputs": [
    {
     "data": {
      "text/plain": [
       "'Rehaan'"
      ]
     },
     "execution_count": 23,
     "metadata": {},
     "output_type": "execute_result"
    }
   ],
   "source": [
    "user_1.account_holder_name"
   ]
  },
  {
   "cell_type": "code",
   "execution_count": 24,
   "id": "b5e5b030-dde1-4503-b9e2-31a370b18d22",
   "metadata": {},
   "outputs": [
    {
     "name": "stdout",
     "output_type": "stream",
     "text": [
      "Your account got credited with Rs.500 . \n",
      " Your new Balance is Rs.1000\n"
     ]
    }
   ],
   "source": [
    "user_1.deposit(500)"
   ]
  },
  {
   "cell_type": "code",
   "execution_count": 25,
   "id": "669b1fd2-a3b9-465f-81f1-0149c9a6bdd9",
   "metadata": {},
   "outputs": [
    {
     "name": "stdout",
     "output_type": "stream",
     "text": [
      "Your Account 25140432 Balance is Rs.1000\n"
     ]
    }
   ],
   "source": [
    "user_1.display_balance()"
   ]
  },
  {
   "cell_type": "code",
   "execution_count": 26,
   "id": "06a7f33e-88d8-4067-b950-57f92e6fd0a3",
   "metadata": {},
   "outputs": [
    {
     "name": "stdout",
     "output_type": "stream",
     "text": [
      "Your account got debited by Rs.990.5.\n",
      " Your Balance is Rs.9.5\n"
     ]
    }
   ],
   "source": [
    "user_1.withdraw(990.5)"
   ]
  },
  {
   "cell_type": "code",
   "execution_count": null,
   "id": "aeb84bd2-3061-4ed7-a09f-0f7bb56cc6fd",
   "metadata": {},
   "outputs": [],
   "source": []
  },
  {
   "cell_type": "code",
   "execution_count": null,
   "id": "be34c695-5c9c-4828-959d-3c5b83d0570f",
   "metadata": {},
   "outputs": [],
   "source": [
    "Problem 2: Employee Management Create a class representing an employee with attributes like employee ID, name, and salary. \n",
    "           Implement methods to calculate the yearly bonus and display employee details."
   ]
  },
  {
   "cell_type": "code",
   "execution_count": 55,
   "id": "47973c08-89e7-4bed-9569-178c6523768d",
   "metadata": {},
   "outputs": [],
   "source": [
    "class Employee:\n",
    "    def __init__(self, emp_id, name, salary):\n",
    "        self.emp_id = emp_id\n",
    "        self.name = name\n",
    "        self.salary = salary\n",
    "        \n",
    "    #implementing the methods as per the problem required\n",
    "    def yearly_bonus(self, bonus_percentage):\n",
    "        bonus = (self.salary*12) * (bonus_percentage/100)\n",
    "        return \"This year bonus is Rs.\",bonus\n",
    "    \n",
    "    def emp_details(self):\n",
    "        print(\"The Employee details are:\\n\\nEmployee_Id : {}\\nNAme : {}\\nSalary :{}\".format(self.emp_id,self.name,self.salary))"
   ]
  },
  {
   "cell_type": "code",
   "execution_count": 56,
   "id": "7be17c03-1abc-4e8c-83b8-f435cad6f15c",
   "metadata": {},
   "outputs": [],
   "source": [
    "vicky = Employee(1001,\"Vicky Yadav\",40000)"
   ]
  },
  {
   "cell_type": "code",
   "execution_count": 57,
   "id": "33458f90-5176-493c-9c0f-89eeb202fa7b",
   "metadata": {},
   "outputs": [
    {
     "name": "stdout",
     "output_type": "stream",
     "text": [
      "The Employee details are:\n",
      "\n",
      "Employee_Id : 1001\n",
      "NAme : Vicky Yadav\n",
      "Salary :40000\n"
     ]
    }
   ],
   "source": [
    "vicky.emp_details()"
   ]
  },
  {
   "cell_type": "code",
   "execution_count": 58,
   "id": "06e3ab43-5bc0-4cc4-9e14-313eed78343c",
   "metadata": {},
   "outputs": [
    {
     "data": {
      "text/plain": [
       "('This year bonus is Rs.', 24000.0)"
      ]
     },
     "execution_count": 58,
     "metadata": {},
     "output_type": "execute_result"
    }
   ],
   "source": [
    "vicky.yearly_bonus(5)"
   ]
  },
  {
   "cell_type": "code",
   "execution_count": null,
   "id": "295f0054-e7fa-407e-93d1-7a6aaa06d952",
   "metadata": {},
   "outputs": [],
   "source": []
  },
  {
   "cell_type": "code",
   "execution_count": null,
   "id": "ced6980d-3574-4004-a6e7-112ce6cd61b5",
   "metadata": {},
   "outputs": [],
   "source": [
    "Problem 3: Vehicle Rental Create a class representing a vehicle rental system. \n",
    "           Implement methods to rent a vehicle, return a vehicle, and display available vehicles."
   ]
  },
  {
   "cell_type": "code",
   "execution_count": 28,
   "id": "e2831b98-7bac-49b9-b195-a5fab7e5f680",
   "metadata": {},
   "outputs": [],
   "source": [
    "class Vehicle:\n",
    "    def __init__(self,vehicle_id,vehicle_type, is_available=True):\n",
    "        self.vehicle_id = vehicle_id\n",
    "        self.vehicle_type = vehicle_type\n",
    "        self.is_available = is_available\n",
    "        \n",
    "class Renting_Vehicle:\n",
    "    def __init__(self):\n",
    "        self.vehicles = {}\n",
    "        \n",
    "    def add_vehicle(self,vehicle_id, vehicle_type):\n",
    "        if vehicle_id not in self.vehicles:\n",
    "            self.vehicles[vehicle_id] = Vehicle(vehicle_id, vehicle_type)\n",
    "        else:\n",
    "            print(\"Vehicle with ID {} already exists.\".format(vehicle_id))\n",
    "        \n",
    "    def rent_vehicle(self,vehicle_id):\n",
    "        if vehicle_id in self.vehicles:\n",
    "            if self.vehicles[vehicle_id].is_available:\n",
    "                self.vehicles[vehicle_id].is_available = False\n",
    "                print(\"Vehicle {} rented successfully.\".format(vehicle_id))\n",
    "            else:\n",
    "                print(\"Vehicle {} is not avaialble for rent.\".format(vehicle_id))\n",
    "        else:\n",
    "            print(\"Vehicle with ID {} doesn't exist.\".format(vehicle_id))\n",
    "    \n",
    "    \n",
    "    def return_vehicle(self,vehicle_id):\n",
    "        if vehicle_id in self.vehicles:\n",
    "            if not self.vehicles[vehicle_id].is_available:\n",
    "                print(\"Vehicle {} returned successfully.\".format(vehicle_id))\n",
    "            else:\n",
    "                print(\"Vehicle {} is not rented out.\".format(vehicle_id))\n",
    "        else:\n",
    "            print(\"Vehicle with ID {} doesn't exist.\".format(vehicle_id))\n",
    "            \n",
    "    def display_available_vehicles(self):\n",
    "        available_vehicles = [vid for vid, vehicle in self.vehicles.items() if Vehicle.is_avaialble]\n",
    "        if available_vehicles:\n",
    "            print(\"Available Vehicals\")\n",
    "            for vehicle_id in available_vehicles:\n",
    "                print(\"ID: {} , Type: {}\".format(self.vehicles[vehicle_id].vehicle_type))\n",
    "        else:\n",
    "            print(\"No Vehicles are Cureently Available.\")"
   ]
  },
  {
   "cell_type": "code",
   "execution_count": 29,
   "id": "7fd4a2de-9ca5-4029-9ac1-075b40ae8a42",
   "metadata": {},
   "outputs": [],
   "source": [
    "vicky = Renting_Vehicle()"
   ]
  },
  {
   "cell_type": "code",
   "execution_count": 30,
   "id": "aa76b423-8e52-49f0-ae96-7c719516bb14",
   "metadata": {},
   "outputs": [],
   "source": [
    "vicky.add_vehicle(101,\"2-Wheeler\")"
   ]
  },
  {
   "cell_type": "code",
   "execution_count": 31,
   "id": "d5dd152a-f4be-4ab9-a40b-95408b7df6ed",
   "metadata": {},
   "outputs": [],
   "source": [
    "vicky.add_vehicle(102,\"Sports-Bike\")"
   ]
  },
  {
   "cell_type": "code",
   "execution_count": 32,
   "id": "6f56f50b-61c7-4a54-bdff-1c69604b89cc",
   "metadata": {},
   "outputs": [],
   "source": [
    "vicky.add_vehicle(103,\"Pulsar 160\")"
   ]
  },
  {
   "cell_type": "code",
   "execution_count": 33,
   "id": "d840e15f-3ced-44c3-a583-215bc0b406d9",
   "metadata": {},
   "outputs": [
    {
     "name": "stdout",
     "output_type": "stream",
     "text": [
      "Vehicle with ID 103 already exists.\n"
     ]
    }
   ],
   "source": [
    "vicky.add_vehicle(103,\"Kawasaki\")"
   ]
  },
  {
   "cell_type": "code",
   "execution_count": 35,
   "id": "9aaf8404-2a46-407b-b850-55f62abe3ff3",
   "metadata": {},
   "outputs": [
    {
     "name": "stdout",
     "output_type": "stream",
     "text": [
      "Vehicle 102 rented successfully.\n"
     ]
    }
   ],
   "source": [
    "vicky.rent_vehicle(102)"
   ]
  },
  {
   "cell_type": "code",
   "execution_count": 36,
   "id": "0d96ea16-825c-4376-b31a-2260742e80bd",
   "metadata": {},
   "outputs": [
    {
     "name": "stdout",
     "output_type": "stream",
     "text": [
      "Vehicle 102 is not avaialble for rent.\n"
     ]
    }
   ],
   "source": [
    "vicky.rent_vehicle(102)"
   ]
  },
  {
   "cell_type": "code",
   "execution_count": 37,
   "id": "7e6cd191-3c33-466d-b133-904e1dc8894b",
   "metadata": {},
   "outputs": [
    {
     "name": "stdout",
     "output_type": "stream",
     "text": [
      "Vehicle 102 returned successfully.\n"
     ]
    }
   ],
   "source": [
    "vicky.return_vehicle(102)"
   ]
  },
  {
   "cell_type": "code",
   "execution_count": null,
   "id": "d05ce749-2ef2-4c6a-8f86-be41f04b7e1c",
   "metadata": {},
   "outputs": [],
   "source": []
  },
  {
   "cell_type": "code",
   "execution_count": null,
   "id": "2c3b17cb-6809-422f-9465-6379c2ebb5ce",
   "metadata": {},
   "outputs": [],
   "source": [
    "Problem 4: Library Catalog Create classes representing a library and a book. \n",
    "           Implement methods to add books to the library, borrow books, and display available books."
   ]
  },
  {
   "cell_type": "code",
   "execution_count": 20,
   "id": "b8704e5a-0fa3-4f35-a830-7e1d874d5210",
   "metadata": {},
   "outputs": [],
   "source": [
    "class Book:\n",
    "    def __init__(self, title, author):\n",
    "        self.title = title\n",
    "        self.author = author\n",
    "        self.is_available = True\n",
    "\n",
    "    def __str__(self):\n",
    "        return f\"{self.title} by {self.author}\"\n",
    "\n",
    "class Library:\n",
    "    def __init__(self):\n",
    "        self.books = []\n",
    "\n",
    "    def add_book(self, book):\n",
    "        self.books.append(book)\n",
    "\n",
    "    def borrow_book(self, title):\n",
    "        for book in self.books:\n",
    "            if book.title == title:\n",
    "                if book.is_available:\n",
    "                    book.is_available = False\n",
    "                    print(f\"Book '{title}' has been borrowed.\")\n",
    "                else:\n",
    "                    print(f\"Book '{title}' is not available at the moment.\")\n",
    "                return\n",
    "        print(f\"Book '{title}' not found in the library.\")\n",
    "\n",
    "    def display_available_books(self):\n",
    "        available_books = [book for book in self.books if book.is_available]\n",
    "        if available_books:\n",
    "            print(\"Available Books:\")\n",
    "            for book in available_books:\n",
    "                print(book)\n",
    "        else:\n",
    "            print(\"No books are currently available.\")"
   ]
  },
  {
   "cell_type": "code",
   "execution_count": 5,
   "id": "d5be6484-dd1a-4a93-b0d8-0cdb8526cc9e",
   "metadata": {},
   "outputs": [],
   "source": [
    "library = Library()"
   ]
  },
  {
   "cell_type": "code",
   "execution_count": 6,
   "id": "8c57c9ec-e6b7-4e5b-b6dd-ce346b127716",
   "metadata": {},
   "outputs": [],
   "source": [
    "book1 = Book(\"Harry Potter and the Philosopher's Stone\", \"J.K. Rowling\")"
   ]
  },
  {
   "cell_type": "code",
   "execution_count": 7,
   "id": "bbc5dbc3-cdfb-46d4-a2de-be7ffdb9deb3",
   "metadata": {},
   "outputs": [],
   "source": [
    "library.add_book(book1)"
   ]
  },
  {
   "cell_type": "code",
   "execution_count": 8,
   "id": "446dc741-70d9-4404-8010-4649179e72f0",
   "metadata": {},
   "outputs": [
    {
     "name": "stdout",
     "output_type": "stream",
     "text": [
      "Available Books:\n",
      "Harry Potter and the Philosopher's Stone by J.K. Rowling\n"
     ]
    }
   ],
   "source": [
    "library.display_available_books()"
   ]
  },
  {
   "cell_type": "code",
   "execution_count": 9,
   "id": "fe7db386-cdb4-4ec5-bcbf-3557e8f4aa7e",
   "metadata": {},
   "outputs": [],
   "source": [
    "book2 = Book(\"To Kill a Mockingbird\", \"Harper Lee\")\n",
    "book3 = Book(\"The Great Gatsby\", \"F. Scott Fitzgerald\")"
   ]
  },
  {
   "cell_type": "code",
   "execution_count": 10,
   "id": "2f73f3a0-4487-4cbb-b248-ad94d0257cf1",
   "metadata": {},
   "outputs": [],
   "source": [
    "library.add_book(book2)\n",
    "library.add_book(book3)"
   ]
  },
  {
   "cell_type": "code",
   "execution_count": 15,
   "id": "729ce154-f531-497d-8856-064f9447f7bc",
   "metadata": {},
   "outputs": [
    {
     "name": "stdout",
     "output_type": "stream",
     "text": [
      "Available Books:\n",
      "Harry Potter and the Philosopher's Stone by J.K. Rowling\n",
      "To Kill a Mockingbird by Harper Lee\n",
      "The Great Gatsby by F. Scott Fitzgerald\n",
      "The Great Gatsby by F. Scott Fitzgerald\n"
     ]
    }
   ],
   "source": [
    "library.display_available_books()"
   ]
  },
  {
   "cell_type": "code",
   "execution_count": 21,
   "id": "b624c653-ec3c-4753-8e6b-eadac7123938",
   "metadata": {},
   "outputs": [
    {
     "name": "stdout",
     "output_type": "stream",
     "text": [
      "Book 'The Great Gatsby' is not available at the moment.\n"
     ]
    }
   ],
   "source": [
    "library.borrow_book(\"The Great Gatsby\")"
   ]
  },
  {
   "cell_type": "code",
   "execution_count": 22,
   "id": "b2a68d4e-3488-4b4b-831e-9de3b9b33c46",
   "metadata": {},
   "outputs": [
    {
     "name": "stdout",
     "output_type": "stream",
     "text": [
      "Available Books:\n",
      "Harry Potter and the Philosopher's Stone by J.K. Rowling\n",
      "To Kill a Mockingbird by Harper Lee\n"
     ]
    }
   ],
   "source": [
    "library.display_available_books()"
   ]
  },
  {
   "cell_type": "code",
   "execution_count": null,
   "id": "6ff8cf8b-5614-4f35-9f86-94f2ecd8e7e7",
   "metadata": {},
   "outputs": [],
   "source": []
  },
  {
   "cell_type": "code",
   "execution_count": null,
   "id": "3fc1807c-9b67-4db0-8218-a5f26d1ef7f4",
   "metadata": {},
   "outputs": [],
   "source": [
    "Problem 5: Product Inventory Create classes representing a product and an inventory system. \n",
    "           Implement methods to add products to the inventory, update product quantity, and display available products."
   ]
  },
  {
   "cell_type": "code",
   "execution_count": 12,
   "id": "4f598de9-a3b5-4621-b8e4-4daa82d7f025",
   "metadata": {},
   "outputs": [],
   "source": [
    "class Product:\n",
    "    def __init__(self, product_id, name, price, quantity):\n",
    "        self.product_id = product_id\n",
    "        self.name = name\n",
    "        self.price = price\n",
    "        self.quantity = quantity\n",
    "\n",
    "    def __str__(self):\n",
    "        return f\"{self.name} - Price: ${self.price}, Quantity: {self.quantity}\"\n",
    "        \n",
    "class InventorySystem:\n",
    "    def __init__(self):\n",
    "        self.products = {}\n",
    "\n",
    "    def add_product(self, product):\n",
    "        if product.product_id not in self.products:\n",
    "            self.products[product.product_id] = product\n",
    "        else:\n",
    "            print(f\"Product with ID {product.product_id} already exists in the inventory.\")\n",
    "\n",
    "    def update_product_quantity(self, product_id, quantity):\n",
    "        if product_id in self.products:\n",
    "            self.products[product_id].quantity += quantity\n",
    "            print(f\"Quantity of product {product_id} updated successfully.\")\n",
    "        else:\n",
    "            print(f\"Product with ID {product_id} does not exist in the inventory.\")\n",
    "\n",
    "    def display_available_products(self):\n",
    "        if self.products:\n",
    "            print(\"Available Products:\")\n",
    "            for product in self.products.values():\n",
    "                print(product)\n",
    "        else:\n",
    "            print(\"No products are currently available.\")\n",
    "        \n",
    "        "
   ]
  },
  {
   "cell_type": "code",
   "execution_count": 15,
   "id": "3b635e64-e8b1-444d-9ca3-1dd0628b7052",
   "metadata": {},
   "outputs": [],
   "source": [
    "inventory = InventorySystem()"
   ]
  },
  {
   "cell_type": "code",
   "execution_count": 16,
   "id": "a6c26825-e711-4577-8463-f60b2af073dd",
   "metadata": {},
   "outputs": [],
   "source": [
    "product1 = Product(101,\"Smartphone\",\"19,999\",5) "
   ]
  },
  {
   "cell_type": "code",
   "execution_count": 17,
   "id": "b8363ecf-d667-444d-ad6f-e21bd84c2e2a",
   "metadata": {},
   "outputs": [],
   "source": [
    "product2 = Product(102,\"Iphone\",\"79,999\",2)\n",
    "product3 = Product(103,\"Laptop\",\"65,000\",11)"
   ]
  },
  {
   "cell_type": "code",
   "execution_count": 18,
   "id": "7d6f20ed-dbca-4cb9-8989-c63728f9af1d",
   "metadata": {},
   "outputs": [],
   "source": [
    "inventory.add_product(product1)"
   ]
  },
  {
   "cell_type": "code",
   "execution_count": 19,
   "id": "623f8566-4bb3-4111-9788-4305f5195e0f",
   "metadata": {},
   "outputs": [],
   "source": [
    "inventory.add_product(product2)\n",
    "inventory.add_product(product3)"
   ]
  },
  {
   "cell_type": "code",
   "execution_count": 20,
   "id": "568deca6-c14c-4ba5-8d6c-06cf7f4efb65",
   "metadata": {},
   "outputs": [
    {
     "name": "stdout",
     "output_type": "stream",
     "text": [
      "Available Products:\n",
      "Smartphone - Price: $19,999, Quantity: 5\n",
      "Iphone - Price: $79,999, Quantity: 2\n",
      "Laptop - Price: $65,000, Quantity: 11\n"
     ]
    }
   ],
   "source": [
    "inventory.display_available_products()"
   ]
  },
  {
   "cell_type": "code",
   "execution_count": 21,
   "id": "3f30105c-da16-490a-a948-c2aebb69c5e4",
   "metadata": {},
   "outputs": [
    {
     "name": "stdout",
     "output_type": "stream",
     "text": [
      "Quantity of product 103 updated successfully.\n"
     ]
    }
   ],
   "source": [
    "inventory.update_product_quantity(103,9)"
   ]
  },
  {
   "cell_type": "code",
   "execution_count": 22,
   "id": "ee23ebd0-c597-4732-9173-2e5254305c52",
   "metadata": {},
   "outputs": [
    {
     "name": "stdout",
     "output_type": "stream",
     "text": [
      "Available Products:\n",
      "Smartphone - Price: $19,999, Quantity: 5\n",
      "Iphone - Price: $79,999, Quantity: 2\n",
      "Laptop - Price: $65,000, Quantity: 20\n"
     ]
    }
   ],
   "source": [
    "inventory.display_available_products()"
   ]
  },
  {
   "cell_type": "code",
   "execution_count": null,
   "id": "4b62ff37-66d3-4f4d-97b4-89fe6fd22b95",
   "metadata": {},
   "outputs": [],
   "source": []
  },
  {
   "cell_type": "code",
   "execution_count": null,
   "id": "ef837000-6fb4-4e38-a2af-b28cc11ac235",
   "metadata": {},
   "outputs": [],
   "source": [
    "Problem 6: Shape Calculation Create a class representing a shape with attributes like length, width, and height. \n",
    "           Implement methods to calculate the area and perimeter of the shape."
   ]
  },
  {
   "cell_type": "code",
   "execution_count": 23,
   "id": "4bea2ed2-ea76-49c9-8a5a-ad0abc04f42e",
   "metadata": {},
   "outputs": [],
   "source": [
    "class Shape:\n",
    "    def __init__(self, length, width=None, height=None):\n",
    "        self.length = length\n",
    "        self.width = width\n",
    "        self.height = height\n",
    "\n",
    "    def calculate_area(self):\n",
    "        raise NotImplementedError(\"Subclasses must implement calculate_area method\")\n",
    "\n",
    "    def calculate_perimeter(self):\n",
    "        raise NotImplementedError(\"Subclasses must implement calculate_perimeter method\")\n",
    "\n",
    "class Rectangle(Shape):\n",
    "    def __init__(self, length, width):\n",
    "        super().__init__(length, width)\n",
    "\n",
    "    def calculate_area(self):\n",
    "        return self.length * self.width\n",
    "\n",
    "    def calculate_perimeter(self):\n",
    "        return 2 * (self.length + self.width)\n",
    "\n",
    "class Square(Rectangle):\n",
    "    def __init__(self, length):\n",
    "        super().__init__(length, length)\n",
    "\n",
    "class Triangle(Shape):\n",
    "    def __init__(self, base, height):\n",
    "        super().__init__(base, height=height)\n",
    "\n",
    "    def calculate_area(self):\n",
    "        return 0.5 * self.length * self.height\n",
    "\n",
    "    def calculate_perimeter(self):\n",
    "        # Assuming it's a right-angled triangle\n",
    "        hypotenuse = (self.length ** 2 + self.height ** 2) ** 0.5\n",
    "        return self.length + self.height + hypotenuse\n",
    "\n",
    "class Circle(Shape):\n",
    "    def __init__(self, radius):\n",
    "        super().__init__(radius)\n",
    "\n",
    "    def calculate_area(self):\n",
    "        import math\n",
    "        return math.pi * (self.length ** 2)\n",
    "\n",
    "    def calculate_perimeter(self):\n",
    "        import math\n",
    "        return 2 * math.pi * self.length\n",
    "\n"
   ]
  },
  {
   "cell_type": "code",
   "execution_count": 24,
   "id": "69ef9e9b-3bf7-4f22-a207-b68fdd33ee5e",
   "metadata": {},
   "outputs": [],
   "source": [
    "rectangle = Rectangle(5,3)"
   ]
  },
  {
   "cell_type": "code",
   "execution_count": 26,
   "id": "9dc70c2f-2ed6-4fea-8b20-854730785903",
   "metadata": {},
   "outputs": [
    {
     "data": {
      "text/plain": [
       "15"
      ]
     },
     "execution_count": 26,
     "metadata": {},
     "output_type": "execute_result"
    }
   ],
   "source": [
    "rectangle.calculate_area()"
   ]
  },
  {
   "cell_type": "code",
   "execution_count": 27,
   "id": "0eb55606-81e5-4450-8a6f-e3aa6b6f97b7",
   "metadata": {},
   "outputs": [
    {
     "data": {
      "text/plain": [
       "16"
      ]
     },
     "execution_count": 27,
     "metadata": {},
     "output_type": "execute_result"
    }
   ],
   "source": [
    "rectangle.calculate_perimeter()"
   ]
  },
  {
   "cell_type": "code",
   "execution_count": 28,
   "id": "446f90cc-e900-4f3d-a170-0aa14bcdb90e",
   "metadata": {},
   "outputs": [],
   "source": [
    "triangle = Triangle(10,5)"
   ]
  },
  {
   "cell_type": "code",
   "execution_count": 29,
   "id": "beffc145-5d3c-4e46-8177-b31f7e20e648",
   "metadata": {},
   "outputs": [
    {
     "data": {
      "text/plain": [
       "26.18033988749895"
      ]
     },
     "execution_count": 29,
     "metadata": {},
     "output_type": "execute_result"
    }
   ],
   "source": [
    "triangle.calculate_perimeter()"
   ]
  },
  {
   "cell_type": "code",
   "execution_count": 30,
   "id": "ffe6725c-127f-4535-9a55-5e003e5fc6d7",
   "metadata": {},
   "outputs": [
    {
     "data": {
      "text/plain": [
       "25.0"
      ]
     },
     "execution_count": 30,
     "metadata": {},
     "output_type": "execute_result"
    }
   ],
   "source": [
    "triangle.calculate_area()"
   ]
  },
  {
   "cell_type": "code",
   "execution_count": null,
   "id": "d64867a2-6492-47bf-8da9-5f7f9284c0aa",
   "metadata": {},
   "outputs": [],
   "source": []
  },
  {
   "cell_type": "code",
   "execution_count": null,
   "id": "39376fe3-95f4-41cb-9b80-0dae22b4e3e1",
   "metadata": {},
   "outputs": [],
   "source": [
    "Problem 7: Student Management Create a class representing a student with attributes like student ID, name, and grades. \n",
    "           Implement methods to calculate the average grade and display student details."
   ]
  },
  {
   "cell_type": "code",
   "execution_count": 31,
   "id": "d2fdf993-70a5-4d69-ad11-c4ba02193435",
   "metadata": {},
   "outputs": [],
   "source": [
    "class Student:\n",
    "    def __init__(self, student_id, name, grades=[]):\n",
    "        self.student_id = student_id\n",
    "        self.name = name\n",
    "        self.grades = grades\n",
    "\n",
    "    def add_grade(self, grade):\n",
    "        self.grades.append(grade)\n",
    "\n",
    "    def calculate_average_grade(self):\n",
    "        if not self.grades:\n",
    "            return 0\n",
    "        return sum(self.grades) / len(self.grades)\n",
    "\n",
    "    def display_details(self):\n",
    "        print(f\"Student ID: {self.student_id}\")\n",
    "        print(f\"Name: {self.name}\")\n",
    "        print(\"Grades:\", self.grades)\n",
    "        print(f\"Average Grade: {self.calculate_average_grade()}\")\n"
   ]
  },
  {
   "cell_type": "code",
   "execution_count": 32,
   "id": "e84df533-1d73-48f8-ac24-58a3ba2f41e2",
   "metadata": {},
   "outputs": [],
   "source": [
    "student1 = Student(1, \"Rehaan\", [85,90,79])\n",
    "student2 = Student(2, \"Vicky\", [75,69,44])\n",
    "stduent3 = Student(3,\"Aman\",[86,74,96])"
   ]
  },
  {
   "cell_type": "code",
   "execution_count": 34,
   "id": "dfefe9bf-56d2-483c-b068-f77bd8fee7c8",
   "metadata": {},
   "outputs": [
    {
     "data": {
      "text/plain": [
       "84.66666666666667"
      ]
     },
     "execution_count": 34,
     "metadata": {},
     "output_type": "execute_result"
    }
   ],
   "source": [
    "student1.calculate_average_grade()"
   ]
  },
  {
   "cell_type": "code",
   "execution_count": 35,
   "id": "0a91200d-2e31-4176-9790-87457881aa65",
   "metadata": {},
   "outputs": [],
   "source": [
    "student2.add_grade(58)"
   ]
  },
  {
   "cell_type": "code",
   "execution_count": 36,
   "id": "f4bfbf9d-cc17-48cc-a2b6-62ca9be76be7",
   "metadata": {},
   "outputs": [
    {
     "name": "stdout",
     "output_type": "stream",
     "text": [
      "Student ID: 2\n",
      "Name: Vicky\n",
      "Grades: [75, 69, 44, 58]\n",
      "Average Grade: 61.5\n"
     ]
    }
   ],
   "source": [
    "student2.display_details()"
   ]
  },
  {
   "cell_type": "code",
   "execution_count": null,
   "id": "b1fb0c4c-ca97-473c-be4f-937e53017da9",
   "metadata": {},
   "outputs": [],
   "source": []
  },
  {
   "cell_type": "code",
   "execution_count": null,
   "id": "399545c7-34e1-4617-8acc-3fb6bd2279f3",
   "metadata": {},
   "outputs": [],
   "source": [
    "Problem 8: Email Management Create a class representing an email with attributes like sender, recipient, and subject. \n",
    "           Implement methods to send an email and display email details"
   ]
  },
  {
   "cell_type": "code",
   "execution_count": 6,
   "id": "e5a7b576-85b6-499a-be57-a0cf0fbecfc8",
   "metadata": {},
   "outputs": [],
   "source": [
    "class Email:\n",
    "    def __init__(self, sender, recipient, subject, body):\n",
    "        self.sender = sender\n",
    "        self.recipient = recipient\n",
    "        self.subject = subject\n",
    "        self.body = body\n",
    "        self.is_sent = False\n",
    "\n",
    "    def send_email(self):\n",
    "        # Logic to send email (not implemented in this example)\n",
    "        self.is_sent = True\n",
    "        print(\"Email sent successfully.\")\n",
    "\n",
    "    def display_details(self):\n",
    "        print(\"Sender:\", self.sender)\n",
    "        print(\"Recipient:\", self.recipient)\n",
    "        print(\"Subject:\", self.subject)\n",
    "        print(\"Body:\", self.body)\n",
    "        print(\"Status: Sent\" if self.is_sent else \"Status: Not Sent\")"
   ]
  },
  {
   "cell_type": "code",
   "execution_count": 7,
   "id": "efbd15f9-eab8-408f-bc36-12ddddbb9856",
   "metadata": {},
   "outputs": [],
   "source": [
    "email = Email(\"sender@example.com\", \"recipient@example.com\", \"Test Email\", \"This is a test email.\")"
   ]
  },
  {
   "cell_type": "code",
   "execution_count": 8,
   "id": "4eb17783-db42-4ad0-b93b-512a25dc9bdb",
   "metadata": {},
   "outputs": [
    {
     "name": "stdout",
     "output_type": "stream",
     "text": [
      "Email sent successfully.\n"
     ]
    }
   ],
   "source": [
    "email.send_email()"
   ]
  },
  {
   "cell_type": "code",
   "execution_count": 9,
   "id": "3469460e-b001-4250-bf53-2a7631b71bb1",
   "metadata": {},
   "outputs": [
    {
     "name": "stdout",
     "output_type": "stream",
     "text": [
      "Sender: sender@example.com\n",
      "Recipient: recipient@example.com\n",
      "Subject: Test Email\n",
      "Body: This is a test email.\n",
      "Status: Sent\n"
     ]
    }
   ],
   "source": [
    "email.display_details()"
   ]
  },
  {
   "cell_type": "code",
   "execution_count": null,
   "id": "95439eef-ad0e-4306-97ba-e209f0ad341a",
   "metadata": {},
   "outputs": [],
   "source": [
    "Problem 9: Social Media Profile Create a class representing a social media profile with attributes like username and posts. \n",
    "           Implement methods to add posts, display posts, and search for posts by keyword."
   ]
  },
  {
   "cell_type": "code",
   "execution_count": 10,
   "id": "9b66f83c-adcd-47f4-8186-71b80a30b6a8",
   "metadata": {},
   "outputs": [],
   "source": [
    "class SocialMediaProfile:\n",
    "    def __init__(self, username):\n",
    "        self.username = username\n",
    "        self.posts = []\n",
    "\n",
    "    def add_post(self, content):\n",
    "        self.posts.append(content)\n",
    "\n",
    "    def display_posts(self):\n",
    "        if self.posts:\n",
    "            print(f\"Posts by {self.username}:\")\n",
    "            for i, post in enumerate(self.posts, start=1):\n",
    "                print(f\"{i}. {post}\")\n",
    "        else:\n",
    "            print(\"No posts available.\")\n",
    "\n",
    "    def search_posts(self, keyword):\n",
    "        matching_posts = [post for post in self.posts if keyword.lower() in post.lower()]\n",
    "        if matching_posts:\n",
    "            print(f\"Posts by {self.username} containing '{keyword}':\")\n",
    "            for i, post in enumerate(matching_posts, start=1):\n",
    "                print(f\"{i}. {post}\")\n",
    "        else:\n",
    "            print(f\"No posts by {self.username} containing '{keyword}'.\")"
   ]
  },
  {
   "cell_type": "code",
   "execution_count": 11,
   "id": "4f634d05-4530-486b-bd7a-22aa51eec888",
   "metadata": {},
   "outputs": [],
   "source": [
    "profile = SocialMediaProfile(\"user123\")"
   ]
  },
  {
   "cell_type": "code",
   "execution_count": 12,
   "id": "1d85fe84-035e-48e2-963e-78063d8b41d0",
   "metadata": {},
   "outputs": [],
   "source": [
    "profile.add_post(\"Hello, this is my first post!\")\n",
    "profile.add_post(\"I'm enjoying learning Python.\")\n",
    "profile.add_post(\"Python is a powerful language.\")"
   ]
  },
  {
   "cell_type": "code",
   "execution_count": 13,
   "id": "835f229a-1c52-422c-ab84-572a4bf17f29",
   "metadata": {},
   "outputs": [
    {
     "name": "stdout",
     "output_type": "stream",
     "text": [
      "Posts by user123:\n",
      "1. Hello, this is my first post!\n",
      "2. I'm enjoying learning Python.\n",
      "3. Python is a powerful language.\n"
     ]
    }
   ],
   "source": [
    "profile.display_posts()"
   ]
  },
  {
   "cell_type": "code",
   "execution_count": 14,
   "id": "07ace5f0-8d2f-4189-846f-d8f45e451bab",
   "metadata": {},
   "outputs": [
    {
     "name": "stdout",
     "output_type": "stream",
     "text": [
      "Posts by user123 containing 'Python':\n",
      "1. I'm enjoying learning Python.\n",
      "2. Python is a powerful language.\n"
     ]
    }
   ],
   "source": [
    "profile.search_posts(\"Python\")"
   ]
  },
  {
   "cell_type": "code",
   "execution_count": null,
   "id": "0b9d7657-de6f-4c38-9e05-3b27ab69ab91",
   "metadata": {},
   "outputs": [],
   "source": []
  },
  {
   "cell_type": "code",
   "execution_count": null,
   "id": "8d567d09-0919-4e12-af16-3597152df0fc",
   "metadata": {},
   "outputs": [],
   "source": [
    "Problem 10: ToDo List Create a class representing a ToDo list with attributes like tasks and due dates. \n",
    "            Implement methods to add tasks, mark tasks as completed, and display pending tasks."
   ]
  },
  {
   "cell_type": "code",
   "execution_count": 15,
   "id": "c53e1538-5115-487e-a4f5-03d5a9b46b43",
   "metadata": {},
   "outputs": [],
   "source": [
    "class ToDoList:\n",
    "    def __init__(self):\n",
    "        self.tasks = {}\n",
    "\n",
    "    def add_task(self, task_name, due_date):\n",
    "        self.tasks[task_name] = due_date\n",
    "\n",
    "    def mark_task_completed(self, task_name):\n",
    "        if task_name in self.tasks:\n",
    "            del self.tasks[task_name]\n",
    "            print(f\"Task '{task_name}' marked as completed.\")\n",
    "        else:\n",
    "            print(f\"Task '{task_name}' not found in the ToDo list.\")\n",
    "\n",
    "    def display_pending_tasks(self):\n",
    "        if self.tasks:\n",
    "            print(\"Pending Tasks:\")\n",
    "            for task, due_date in self.tasks.items():\n",
    "                print(f\"- {task} (Due: {due_date})\")\n",
    "        else:\n",
    "            print(\"No pending tasks.\")"
   ]
  },
  {
   "cell_type": "code",
   "execution_count": 16,
   "id": "e8836f01-b660-4014-8463-5556f335f3db",
   "metadata": {},
   "outputs": [],
   "source": [
    "todo_list = ToDoList()"
   ]
  },
  {
   "cell_type": "code",
   "execution_count": 17,
   "id": "258fd223-c207-49ab-8fb3-e32a1d59972a",
   "metadata": {},
   "outputs": [],
   "source": [
    "todo_list.add_task(\"Complete assignment\", \"2024-03-25\")\n",
    "todo_list.add_task(\"Buy groceries\", \"2024-03-20\")\n",
    "todo_list.add_task(\"Call client\", \"2024-03-22\")"
   ]
  },
  {
   "cell_type": "code",
   "execution_count": 18,
   "id": "89ba89d1-4346-443d-ae01-3c2e25a2d8ec",
   "metadata": {},
   "outputs": [
    {
     "name": "stdout",
     "output_type": "stream",
     "text": [
      "Pending Tasks:\n",
      "- Complete assignment (Due: 2024-03-25)\n",
      "- Buy groceries (Due: 2024-03-20)\n",
      "- Call client (Due: 2024-03-22)\n"
     ]
    }
   ],
   "source": [
    "todo_list.display_pending_tasks()"
   ]
  },
  {
   "cell_type": "code",
   "execution_count": 19,
   "id": "b7f16aaf-a228-448d-8f04-08676fb9d8c9",
   "metadata": {},
   "outputs": [
    {
     "name": "stdout",
     "output_type": "stream",
     "text": [
      "Task 'Buy groceries' marked as completed.\n"
     ]
    }
   ],
   "source": [
    "todo_list.mark_task_completed(\"Buy groceries\")"
   ]
  },
  {
   "cell_type": "code",
   "execution_count": 20,
   "id": "d2c9e7fd-444b-4f5d-984f-eb830e8d05fd",
   "metadata": {},
   "outputs": [
    {
     "name": "stdout",
     "output_type": "stream",
     "text": [
      "Pending Tasks:\n",
      "- Complete assignment (Due: 2024-03-25)\n",
      "- Call client (Due: 2024-03-22)\n"
     ]
    }
   ],
   "source": [
    "todo_list.display_pending_tasks()"
   ]
  },
  {
   "cell_type": "code",
   "execution_count": null,
   "id": "a66990cd-4a56-45fe-96bb-e43080cf73b0",
   "metadata": {},
   "outputs": [],
   "source": []
  }
 ],
 "metadata": {
  "kernelspec": {
   "display_name": "Python 3 (ipykernel)",
   "language": "python",
   "name": "python3"
  },
  "language_info": {
   "codemirror_mode": {
    "name": "ipython",
    "version": 3
   },
   "file_extension": ".py",
   "mimetype": "text/x-python",
   "name": "python",
   "nbconvert_exporter": "python",
   "pygments_lexer": "ipython3",
   "version": "3.10.8"
  }
 },
 "nbformat": 4,
 "nbformat_minor": 5
}
