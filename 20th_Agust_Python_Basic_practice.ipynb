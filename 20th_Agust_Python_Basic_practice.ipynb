{
 "cells": [
  {
   "cell_type": "code",
   "execution_count": 1,
   "id": "9a87e655-7571-4350-ac7d-a53a4e388a92",
   "metadata": {},
   "outputs": [],
   "source": [
    "#1) Write a program to reverse a string."
   ]
  },
  {
   "cell_type": "code",
   "execution_count": 10,
   "id": "f3ead5e2-3ddd-44d4-acfb-36070b42df78",
   "metadata": {},
   "outputs": [
    {
     "name": "stdin",
     "output_type": "stream",
     "text": [
      "Enter a String:  PWSkills\n"
     ]
    },
    {
     "name": "stdout",
     "output_type": "stream",
     "text": [
      "Original string = PWSkills\n",
      "--------------------\n",
      "Reversed String = sllikSWP\n"
     ]
    }
   ],
   "source": [
    "input_string = input(\"Enter a String: \")\n",
    "\n",
    "print(\"Original string = {}\".format(input_string))\n",
    "print(\"-\"*20)\n",
    "print(\"Reversed String = {}\".format(input_string[::-1]))"
   ]
  },
  {
   "cell_type": "code",
   "execution_count": 11,
   "id": "a43ec36d-edc3-4f52-b915-55cb3b1af50b",
   "metadata": {},
   "outputs": [],
   "source": [
    "#2) Check if a string is a Palindrome"
   ]
  },
  {
   "cell_type": "code",
   "execution_count": 15,
   "id": "51355227-691f-40e5-b413-0c1ec741c621",
   "metadata": {},
   "outputs": [
    {
     "name": "stdin",
     "output_type": "stream",
     "text": [
      "Enter a string:  Dad\n"
     ]
    },
    {
     "name": "stdout",
     "output_type": "stream",
     "text": [
      "The string is Palindrome.\n"
     ]
    }
   ],
   "source": [
    "input_string = input(\"Enter a string: \").lower()\n",
    "\n",
    "if input_string == input_string[::-1]:\n",
    "    print(\"The string is Palindrome.\")\n",
    "else:\n",
    "    print(\"the string is not Palindrome.\")"
   ]
  },
  {
   "cell_type": "code",
   "execution_count": 16,
   "id": "3728b19f-bc84-4155-b698-7e7ca97c9b3b",
   "metadata": {},
   "outputs": [],
   "source": [
    "#3) Convert a string to Uppercase."
   ]
  },
  {
   "cell_type": "code",
   "execution_count": 19,
   "id": "bcc2a0d5-4c26-4fbf-914e-3fcab59312b5",
   "metadata": {},
   "outputs": [
    {
     "name": "stdin",
     "output_type": "stream",
     "text": [
      "Enter a String: Pwskills\n"
     ]
    },
    {
     "name": "stdout",
     "output_type": "stream",
     "text": [
      "The Uppercase of the string is PWSKILLS\n"
     ]
    }
   ],
   "source": [
    "str = input(\"Enter a String:\")\n",
    "\n",
    "caps = str.upper()\n",
    "\n",
    "print(\"The Uppercase of the string is\",caps)"
   ]
  },
  {
   "cell_type": "code",
   "execution_count": 20,
   "id": "97176ba0-3dc2-4517-b22d-345a1c6e3d5b",
   "metadata": {},
   "outputs": [],
   "source": [
    "#4) Covert a string to lowercase."
   ]
  },
  {
   "cell_type": "code",
   "execution_count": 22,
   "id": "df147be1-b7a0-4b78-8254-0c64be14087a",
   "metadata": {},
   "outputs": [
    {
     "name": "stdin",
     "output_type": "stream",
     "text": [
      "Enter a String: Data Science\n"
     ]
    },
    {
     "name": "stdout",
     "output_type": "stream",
     "text": [
      "The Uppercase of the string is data science\n"
     ]
    }
   ],
   "source": [
    "str = input(\"Enter a String:\")\n",
    "\n",
    "smals = str.lower()\n",
    "\n",
    "print(\"The Uppercase of the string is\",smals)"
   ]
  },
  {
   "cell_type": "code",
   "execution_count": 23,
   "id": "3821c808-5fc2-4601-8f7e-e2ea8833417c",
   "metadata": {},
   "outputs": [],
   "source": [
    "#5) Count the numbers of vowels in a string."
   ]
  },
  {
   "cell_type": "code",
   "execution_count": 3,
   "id": "b98002f5-3fe7-42fa-81cf-2a1f73117b83",
   "metadata": {},
   "outputs": [
    {
     "name": "stdin",
     "output_type": "stream",
     "text": [
      "Enter a string:  WATERMelon\n"
     ]
    },
    {
     "name": "stdout",
     "output_type": "stream",
     "text": [
      "Number of vowels = 4\n"
     ]
    }
   ],
   "source": [
    "def count_vowels(str):\n",
    "    vowel_count = 0\n",
    "    vowels = set(\"aeiouAEIOU\")\n",
    "    \n",
    "    for char in str:\n",
    "        if char in vowels:\n",
    "            vowel_count +=1\n",
    "    return vowel_count\n",
    "\n",
    "#main program\n",
    "input_string = input(\"Enter a string: \")\n",
    "result = count_vowels(input_string)\n",
    "print(\"Number of vowels = {}\".format(result))"
   ]
  },
  {
   "cell_type": "code",
   "execution_count": 4,
   "id": "2edf6dbb-5fc0-4905-9dea-54dab30c8216",
   "metadata": {},
   "outputs": [],
   "source": [
    "#6) Count the number of Consonants in string"
   ]
  },
  {
   "cell_type": "code",
   "execution_count": 7,
   "id": "338220fd-4a48-4004-b01d-97dcd0a06bc4",
   "metadata": {},
   "outputs": [
    {
     "name": "stdin",
     "output_type": "stream",
     "text": [
      "Enter a string:  PWSkills\n"
     ]
    },
    {
     "name": "stdout",
     "output_type": "stream",
     "text": [
      "Number of Consonants = 7\n"
     ]
    }
   ],
   "source": [
    "def count_consonants(str):\n",
    "    cons_count = 0\n",
    "    consonants = set(\"aeiouAEIOU\")\n",
    "    \n",
    "    for char in str:\n",
    "        if char not in consonants:\n",
    "            cons_count +=1\n",
    "    return cons_count\n",
    "\n",
    "#main program\n",
    "input_string = input(\"Enter a string: \")\n",
    "result = count_consonants(input_string)\n",
    "print(\"Number of Consonants = {}\".format(result))"
   ]
  },
  {
   "cell_type": "code",
   "execution_count": 8,
   "id": "d213a5dc-269c-4e5d-8d4a-40f16239d8c1",
   "metadata": {},
   "outputs": [],
   "source": [
    "#7) Remove all whitespaces from a string"
   ]
  },
  {
   "cell_type": "code",
   "execution_count": 6,
   "id": "45cef12a-4485-4fac-9224-f97a3867ecdd",
   "metadata": {},
   "outputs": [
    {
     "name": "stdin",
     "output_type": "stream",
     "text": [
      "Enter string value:  Removed all Whitespaces from a string.\n"
     ]
    },
    {
     "name": "stdout",
     "output_type": "stream",
     "text": [
      "RemovedallWhitespacesfromastring.\n"
     ]
    }
   ],
   "source": [
    "def whitespaces(input_string):\n",
    "    result = \"\"\n",
    "    \n",
    "    for val in input_string:\n",
    "        if val != \" \":\n",
    "            result += val\n",
    "    return result \n",
    "\n",
    "\n",
    "#main program \n",
    "input_string = input(\"Enter string value: \")\n",
    "final=whitespaces(input_string)\n",
    "print(final)"
   ]
  },
  {
   "cell_type": "code",
   "execution_count": 7,
   "id": "162f2918-06dc-4e48-9333-fc6d36dcb5a7",
   "metadata": {},
   "outputs": [],
   "source": [
    "#8) Find the length of a string without using the `len()` function."
   ]
  },
  {
   "cell_type": "code",
   "execution_count": 8,
   "id": "9232d5e4-7a9e-4dd1-b200-d456e9cabc1b",
   "metadata": {},
   "outputs": [
    {
     "name": "stdin",
     "output_type": "stream",
     "text": [
      "Enter a sentence:  Found the length.\n"
     ]
    },
    {
     "name": "stdout",
     "output_type": "stream",
     "text": [
      "The length of sentence is 17\n"
     ]
    }
   ],
   "source": [
    "input_string = input(\"Enter a sentence: \")\n",
    "\n",
    "count = 0\n",
    "\n",
    "for val in input_string:\n",
    "    count += 1\n",
    "    \n",
    "print(\"The length of sentence is {}\".format(count))"
   ]
  },
  {
   "cell_type": "code",
   "execution_count": 9,
   "id": "1809c7ad-1e7b-4f80-94d9-6e2812f0ae43",
   "metadata": {},
   "outputs": [],
   "source": [
    "#9) Check if a string contains a specific word."
   ]
  },
  {
   "cell_type": "code",
   "execution_count": 12,
   "id": "40e1b09e-5d8d-40b7-9756-345fdeaa7e68",
   "metadata": {},
   "outputs": [
    {
     "name": "stdin",
     "output_type": "stream",
     "text": [
      "Enter a sentence:  Data Science ia subject in which we play with Data.\n",
      "Enter the word you want to check for:  science\n"
     ]
    },
    {
     "name": "stdout",
     "output_type": "stream",
     "text": [
      "The science word is PRESENT in the given string.\n"
     ]
    }
   ],
   "source": [
    "string = input(\"Enter a sentence: \").lower()\n",
    "specific_word = input(\"Enter the word you want to check for: \").lower()\n",
    "\n",
    "if specific_word in string:\n",
    "    print(\"The {} word is PRESENT in the given string.\".format(specific_word))\n",
    "else:\n",
    "    print(\"The {} word is NOT PRESENT in the given string.\".format(specific_word))"
   ]
  },
  {
   "cell_type": "code",
   "execution_count": 13,
   "id": "a6dff9b9-53d7-4774-8727-36f97bd185bf",
   "metadata": {},
   "outputs": [],
   "source": [
    "#10) Replace a word in a string with another word."
   ]
  },
  {
   "cell_type": "code",
   "execution_count": 19,
   "id": "fb2a2bb5-cb61-4b81-af9c-b5189ae74d50",
   "metadata": {},
   "outputs": [
    {
     "name": "stdin",
     "output_type": "stream",
     "text": [
      "Enter a sentence: ImPerfect is an Illusion.\n",
      "Enter the word you want to replace: ImPerfect\n",
      "Enter the word: Perfect\n"
     ]
    },
    {
     "name": "stdout",
     "output_type": "stream",
     "text": [
      "Perfect is an Illusion.\n"
     ]
    }
   ],
   "source": [
    "a = input(\"Enter a sentence:\")\n",
    "\n",
    "word = input(\"Enter the word you want to replace:\")\n",
    "new_word = input(\"Enter the word:\")\n",
    "\n",
    "new_a = a.replace(word,new_word)\n",
    "\n",
    "print(new_a)\n",
    "\n"
   ]
  },
  {
   "cell_type": "code",
   "execution_count": 20,
   "id": "7bd767fc-0d8f-4f0b-957d-a480e726e541",
   "metadata": {},
   "outputs": [],
   "source": [
    "#11) Count the occurrences of a word in a string."
   ]
  },
  {
   "cell_type": "code",
   "execution_count": 4,
   "id": "ae340cb5-3c18-4424-a91d-1741279b5226",
   "metadata": {},
   "outputs": [
    {
     "name": "stdin",
     "output_type": "stream",
     "text": [
      "Enter a sentence:  Twinkle twinkle little star\n",
      "Enter the word for you want to check the occurence: twinkle\n"
     ]
    },
    {
     "name": "stdout",
     "output_type": "stream",
     "text": [
      "The 'twinkle' occurs '2' times in input_string\n"
     ]
    }
   ],
   "source": [
    "def word_occurence(input_string, input_word):\n",
    "    word_count = 0\n",
    "    words = input_string.split()\n",
    "    \n",
    "    for word in words:\n",
    "        if word == input_word:\n",
    "            word_count += 1\n",
    "    return word_count\n",
    "\n",
    "#main program\n",
    "input_string = input(\"Enter a sentence: \").lower()\n",
    "\n",
    "input_word = input(\"Enter the word for you want to check the occurence:\").lower()\n",
    "\n",
    "#function call\n",
    "result = word_occurence(input_string, input_word)\n",
    "print(\"The '{}' occurs '{}' times in input_string\".format(input_word,result))\n"
   ]
  },
  {
   "cell_type": "code",
   "execution_count": 5,
   "id": "4050dae6-d664-46bf-9a1e-067bbffe1143",
   "metadata": {},
   "outputs": [],
   "source": [
    "#12) Find the first occurrence of a word in a string."
   ]
  },
  {
   "cell_type": "code",
   "execution_count": 18,
   "id": "f3e82df0-753f-4ca7-aed3-d72269f279f5",
   "metadata": {},
   "outputs": [
    {
     "name": "stdin",
     "output_type": "stream",
     "text": [
      "Enter a string: This is an example sentence. This sentence contains the word example.\n",
      "Enter the word: example\n"
     ]
    },
    {
     "name": "stdout",
     "output_type": "stream",
     "text": [
      "The first occurence of example starts at 11\n"
     ]
    }
   ],
   "source": [
    "input_string = input(\"Enter a string:\")\n",
    "input_word = input(\"Enter the word:\")\n",
    "\n",
    "index = input_string.find(input_word)\n",
    "\n",
    "if index != -1:\n",
    "    print(\"The first occurence of {} starts at {}\".format(input_word,index))\n",
    "else:\n",
    "    print(\"{} not found in input_string.\".format(input_word))"
   ]
  },
  {
   "cell_type": "code",
   "execution_count": 19,
   "id": "8ca4ffc4-b505-4e1b-b34b-f95f934a8e49",
   "metadata": {},
   "outputs": [],
   "source": [
    "#13) Find the last occurrence of a word in a string."
   ]
  },
  {
   "cell_type": "code",
   "execution_count": 20,
   "id": "db6c57f8-aef5-4fa8-82d2-405983e18a04",
   "metadata": {},
   "outputs": [
    {
     "name": "stdin",
     "output_type": "stream",
     "text": [
      "Enter a string: This is an example sentence. This sentence contains the word example.\n",
      "Enter the word: example\n"
     ]
    },
    {
     "name": "stdout",
     "output_type": "stream",
     "text": [
      "The first occurence of example starts at 61\n"
     ]
    }
   ],
   "source": [
    "input_string = input(\"Enter a string:\")\n",
    "input_word = input(\"Enter the word:\")\n",
    "\n",
    "index = input_string.rfind(input_word)\n",
    "\n",
    "if index != -1:\n",
    "    print(\"The last occurence of {} starts at {}\".format(input_word,index))\n",
    "else:\n",
    "    print(\"{} not found in input_string.\".format(input_word))"
   ]
  },
  {
   "cell_type": "code",
   "execution_count": 22,
   "id": "af4e414c-e1e2-4532-be47-003f5eb94a49",
   "metadata": {},
   "outputs": [],
   "source": [
    "#14) Split a string into a list of words. "
   ]
  },
  {
   "cell_type": "code",
   "execution_count": 1,
   "id": "1d9542a2-6984-4c2f-9809-169f4d3acf64",
   "metadata": {},
   "outputs": [
    {
     "name": "stdout",
     "output_type": "stream",
     "text": [
      "list of words: ['this', 'is', 'an', 'exmaple']\n"
     ]
    }
   ],
   "source": [
    "def spliter(input_string):\n",
    "    list = input_string.split()\n",
    "    return list\n",
    "\n",
    "#main program\n",
    "input_string = \"this is an exmaple\"\n",
    "done = spliter(input_string)\n",
    "print(\"list of words: {}\".format(done))"
   ]
  },
  {
   "cell_type": "code",
   "execution_count": 2,
   "id": "6a7195ea-de0d-4cc1-bd41-76b9ca3b7aa6",
   "metadata": {},
   "outputs": [],
   "source": [
    "#15) Join a list of words into a string."
   ]
  },
  {
   "cell_type": "code",
   "execution_count": 3,
   "id": "5f92306a-6fb1-4042-9390-61b757105a84",
   "metadata": {},
   "outputs": [
    {
     "name": "stdout",
     "output_type": "stream",
     "text": [
      "The Joined String is : Hello Everyone a very Enthusiastic morning to you all.\n"
     ]
    }
   ],
   "source": [
    "def joiner(input_list):\n",
    "    words = ' '.join(input_list)\n",
    "    return words\n",
    "\n",
    "#main program\n",
    "input_list = [\"Hello\", \"Everyone\", \"a\", \"very\", \"Enthusiastic\", \"morning\", \"to\", \"you\", \"all.\"]\n",
    "result = joiner(input_list)\n",
    "print(\"The Joined String is : {}\".format(result))"
   ]
  },
  {
   "cell_type": "code",
   "execution_count": 4,
   "id": "2022516f-f588-46cb-bf0f-01f7ec645335",
   "metadata": {},
   "outputs": [],
   "source": [
    "#16) Convert a string where words are separated by spaces to one where words are separated by underscores."
   ]
  },
  {
   "cell_type": "code",
   "execution_count": 5,
   "id": "116c1a93-8cc2-42ad-9f6f-ed756d8d7366",
   "metadata": {},
   "outputs": [
    {
     "name": "stdout",
     "output_type": "stream",
     "text": [
      "Separated Result is : The_words_spaces_has_been_replaced_by_underscores.\n"
     ]
    }
   ],
   "source": [
    "def underscores(string):\n",
    "    initial_result = string.replace(\" \", \"_\")\n",
    "    return initial_result\n",
    "\n",
    "#main program\n",
    "word = \"The words spaces has been replaced by underscores.\"\n",
    "final_result = underscores(word)\n",
    "print(\"Separated Result is :\",final_result)"
   ]
  },
  {
   "cell_type": "code",
   "execution_count": 6,
   "id": "890036fb-0506-438f-acd9-beecbd20dd00",
   "metadata": {},
   "outputs": [],
   "source": [
    "#17) Check if a string starts with a specific word or phrase."
   ]
  },
  {
   "cell_type": "code",
   "execution_count": 12,
   "id": "f266a3b8-0a3a-49c8-b2a4-36bc9ac3bb8e",
   "metadata": {},
   "outputs": [
    {
     "name": "stdin",
     "output_type": "stream",
     "text": [
      "Enter a string: Hello World\n",
      "Enter the specific_word: hello\n"
     ]
    },
    {
     "name": "stdout",
     "output_type": "stream",
     "text": [
      "The text starts with the given specific_word.\n"
     ]
    }
   ],
   "source": [
    "def checker(string):\n",
    "    if string.startswith(specific_word):\n",
    "        print(\"The text starts with the given specific_word.\")\n",
    "    else:\n",
    "        print(\"The text doesn't starts with the given specific_word.\")\n",
    "\n",
    "#main program\n",
    "string = input(\"Enter a string:\").lower()\n",
    "specific_word = input(\"Enter the specific_word:\").lower()\n",
    "result = checker(string)"
   ]
  },
  {
   "cell_type": "code",
   "execution_count": 13,
   "id": "a1b0af65-5e29-4683-8790-00b2d9c5fec9",
   "metadata": {},
   "outputs": [],
   "source": [
    "#18) Check if a string ends with a specific word or phrase."
   ]
  },
  {
   "cell_type": "code",
   "execution_count": 16,
   "id": "702eb157-3108-410f-bc8f-d9f2d459ea63",
   "metadata": {},
   "outputs": [
    {
     "name": "stdin",
     "output_type": "stream",
     "text": [
      "Enter a string: Hello World\n",
      "Enter the specific_word: world\n"
     ]
    },
    {
     "name": "stdout",
     "output_type": "stream",
     "text": [
      "The text ends with the given specific_word.\n"
     ]
    }
   ],
   "source": [
    "def checker(string):\n",
    "    if string.endswith(specific_word):\n",
    "        print(\"The text ends with the given specific_word.\")\n",
    "    else:\n",
    "        print(\"The text doesn't ends with the given specific_word.\")\n",
    "\n",
    "#main program\n",
    "string = input(\"Enter a string:\").lower()\n",
    "specific_word = input(\"Enter the specific_word:\").lower()\n",
    "result = checker(string)"
   ]
  },
  {
   "cell_type": "code",
   "execution_count": 17,
   "id": "550e33b2-0551-4727-ad85-85261f94cfff",
   "metadata": {},
   "outputs": [],
   "source": [
    "#19) Convert a string to title case (e.g., \"hello world\" to \"Hello World\")."
   ]
  },
  {
   "cell_type": "code",
   "execution_count": 18,
   "id": "db60f788-a1fb-41cd-a4b5-61aa2c8611c9",
   "metadata": {},
   "outputs": [
    {
     "name": "stdout",
     "output_type": "stream",
     "text": [
      "Python Is An Oop Language.\n"
     ]
    }
   ],
   "source": [
    "text = \"python is an oop language.\"\n",
    "\n",
    "result = text.title()\n",
    "\n",
    "print(result)"
   ]
  },
  {
   "cell_type": "code",
   "execution_count": 19,
   "id": "ae83c77c-0b14-41ce-84ee-a21b27d3b91e",
   "metadata": {},
   "outputs": [],
   "source": [
    "#20) Find the longest word in a string."
   ]
  },
  {
   "cell_type": "code",
   "execution_count": 2,
   "id": "7573bd4d-33f1-4e89-9b55-78b3a31ce07c",
   "metadata": {},
   "outputs": [
    {
     "name": "stdout",
     "output_type": "stream",
     "text": [
      "Longest Word is : 'example'\n"
     ]
    }
   ],
   "source": [
    "def find_longest_word(string):\n",
    "    words = string.split()\n",
    "    longest_word = \" \"\n",
    "    max_length = 0\n",
    "    \n",
    "    for word in words:\n",
    "        if len(word)>max_length:\n",
    "            max_length = len(word)\n",
    "            longest_word = word\n",
    "    return longest_word\n",
    "\n",
    "#main program\n",
    "string = \"This is an example string.\"\n",
    "result = find_longest_word(string)\n",
    "print(\"Longest Word is : '{}'\".format(result))"
   ]
  },
  {
   "cell_type": "code",
   "execution_count": 3,
   "id": "56bb6489-8e2f-417f-b1e6-c194befb9c7e",
   "metadata": {},
   "outputs": [],
   "source": [
    "#21) Find the shortest word in a string."
   ]
  },
  {
   "cell_type": "code",
   "execution_count": 3,
   "id": "d193015b-5295-43c8-950d-80e353a69fde",
   "metadata": {},
   "outputs": [
    {
     "name": "stdout",
     "output_type": "stream",
     "text": [
      "Shortest Word is : 'is'\n"
     ]
    }
   ],
   "source": [
    "def find_word(string):\n",
    "    words = string.split()\n",
    "    shortest_word = None\n",
    "    min_length = float('inf')\n",
    "    \n",
    "    for word in words:\n",
    "        if len(word)<min_length:\n",
    "            min_length = len(word)\n",
    "            shortest_word = word\n",
    "    return shortest_word\n",
    "\n",
    "#main program\n",
    "string = \"This is an example string.\"\n",
    "result = find_word(string)\n",
    "print(\"Shortest Word is : '{}'\".format(result))"
   ]
  },
  {
   "cell_type": "code",
   "execution_count": 4,
   "id": "3d1a240d-b820-4991-a53d-377aa4e3ef0c",
   "metadata": {},
   "outputs": [],
   "source": [
    "#22) Reverse the order of words in a string."
   ]
  },
  {
   "cell_type": "code",
   "execution_count": 5,
   "id": "b450dbd4-ed1b-4bad-87e2-783836935a8d",
   "metadata": {},
   "outputs": [
    {
     "name": "stdout",
     "output_type": "stream",
     "text": [
      "Reversed words: sentence sample a is This\n"
     ]
    }
   ],
   "source": [
    "def reverse_words(input_string):\n",
    "    words = input_string.split()\n",
    "    \n",
    "    reversed_words = words[::-1]\n",
    "\n",
    "    reversed_string = ' '.join(reversed_words)\n",
    "\n",
    "    return reversed_string\n",
    "\n",
    "# Example usage\n",
    "input_string = \"This is a sample sentence\"\n",
    "result = reverse_words(input_string)\n",
    "print(\"Reversed words:\", result)"
   ]
  },
  {
   "cell_type": "code",
   "execution_count": 6,
   "id": "8789a74d-b8ac-4d60-a018-8950f7355430",
   "metadata": {},
   "outputs": [],
   "source": [
    "#23) Check if a string is alphanumeric."
   ]
  },
  {
   "cell_type": "code",
   "execution_count": 24,
   "id": "a5e6d97c-705d-4546-aa1f-6630afff2e99",
   "metadata": {},
   "outputs": [
    {
     "name": "stdout",
     "output_type": "stream",
     "text": [
      "Hello123 is alphanumeric: True\n"
     ]
    }
   ],
   "source": [
    "def is_alphanumeric(input_string):\n",
    "    return input_string.isalnum()\n",
    "\n",
    "# main program\n",
    "string1 = \"Hello123\"\n",
    "\n",
    "print(\"{} is alphanumeric: {}\".format(string1,is_alphanumeric(string1)))"
   ]
  },
  {
   "cell_type": "code",
   "execution_count": 25,
   "id": "28a5ef4a-3218-481e-88e0-e4cc5c61c2b9",
   "metadata": {},
   "outputs": [],
   "source": [
    "#24) Extract all digits from a string."
   ]
  },
  {
   "cell_type": "code",
   "execution_count": 26,
   "id": "a6dfbe1a-34e9-4fe4-868c-e5e58bd5c06b",
   "metadata": {},
   "outputs": [
    {
     "name": "stdout",
     "output_type": "stream",
     "text": [
      "Extracted digits are: ['1', '2', '3', '4', '5', '6']\n"
     ]
    }
   ],
   "source": [
    "def extract_digit(input_string):\n",
    "    return [val for val in input_string if val.isdigit()]\n",
    "\n",
    "#main program\n",
    "text = \"abc 123 def 456 ghi\"\n",
    "result = extract_digit(text)\n",
    "print(\"Extracted digits are: {}\".format(result))\n",
    "            "
   ]
  },
  {
   "cell_type": "code",
   "execution_count": 27,
   "id": "8f433626-c1a3-46f4-a195-43218cb3c506",
   "metadata": {},
   "outputs": [],
   "source": [
    "#25) Extract all alphabets from a string."
   ]
  },
  {
   "cell_type": "code",
   "execution_count": 29,
   "id": "84d633f0-5842-4e07-84d6-5cd1e789b53f",
   "metadata": {},
   "outputs": [
    {
     "name": "stdout",
     "output_type": "stream",
     "text": [
      "Extracted Alphabets are: ['G', 'u', 'i', 'd', 'o', 'v', 'a', 'n', 'R', 'o', 's', 's', 'u', 'm']\n"
     ]
    }
   ],
   "source": [
    "def extract_alpha(input_string):\n",
    "    return [val for val in input_string if val.isalpha()]\n",
    "\n",
    "#main program\n",
    "text = \"Guido van Rossum 16\"\n",
    "result = extract_alpha(text)\n",
    "print(\"Extracted Alphabets are: {}\".format(result))\n",
    "            "
   ]
  },
  {
   "cell_type": "code",
   "execution_count": 30,
   "id": "7d765f8c-b956-46c4-b204-37e993bd925d",
   "metadata": {},
   "outputs": [],
   "source": [
    "#26) Count the number of uppercase letters in a string."
   ]
  },
  {
   "cell_type": "code",
   "execution_count": 13,
   "id": "d81d6dde-cd61-4c9f-bc68-27bd3813613a",
   "metadata": {},
   "outputs": [
    {
     "name": "stdout",
     "output_type": "stream",
     "text": [
      "The uppercase letters in ths string is: 3\n"
     ]
    }
   ],
   "source": [
    "def count_upper(input_string):\n",
    "    return sum(1 for val in input_string if val.isupper())\n",
    "\n",
    "#main program \n",
    "text = \"Guido Van Rossum\"\n",
    "result = count_upper(text)\n",
    "print(\"The uppercase letters in ths string is: {}\".format(result))"
   ]
  },
  {
   "cell_type": "code",
   "execution_count": 14,
   "id": "a88948f7-e72a-4bac-8916-1d0f002ca8b3",
   "metadata": {},
   "outputs": [],
   "source": [
    "#27) Count the number of lowercase letters in a string."
   ]
  },
  {
   "cell_type": "code",
   "execution_count": 18,
   "id": "ff1a2c17-50b9-4569-b448-38985ab04401",
   "metadata": {},
   "outputs": [
    {
     "name": "stdout",
     "output_type": "stream",
     "text": [
      "The lowercase letter in the string is: 40\n"
     ]
    }
   ],
   "source": [
    "def count_lower(input_string):\n",
    "    return sum(1 for val in input_string if val.islower())\n",
    "#main program \n",
    "text = \"PWSkills is a platform where we can endure our Skills.\"\n",
    "result = count_lower(text)\n",
    "print(\"The lowercase letter in the string is: {}\".format(result))"
   ]
  },
  {
   "cell_type": "code",
   "execution_count": 19,
   "id": "b4451ddb-1c7b-48b4-8135-13a0450c0fab",
   "metadata": {},
   "outputs": [],
   "source": [
    "#28) Swap the case of each character in a string."
   ]
  },
  {
   "cell_type": "code",
   "execution_count": 24,
   "id": "7376c41d-e366-4567-ab2b-6e533c30850c",
   "metadata": {},
   "outputs": [
    {
     "name": "stdout",
     "output_type": "stream",
     "text": [
      "The Swapped case is hELLO WORLD\n"
     ]
    }
   ],
   "source": [
    "\"\"\"original_string = \"Hello! World\"\n",
    "\n",
    "new_string = original_string.swapcase()\n",
    "\n",
    "print(new_string)\"\"\"\n",
    "\n",
    "def swap_case(input_string):\n",
    "    new_string = input_string.swapcase()\n",
    "    return new_string\n",
    "#main program\n",
    "text = \"Hello world\"\n",
    "result = swap_case(text)\n",
    "print(\"The Swapped case is {}\".format(result))"
   ]
  },
  {
   "cell_type": "code",
   "execution_count": 25,
   "id": "86f10acf-150f-4598-9e56-d0f3f764fa29",
   "metadata": {},
   "outputs": [],
   "source": [
    "#29) Remove a specific word from a string. "
   ]
  },
  {
   "cell_type": "code",
   "execution_count": 12,
   "id": "c5e0e7b1-c76b-49e6-8b58-3005cedd1231",
   "metadata": {},
   "outputs": [
    {
     "name": "stdout",
     "output_type": "stream",
     "text": [
      "The removed string is now this:  Golf is a Game.\n"
     ]
    }
   ],
   "source": [
    "def removing_word():\n",
    "    new_string = input_string.replace(specific_word,\"\")\n",
    "    return new_string\n",
    "\n",
    "#main program\n",
    "input_string = \"Slum Golf is a Game.\"\n",
    "specific_word = \"Slum\"\n",
    "result = removing_word()\n",
    "print(\"The removed string is now this: {}\".format(result))"
   ]
  },
  {
   "cell_type": "code",
   "execution_count": 13,
   "id": "13e4dd67-cf8f-4c51-94ad-8b0d22f5b422",
   "metadata": {},
   "outputs": [],
   "source": [
    "#30) Check if a string is a valid email address."
   ]
  },
  {
   "cell_type": "code",
   "execution_count": 17,
   "id": "69315c13-0892-4ef5-ab6d-146c199bf1f6",
   "metadata": {},
   "outputs": [
    {
     "name": "stdout",
     "output_type": "stream",
     "text": [
      "True\n",
      "False\n"
     ]
    }
   ],
   "source": [
    "import re  # Imported the regular expression module\n",
    "\n",
    "def valid_email(email):\n",
    "    pattern = r'^[\\w\\.-]+@[\\w\\.-]+\\.\\w+$'  \n",
    "    if re.match(pattern, email):\n",
    "        return True\n",
    "    else:\n",
    "        return False\n",
    "\n",
    "# Example email addresses\n",
    "email_1 = \"vicky.kumarr.yadav@gmail.com\"\n",
    "email_2 = \"rehaan-@email\"\n",
    "result_1 = valid_email(email_1)\n",
    "result_2 = valid_email(email_2)\n",
    "print(result_1)\n",
    "print(result_2)"
   ]
  },
  {
   "cell_type": "code",
   "execution_count": 18,
   "id": "704de347-aef2-4338-b26a-7103800bd015",
   "metadata": {},
   "outputs": [],
   "source": [
    "#31) Extract the username from an email address string."
   ]
  },
  {
   "cell_type": "code",
   "execution_count": 21,
   "id": "57fbb429-eb2a-4440-8bd7-d13f5ad8f178",
   "metadata": {},
   "outputs": [
    {
     "name": "stdin",
     "output_type": "stream",
     "text": [
      "Enter a valid email address: vickyyadav@gmail.com\n"
     ]
    },
    {
     "name": "stdout",
     "output_type": "stream",
     "text": [
      "Username : vickyyadav\n"
     ]
    }
   ],
   "source": [
    "email_address = input(\"Enter a valid email address:\")\n",
    "\n",
    "username = email_address.split('@')[0]\n",
    "\n",
    "print(\"Username :\",username)"
   ]
  },
  {
   "cell_type": "code",
   "execution_count": 22,
   "id": "2f870e32-0fb6-4b96-9f66-94b1fe819c9e",
   "metadata": {},
   "outputs": [],
   "source": [
    "#32) Extract the domain name from an email address string."
   ]
  },
  {
   "cell_type": "code",
   "execution_count": 24,
   "id": "28c26dca-c1ff-4a84-add4-9c412deb0dd8",
   "metadata": {},
   "outputs": [
    {
     "name": "stdin",
     "output_type": "stream",
     "text": [
      "Enter a valid email address: rehaan@outlook.com\n"
     ]
    },
    {
     "name": "stdout",
     "output_type": "stream",
     "text": [
      "Username : outlook.com\n"
     ]
    }
   ],
   "source": [
    "email_address = input(\"Enter a valid email address:\")\n",
    "\n",
    "username = email_address.split('@')[-1]\n",
    "\n",
    "print(\"Username :\",username)"
   ]
  },
  {
   "cell_type": "code",
   "execution_count": 25,
   "id": "50f13c71-69d5-460a-b0ef-55d6787d99e4",
   "metadata": {
    "tags": []
   },
   "outputs": [],
   "source": [
    "#33) Replace multiple spaces in a string with a single space."
   ]
  },
  {
   "cell_type": "code",
   "execution_count": 28,
   "id": "0f5fc196-5a09-4120-be33-abf456a719d1",
   "metadata": {
    "tags": []
   },
   "outputs": [
    {
     "name": "stdout",
     "output_type": "stream",
     "text": [
      "The oroginal text is:  This    is a   string   with   multiple     spaces.\n",
      "The removed multiple space text is:  This is a string with multiple spaces.\n"
     ]
    }
   ],
   "source": [
    "text = \"This    is a   string   with   multiple     spaces.\"\n",
    "\n",
    "new_text = ' '.join(text.split())\n",
    "\n",
    "print(\"The oroginal text is: \",text)\n",
    "print(\"The removed multiple space text is: \",new_text)"
   ]
  },
  {
   "cell_type": "code",
   "execution_count": 31,
   "id": "5ddf1c4a-2b63-4c47-b459-73491bab41db",
   "metadata": {
    "tags": []
   },
   "outputs": [],
   "source": [
    "#34) Check if a string is a valid URL. (this answer is copied from the given resource, but it developed me the knowledge of this question.) "
   ]
  },
  {
   "cell_type": "code",
   "execution_count": 30,
   "id": "12e38da0-cc21-4b6a-a393-d8e93043f35b",
   "metadata": {},
   "outputs": [
    {
     "name": "stdout",
     "output_type": "stream",
     "text": [
      "True\n",
      "False\n"
     ]
    }
   ],
   "source": [
    "from urllib.parse import urlparse\n",
    "\n",
    "def is_valid_url(url):\n",
    "    try:\n",
    "        result = urlparse(url)\n",
    "        return all([result.scheme, result.netloc])  # Check if both scheme and netloc are present\n",
    "    except ValueError:\n",
    "        return False\n",
    "\n",
    "# Example URLs\n",
    "url1 = \"https://www.example.com\"\n",
    "url2 = \"invalid-url\"\n",
    "result1 = is_valid_url(url1)\n",
    "result2 = is_valid_url(url2)\n",
    "print(result1)  # Should print True\n",
    "print(result2)  # Should print False"
   ]
  },
  {
   "cell_type": "code",
   "execution_count": null,
   "id": "dde16a0a-1029-4397-8a9f-528dc575fbec",
   "metadata": {},
   "outputs": [],
   "source": [
    "#35) Extract the protocol (http or https) from a URL string."
   ]
  },
  {
   "cell_type": "code",
   "execution_count": null,
   "id": "1bbf9e09-97c0-46b5-8c70-d3f7a552af64",
   "metadata": {},
   "outputs": [
    {
     "name": "stdin",
     "output_type": "stream",
     "text": [
      "Enter a valid URL: https://www.example.com\n"
     ]
    },
    {
     "name": "stdout",
     "output_type": "stream",
     "text": [
      "Protocol : https\n"
     ]
    }
   ],
   "source": [
    "#1st method\n",
    "\n",
    "url = input(\"Enter a valid URL:\")\n",
    "\n",
    "protocol = url.split(':')[0]\n",
    "\n",
    "print(\"Protocol :\",protocol)"
   ]
  },
  {
   "cell_type": "code",
   "execution_count": 35,
   "id": "4d4b0979-9767-443a-bcbc-1fd23d59b26f",
   "metadata": {},
   "outputs": [
    {
     "name": "stdout",
     "output_type": "stream",
     "text": [
      "https\n",
      "ftp\n",
      "http\n"
     ]
    }
   ],
   "source": [
    "#2nd method\n",
    "\n",
    "def extract_protocols(url):\n",
    "    protocol = url.split(':')[0]\n",
    "    return protocol\n",
    "\n",
    "#main program\n",
    "url_1 = \"https://www.google.com\"\n",
    "url_2 = \"ftp://ftp.server.com\"\n",
    "url_3 = \"http://www.pwskilss.com\"\n",
    "\n",
    "#function calling\n",
    "result_1 = extract_protocols(url_1)\n",
    "result_2 = extract_protocols(url_2)\n",
    "result_3 = extract_protocols(url_3)\n",
    "\n",
    "#print the result\n",
    "print(result_1)\n",
    "print(result_2)\n",
    "print(result_3)"
   ]
  },
  {
   "cell_type": "code",
   "execution_count": 36,
   "id": "09c97045-33e5-425a-9ef6-275281e58690",
   "metadata": {},
   "outputs": [],
   "source": [
    "#36) Find the frequency of each character in a string."
   ]
  },
  {
   "cell_type": "code",
   "execution_count": 40,
   "id": "ca58d872-3959-49d9-9c38-14c8405b8a1b",
   "metadata": {},
   "outputs": [
    {
     "name": "stdin",
     "output_type": "stream",
     "text": [
      "enter a string: Hello World\n"
     ]
    },
    {
     "name": "stdout",
     "output_type": "stream",
     "text": [
      "Character:'H', frequency:1\n",
      "Character:'e', frequency:1\n",
      "Character:'l', frequency:3\n",
      "Character:'o', frequency:2\n",
      "Character:' ', frequency:1\n",
      "Character:'W', frequency:1\n",
      "Character:'r', frequency:1\n",
      "Character:'d', frequency:1\n"
     ]
    }
   ],
   "source": [
    "def frequency_count(input_string):\n",
    "    frequency = {} #empty dict\n",
    "    for char in input_string:\n",
    "        if char in frequency:\n",
    "            frequency[char] +=1\n",
    "        else:\n",
    "            frequency[char] = 1\n",
    "    return frequency\n",
    "\n",
    "#main program \n",
    "input_string = input(\"enter a string:\")\n",
    "\n",
    "#function call\n",
    "freq_count = frequency_count(input_string)\n",
    "\n",
    "for char, freq in freq_count.items():\n",
    "    print(\"Character:'{}', frequency:{}\".format(char,freq))"
   ]
  },
  {
   "cell_type": "code",
   "execution_count": 41,
   "id": "dc587e69-8dc7-4e1c-b36f-8671a2cc2611",
   "metadata": {},
   "outputs": [],
   "source": [
    "#37) Remove all punctuation from a string. ( This answer is copied fro the resource but it i developed the knowledge of string module)"
   ]
  },
  {
   "cell_type": "code",
   "execution_count": 42,
   "id": "0486dc49-0b10-46b7-9149-ad1918f23839",
   "metadata": {},
   "outputs": [
    {
     "name": "stdout",
     "output_type": "stream",
     "text": [
      "Original string: Hello, world! How's it going?\n",
      "Cleaned string: Hello world Hows it going\n"
     ]
    }
   ],
   "source": [
    "import string\n",
    "\n",
    "def remove_punctuation(input_string):\n",
    "    # Create a translation table to remove punctuation\n",
    "    translator = str.maketrans(\"\", \"\", string.punctuation)\n",
    "\n",
    "    # Use the translation table to remove punctuation from the input string\n",
    "    clean_string = input_string.translate(translator)\n",
    "\n",
    "    return clean_string\n",
    "\n",
    "# Example string with punctuation\n",
    "input_str = \"Hello, world! How's it going?\"\n",
    "\n",
    "# Remove punctuation\n",
    "cleaned_str = remove_punctuation(input_str)\n",
    "\n",
    "# Print the cleaned string\n",
    "print(\"Original string:\", input_str)\n",
    "print(\"Cleaned string:\", cleaned_str)"
   ]
  },
  {
   "cell_type": "code",
   "execution_count": 43,
   "id": "2d87b53c-097b-4708-b7fb-a2648b04063d",
   "metadata": {},
   "outputs": [],
   "source": [
    "#38) Check if a string contains only digits."
   ]
  },
  {
   "cell_type": "code",
   "execution_count": 47,
   "id": "158010d2-6ab4-434d-89aa-6242d548a2f9",
   "metadata": {},
   "outputs": [
    {
     "name": "stdout",
     "output_type": "stream",
     "text": [
      "False\n",
      "True\n"
     ]
    }
   ],
   "source": [
    "def is_digit(input_string):\n",
    "    if input_string.isdigit():\n",
    "        return True\n",
    "    else:\n",
    "        return False\n",
    "\n",
    "#main program\n",
    "input_string_1 = \"Hello123\"\n",
    "input_string_2 = \"45896\"\n",
    "result_1 = is_digit(input_string_1)\n",
    "result_2 = is_digit(input_string_2)\n",
    "print(result_1)\n",
    "print(result_2)"
   ]
  },
  {
   "cell_type": "code",
   "execution_count": 48,
   "id": "893e764c-9055-40a4-875a-e9462e093c70",
   "metadata": {},
   "outputs": [],
   "source": [
    "#39) Check if a string contains only alphabets."
   ]
  },
  {
   "cell_type": "code",
   "execution_count": 51,
   "id": "5dd6cecc-f964-46be-81d7-4206dde54519",
   "metadata": {},
   "outputs": [
    {
     "name": "stdout",
     "output_type": "stream",
     "text": [
      "False\n",
      "True\n"
     ]
    }
   ],
   "source": [
    "def alphabets(input_string):\n",
    "    return input_string.isalpha()\n",
    "\n",
    "#main program\n",
    "input_string_1 = \"Hello123\"\n",
    "input_string_2 = \"PWSkills\"\n",
    "result_1 = alphabets(input_string_1)\n",
    "result_2 = alphabets(input_string_2)\n",
    "print(result_1)\n",
    "print(result_2)"
   ]
  },
  {
   "cell_type": "code",
   "execution_count": 52,
   "id": "8a7ae262-4713-49dc-89b8-232939e6d9d1",
   "metadata": {},
   "outputs": [],
   "source": [
    "#40) Convert a string to a list of characters."
   ]
  },
  {
   "cell_type": "code",
   "execution_count": 2,
   "id": "eeff1990-f829-4c84-bee4-5eac3bd43a9d",
   "metadata": {},
   "outputs": [
    {
     "name": "stdout",
     "output_type": "stream",
     "text": [
      "The list of characters are:['h', 'e', 'l', 'l', 'o', ' ', 'w', 'o', 'r', 'l', 'd', '!']\n"
     ]
    }
   ],
   "source": [
    "def string_list(input_string):\n",
    "    new_list = list(input_string)\n",
    "    return new_list\n",
    "\n",
    "#main program\n",
    "input_string = \"hello world!\"\n",
    "result = string_list(input_string)\n",
    "print(\"The list of characters are:{}\".format(result))"
   ]
  },
  {
   "cell_type": "code",
   "execution_count": 3,
   "id": "c63680d9-54a9-49a9-be7f-01231aa65aa8",
   "metadata": {},
   "outputs": [],
   "source": [
    "#41) Check if two strings are anagrams."
   ]
  },
  {
   "cell_type": "code",
   "execution_count": 10,
   "id": "8086c86d-83c2-49ae-9ee9-f71c675e3551",
   "metadata": {},
   "outputs": [
    {
     "name": "stdout",
     "output_type": "stream",
     "text": [
      "triangle and integral are anagrams: True\n",
      "mother and father are anagrams:     False\n",
      "care and race are anagrams:         True\n"
     ]
    }
   ],
   "source": [
    "def anagrams(a,b):                       #anagrams are the words that are created by rearranging the letters of another word. \n",
    "    a = a.replace(\" \",\"\").lower()\n",
    "    b = b.replace(\" \",\"\").lower()\n",
    "    \n",
    "    return sorted(a) == sorted(b)\n",
    "\n",
    "#main program \n",
    "str1 = \"triangle\"\n",
    "str2 = \"integral\"\n",
    "str3 = \"mother\"\n",
    "str4 = \"father\"\n",
    "str5 = \"care\"\n",
    "str6 = \"race\"\n",
    "\n",
    "#function call\n",
    "result_1 = anagrams(str1,str2)\n",
    "result_2 = anagrams(str3,str4)\n",
    "result_3 = anagrams(str5,str6)\n",
    "\n",
    "#printing result\n",
    "print(\"{} and {} are anagrams: {}\".format(str1,str2,result_1))\n",
    "print(\"{} and {} are anagrams:     {}\".format(str3,str4,result_2))\n",
    "print(\"{} and {} are anagrams:         {}\".format(str5,str6,result_3))"
   ]
  },
  {
   "cell_type": "code",
   "execution_count": 11,
   "id": "df56eae5-752a-48c8-be62-79b539aa545b",
   "metadata": {},
   "outputs": [],
   "source": [
    "#42) Encode a string using a Caesar cipher."
   ]
  },
  {
   "cell_type": "code",
   "execution_count": 15,
   "id": "2d7a80c6-a758-4daf-8324-cb7655d0658f",
   "metadata": {},
   "outputs": [
    {
     "name": "stdout",
     "output_type": "stream",
     "text": [
      "Encoded text: khoor, zruog!\n"
     ]
    }
   ],
   "source": [
    "def caesar_cipher(text, shift):\n",
    "  encoded_text = \"\"\n",
    "\n",
    "  # Iterate through each character in the input text.\n",
    "  for char in text:\n",
    "    # Check if the character is alphabetic.\n",
    "    if char.isalpha():\n",
    "      # Calculate the encoded character's Unicode code point value by shifting it by the specified amount.\n",
    "      # Ensure the value wraps around within the lowercase alphabet range (a-z).\n",
    "      encoded_char = chr((ord(char) + shift - ord('a')) % 26 + ord('a'))\n",
    "    else:\n",
    "      # Keep non-alphabetic characters unchanged.\n",
    "      encoded_char = char\n",
    "\n",
    "    # Add the encoded character to the encoded text.\n",
    "    encoded_text += encoded_char\n",
    "\n",
    "  # Return the resulting encoded text.\n",
    "  return encoded_text\n",
    "\n",
    "# Define the input text and the shift value for encoding.\n",
    "text = \"hello, world!\"\n",
    "shift = 3\n",
    "\n",
    "# Call the caesar_cipher function to encode the text using the specified shift.\n",
    "encoded_text = caesar_cipher(text, shift)\n",
    "\n",
    "# Print the encoded text.\n",
    "print(\"Encoded text:\", encoded_text)"
   ]
  },
  {
   "cell_type": "code",
   "execution_count": 13,
   "id": "34208576-6449-4221-96fd-13da3c74eb15",
   "metadata": {},
   "outputs": [],
   "source": [
    "#43) Decode a Caesar cipher encoded string."
   ]
  },
  {
   "cell_type": "code",
   "execution_count": 16,
   "id": "048f8283-2985-4479-8a80-1b11daa3b3aa",
   "metadata": {},
   "outputs": [
    {
     "name": "stdout",
     "output_type": "stream",
     "text": [
      "Decoded text: hello, world!\n"
     ]
    }
   ],
   "source": [
    "# Define a function to decode a string using a Caesar cipher\n",
    "def caesar_cipher_decoder(text, shift):\n",
    "    # Initialize an empty string to store the decoded text\n",
    "    decoded_text = \"\"\n",
    "\n",
    "    # Loop through each character in the input text\n",
    "    for char in text:\n",
    "        # Check if the character is an alphabetic character\n",
    "        if char.isalpha():\n",
    "            # Calculate the decoded character using the shift value\n",
    "            decoded_char = chr((ord(char) - shift - ord('a')) % 26 + ord('a'))\n",
    "        else:\n",
    "            # If the character is not alphabetic, keep it unchanged\n",
    "            decoded_char = char\n",
    "\n",
    "        # Add the decoded character to the decoded text\n",
    "        decoded_text += decoded_char\n",
    "\n",
    "    # Return the fully decoded text\n",
    "    return decoded_text\n",
    "\n",
    "# Example input\n",
    "text = \"khoor, zruog!\"\n",
    "shift = 3\n",
    "\n",
    "# Call the caesar_cipher_decoder function to decode the input text\n",
    "decoded_text = caesar_cipher_decoder(text, shift)\n",
    "\n",
    "# Print the decoded text\n",
    "print(\"Decoded text:\", decoded_text)"
   ]
  },
  {
   "cell_type": "code",
   "execution_count": 17,
   "id": "55421a59-efef-4463-a09a-3146a5dbf390",
   "metadata": {},
   "outputs": [],
   "source": [
    "#44) Find the most frequent word in a string."
   ]
  },
  {
   "cell_type": "code",
   "execution_count": 1,
   "id": "78eeaf05-b095-47b5-9330-c20c7c61b71a",
   "metadata": {},
   "outputs": [
    {
     "name": "stdout",
     "output_type": "stream",
     "text": [
      "The most frequent word is: this\n",
      "Its frequency is: 2\n"
     ]
    }
   ],
   "source": [
    "input_string = \"This is a sample string with some repeated words. This string has some words that occur more than once.\"\n",
    "\n",
    "# Split the string into words\n",
    "words = input_string.split()\n",
    "\n",
    "# Initialize a dictionary to store word frequencies\n",
    "word_counts = {}\n",
    "\n",
    "# Count the frequency of each word\n",
    "for word in words:\n",
    "    # Remove punctuation if needed\n",
    "    word = word.strip(\".,!?\")\n",
    "    \n",
    "    # Convert the word to lowercase to ensure case-insensitivity\n",
    "    word = word.lower()\n",
    "    \n",
    "    # Update the word count in the dictionary\n",
    "    if word in word_counts:\n",
    "        word_counts[word] += 1\n",
    "    else:\n",
    "        word_counts[word] = 1\n",
    "\n",
    "# Find the most frequent word\n",
    "most_frequent_word = max(word_counts, key=word_counts.get)\n",
    "\n",
    "# Print the result\n",
    "print(\"The most frequent word is:\", most_frequent_word)\n",
    "print(\"Its frequency is:\", word_counts[most_frequent_word])\n"
   ]
  },
  {
   "cell_type": "code",
   "execution_count": 2,
   "id": "53ae5897-57b5-4a56-ae71-40ddbfcea483",
   "metadata": {},
   "outputs": [],
   "source": [
    "#45) Find all unique words in a string."
   ]
  },
  {
   "cell_type": "code",
   "execution_count": 3,
   "id": "7a77958a-73ff-4da2-90ac-b0c283137253",
   "metadata": {},
   "outputs": [
    {
     "name": "stdout",
     "output_type": "stream",
     "text": [
      "Unique words in the string: ['more', 'words', 'string', 'sample', 'with', 'repeated', 'a', 'is', 'that', 'than', 'has', 'once', 'some', 'this', 'occur']\n"
     ]
    }
   ],
   "source": [
    "input_string = \"This is a sample string with some repeated words. This string has some words that occur more than once.\"\n",
    "\n",
    "# Split the string into words\n",
    "words = input_string.split()\n",
    "\n",
    "# Initialize a set to store unique words\n",
    "unique_words = set()\n",
    "\n",
    "# Add each word to the set\n",
    "for word in words:\n",
    "    # Remove punctuation if needed\n",
    "    word = word.strip(\".,!?\")\n",
    "    \n",
    "    # Convert the word to lowercase to ensure case-insensitivity\n",
    "    word = word.lower()\n",
    "    \n",
    "    # Add the word to the set\n",
    "    unique_words.add(word)\n",
    "\n",
    "# Convert the set to a list if needed\n",
    "unique_words_list = list(unique_words)\n",
    "\n",
    "# Print the result\n",
    "print(\"Unique words in the string:\", unique_words_list)\n"
   ]
  },
  {
   "cell_type": "code",
   "execution_count": 12,
   "id": "bc31f01e-69fd-4da4-93ee-2e0dacfedd80",
   "metadata": {},
   "outputs": [],
   "source": [
    "#47) Check if a string contains any special characters. "
   ]
  },
  {
   "cell_type": "code",
   "execution_count": 14,
   "id": "eec3d7c3-7df7-4171-9b1b-d5f1893e1753",
   "metadata": {},
   "outputs": [
    {
     "name": "stdout",
     "output_type": "stream",
     "text": [
      "The string contains special characters.\n"
     ]
    }
   ],
   "source": [
    "def contains_special_characters(input_string):\n",
    "    # Define the set of allowed characters (letters and digits)\n",
    "    allowed_characters = set(\"abcdefghijklmnopqrstuvwxyzABCDEFGHIJKLMNOPQRSTUVWXYZ0123456789\")\n",
    "\n",
    "    # Check if any character in the string is not in the allowed set\n",
    "    for char in input_string:\n",
    "        if char not in allowed_characters:\n",
    "            return True  # The string contains a special character\n",
    "\n",
    "    return False  # The string does not contain any special characters\n",
    "\n",
    "# Sample string\n",
    "input_string = \"This is a sample string with some special characters: @, #, $, %.\"\n",
    "\n",
    "# Check if the string contains special characters\n",
    "contains_special = contains_special_characters(input_string)\n",
    "\n",
    "# Print the result\n",
    "if contains_special:\n",
    "    print(\"The string contains special characters.\")\n",
    "else:\n",
    "    print(\"The string does not contain any special characters.\")\n"
   ]
  },
  {
   "cell_type": "code",
   "execution_count": null,
   "id": "b1ec17d1-e570-4e90-8bed-76387bb9b7d7",
   "metadata": {},
   "outputs": [],
   "source": [
    "#48) Remove the nth word from a string."
   ]
  },
  {
   "cell_type": "code",
   "execution_count": 18,
   "id": "610e9bc1-e2ac-4da8-9b4d-718e058dd96d",
   "metadata": {},
   "outputs": [
    {
     "name": "stdout",
     "output_type": "stream",
     "text": [
      "Original string: This is a sample string. Let's remove the third word.\n",
      "String after removing the word: This is sample string. Let's remove the third word.\n"
     ]
    }
   ],
   "source": [
    "def remove_nth_word(input_string, n):\n",
    "\n",
    "    words = input_string.split()\n",
    "\n",
    "    if 1 <= n <= len(words):\n",
    "        del words[n - 1]\n",
    "\n",
    "        result_string = ' '.join(words)\n",
    "\n",
    "        return result_string\n",
    "    else:\n",
    "        return input_string\n",
    "\n",
    "# Sample string\n",
    "input_string = \"This is a sample string. Let's remove the third word.\"\n",
    "\n",
    "result_string = remove_nth_word(input_string, 3)\n",
    "\n",
    "# Print the result\n",
    "print(\"Original string:\", input_string)\n",
    "print(\"String after removing the word:\", result_string)\n"
   ]
  },
  {
   "cell_type": "code",
   "execution_count": 19,
   "id": "16a0050c-0406-4a6a-9182-c316e59ebf63",
   "metadata": {},
   "outputs": [],
   "source": [
    "#49) Insert a word at the nth position in a string."
   ]
  },
  {
   "cell_type": "code",
   "execution_count": 20,
   "id": "6f922a42-c9bc-425f-a939-6d3fab379786",
   "metadata": {},
   "outputs": [
    {
     "name": "stdout",
     "output_type": "stream",
     "text": [
      "Original string: This is a sample string. Let's insert a word.\n",
      "String after inserting a word at the fourth position: This is a new sample string. Let's insert a word.\n"
     ]
    }
   ],
   "source": [
    "def insert_word_at_position(input_string, n, new_word):\n",
    "    # Split the string into words\n",
    "    words = input_string.split()\n",
    "\n",
    "    # Check if the given index is valid\n",
    "    if 0 <= n <= len(words):\n",
    "        # Insert the new word at the nth position\n",
    "        words.insert(n, new_word)\n",
    "\n",
    "        # Join the words back into a string\n",
    "        result_string = ' '.join(words)\n",
    "\n",
    "        return result_string\n",
    "    else:\n",
    "        # If the index is out of bounds, return the original string\n",
    "        return input_string\n",
    "\n",
    "# Sample string\n",
    "input_string = \"This is a sample string. Let's insert a word.\"\n",
    "\n",
    "\n",
    "result_string = insert_word_at_position(input_string, 3, \"new\")\n",
    "\n",
    "# Print the result\n",
    "print(\"Original string:\", input_string)\n",
    "print(\"String after inserting a word at the fourth position:\", result_string)\n"
   ]
  },
  {
   "cell_type": "code",
   "execution_count": 21,
   "id": "e696912a-8c52-4dc6-a958-f42417d58dc4",
   "metadata": {},
   "outputs": [],
   "source": [
    "#50) Convert a CSV string to a list of lists."
   ]
  },
  {
   "cell_type": "code",
   "execution_count": 22,
   "id": "ee23737a-bc50-4e3d-bb42-e064595fc9a3",
   "metadata": {},
   "outputs": [],
   "source": [
    "#LIST BASED PRACTICE PROBLEM "
   ]
  },
  {
   "cell_type": "code",
   "execution_count": 23,
   "id": "26dd1c33-35c7-403d-802a-d1d56b090cc3",
   "metadata": {},
   "outputs": [],
   "source": [
    "#1) Create a list with integers from 1 to 10."
   ]
  },
  {
   "cell_type": "code",
   "execution_count": 25,
   "id": "ebe66847-8ed3-432a-be6d-906e250ff915",
   "metadata": {},
   "outputs": [
    {
     "name": "stdout",
     "output_type": "stream",
     "text": [
      "[1, 2, 3, 4, 5, 6, 7, 8, 9, 10]\n"
     ]
    }
   ],
   "source": [
    "lst = [i for i in range(1,11)]\n",
    "\n",
    "print(lst)"
   ]
  },
  {
   "cell_type": "code",
   "execution_count": 26,
   "id": "3e6c4934-2d2e-48d7-8019-9e5d585ffe18",
   "metadata": {},
   "outputs": [],
   "source": [
    "#2) Find the length of a list without using the `len()` function."
   ]
  },
  {
   "cell_type": "code",
   "execution_count": 30,
   "id": "f40802e8-7bc6-4d20-9418-8da60bb1dbaa",
   "metadata": {},
   "outputs": [
    {
     "name": "stdout",
     "output_type": "stream",
     "text": [
      "the length of the list is 10\n"
     ]
    }
   ],
   "source": [
    "input_lst = [1, 2, 3, 4, 5, 6, 7, 8, 9, 10]\n",
    "length = 0\n",
    "for _ in lst:\n",
    "    length += 1\n",
    "    \n",
    "print(\"the length of the list is\",length)"
   ]
  },
  {
   "cell_type": "code",
   "execution_count": 31,
   "id": "c4d64bc5-aae6-48cd-ab5e-15023343a8d2",
   "metadata": {},
   "outputs": [],
   "source": [
    "#3) Append an element to the end of a list."
   ]
  },
  {
   "cell_type": "code",
   "execution_count": 33,
   "id": "69c80460-2ba4-4509-aed3-b6bdabe03548",
   "metadata": {},
   "outputs": [
    {
     "name": "stdout",
     "output_type": "stream",
     "text": [
      "[1, 2, 3, 4, 5, 6, 7, 8, 9, 10, 'rehaan']\n"
     ]
    }
   ],
   "source": [
    "input_lst = [1, 2, 3, 4, 5, 6, 7, 8, 9, 10]\n",
    "\n",
    "val = \"rehaan\"\n",
    "\n",
    "input_lst.append(val)\n",
    "\n",
    "print(input_lst)"
   ]
  },
  {
   "cell_type": "code",
   "execution_count": 34,
   "id": "728f7530-0793-453d-b8d7-91b62ca05117",
   "metadata": {},
   "outputs": [],
   "source": [
    "#4) Insert an element at a specific index in a list."
   ]
  },
  {
   "cell_type": "code",
   "execution_count": 38,
   "id": "129858ed-5710-47b0-8cd7-fbb7be92b703",
   "metadata": {},
   "outputs": [
    {
     "name": "stdin",
     "output_type": "stream",
     "text": [
      "Enter the place at which you want to insert the list: 5\n",
      "Enter the value: rehaan\n"
     ]
    },
    {
     "name": "stdout",
     "output_type": "stream",
     "text": [
      "[1, 2, 3, 4, 5, 'rehaan']\n"
     ]
    }
   ],
   "source": [
    "lst = [1,2,3,4,5]\n",
    "\n",
    "place = int(input(\"Enter the place at which you want to insert the list:\"))\n",
    "\n",
    "element_to_insert = input(\"Enter the value:\")\n",
    "\n",
    "lst.insert(place, element_to_insert)\n",
    "\n",
    "print(lst)"
   ]
  },
  {
   "cell_type": "code",
   "execution_count": 39,
   "id": "545d3335-fae4-4e49-bff1-ba38608f3b6d",
   "metadata": {},
   "outputs": [],
   "source": [
    "#5) Remove an element from a list by its value."
   ]
  },
  {
   "cell_type": "code",
   "execution_count": 44,
   "id": "7d3ec9cd-a7cf-47d0-ac39-9165db81a226",
   "metadata": {},
   "outputs": [
    {
     "name": "stdin",
     "output_type": "stream",
     "text": [
      "Enter the value you want to remove: 9\n"
     ]
    },
    {
     "name": "stdout",
     "output_type": "stream",
     "text": [
      "[1, 2, 3, 4, 5, 6, 7, 8, 10]\n"
     ]
    }
   ],
   "source": [
    "lst = [1, 2, 3, 4, 5, 6, 7, 8, 9, 10]\n",
    "\n",
    "element_to_remove = int(input(\"Enter the value you want to remove:\"))\n",
    "\n",
    "lst.remove(element_to_remove)\n",
    "\n",
    "print(lst)"
   ]
  },
  {
   "cell_type": "code",
   "execution_count": 43,
   "id": "e7725990-d06b-427a-8690-2209e42d59ac",
   "metadata": {},
   "outputs": [],
   "source": [
    "#6) Remove an element from a list by its index."
   ]
  },
  {
   "cell_type": "code",
   "execution_count": 46,
   "id": "17835224-d298-4279-98e8-3d341f56ab31",
   "metadata": {},
   "outputs": [
    {
     "name": "stdin",
     "output_type": "stream",
     "text": [
      "Enter the index of value you want to remove: 4\n"
     ]
    },
    {
     "name": "stdout",
     "output_type": "stream",
     "text": [
      "[1, 2, 3, 4, 6, 7, 8, 9, 10]\n"
     ]
    }
   ],
   "source": [
    "lst = [1, 2, 3, 4, 5, 6, 7, 8, 9, 10]\n",
    "\n",
    "element_to_remove = int(input(\"Enter the index of value you want to remove:\"))\n",
    "\n",
    "lst.pop(element_to_remove)\n",
    "\n",
    "print(lst)"
   ]
  },
  {
   "cell_type": "code",
   "execution_count": 47,
   "id": "fa40a2db-ad01-4f45-a756-7b489dc1984d",
   "metadata": {},
   "outputs": [],
   "source": [
    "#7) Check if an element exists in a list."
   ]
  },
  {
   "cell_type": "code",
   "execution_count": 49,
   "id": "835f9f84-f583-407b-a9a3-39fb0622c7df",
   "metadata": {},
   "outputs": [
    {
     "name": "stdin",
     "output_type": "stream",
     "text": [
      "Enter the value you want to check: 9\n"
     ]
    },
    {
     "name": "stdout",
     "output_type": "stream",
     "text": [
      "Element doesn't exist in the list.\n"
     ]
    }
   ],
   "source": [
    "lst = [1,2,3,4,5]\n",
    "\n",
    "element_to_check = int(input(\"Enter the value you want to check:\"))\n",
    "\n",
    "if element_to_check in lst:\n",
    "    print(\"Element exist in the list.\")\n",
    "else:\n",
    "    print(\"Element doesn't exist in the list.\")"
   ]
  },
  {
   "cell_type": "code",
   "execution_count": 50,
   "id": "d4604b6d-3e12-4607-abd4-dae1a4180805",
   "metadata": {},
   "outputs": [],
   "source": [
    "#8) Find the index of the first occurrence of an element in a list."
   ]
  },
  {
   "cell_type": "code",
   "execution_count": 51,
   "id": "ab4d43c0-bb14-4bbf-9f2e-4d212c3f6801",
   "metadata": {},
   "outputs": [
    {
     "name": "stdout",
     "output_type": "stream",
     "text": [
      "1\n"
     ]
    }
   ],
   "source": [
    "lst = [1, 4, 5, 2, 3, 4, 5, 3, 6, 7, 8, 4, 9, 10]\n",
    "\n",
    "find_index = 4\n",
    "\n",
    "index = lst.index(find_index)\n",
    "\n",
    "print(index)"
   ]
  },
  {
   "cell_type": "code",
   "execution_count": 1,
   "id": "de0e540f-61ad-4909-8202-9567ad874a9b",
   "metadata": {},
   "outputs": [],
   "source": [
    "#9) Count the occurrences of an element in a list."
   ]
  },
  {
   "cell_type": "code",
   "execution_count": 2,
   "id": "77846a9e-7e6f-4b14-b4cd-dd8434ead21e",
   "metadata": {},
   "outputs": [
    {
     "name": "stdout",
     "output_type": "stream",
     "text": [
      "3\n"
     ]
    }
   ],
   "source": [
    "lst = [1, 4, 5, 2, 3, 4, 5, 3, 6, 7, 8, 4, 9, 10]\n",
    "\n",
    "count_index = 4\n",
    "\n",
    "index = lst.count(count_index)\n",
    "\n",
    "print(index)"
   ]
  },
  {
   "cell_type": "code",
   "execution_count": 10,
   "id": "55627376-2530-48fb-9243-ff63ec4f1ba0",
   "metadata": {},
   "outputs": [],
   "source": [
    "#10) Reverse the order of elements in a list."
   ]
  },
  {
   "cell_type": "code",
   "execution_count": 11,
   "id": "85faedac-a90a-49f1-9020-8f8c9ab75d40",
   "metadata": {},
   "outputs": [
    {
     "name": "stdout",
     "output_type": "stream",
     "text": [
      "[10, 9, 4, 8, 7, 6, 3, 5, 4, 3, 2, 5, 4, 1]\n"
     ]
    }
   ],
   "source": [
    "lst = [1, 4, 5, 2, 3, 4, 5, 3, 6, 7, 8, 4, 9, 10]\n",
    "\n",
    "new_lst = lst[::-1]\n",
    "\n",
    "print(new_lst)"
   ]
  },
  {
   "cell_type": "code",
   "execution_count": 12,
   "id": "dc621949-3f81-4eb1-b64d-b51754a73e45",
   "metadata": {},
   "outputs": [],
   "source": [
    "#11) Sort a list in ascending order."
   ]
  },
  {
   "cell_type": "code",
   "execution_count": 16,
   "id": "9e63e244-6401-4b24-92e3-1f4ecd2d5198",
   "metadata": {},
   "outputs": [
    {
     "name": "stdout",
     "output_type": "stream",
     "text": [
      "Ascending order is: [1, 2, 3, 3, 4, 4, 4, 5, 5, 6, 7, 8, 9, 10]\n"
     ]
    }
   ],
   "source": [
    "lst = [1, 4, 5, 2, 3, 4, 5, 3, 6, 7, 8, 4, 9, 10]\n",
    "\n",
    "n = len(lst)\n",
    "\n",
    "for i in range(n):\n",
    "    for j in range(0,n-i-1):\n",
    "        if lst[j] > lst[j+1]:\n",
    "            lst[j],lst[j+1] = lst[j+1], lst[j]\n",
    "            \n",
    "print(\"Ascending order is:\",lst)\n"
   ]
  },
  {
   "cell_type": "code",
   "execution_count": 1,
   "id": "503e4cab-3f4b-4a95-b48a-4ec5f74d8b51",
   "metadata": {},
   "outputs": [],
   "source": [
    "#12) Sort a list in descending order."
   ]
  },
  {
   "cell_type": "code",
   "execution_count": 4,
   "id": "2ed57efd-9dad-474e-84a2-a22ffce731a1",
   "metadata": {},
   "outputs": [
    {
     "name": "stdout",
     "output_type": "stream",
     "text": [
      "Descending order is: [10, 9, 8, 7, 6, 5, 5, 4, 4, 4, 3, 3, 2, 1]\n"
     ]
    }
   ],
   "source": [
    "lst = [1, 4, 5, 2, 3, 4, 5, 3, 6, 7, 8, 4, 9, 10]\n",
    "\n",
    "n = len(lst)\n",
    "\n",
    "for i in range(n):\n",
    "    for j in range(0,n-i-1):\n",
    "        if lst[j]< lst[j+1]:\n",
    "            lst[j],lst[j+1] = lst[j+1],lst[j]\n",
    "print(\"Descending order is:\",lst)"
   ]
  },
  {
   "cell_type": "code",
   "execution_count": 5,
   "id": "8b49abbf-ee55-46cf-9fa6-1f730760bd28",
   "metadata": {},
   "outputs": [],
   "source": [
    "#13) Create a list of even numbers from 1 to 20."
   ]
  },
  {
   "cell_type": "code",
   "execution_count": 8,
   "id": "6675ce29-1549-4352-a97a-39784b8ebe43",
   "metadata": {},
   "outputs": [
    {
     "name": "stdout",
     "output_type": "stream",
     "text": [
      "2 4 6 8 10 12 14 16 18 20 "
     ]
    }
   ],
   "source": [
    "n = 21\n",
    "\n",
    "for i in range(1,n):\n",
    "    if i%2 == 0:\n",
    "        print(i,end=\" \")"
   ]
  },
  {
   "cell_type": "code",
   "execution_count": 9,
   "id": "24232a9b-d77d-4462-8bd5-dc3459c4e3e3",
   "metadata": {},
   "outputs": [],
   "source": [
    "#14) Create a list of odd numbers from 1 to 20."
   ]
  },
  {
   "cell_type": "code",
   "execution_count": 1,
   "id": "4f0bb53f-cd46-49fb-8a54-e714e6a79057",
   "metadata": {},
   "outputs": [
    {
     "name": "stdout",
     "output_type": "stream",
     "text": [
      "1 3 5 7 9 11 13 15 17 19 "
     ]
    }
   ],
   "source": [
    "n = 21\n",
    "\n",
    "for i in range(1,n):\n",
    "    if i%2 != 0:\n",
    "        print(i,end=\" \")"
   ]
  },
  {
   "cell_type": "code",
   "execution_count": 2,
   "id": "43235f5e-5105-4d02-9d9f-166626c1e94b",
   "metadata": {},
   "outputs": [],
   "source": [
    "#15) Find the sum of all elements in a list."
   ]
  },
  {
   "cell_type": "code",
   "execution_count": 9,
   "id": "cf311f31-dc96-4187-be26-9630961061d9",
   "metadata": {},
   "outputs": [
    {
     "name": "stdout",
     "output_type": "stream",
     "text": [
      "Sum of all elements =  71\n"
     ]
    }
   ],
   "source": [
    "lst = [1, 4, 5, 2, 3, 4, 5, 3, 6, 7, 8, 4, 9, 10]\n",
    "\n",
    "total = 0\n",
    "\n",
    "for i in lst:\n",
    "    total += i\n",
    "print(\"Sum of all elements = \",total)"
   ]
  },
  {
   "cell_type": "code",
   "execution_count": 10,
   "id": "913d7e41-55bc-42dc-953b-a5b02d6cb6fa",
   "metadata": {},
   "outputs": [],
   "source": [
    "#16) Find the maximum value in a list"
   ]
  },
  {
   "cell_type": "code",
   "execution_count": 15,
   "id": "3129cbc0-8891-4541-a427-fadd303ed289",
   "metadata": {},
   "outputs": [
    {
     "name": "stdout",
     "output_type": "stream",
     "text": [
      "Maximum Value in list is : 10\n"
     ]
    }
   ],
   "source": [
    "lst = [1, 4, 5, 2, 3, 4,10, 5, 3, 6, 7, 8, 4, 9]\n",
    "\n",
    "max_value = lst[0]\n",
    "\n",
    "for i in lst:\n",
    "    if i > max_value:\n",
    "        max_value = i\n",
    "\n",
    "print(\"Maximum Value in list is :\",max_value)"
   ]
  },
  {
   "cell_type": "code",
   "execution_count": 14,
   "id": "d62b0226-33ab-4f3e-87b0-cecc1305d204",
   "metadata": {},
   "outputs": [],
   "source": [
    "#17) Fin dthe minimum value in a list"
   ]
  },
  {
   "cell_type": "code",
   "execution_count": 16,
   "id": "5ebc7a62-aec6-4c34-a94d-7c8a334d16dd",
   "metadata": {},
   "outputs": [
    {
     "name": "stdout",
     "output_type": "stream",
     "text": [
      "Minimum value in a list is : 1\n"
     ]
    }
   ],
   "source": [
    "lst = [1, 4, 5, 2, 3, 4,10, 5, 3, 6, 7, 8, 4, 9]\n",
    "\n",
    "min_value = lst[0]\n",
    "\n",
    "for i in lst:\n",
    "    if i < min_value:\n",
    "        min_value = i\n",
    "\n",
    "print(\"Minimum value in a list is :\",min_value)"
   ]
  },
  {
   "cell_type": "code",
   "execution_count": 17,
   "id": "1a7033d8-7a84-4b17-8bf8-2225d7cd31a5",
   "metadata": {},
   "outputs": [],
   "source": [
    "#18) Create a list of squares of numbers from 1 to 10"
   ]
  },
  {
   "cell_type": "code",
   "execution_count": 23,
   "id": "9499b6d5-b610-444f-830b-4605c3e463c3",
   "metadata": {},
   "outputs": [
    {
     "name": "stdout",
     "output_type": "stream",
     "text": [
      "The list of Square of numbers are: [1, 4, 9, 16, 25, 36, 49, 64, 81, 100]\n"
     ]
    }
   ],
   "source": [
    "lst = [num**2 for num in range(1,11)]\n",
    "\n",
    "print(\"The list of Square of numbers are:\",lst)"
   ]
  },
  {
   "cell_type": "code",
   "execution_count": 24,
   "id": "8c4ff07a-3416-4cad-9c00-36aafc0825e4",
   "metadata": {},
   "outputs": [],
   "source": [
    "#19) Create a list of random numbers."
   ]
  },
  {
   "cell_type": "code",
   "execution_count": 28,
   "id": "090d2279-49ef-4890-9e7b-60102dc40ee2",
   "metadata": {},
   "outputs": [
    {
     "name": "stdout",
     "output_type": "stream",
     "text": [
      "the random list is =  [54, 49, 95, 33, 13, 92, 21, 14, 75, 22]\n"
     ]
    }
   ],
   "source": [
    "import random \n",
    "\n",
    "list_length = 10\n",
    "\n",
    "random_numbers = [random.randint(1,100) for num in range(list_length)]\n",
    "\n",
    "print(\"the random list is = \",random_numbers)"
   ]
  },
  {
   "cell_type": "code",
   "execution_count": 29,
   "id": "7655b1b2-302f-420b-8235-330c0520ab91",
   "metadata": {},
   "outputs": [],
   "source": [
    "#20) Remove duplicates from a list"
   ]
  },
  {
   "cell_type": "code",
   "execution_count": 30,
   "id": "166ce3d8-8942-4286-897e-0ae2b34988b6",
   "metadata": {},
   "outputs": [
    {
     "name": "stdout",
     "output_type": "stream",
     "text": [
      "Original list =  [1, 4, 5, 2, 3, 4, 10, 5, 3, 6, 7, 8, 4, 9]\n",
      "********************\n",
      "Removed Duplicates list = [1, 2, 3, 4, 5, 6, 7, 8, 9, 10]\n"
     ]
    }
   ],
   "source": [
    "lst = [1, 4, 5, 2, 3, 4,10, 5, 3, 6, 7, 8, 4, 9]\n",
    "\n",
    "unique_list = list(set(lst))\n",
    "\n",
    "print(\"Original list = \",lst)\n",
    "print(\"*\"*20)\n",
    "print(\"Removed Duplicates list =\",unique_list)"
   ]
  },
  {
   "cell_type": "code",
   "execution_count": 31,
   "id": "9596eff0-7242-4b4e-b74a-3607823deb53",
   "metadata": {},
   "outputs": [],
   "source": [
    "#21) Find the common elements between two list"
   ]
  },
  {
   "cell_type": "code",
   "execution_count": 35,
   "id": "165e26b0-543a-4f07-b44d-37be4252f87a",
   "metadata": {},
   "outputs": [
    {
     "name": "stdout",
     "output_type": "stream",
     "text": [
      "Common elements are =  [3, 4, 5]\n"
     ]
    }
   ],
   "source": [
    "list1 = [1, 2, 3, 4, 5]\n",
    "list2 = [3, 4, 5, 6, 7]\n",
    "\n",
    "#1st method --- using set we can do like this\n",
    "comon_elements = set(list1) & set(list2)\n",
    "\n",
    "Common_list = list(comon_elements)\n",
    "\n",
    "#2nd method ----- using list comprehension \n",
    "#Common_list = [element for element in list1 if element in list2]\n",
    "\n",
    "print(\"Common elements are = \",Common_list)"
   ]
  },
  {
   "cell_type": "code",
   "execution_count": 36,
   "id": "8d241569-64d3-43de-80cd-88887f1cf7fa",
   "metadata": {},
   "outputs": [],
   "source": [
    "#22)  Find the difference between two lists."
   ]
  },
  {
   "cell_type": "code",
   "execution_count": 41,
   "id": "2d025eda-3701-4ed2-9b11-6714ba31ca4e",
   "metadata": {},
   "outputs": [
    {
     "name": "stdout",
     "output_type": "stream",
     "text": [
      "Common elements are =  [1, 2]\n"
     ]
    }
   ],
   "source": [
    "list1 = [1, 2, 3, 4, 5]\n",
    "list2 = [3, 4, 5, 6, 7]\n",
    "\n",
    "#1st method --- using set we can do like this\n",
    "difference_set = set(list1) - set(list2)\n",
    "\n",
    "different_list = list(difference_set)\n",
    "\n",
    "#2nd method ----- using list comprehension \n",
    "#different_list = [element for element in list1 if element not in list2]\n",
    "\n",
    "print(\"Common elements are = \",different_list)"
   ]
  },
  {
   "cell_type": "code",
   "execution_count": 42,
   "id": "0f989b10-ec4b-407c-b08a-fbafd33569b8",
   "metadata": {},
   "outputs": [],
   "source": [
    "#23) Merge two lists."
   ]
  },
  {
   "cell_type": "code",
   "execution_count": 49,
   "id": "30708a81-6d8c-49b5-853a-be818cabca55",
   "metadata": {},
   "outputs": [
    {
     "name": "stdout",
     "output_type": "stream",
     "text": [
      "[1, 2, 3, 4, 5, 3, 4, 5, 6, 7]\n"
     ]
    }
   ],
   "source": [
    "list1 = [1, 2, 3, 4, 5]\n",
    "list2 = [3, 4, 5, 6, 7]\n",
    "\n",
    "merge_list = list1 + list2\n",
    "\n",
    "#2nd method ---------- \n",
    "#list1.extend(list2)\n",
    "\n",
    "print(merge_list)"
   ]
  },
  {
   "cell_type": "code",
   "execution_count": 50,
   "id": "dee821a2-41d0-44f9-a459-cd6be452eb7f",
   "metadata": {},
   "outputs": [],
   "source": [
    "#24) Multiply all elements in a list by 2."
   ]
  },
  {
   "cell_type": "code",
   "execution_count": 52,
   "id": "7fa020e9-5601-431a-899f-5d00903fba85",
   "metadata": {},
   "outputs": [
    {
     "name": "stdout",
     "output_type": "stream",
     "text": [
      "[2, 8, 10, 4, 6, 8, 20, 10, 6, 12, 14, 16, 8, 18]\n"
     ]
    }
   ],
   "source": [
    "lst = [1, 4, 5, 2, 3, 4,10, 5, 3, 6, 7, 8, 4, 9]\n",
    "\n",
    "new_list = [i*2 for i in lst]\n",
    "\n",
    "print(new_list)"
   ]
  },
  {
   "cell_type": "code",
   "execution_count": 53,
   "id": "c7535b91-f3e0-4ca7-ac30-f2f207444edc",
   "metadata": {},
   "outputs": [],
   "source": [
    "#25) Filter out all even numbers from a list."
   ]
  },
  {
   "cell_type": "code",
   "execution_count": 62,
   "id": "a6f18a83-1af2-48eb-98c5-824acf0ab601",
   "metadata": {},
   "outputs": [
    {
     "name": "stdout",
     "output_type": "stream",
     "text": [
      "Even list is  [4, 8, 2, 6]\n"
     ]
    }
   ],
   "source": [
    "lst = [1,4,7,8,5,2,3,6,9]\n",
    "\n",
    "#1st method ---------------- \n",
    "even_list = [num for num in lst if num%2==0 ]\n",
    "\n",
    "#2nd method ------ using filter\n",
    "#even_list = list(filter(lambda x : x % 2 ==0, lst))\n",
    "\n",
    "print(\"Even list is \",even_list)"
   ]
  },
  {
   "cell_type": "code",
   "execution_count": 1,
   "id": "1b45bcbb-17b0-428b-9b65-7689e91627a9",
   "metadata": {},
   "outputs": [],
   "source": [
    "#26)  Convert a list of strings to a list of integers."
   ]
  },
  {
   "cell_type": "code",
   "execution_count": 4,
   "id": "e05e1bc0-c8c4-433e-b87d-dbfaf1835a78",
   "metadata": {},
   "outputs": [
    {
     "name": "stdout",
     "output_type": "stream",
     "text": [
      "Integer list is [1, 2, 3, 4, 5, 6, 7]\n"
     ]
    }
   ],
   "source": [
    "string_list = [\"1\",\"2\",\"3\",\"4\",\"5\",\"6\",\"7\"]\n",
    "\n",
    "integer_list = [int(element) for element in string_list]\n",
    "\n",
    "print(\"Integer list is\",integer_list)"
   ]
  },
  {
   "cell_type": "code",
   "execution_count": 5,
   "id": "bf7174da-d284-4d89-a084-b8d6c5c1e4e8",
   "metadata": {},
   "outputs": [],
   "source": [
    "#27) Convert a list of integers to a list of strings"
   ]
  },
  {
   "cell_type": "code",
   "execution_count": 6,
   "id": "d4d0f748-e6ee-4e16-ac4a-0da22113c87c",
   "metadata": {},
   "outputs": [
    {
     "name": "stdout",
     "output_type": "stream",
     "text": [
      "String list is ['1', '3', '7', '4', '5', '8', '9', '6']\n"
     ]
    }
   ],
   "source": [
    "integer_list = [1,3,7,4,5,8,9,6]\n",
    "\n",
    "string_list = [str(element) for element in integer_list]\n",
    "\n",
    "print(\"String list is\",string_list)"
   ]
  },
  {
   "cell_type": "code",
   "execution_count": 7,
   "id": "3413c85f-5cf0-4026-9a16-361026ca93a3",
   "metadata": {},
   "outputs": [],
   "source": [
    "#28) Flatten a nested list."
   ]
  },
  {
   "cell_type": "code",
   "execution_count": 8,
   "id": "61f2516b-9da3-4500-bf2e-4387af73af23",
   "metadata": {},
   "outputs": [
    {
     "name": "stdout",
     "output_type": "stream",
     "text": [
      "Nested List: [1, [2, 3, [4, 5]], 6, [7, 8]]\n",
      "Flattened List: [1, 2, 3, [4, 5], 6, 7, 8]\n"
     ]
    }
   ],
   "source": [
    "nested_list = [1, [2, 3, [4, 5]], 6, [7, 8]]\n",
    "\n",
    "#Flatten the nested list using list comprehension and recursion\n",
    "flattened_list = [item for sublist in nested_list for item in (sublist if isinstance(sublist, list) else [sublist])]\n",
    "\n",
    "#Display the original and flattened lists\n",
    "print(\"Nested List:\", nested_list)\n",
    "print(\"Flattened List:\", flattened_list)"
   ]
  },
  {
   "cell_type": "code",
   "execution_count": 9,
   "id": "3a1c4cde-0432-4e00-bdcd-25a30b354bec",
   "metadata": {},
   "outputs": [],
   "source": [
    "#29) Create a list of the first 10 Fibonacci numbers"
   ]
  },
  {
   "cell_type": "code",
   "execution_count": 5,
   "id": "25a1eec2-707a-4096-987b-ad0c7cfb657e",
   "metadata": {},
   "outputs": [
    {
     "name": "stdout",
     "output_type": "stream",
     "text": [
      "[0, 1, 1, 2, 3, 5, 8, 13, 21, 34]\n"
     ]
    }
   ],
   "source": [
    "fibonacci_number = [0,1]\n",
    "\n",
    "while len(fibonacci_number) < 10:\n",
    "    next_number = fibonacci_number[-1] + fibonacci_number[-2]\n",
    "    fibonacci_number.append(next_number)\n",
    "    \n",
    "print(fibonacci_number)"
   ]
  },
  {
   "cell_type": "code",
   "execution_count": 6,
   "id": "9bb4e452-f2b5-4934-8c5c-fca71772f0f5",
   "metadata": {},
   "outputs": [],
   "source": [
    "#30) Check if a list is sorted."
   ]
  },
  {
   "cell_type": "code",
   "execution_count": 7,
   "id": "cf375001-adb2-450f-b93e-c937594f9ffd",
   "metadata": {},
   "outputs": [
    {
     "name": "stdout",
     "output_type": "stream",
     "text": [
      "Is the sorted list sorted? True\n",
      "Is the unsorted list sorted? False\n"
     ]
    }
   ],
   "source": [
    "sorted_list = [1, 2, 3, 4, 5]\n",
    "unsorted_list = [3, 1, 4, 1, 5, 9, 2, 6]\n",
    "\n",
    "# Check if the lists are sorted\n",
    "is_sorted_sorted_list = all(sorted_list[i] <= sorted_list[i + 1] for i in range(len(sorted_list) - 1))\n",
    "is_sorted_unsorted_list = all(unsorted_list[i] <= unsorted_list[i + 1] for i in range(len(unsorted_list) - 1))\n",
    "\n",
    "# Display the results\n",
    "print(\"Is the sorted list sorted?\", is_sorted_sorted_list)\n",
    "print(\"Is the unsorted list sorted?\", is_sorted_unsorted_list)\n"
   ]
  },
  {
   "cell_type": "code",
   "execution_count": 8,
   "id": "93e4ec0e-b41a-434a-a2a9-da2d9d802c6a",
   "metadata": {},
   "outputs": [],
   "source": [
    "#31) Rotate a list to the left by `n` positions."
   ]
  },
  {
   "cell_type": "code",
   "execution_count": 10,
   "id": "28939481-05ad-449e-a988-0605462cde50",
   "metadata": {},
   "outputs": [
    {
     "name": "stdout",
     "output_type": "stream",
     "text": [
      "Original List: [1, 2, 3, 4, 5]\n",
      "Rotated List by 2 positions to the left: [3, 4, 5, 1, 2]\n"
     ]
    }
   ],
   "source": [
    "my_list = [1, 2, 3, 4, 5]\n",
    "\n",
    "# Number of positions to rotate left\n",
    "n = 2\n",
    "\n",
    "# Rotate the list to the left by n positions\n",
    "n %= len(my_list)  # Ensure n is within the length of the list\n",
    "rotated_list = my_list[n:] + my_list[:n]\n",
    "\n",
    "# Display the original and rotated lists\n",
    "print(\"Original List:\", my_list)\n",
    "print(f\"Rotated List by {n} positions to the left:\", rotated_list)"
   ]
  },
  {
   "cell_type": "code",
   "execution_count": 11,
   "id": "934515af-b1b2-4cd8-95d1-2b9e267a4caf",
   "metadata": {},
   "outputs": [],
   "source": [
    "#32)  Rotate a list to the right by `n` positions."
   ]
  },
  {
   "cell_type": "code",
   "execution_count": 13,
   "id": "b134fe84-4073-4ff2-8b6f-3a78256c0c19",
   "metadata": {},
   "outputs": [
    {
     "name": "stdout",
     "output_type": "stream",
     "text": [
      "Original list: [1, 2, 3, 4, 5]\n",
      "Rotated list by 3 positions to the right: [3, 4, 5, 1, 2]\n"
     ]
    }
   ],
   "source": [
    "my_list = [1,2,3,4,5]\n",
    "\n",
    "n = 3\n",
    "\n",
    "n %= len(my_list)\n",
    "rotated_list = my_list[-n:] + my_list[:-n]\n",
    "\n",
    "print(\"Original list:\",my_list)\n",
    "print(f\"Rotated list by {n} positions to the right:\",rotated_list)"
   ]
  },
  {
   "cell_type": "code",
   "execution_count": 14,
   "id": "2630dfef-dcfb-42d0-864b-33ca53d45271",
   "metadata": {},
   "outputs": [],
   "source": [
    "#33) Create a list of prime numbers up to 50"
   ]
  },
  {
   "cell_type": "code",
   "execution_count": 1,
   "id": "0d1233b2-090b-4c2a-b4e6-883f04bab238",
   "metadata": {},
   "outputs": [
    {
     "name": "stdout",
     "output_type": "stream",
     "text": [
      "Prime Numbers are: [2, 3, 5, 7, 11, 13, 17, 19, 23, 29, 31, 37, 41, 43, 47]\n"
     ]
    }
   ],
   "source": [
    "prime_no = []\n",
    "\n",
    "for num in range(2,51):\n",
    "    is_prime = True\n",
    "    \n",
    "    for i in range(2,int(num**0.5)+1):\n",
    "        if num%i == 0:\n",
    "            is_prime = False\n",
    "            break\n",
    "            \n",
    "    if is_prime:\n",
    "        prime_no.append(num)\n",
    "\n",
    "print(\"Prime Numbers are:\",prime_no)\n",
    "        \n",
    "    "
   ]
  },
  {
   "cell_type": "code",
   "execution_count": 2,
   "id": "e67d8afc-e043-4247-b675-30a37eb0299e",
   "metadata": {},
   "outputs": [],
   "source": [
    "#34) Split a list into chunks of size `n`."
   ]
  },
  {
   "cell_type": "code",
   "execution_count": 3,
   "id": "3a8ecf1d-4475-48d8-af62-ea31a7cbde19",
   "metadata": {},
   "outputs": [
    {
     "name": "stdout",
     "output_type": "stream",
     "text": [
      "Original List: [1, 2, 3, 4, 5, 6, 7, 8, 9, 10]\n",
      "List of Chunks (size 3): [[1, 2, 3], [4, 5, 6], [7, 8, 9], [10]]\n"
     ]
    }
   ],
   "source": [
    "lst = [1,2,3,4,5,6,7,8,9,10]\n",
    "\n",
    "n = 3 \n",
    "\n",
    "chunks = [lst[i:i+n] for i in range(0,len(lst),n)]\n",
    "\n",
    "print(\"Original List:\", lst)\n",
    "print(f\"List of Chunks (size {n}):\", chunks)"
   ]
  },
  {
   "cell_type": "code",
   "execution_count": 4,
   "id": "e26a9c9f-3ea5-43ac-b601-cbd3623f6445",
   "metadata": {},
   "outputs": [],
   "source": [
    "#35) Find the second largest number in a list"
   ]
  },
  {
   "cell_type": "code",
   "execution_count": 5,
   "id": "a70019d6-a6c3-407f-ab7c-e0311d7c52ed",
   "metadata": {},
   "outputs": [
    {
     "name": "stdout",
     "output_type": "stream",
     "text": [
      "Original list [25, 41, 63, 74, 85, 69, 36, 21]\n",
      "the Second largest nmber is: 74\n"
     ]
    }
   ],
   "source": [
    "lst = [25,41,63,74,85,69,36,21]\n",
    "\n",
    "sorted_list = sorted(lst, reverse = True)\n",
    "\n",
    "second_largest = sorted_list[1]\n",
    "\n",
    "print(\"Original list\",lst)\n",
    "print(\"the Second largest nmber is:\",second_largest)"
   ]
  },
  {
   "cell_type": "code",
   "execution_count": 6,
   "id": "151d9f7f-12d5-4bce-a52b-34b3146b48f2",
   "metadata": {},
   "outputs": [],
   "source": [
    "#36) Replace every element in a list with its square"
   ]
  },
  {
   "cell_type": "code",
   "execution_count": 9,
   "id": "7e95700a-586f-4117-9d79-76679862aa45",
   "metadata": {},
   "outputs": [
    {
     "name": "stdout",
     "output_type": "stream",
     "text": [
      "[4, 9, 16, 25, 36, 49, 64, 81]\n"
     ]
    }
   ],
   "source": [
    "lst = [2,3,4,5,6,7,8,9]\n",
    "\n",
    "new_list = [num**2 for num in lst]\n",
    "    \n",
    "print(new_list)"
   ]
  },
  {
   "cell_type": "code",
   "execution_count": 10,
   "id": "c8e5423c-112d-4c49-9d2d-33cdba0eb06a",
   "metadata": {},
   "outputs": [],
   "source": [
    "#37) Convert a list to a dictionary where list elements become keys and their indices become values."
   ]
  },
  {
   "cell_type": "code",
   "execution_count": 13,
   "id": "9f170b22-055e-4422-a016-3f788be1a9a4",
   "metadata": {},
   "outputs": [
    {
     "name": "stdout",
     "output_type": "stream",
     "text": [
      "Original list: [25, 14, 36, 74, 85, 96]\n",
      "Dictionary: {25: 0, 14: 1, 36: 2, 74: 3, 85: 4, 96: 5}\n"
     ]
    }
   ],
   "source": [
    "lst = [25,14,36,74,85,96]\n",
    "\n",
    "my_dict = {element : index for index, element in enumerate(lst)}\n",
    "\n",
    "print(\"Original list:\",lst)\n",
    "print(\"Dictionary:\",my_dict)"
   ]
  },
  {
   "cell_type": "code",
   "execution_count": 14,
   "id": "857ce4f4-2e9d-4d8f-8dac-01d569fed08d",
   "metadata": {},
   "outputs": [],
   "source": [
    "#38) Shuffle the elements of a list randomly."
   ]
  },
  {
   "cell_type": "code",
   "execution_count": 17,
   "id": "8fd8bf3d-9cbf-4d8a-af40-92cd00e3b394",
   "metadata": {},
   "outputs": [
    {
     "name": "stdout",
     "output_type": "stream",
     "text": [
      "Shiffled list is : [36, 85, 14, 25, 96, 74]\n"
     ]
    }
   ],
   "source": [
    "import random \n",
    "\n",
    "lst = [25,14,36,74,85,96]\n",
    "\n",
    "random.shuffle(lst)\n",
    "\n",
    "print(\"Shiffled list is :\",lst)"
   ]
  },
  {
   "cell_type": "code",
   "execution_count": 18,
   "id": "06875c76-dcec-48f2-8517-0c89aede5ac1",
   "metadata": {},
   "outputs": [],
   "source": [
    "#39) Create a list of the first 10 factorial numbers."
   ]
  },
  {
   "cell_type": "code",
   "execution_count": 19,
   "id": "d1c4beaa-7764-42f6-bb18-2d536731d5ec",
   "metadata": {},
   "outputs": [
    {
     "name": "stdout",
     "output_type": "stream",
     "text": [
      "List of the first 10 factorial numbers: [1, 1, 2, 6, 24, 120, 720, 5040, 40320, 362880]\n"
     ]
    }
   ],
   "source": [
    "# Function to calculate the factorial of a number\n",
    "def factorial(n):\n",
    "    if n == 0 or n == 1:\n",
    "        return 1\n",
    "    else:\n",
    "        return n * factorial(n - 1)\n",
    "\n",
    "# Create a list of the first 10 factorial numbers\n",
    "factorial_numbers = [factorial(i) for i in range(10)]\n",
    "\n",
    "print(\"List of the first 10 factorial numbers:\", factorial_numbers)\n"
   ]
  },
  {
   "cell_type": "code",
   "execution_count": 20,
   "id": "2f5b98db-e48e-4aa5-b139-e6adce73d3f7",
   "metadata": {},
   "outputs": [],
   "source": [
    "#40) Check if two lists have at least one element in common."
   ]
  },
  {
   "cell_type": "code",
   "execution_count": 22,
   "id": "fcc078b7-478a-476b-ba1d-c51e07672673",
   "metadata": {},
   "outputs": [
    {
     "name": "stdout",
     "output_type": "stream",
     "text": [
      "Do the lists have at least one element in common? True\n"
     ]
    }
   ],
   "source": [
    "list1 = [1, 2, 3, 4, 5]\n",
    "list2 = [5, 6, 7, 8, 9]\n",
    "\n",
    "common_elements_exist = bool(set(list1) & set(list2))\n",
    "\n",
    "print(\"Do the lists have at least one element in common?\", common_elements_exist)\n"
   ]
  },
  {
   "cell_type": "code",
   "execution_count": 23,
   "id": "1e71c52e-1581-4567-8c50-ca9f46658e7e",
   "metadata": {},
   "outputs": [],
   "source": [
    "#41) Remove all elements from a list."
   ]
  },
  {
   "cell_type": "code",
   "execution_count": 24,
   "id": "1d6cd532-1759-4de9-9f29-81325d7de893",
   "metadata": {},
   "outputs": [
    {
     "name": "stdout",
     "output_type": "stream",
     "text": [
      "Empty list is []\n"
     ]
    }
   ],
   "source": [
    "lst = [25,14,36,74,85,96]\n",
    "\n",
    "lst.clear()\n",
    "\n",
    "print(\"Empty list is\",lst)"
   ]
  },
  {
   "cell_type": "code",
   "execution_count": 1,
   "id": "9775a9b4-c6cb-410e-af54-9359aa86ea5f",
   "metadata": {},
   "outputs": [],
   "source": [
    "#42) Replace negative numbers in a list with 0"
   ]
  },
  {
   "cell_type": "code",
   "execution_count": 4,
   "id": "5a336243-2ac0-4dca-8fde-d86a388ad703",
   "metadata": {},
   "outputs": [
    {
     "name": "stdout",
     "output_type": "stream",
     "text": [
      "[1, 0, 3, 0, 0, 14, 25, 36, 0, 0]\n"
     ]
    }
   ],
   "source": [
    "lst = [1,-2,3,-7,-8,14,25,36,-6,-36]\n",
    "\n",
    "for i in range(len(lst)):\n",
    "    if lst[i]<0:\n",
    "        lst[i] = 0\n",
    "        \n",
    "print(lst)"
   ]
  },
  {
   "cell_type": "code",
   "execution_count": 5,
   "id": "d5618cbd-ecc1-415b-ae3e-7b7113c01c2a",
   "metadata": {},
   "outputs": [],
   "source": [
    "#43) Convert a string into a list of words"
   ]
  },
  {
   "cell_type": "code",
   "execution_count": 6,
   "id": "4eff6b36-8b8f-4591-a699-087273b69502",
   "metadata": {},
   "outputs": [
    {
     "name": "stdout",
     "output_type": "stream",
     "text": [
      "['hello', 'I', 'am', 'Rehaan']\n"
     ]
    }
   ],
   "source": [
    "str = \"hello I am Rehaan\"\n",
    "\n",
    "new_lst = [val for val in str.split(\" \")]\n",
    "\n",
    "print(new_lst)"
   ]
  },
  {
   "cell_type": "code",
   "execution_count": 7,
   "id": "9937b757-0569-48b8-b94e-c4ab71ad1778",
   "metadata": {},
   "outputs": [],
   "source": [
    "#44) Convert a list of words into a string."
   ]
  },
  {
   "cell_type": "code",
   "execution_count": 10,
   "id": "67bc3f5c-5358-4a9e-84f0-bd1875e97985",
   "metadata": {},
   "outputs": [
    {
     "name": "stdout",
     "output_type": "stream",
     "text": [
      "hello I am Rehaan\n"
     ]
    }
   ],
   "source": [
    "lst = ['hello', 'I', 'am', 'Rehaan']\n",
    "\n",
    "result = ' '.join(lst)\n",
    "\n",
    "print(result)"
   ]
  },
  {
   "cell_type": "code",
   "execution_count": 11,
   "id": "d952fd74-1bed-4d27-82fc-0260987d1702",
   "metadata": {},
   "outputs": [],
   "source": [
    "#45) Create a list of the first `n` powers of 2"
   ]
  },
  {
   "cell_type": "code",
   "execution_count": 13,
   "id": "e02ab739-d3ef-47ef-aa38-0f04fb385432",
   "metadata": {},
   "outputs": [
    {
     "name": "stdin",
     "output_type": "stream",
     "text": [
      "Enter value of n: 5\n"
     ]
    },
    {
     "name": "stdout",
     "output_type": "stream",
     "text": [
      "List of the first 5 powers of 2: [1, 2, 4, 8, 16]\n"
     ]
    }
   ],
   "source": [
    "n = int(input(\"Enter value of n:\"))\n",
    "\n",
    "powers = [2**i for i in range(n)]\n",
    "\n",
    "print(\"List of the first\", n, \"powers of 2:\", powers)"
   ]
  },
  {
   "cell_type": "code",
   "execution_count": 14,
   "id": "3b8f7453-6ee0-42db-97f9-70b0c5e47f88",
   "metadata": {},
   "outputs": [],
   "source": [
    "#46) Find the longest string in a list of strings."
   ]
  },
  {
   "cell_type": "code",
   "execution_count": 17,
   "id": "aa588dfb-8523-4c86-9342-1d09c461be11",
   "metadata": {},
   "outputs": [
    {
     "name": "stdout",
     "output_type": "stream",
     "text": [
      "the longest string from the list is elderberry\n"
     ]
    }
   ],
   "source": [
    "string_list = [\"apple\", \"banana\", \"cherry\", \"date\", \"elderberry\"]\n",
    "\n",
    "longest_string = max(string_list, key = len)\n",
    "\n",
    "print(\"the longest string from the list is\",longest_string)"
   ]
  },
  {
   "cell_type": "code",
   "execution_count": 18,
   "id": "6b9651a9-55fd-43f6-b023-69dc85ee85b1",
   "metadata": {},
   "outputs": [],
   "source": [
    "#47)  Find the shortest string in a list of strings."
   ]
  },
  {
   "cell_type": "code",
   "execution_count": 19,
   "id": "46200d18-a1ce-404a-ba07-f1365be9aa03",
   "metadata": {},
   "outputs": [
    {
     "name": "stdout",
     "output_type": "stream",
     "text": [
      "the shortest string from the list is date\n"
     ]
    }
   ],
   "source": [
    "string_list = [\"apple\", \"banana\", \"cherry\", \"date\", \"elderberry\"]\n",
    "\n",
    "shortest_string = min(string_list, key = len)\n",
    "\n",
    "print(\"the shortest string from the list is\",shortest_string)"
   ]
  },
  {
   "cell_type": "code",
   "execution_count": 20,
   "id": "26528271-6ee5-49c7-8c5b-768c945e707d",
   "metadata": {},
   "outputs": [],
   "source": [
    "#48)  Create a list of the first `n` triangular numbers."
   ]
  },
  {
   "cell_type": "code",
   "execution_count": 22,
   "id": "0272a40a-813f-4540-ae8f-f8a3054ac3a5",
   "metadata": {},
   "outputs": [
    {
     "name": "stdin",
     "output_type": "stream",
     "text": [
      "Enter the value of n: 5\n"
     ]
    },
    {
     "name": "stdout",
     "output_type": "stream",
     "text": [
      "the first 5 triangular numbers are [1, 3, 6, 10, 15]\n"
     ]
    }
   ],
   "source": [
    "n= int(input(\"Enter the value of n:\"))\n",
    "\n",
    "triangular_numbers = [(i*(i+1))//2 for i in range(1,n+1)]\n",
    "\n",
    "print(\"the first\",n,\"triangular numbers are\", triangular_numbers)"
   ]
  },
  {
   "cell_type": "code",
   "execution_count": 23,
   "id": "ccf03b48-566b-454c-9c5b-b556f4fc676f",
   "metadata": {},
   "outputs": [],
   "source": [
    "#49) Check if a list contains another list as a subsequence."
   ]
  },
  {
   "cell_type": "code",
   "execution_count": 24,
   "id": "a54dd2fc-9d4a-4a78-baa6-104cdf422383",
   "metadata": {},
   "outputs": [
    {
     "name": "stdout",
     "output_type": "stream",
     "text": [
      "Is list2 a subsequence of list1? True\n"
     ]
    }
   ],
   "source": [
    "list1 = [1, 2, 3, 4, 5, 6]\n",
    "list2 = [2, 4, 6]\n",
    "\n",
    "is_subsequence = all(element in list1 for element in list2)\n",
    "print(\"Is list2 a subsequence of list1?\", is_subsequence)\n"
   ]
  },
  {
   "cell_type": "code",
   "execution_count": 25,
   "id": "1d88ad1f-27c1-40ee-9f50-cf26ff510a4c",
   "metadata": {},
   "outputs": [],
   "source": [
    "#50) Swap two elements in a list by their indices."
   ]
  },
  {
   "cell_type": "code",
   "execution_count": 26,
   "id": "b41901d9-356d-4bfb-a10b-10684439ef72",
   "metadata": {},
   "outputs": [
    {
     "name": "stdout",
     "output_type": "stream",
     "text": [
      "List after swapping elements at indices 1 and 3 : [10, 40, 30, 20, 50]\n"
     ]
    }
   ],
   "source": [
    "my_list = [10, 20, 30, 40, 50]\n",
    "\n",
    "index1, index2 = 1, 3\n",
    "\n",
    "my_list[index1], my_list[index2] = my_list[index2], my_list[index1]\n",
    "\n",
    "print(\"List after swapping elements at indices\", index1, \"and\", index2, \":\", my_list)\n"
   ]
  },
  {
   "cell_type": "code",
   "execution_count": null,
   "id": "f8467a66-6a5e-4fd3-8ced-f82c35cb748e",
   "metadata": {},
   "outputs": [],
   "source": [
    "#TUPLE BASED PRACICE PROBLEM "
   ]
  },
  {
   "cell_type": "code",
   "execution_count": 1,
   "id": "207b9483-9626-4266-a7b3-2346999f72c8",
   "metadata": {},
   "outputs": [],
   "source": [
    "#1) Create a tuple with integers from 1 to 5"
   ]
  },
  {
   "cell_type": "code",
   "execution_count": 5,
   "id": "88be49cf-665b-4bb7-ab95-c4358362d3af",
   "metadata": {},
   "outputs": [
    {
     "name": "stdout",
     "output_type": "stream",
     "text": [
      "(1, 2, 3, 4, 5)\n"
     ]
    }
   ],
   "source": [
    "tup = (1,2,3,4,5)\n",
    "\n",
    "print(tup)"
   ]
  },
  {
   "cell_type": "code",
   "execution_count": 6,
   "id": "27ff97c4-1002-4545-9f8b-2f93153469c3",
   "metadata": {},
   "outputs": [],
   "source": [
    "#2) Access the third element of a tuple"
   ]
  },
  {
   "cell_type": "code",
   "execution_count": 7,
   "id": "c350a22c-880f-422e-901f-351cdbf9838d",
   "metadata": {},
   "outputs": [
    {
     "name": "stdout",
     "output_type": "stream",
     "text": [
      "3\n"
     ]
    }
   ],
   "source": [
    "tup = (1,2,3,4,5)\n",
    "\n",
    "print(tup[2])"
   ]
  },
  {
   "cell_type": "code",
   "execution_count": 8,
   "id": "2ef5c1fc-3538-4982-881e-efdb5e5eca0d",
   "metadata": {},
   "outputs": [],
   "source": [
    "#3) Find the length of a tuple without using the `len()` function."
   ]
  },
  {
   "cell_type": "code",
   "execution_count": 12,
   "id": "3b801427-c586-4361-a06a-a2c5440c057d",
   "metadata": {},
   "outputs": [
    {
     "name": "stdout",
     "output_type": "stream",
     "text": [
      "5\n"
     ]
    }
   ],
   "source": [
    "tup = (1,2,3,4,5)\n",
    "\n",
    "count = 0\n",
    "for i in tup:\n",
    "    count += 1\n",
    "\n",
    "#2nd method \n",
    "#length = sum(1 for i in tup)\n",
    "#print(length) \n",
    "    \n",
    "print(count)"
   ]
  },
  {
   "cell_type": "code",
   "execution_count": 13,
   "id": "69bbd291-175f-499d-8004-04e9734bc876",
   "metadata": {},
   "outputs": [],
   "source": [
    "#4) Count the occurrences of an element in a tuple."
   ]
  },
  {
   "cell_type": "code",
   "execution_count": 18,
   "id": "cf281a0e-3dcb-4e39-b63d-e1fcdc69ff28",
   "metadata": {},
   "outputs": [
    {
     "name": "stdin",
     "output_type": "stream",
     "text": [
      "Enter whose Occurence find: 5\n"
     ]
    },
    {
     "name": "stdout",
     "output_type": "stream",
     "text": [
      "The occurence of 5 is 4 times.\n"
     ]
    }
   ],
   "source": [
    "tup = (1,2,3,4,5,5,4,7,8,9,6,3,5,0,5)\n",
    "\n",
    "n = int(input(\"Enter whose Occurence find:\"))\n",
    "\n",
    "count_of_n = tup.count(n)\n",
    "\n",
    "print(\"The occurence of\",n,\"is\",count_of_n,\"times.\")\n"
   ]
  },
  {
   "cell_type": "code",
   "execution_count": 19,
   "id": "58598e34-11ac-4548-9456-ac92da2a790d",
   "metadata": {},
   "outputs": [],
   "source": [
    "#5) Find the index of the first occurrence of an element in a tuple"
   ]
  },
  {
   "cell_type": "code",
   "execution_count": 1,
   "id": "f72d8dc1-a210-4f61-b580-e23f4a420bb3",
   "metadata": {},
   "outputs": [
    {
     "name": "stdin",
     "output_type": "stream",
     "text": [
      "Enter the element: 5\n"
     ]
    },
    {
     "name": "stdout",
     "output_type": "stream",
     "text": [
      "The first index of 5 is : 4\n"
     ]
    }
   ],
   "source": [
    "tup = (1,2,3,4,5,5,4,7,8,9,6,3,5,0,5)\n",
    "\n",
    "n = int(input(\"Enter the element:\"))\n",
    "\n",
    "index_of_n = tup.index(n)\n",
    "\n",
    "print(f\"The first index of {n} is : {index_of_n}\")"
   ]
  },
  {
   "cell_type": "code",
   "execution_count": 2,
   "id": "3d6924d9-4e55-4656-bb85-fc929c51c947",
   "metadata": {},
   "outputs": [],
   "source": [
    "#6) Check if an element exists in a tuple"
   ]
  },
  {
   "cell_type": "code",
   "execution_count": 3,
   "id": "7f51be04-fb55-4226-a38f-50a7aba8c663",
   "metadata": {},
   "outputs": [
    {
     "name": "stdin",
     "output_type": "stream",
     "text": [
      "Enter the element: 30\n"
     ]
    },
    {
     "name": "stdout",
     "output_type": "stream",
     "text": [
      "True\n"
     ]
    }
   ],
   "source": [
    "my_tuple = (10, 20, 30, 40, 50)\n",
    "n = int(input(\"Enter the element:\"))\n",
    "print(n in my_tuple)"
   ]
  },
  {
   "cell_type": "code",
   "execution_count": 5,
   "id": "78f3d047-f7f9-4c7d-9daf-3502a457cbf2",
   "metadata": {},
   "outputs": [],
   "source": [
    "#7) Convert a tuple to a list"
   ]
  },
  {
   "cell_type": "code",
   "execution_count": 9,
   "id": "64bb0342-2d89-4158-b385-34f49008e031",
   "metadata": {},
   "outputs": [
    {
     "name": "stdout",
     "output_type": "stream",
     "text": [
      "[10, 20, 30, 40, 50]\n"
     ]
    }
   ],
   "source": [
    "my_tuple = (10, 20, 30, 40, 50)\n",
    "\n",
    "my_list = list(my_tuple)\n",
    "\n",
    "print(my_list)"
   ]
  },
  {
   "cell_type": "code",
   "execution_count": 8,
   "id": "bd93761b-a1a6-4a42-afd9-80d1afc57c49",
   "metadata": {},
   "outputs": [],
   "source": [
    "#8) Convert a list to a tuple."
   ]
  },
  {
   "cell_type": "code",
   "execution_count": 10,
   "id": "1c880dc9-31f7-4292-adad-d82564ba59e4",
   "metadata": {},
   "outputs": [
    {
     "name": "stdout",
     "output_type": "stream",
     "text": [
      "(10, 20, 30, 40, 50)\n"
     ]
    }
   ],
   "source": [
    "my_list = [10, 20, 30, 40, 50]\n",
    "\n",
    "my_tuple = tuple(my_list)\n",
    "\n",
    "print(my_tuple)"
   ]
  },
  {
   "cell_type": "code",
   "execution_count": 11,
   "id": "d553221e-c1e2-49fd-b07d-ace34eb363a1",
   "metadata": {},
   "outputs": [],
   "source": [
    "#9) Unpack the elements of a tuple into variables."
   ]
  },
  {
   "cell_type": "code",
   "execution_count": 14,
   "id": "068eb48d-8cf5-4742-94ba-6449f871e73f",
   "metadata": {},
   "outputs": [
    {
     "name": "stdout",
     "output_type": "stream",
     "text": [
      "15 12 14\n"
     ]
    }
   ],
   "source": [
    "my_tuple = (15,12,14)\n",
    "\n",
    "a,b,c = my_tuple\n",
    "\n",
    "print(a,b,c)"
   ]
  },
  {
   "cell_type": "code",
   "execution_count": 15,
   "id": "7cc299cd-6fa2-4ce1-86c6-bfcab3f46ae3",
   "metadata": {},
   "outputs": [],
   "source": [
    "#10) Create a tuple of even numbers from 1 to 10"
   ]
  },
  {
   "cell_type": "code",
   "execution_count": 16,
   "id": "258b0d0b-dd4f-4e00-8f3a-b9710556171a",
   "metadata": {},
   "outputs": [
    {
     "name": "stdout",
     "output_type": "stream",
     "text": [
      "(2, 4, 6, 8, 10)\n"
     ]
    }
   ],
   "source": [
    "even_numbers_tuple = tuple(i for i in range(1, 11) if i % 2 == 0)\n",
    "print(even_numbers_tuple)"
   ]
  },
  {
   "cell_type": "code",
   "execution_count": 18,
   "id": "23558b54-686d-49a9-b7cf-77a325ba6984",
   "metadata": {},
   "outputs": [],
   "source": [
    "#11) Create a tuple of odd numbers from 1 to 10."
   ]
  },
  {
   "cell_type": "code",
   "execution_count": 20,
   "id": "926d856a-e3c4-4644-bbfc-f6b7b1f293c9",
   "metadata": {},
   "outputs": [
    {
     "name": "stdout",
     "output_type": "stream",
     "text": [
      "(1, 3, 5, 7, 9)\n"
     ]
    }
   ],
   "source": [
    "odd_numbers_tuple = tuple(i for i in range(1,11) if i % 2 != 0)\n",
    "print(odd_numbers_tuple)"
   ]
  },
  {
   "cell_type": "code",
   "execution_count": 21,
   "id": "b276c72e-3570-42a3-bb5b-24f010008559",
   "metadata": {},
   "outputs": [],
   "source": [
    "#12) Concatenate two tuples."
   ]
  },
  {
   "cell_type": "code",
   "execution_count": 22,
   "id": "16c688be-3082-4c60-99db-fff0bd4bd528",
   "metadata": {},
   "outputs": [
    {
     "name": "stdout",
     "output_type": "stream",
     "text": [
      "(15, 25, 14, 74, 96, 336, 36, 14, 74, 69, 65)\n"
     ]
    }
   ],
   "source": [
    "tuple_1 = (15,25,14,74,96,336)\n",
    "tuple_2 = (36,14,74,69,65)\n",
    "\n",
    "concat_tuple = tuple_1 + tuple_2\n",
    "\n",
    "print(concat_tuple)"
   ]
  },
  {
   "cell_type": "code",
   "execution_count": 23,
   "id": "492810e2-b797-456e-9ae0-6ccb3abe55be",
   "metadata": {},
   "outputs": [],
   "source": [
    "#13) Repeat a tuple three times"
   ]
  },
  {
   "cell_type": "code",
   "execution_count": 24,
   "id": "9a7b402d-6561-4bba-8512-7d3d7ca9a0b1",
   "metadata": {},
   "outputs": [
    {
     "name": "stdout",
     "output_type": "stream",
     "text": [
      "(1, 2, 3, 4, 5, 1, 2, 3, 4, 5, 1, 2, 3, 4, 5)\n"
     ]
    }
   ],
   "source": [
    "my_tuple = (1,2,3,4,5)\n",
    "\n",
    "repeated_tuple = my_tuple*3\n",
    "\n",
    "print(repeated_tuple)"
   ]
  },
  {
   "cell_type": "code",
   "execution_count": 25,
   "id": "efd74d61-ab6d-4c96-b7a7-847ae84fd30a",
   "metadata": {},
   "outputs": [],
   "source": [
    "#14) Check if a tuple is empty"
   ]
  },
  {
   "cell_type": "code",
   "execution_count": 28,
   "id": "1867df4e-04a0-4ac0-9c2c-e699dc15d4e9",
   "metadata": {},
   "outputs": [
    {
     "name": "stdout",
     "output_type": "stream",
     "text": [
      "Tuple is Empty.\n"
     ]
    }
   ],
   "source": [
    "my_tuple = ()\n",
    "if not my_tuple:\n",
    "    print(\"Tuple is Empty.\")\n",
    "else:\n",
    "    print(\"Tuple is not empty.\")"
   ]
  },
  {
   "cell_type": "code",
   "execution_count": 29,
   "id": "794ab481-d779-47dc-9690-18d50a3db142",
   "metadata": {},
   "outputs": [],
   "source": [
    "#15) Create a nested tuple."
   ]
  },
  {
   "cell_type": "code",
   "execution_count": 30,
   "id": "adc2bdac-9874-4e63-ac5f-dbe0b6f699a4",
   "metadata": {},
   "outputs": [
    {
     "name": "stdout",
     "output_type": "stream",
     "text": [
      "((1, 2), (3, 4), (5, 6))\n"
     ]
    }
   ],
   "source": [
    "nested_tuple = ((1, 2), (3, 4), (5, 6))\n",
    "print(nested_tuple)"
   ]
  },
  {
   "cell_type": "code",
   "execution_count": 31,
   "id": "5d8971d5-d764-4afb-a73b-90983646bcdb",
   "metadata": {},
   "outputs": [],
   "source": [
    "#16) Access the first element of a nested tuple"
   ]
  },
  {
   "cell_type": "code",
   "execution_count": 32,
   "id": "c36ea202-416c-45f2-9c3c-7e8c0cfabc92",
   "metadata": {},
   "outputs": [
    {
     "name": "stdout",
     "output_type": "stream",
     "text": [
      "(1, 2)\n"
     ]
    }
   ],
   "source": [
    "nested_tuple = ((1, 2), (3, 4), (5, 6))\n",
    "print(nested_tuple[0])"
   ]
  },
  {
   "cell_type": "code",
   "execution_count": 33,
   "id": "4132662c-6efd-4db2-8b23-e136988d0a2c",
   "metadata": {},
   "outputs": [],
   "source": [
    "#17) Create a tuple with a single element."
   ]
  },
  {
   "cell_type": "code",
   "execution_count": 34,
   "id": "905febda-93e2-43d8-ab8e-0401f471e973",
   "metadata": {},
   "outputs": [
    {
     "name": "stdout",
     "output_type": "stream",
     "text": [
      "25\n"
     ]
    }
   ],
   "source": [
    "my_tuple = (25)\n",
    "\n",
    "print(my_tuple)"
   ]
  },
  {
   "cell_type": "code",
   "execution_count": 35,
   "id": "49d39da6-034f-4a17-af66-b4c79d8f0e20",
   "metadata": {},
   "outputs": [],
   "source": [
    "#18) Compare two tuples."
   ]
  },
  {
   "cell_type": "code",
   "execution_count": 36,
   "id": "24b7216e-9d4b-49b5-b364-4344402b2460",
   "metadata": {},
   "outputs": [
    {
     "name": "stdout",
     "output_type": "stream",
     "text": [
      "Tuples are equal\n"
     ]
    }
   ],
   "source": [
    "tuple1 = (1, 2, 3)\n",
    "tuple2 = (1, 2, 3)\n",
    "if tuple1 == tuple2:\n",
    "    print(\"Tuples are equal\")\n",
    "else:\n",
    "    print(\"Tuples are not Equal\")"
   ]
  },
  {
   "cell_type": "code",
   "execution_count": 37,
   "id": "1f584908-973f-4ce6-b2f7-2de86dc34afc",
   "metadata": {},
   "outputs": [],
   "source": [
    "#19) Delete a tuple."
   ]
  },
  {
   "cell_type": "code",
   "execution_count": 38,
   "id": "0146d9aa-28e9-4f4c-abd0-6fa4bdca52b8",
   "metadata": {},
   "outputs": [
    {
     "ename": "NameError",
     "evalue": "name 'tuple1' is not defined",
     "output_type": "error",
     "traceback": [
      "\u001b[0;31m---------------------------------------------------------------------------\u001b[0m",
      "\u001b[0;31mNameError\u001b[0m                                 Traceback (most recent call last)",
      "Cell \u001b[0;32mIn[38], line 5\u001b[0m\n\u001b[1;32m      1\u001b[0m tuple1 \u001b[38;5;241m=\u001b[39m (\u001b[38;5;241m1\u001b[39m, \u001b[38;5;241m2\u001b[39m, \u001b[38;5;241m3\u001b[39m)\n\u001b[1;32m      3\u001b[0m \u001b[38;5;28;01mdel\u001b[39;00m tuple1\n\u001b[0;32m----> 5\u001b[0m \u001b[38;5;28mprint\u001b[39m(\u001b[43mtuple1\u001b[49m)\n",
      "\u001b[0;31mNameError\u001b[0m: name 'tuple1' is not defined"
     ]
    }
   ],
   "source": [
    "tuple1 = (1, 2, 3)\n",
    "\n",
    "del tuple1\n",
    "\n",
    "print(tuple1)"
   ]
  },
  {
   "cell_type": "code",
   "execution_count": 39,
   "id": "1e3b92a5-3f80-4c47-a36c-3844bd1a36e5",
   "metadata": {},
   "outputs": [],
   "source": [
    "#20) Slice a tuple"
   ]
  },
  {
   "cell_type": "code",
   "execution_count": 40,
   "id": "f1b2b023-75a9-4924-b1bc-bcf065fcab8b",
   "metadata": {},
   "outputs": [
    {
     "name": "stdout",
     "output_type": "stream",
     "text": [
      "(20, 30, 40)\n"
     ]
    }
   ],
   "source": [
    "my_tuple = (10, 20, 30, 40, 50)\n",
    "\n",
    "sliced = my_tuple[1:4]\n",
    "\n",
    "print(sliced)"
   ]
  },
  {
   "cell_type": "code",
   "execution_count": 41,
   "id": "0fa8ae41-bb34-46ff-a974-2eca5d1ca546",
   "metadata": {},
   "outputs": [],
   "source": [
    "#21) Find the maximum value in a tuple"
   ]
  },
  {
   "cell_type": "code",
   "execution_count": 42,
   "id": "a596e456-a475-46af-a775-214fb81b0ecd",
   "metadata": {},
   "outputs": [
    {
     "name": "stdout",
     "output_type": "stream",
     "text": [
      "90\n"
     ]
    }
   ],
   "source": [
    "my_tuple = (10,20,40,50,60,90,47,85,36)\n",
    "\n",
    "find_max = max(my_tuple)\n",
    "\n",
    "print(find_max)"
   ]
  },
  {
   "cell_type": "code",
   "execution_count": 43,
   "id": "dcc8a61a-ffbb-4aea-ad73-46d8ae5c0005",
   "metadata": {},
   "outputs": [],
   "source": [
    "#22) Find the minimum value in a tuple."
   ]
  },
  {
   "cell_type": "code",
   "execution_count": 44,
   "id": "c796468c-d32c-49b8-ac00-25e632e78c9c",
   "metadata": {},
   "outputs": [
    {
     "name": "stdout",
     "output_type": "stream",
     "text": [
      "10\n"
     ]
    }
   ],
   "source": [
    "my_tuple = (10,20,40,50,60,90,47,85,36)\n",
    "\n",
    "find_min = min(my_tuple)\n",
    "\n",
    "print(find_min)"
   ]
  },
  {
   "cell_type": "code",
   "execution_count": 54,
   "id": "7052b9a0-76ac-4fab-b45c-bd0bb5a22caf",
   "metadata": {},
   "outputs": [],
   "source": [
    "#23) Convert a string to a tuple of characters."
   ]
  },
  {
   "cell_type": "code",
   "execution_count": 53,
   "id": "2d98939d-d4bb-4f14-8a6e-d12681552258",
   "metadata": {},
   "outputs": [
    {
     "name": "stdout",
     "output_type": "stream",
     "text": [
      "('D', 'a', 't', 'a', ' ', 'S', 'c', 'i', 'e', 'n', 'c', 'e')\n"
     ]
    }
   ],
   "source": [
    "string = \"Data Science\"\n",
    "\n",
    "my_tuple = tuple(string)\n",
    "\n",
    "print(my_tuple)"
   ]
  },
  {
   "cell_type": "code",
   "execution_count": 55,
   "id": "baf20906-768d-4bd0-b441-01acf863cc14",
   "metadata": {},
   "outputs": [],
   "source": [
    "#24) Convert a tuple of characters to a string. "
   ]
  },
  {
   "cell_type": "code",
   "execution_count": 57,
   "id": "d833e8a0-91f8-4963-aec3-991edb9ee141",
   "metadata": {},
   "outputs": [
    {
     "name": "stdout",
     "output_type": "stream",
     "text": [
      "Data Science\n"
     ]
    }
   ],
   "source": [
    "my_tuple = ('D', 'a', 't', 'a', ' ', 'S', 'c', 'i', 'e', 'n', 'c', 'e')\n",
    "\n",
    "string = ''.join(my_tuple)\n",
    "\n",
    "print(string)"
   ]
  },
  {
   "cell_type": "code",
   "execution_count": 58,
   "id": "9cd6fe3e-eae9-453e-aec1-cf66f53c96a8",
   "metadata": {},
   "outputs": [],
   "source": [
    "#25) Create a tuple from multiple data types."
   ]
  },
  {
   "cell_type": "code",
   "execution_count": 59,
   "id": "9d51a207-3103-4cda-955e-c3a2abab7705",
   "metadata": {},
   "outputs": [
    {
     "name": "stdout",
     "output_type": "stream",
     "text": [
      "('Data', 12, 3.45, True, (23+4j))\n"
     ]
    }
   ],
   "source": [
    "my_tuple = (\"Data\",12,3.45,True,23+4j)\n",
    "\n",
    "print(my_tuple)"
   ]
  },
  {
   "cell_type": "code",
   "execution_count": 60,
   "id": "3042e89d-f7ed-4444-9529-405706b7c789",
   "metadata": {},
   "outputs": [],
   "source": [
    "#26) Check if two tuples are identical."
   ]
  },
  {
   "cell_type": "code",
   "execution_count": 61,
   "id": "dabd6dff-98ea-4c8b-bc57-b36394ba0bf6",
   "metadata": {},
   "outputs": [
    {
     "name": "stdout",
     "output_type": "stream",
     "text": [
      "Tuples are identical\n"
     ]
    }
   ],
   "source": [
    "tuple1 = (1, 2, 3)\n",
    "tuple2 = (1, 2, 3)\n",
    "if tuple1 == tuple2:\n",
    "    print(\"Tuples are identical\")\n",
    "else:\n",
    "    print(\"Tuples are not identical\")"
   ]
  },
  {
   "cell_type": "code",
   "execution_count": 62,
   "id": "eb351b85-7503-46b7-b73a-fd416eebb30c",
   "metadata": {},
   "outputs": [],
   "source": [
    "#27) Sort the elements of a tuple."
   ]
  },
  {
   "cell_type": "code",
   "execution_count": 63,
   "id": "731daec1-d3c8-440e-b0af-34325c1f3727",
   "metadata": {},
   "outputs": [
    {
     "name": "stdout",
     "output_type": "stream",
     "text": [
      "(1, 2, 3, 4, 5)\n"
     ]
    }
   ],
   "source": [
    "my_tuple = (3, 2, 1, 5, 4)\n",
    "sorted_tuple = tuple(sorted(my_tuple))\n",
    "print(sorted_tuple)"
   ]
  },
  {
   "cell_type": "code",
   "execution_count": 64,
   "id": "f13e3cd2-e228-4cc4-b741-27f174a20c0a",
   "metadata": {},
   "outputs": [],
   "source": [
    "#28) Convert a tuple of integers to a tuple of strings"
   ]
  },
  {
   "cell_type": "code",
   "execution_count": 71,
   "id": "48dc94a6-9387-48f8-b353-9c0274480b3c",
   "metadata": {},
   "outputs": [
    {
     "name": "stdout",
     "output_type": "stream",
     "text": [
      "('25', '14', '36', '96', '74')\n"
     ]
    }
   ],
   "source": [
    "my_tuple = (25,14,36,96,74)\n",
    "\n",
    "string_tuple = tuple(str(i) for i in my_tuple)\n",
    "\n",
    "print(string_tuple)"
   ]
  },
  {
   "cell_type": "code",
   "execution_count": 68,
   "id": "db25340e-1a10-4295-9b2a-9e492812a941",
   "metadata": {},
   "outputs": [],
   "source": [
    "#29) Convert a tuple of strings to a tuple of integers"
   ]
  },
  {
   "cell_type": "code",
   "execution_count": 70,
   "id": "192b910b-0a31-41f5-ac8e-c2146b82603d",
   "metadata": {},
   "outputs": [
    {
     "name": "stdout",
     "output_type": "stream",
     "text": [
      "(25, 14, 36, 96, 74)\n"
     ]
    }
   ],
   "source": [
    "my_tuple = ('25', '14', '36', '96', '74')\n",
    "\n",
    "int_tuple = tuple(int(i) for i in my_tuple)\n",
    "\n",
    "print(int_tuple)"
   ]
  },
  {
   "cell_type": "code",
   "execution_count": 72,
   "id": "04afa5c6-1339-43ad-b617-10c5443a997f",
   "metadata": {},
   "outputs": [],
   "source": [
    "#30) Merge two tuples"
   ]
  },
  {
   "cell_type": "code",
   "execution_count": 73,
   "id": "66e33171-6855-43cd-813a-09e39e209214",
   "metadata": {},
   "outputs": [
    {
     "name": "stdout",
     "output_type": "stream",
     "text": [
      "(1, 2, 3, 4, 5, 6)\n"
     ]
    }
   ],
   "source": [
    "tuple1 = (1, 2, 3)\n",
    "tuple2 = (4, 5, 6)\n",
    "merged_tuple = tuple1 + tuple2\n",
    "print(merged_tuple)"
   ]
  },
  {
   "cell_type": "code",
   "execution_count": 74,
   "id": "71fa65fe-ccd8-4220-afd7-a1e45f446535",
   "metadata": {},
   "outputs": [],
   "source": [
    "#31) Flatten a nested tuple."
   ]
  },
  {
   "cell_type": "code",
   "execution_count": 76,
   "id": "2a9ec72f-60f3-4b5c-94cb-af05cf073cd1",
   "metadata": {},
   "outputs": [
    {
     "name": "stdout",
     "output_type": "stream",
     "text": [
      "(1, 2, 3, 4, 5, 6)\n"
     ]
    }
   ],
   "source": [
    "nested_tuple = ((1, 2), (3, 4), (5, 6))\n",
    "flattened_tuple = tuple(i for sublist in nested_tuple for i in sublist)\n",
    "print(flattened_tuple)"
   ]
  },
  {
   "cell_type": "code",
   "execution_count": 77,
   "id": "40d3324f-c859-4a6b-8ed7-983180cb190d",
   "metadata": {},
   "outputs": [],
   "source": [
    "#32)  Create a tuple of the first 5 prime numbers."
   ]
  },
  {
   "cell_type": "code",
   "execution_count": 79,
   "id": "793d2e12-fc0c-45db-b3ba-d69ab6f8f378",
   "metadata": {},
   "outputs": [
    {
     "name": "stdout",
     "output_type": "stream",
     "text": [
      "Tuple of the first 5 prime numbers: (2, 3, 5, 7, 11)\n"
     ]
    }
   ],
   "source": [
    "prime_numbers = []\n",
    "count = 0\n",
    "num = 2\n",
    "\n",
    "while count < 5:\n",
    "    is_prime = True\n",
    "    for i in range(2, int(num**0.5) + 1):\n",
    "        if num % i == 0:\n",
    "            is_prime = False\n",
    "            break\n",
    "    if is_prime:\n",
    "        prime_numbers.append(num)\n",
    "        count += 1\n",
    "    num += 1\n",
    "    \n",
    "print(\"Tuple of the first 5 prime numbers:\", tuple(prime_numbers))\n"
   ]
  },
  {
   "cell_type": "code",
   "execution_count": 86,
   "id": "662f0fdd-75ec-478f-b49d-811887ed9817",
   "metadata": {},
   "outputs": [],
   "source": [
    "#33) Check if a tuple is a palindrome"
   ]
  },
  {
   "cell_type": "code",
   "execution_count": 84,
   "id": "d35bd91c-57aa-4e52-9804-4fe529997a17",
   "metadata": {},
   "outputs": [
    {
     "name": "stdout",
     "output_type": "stream",
     "text": [
      "Tuple is Palindrome.\n"
     ]
    }
   ],
   "source": [
    "my_tuple = (1,2,3,3,2,1)\n",
    "\n",
    "if my_tuple == my_tuple[::-1]:\n",
    "    print(\"Tuple is Palindrome.\")\n",
    "else:\n",
    "    print(\"Tuple is not Palindrome.\")"
   ]
  },
  {
   "cell_type": "code",
   "execution_count": 85,
   "id": "cccc58f1-4c85-401c-b341-59266408732f",
   "metadata": {},
   "outputs": [],
   "source": [
    "#34) Create a tuple of squares of numbers from 1 to 5."
   ]
  },
  {
   "cell_type": "code",
   "execution_count": 88,
   "id": "a7b7e19d-9250-4452-b69d-3796d5d4f03b",
   "metadata": {},
   "outputs": [
    {
     "name": "stdout",
     "output_type": "stream",
     "text": [
      "(1, 4, 9, 16, 25)\n"
     ]
    }
   ],
   "source": [
    "my_tuple = tuple(i**2 for i in range(1,6))\n",
    "\n",
    "print(my_tuple)"
   ]
  },
  {
   "cell_type": "code",
   "execution_count": 89,
   "id": "479723a3-f319-4228-bf27-31098c32c1ff",
   "metadata": {},
   "outputs": [],
   "source": [
    "#35)  Filter out all even numbers from a tuple."
   ]
  },
  {
   "cell_type": "code",
   "execution_count": 91,
   "id": "7eddc9ce-d214-40cf-b1c8-21476bec820f",
   "metadata": {},
   "outputs": [
    {
     "name": "stdout",
     "output_type": "stream",
     "text": [
      "(2, 4)\n"
     ]
    }
   ],
   "source": [
    "my_tuple = (1, 2, 3, 4, 5)\n",
    "filtered_tuple = tuple(filter(lambda x: x % 2 == 0, my_tuple))\n",
    "print(filtered_tuple)"
   ]
  },
  {
   "cell_type": "code",
   "execution_count": 92,
   "id": "244615a9-d98a-4e84-afa8-b11a3636b7c9",
   "metadata": {},
   "outputs": [],
   "source": [
    "#36) Multiply all elements in a tuple by 2"
   ]
  },
  {
   "cell_type": "code",
   "execution_count": 94,
   "id": "863e085d-9b3d-4c18-88be-7542c48b3b79",
   "metadata": {},
   "outputs": [
    {
     "name": "stdout",
     "output_type": "stream",
     "text": [
      "(50, 28, 72, 148)\n"
     ]
    }
   ],
   "source": [
    "my_tuple = (25,14,36,74)\n",
    "\n",
    "new_tuple = tuple(i*2 for i in my_tuple)\n",
    "\n",
    "print(new_tuple)"
   ]
  },
  {
   "cell_type": "code",
   "execution_count": 95,
   "id": "be6cc691-2c86-41d0-8a60-c9fe5fbe7cda",
   "metadata": {},
   "outputs": [],
   "source": [
    "#37) Create a tuple of random numbers"
   ]
  },
  {
   "cell_type": "code",
   "execution_count": 97,
   "id": "a4e077b5-fbc0-4c18-9b1a-b4d5ef995614",
   "metadata": {},
   "outputs": [
    {
     "name": "stdout",
     "output_type": "stream",
     "text": [
      "(85, 99, 79, 10, 12)\n"
     ]
    }
   ],
   "source": [
    "import random \n",
    "\n",
    "find_tuple = tuple(random.sample(range(1,100),5))\n",
    "\n",
    "print(find_tuple)"
   ]
  },
  {
   "cell_type": "code",
   "execution_count": 98,
   "id": "2d3a4196-37d6-42c4-b645-6f5c307661bd",
   "metadata": {},
   "outputs": [],
   "source": [
    "#38) Check if a tuple is sorted"
   ]
  },
  {
   "cell_type": "code",
   "execution_count": 99,
   "id": "9fc2eafc-ce87-4c36-97d1-924ad635d39e",
   "metadata": {},
   "outputs": [
    {
     "name": "stdout",
     "output_type": "stream",
     "text": [
      "True\n"
     ]
    }
   ],
   "source": [
    "def is_sorted(t):\n",
    "    return all(t[i] <= t[i + 1] for i in range(len(t) - 1))\n",
    "\n",
    "\n",
    "my_tuple = (1, 2, 3, 4, 5)\n",
    "print(is_sorted(my_tuple))"
   ]
  },
  {
   "cell_type": "code",
   "execution_count": 101,
   "id": "8a79cc9a-b028-4c06-be9b-8cdb1e070afa",
   "metadata": {},
   "outputs": [],
   "source": [
    "#39) Rotate a tuple to the left by `n` positions."
   ]
  },
  {
   "cell_type": "code",
   "execution_count": 103,
   "id": "ef8c56ed-be79-4497-88a8-74459b5a664f",
   "metadata": {},
   "outputs": [
    {
     "name": "stdout",
     "output_type": "stream",
     "text": [
      "(3, 4, 5, 1, 2)\n"
     ]
    }
   ],
   "source": [
    "def rotate_left(t, n):\n",
    "    return t[n:] + t[:n]\n",
    "\n",
    "#main program\n",
    "my_tuple = (1, 2, 3, 4, 5)\n",
    "print(rotate_left(my_tuple, 2))"
   ]
  },
  {
   "cell_type": "code",
   "execution_count": 104,
   "id": "30778594-241a-41c3-b22d-c8a9c54d04d2",
   "metadata": {},
   "outputs": [],
   "source": [
    "#40) Rotate a tuple to the right by `n` positions"
   ]
  },
  {
   "cell_type": "code",
   "execution_count": 105,
   "id": "cf685472-a444-4ccc-a78a-9c15563bd19a",
   "metadata": {},
   "outputs": [
    {
     "name": "stdout",
     "output_type": "stream",
     "text": [
      "(4, 5, 1, 2, 3)\n"
     ]
    }
   ],
   "source": [
    "def rotate_right(t, n):\n",
    "    return t[-n:] + t[:-n]\n",
    "\n",
    "# Example usage\n",
    "my_tuple = (1, 2, 3, 4, 5)\n",
    "print(rotate_right(my_tuple, 2))"
   ]
  },
  {
   "cell_type": "code",
   "execution_count": 106,
   "id": "7a8c9650-4e83-4448-aff5-d6bb0eee4923",
   "metadata": {},
   "outputs": [],
   "source": [
    "#41) Create a tuple of the first 5 Fibonacci numbers"
   ]
  },
  {
   "cell_type": "code",
   "execution_count": 108,
   "id": "1b5b66cd-ccf7-4ef5-a785-0618406dec92",
   "metadata": {},
   "outputs": [
    {
     "name": "stdout",
     "output_type": "stream",
     "text": [
      "(0, 1, 1, 2, 3)\n"
     ]
    }
   ],
   "source": [
    "def fibonacci_tuple(n):\n",
    "    a, b = 0, 1\n",
    "    result = []\n",
    "    for _ in range(n):\n",
    "        result.append(a)\n",
    "        a, b = b, a + b\n",
    "    return tuple(result)\n",
    "\n",
    "print(fibonacci_tuple(5))"
   ]
  },
  {
   "cell_type": "code",
   "execution_count": 109,
   "id": "62eda58e-ca4e-4b50-95e9-d44d9a083a4a",
   "metadata": {},
   "outputs": [],
   "source": [
    "#42) Create a tuple from user input."
   ]
  },
  {
   "cell_type": "code",
   "execution_count": 110,
   "id": "44b40e52-cea7-4846-8f17-26a53be78e04",
   "metadata": {},
   "outputs": [
    {
     "name": "stdin",
     "output_type": "stream",
     "text": [
      "Enter elements separated by spaces:  25 14 25 36 74 69\n"
     ]
    },
    {
     "name": "stdout",
     "output_type": "stream",
     "text": [
      "(25, 14, 25, 36, 74, 69)\n"
     ]
    }
   ],
   "source": [
    "user_input = input(\"Enter elements separated by spaces: \")\n",
    "user_tuple = tuple(map(int, user_input.split()))\n",
    "print(user_tuple)"
   ]
  },
  {
   "cell_type": "code",
   "execution_count": 111,
   "id": "ce7fadc5-623c-4660-a819-0eaeef6aeaa2",
   "metadata": {},
   "outputs": [],
   "source": [
    "#43) Swap two elements in a tuple."
   ]
  },
  {
   "cell_type": "code",
   "execution_count": 112,
   "id": "c1fc327f-dd89-4b7c-93d5-5fd075daabd1",
   "metadata": {},
   "outputs": [
    {
     "name": "stdout",
     "output_type": "stream",
     "text": [
      "(1, 4, 3, 2, 5)\n"
     ]
    }
   ],
   "source": [
    "def swap_elements(t, i, j):\n",
    "    t_list = list(t)\n",
    "    t_list[i], t_list[j] = t_list[j], t_list[i]\n",
    "    return tuple(t_list)\n",
    "\n",
    "# Example usage\n",
    "my_tuple = (1, 2, 3, 4, 5)\n",
    "print(swap_elements(my_tuple, 1, 3))"
   ]
  },
  {
   "cell_type": "code",
   "execution_count": 113,
   "id": "fc3ef4b7-fa92-4e90-a3b5-3aacbe91e0ad",
   "metadata": {},
   "outputs": [],
   "source": [
    "#44) Reverse the elements of a tuple"
   ]
  },
  {
   "cell_type": "code",
   "execution_count": 114,
   "id": "ee169e74-167b-4f62-8362-a8bd04fe863c",
   "metadata": {},
   "outputs": [
    {
     "name": "stdout",
     "output_type": "stream",
     "text": [
      "(5, 2, 3, 4, 1)\n"
     ]
    }
   ],
   "source": [
    "my_tuple = (1, 4, 3, 2, 5)\n",
    "\n",
    "print(my_tuple[::-1])"
   ]
  },
  {
   "cell_type": "code",
   "execution_count": 115,
   "id": "fe592225-ba1c-4ceb-9712-0a4c1a38c3f4",
   "metadata": {},
   "outputs": [],
   "source": [
    "#45) Create a tuple of the first `n` powers of 2"
   ]
  },
  {
   "cell_type": "code",
   "execution_count": 117,
   "id": "8809fb92-49a2-4f15-a5c1-a660e7e8dadc",
   "metadata": {},
   "outputs": [
    {
     "name": "stdout",
     "output_type": "stream",
     "text": [
      "(1, 2, 4, 8, 16, 32, 64, 128, 256, 512)\n"
     ]
    }
   ],
   "source": [
    "def powers_of_2_tuple(n):\n",
    "    return tuple(2 ** i for i in range(n))\n",
    "\n",
    "# Example usage\n",
    "print(powers_of_2_tuple(10))"
   ]
  },
  {
   "cell_type": "code",
   "execution_count": 118,
   "id": "68450db3-2076-44ed-bdde-b1a16c756208",
   "metadata": {},
   "outputs": [],
   "source": [
    "#46) Find the longest string in a tuple of strings."
   ]
  },
  {
   "cell_type": "code",
   "execution_count": 119,
   "id": "74cb409c-99cd-41e2-a114-64f3faae6c26",
   "metadata": {},
   "outputs": [
    {
     "name": "stdout",
     "output_type": "stream",
     "text": [
      "Tuple of Strings: ('apple', 'banana', 'cherry', 'date', 'elderberry')\n",
      "Longest String: elderberry\n"
     ]
    }
   ],
   "source": [
    "my_tuple = ('apple', 'banana', 'cherry', 'date', 'elderberry')\n",
    "\n",
    "longest_string = max(my_tuple, key=len)\n",
    "\n",
    "print(\"Tuple of Strings:\", my_tuple)\n",
    "print(\"Longest String:\", longest_string)\n"
   ]
  },
  {
   "cell_type": "code",
   "execution_count": 120,
   "id": "56dbbb7d-6d88-4b72-8766-867fc892feea",
   "metadata": {},
   "outputs": [],
   "source": [
    "#47) Find the shortest string in a tuple of strings."
   ]
  },
  {
   "cell_type": "code",
   "execution_count": 121,
   "id": "129d9a48-5c6f-42be-89b5-7bda1b32b6a0",
   "metadata": {},
   "outputs": [
    {
     "name": "stdout",
     "output_type": "stream",
     "text": [
      "Tuple of Strings: ('apple', 'banana', 'cherry', 'date', 'elderberry')\n",
      "Shortest String: date\n"
     ]
    }
   ],
   "source": [
    "my_tuple = ('apple', 'banana', 'cherry', 'date', 'elderberry')\n",
    "shortest_string = min(my_tuple, key=len)\n",
    "print(\"Tuple of Strings:\", my_tuple)\n",
    "print(\"Shortest String:\", shortest_string)\n"
   ]
  },
  {
   "cell_type": "code",
   "execution_count": 122,
   "id": "7b44e75c-e4c1-4033-8230-a606c4439bfa",
   "metadata": {},
   "outputs": [],
   "source": [
    "#48) Create a tuple of the first `n` triangular numbers."
   ]
  },
  {
   "cell_type": "code",
   "execution_count": 123,
   "id": "ad855064-449c-48e6-8a11-5f95da243e00",
   "metadata": {},
   "outputs": [
    {
     "name": "stdout",
     "output_type": "stream",
     "text": [
      "Tuple of the first 5 triangular numbers: (1, 3, 6, 10, 15)\n"
     ]
    }
   ],
   "source": [
    "n = 5\n",
    "\n",
    "triangular_numbers = [(i * (i + 1)) // 2 for i in range(1, n + 1)]\n",
    "\n",
    "print(\"Tuple of the first\", n, \"triangular numbers:\", tuple(triangular_numbers))\n"
   ]
  },
  {
   "cell_type": "code",
   "execution_count": 124,
   "id": "d24df5ad-7a3d-44c7-95e8-c39355bf3e0e",
   "metadata": {},
   "outputs": [],
   "source": [
    "#49) Check if a tuple contains another tuple as a subsequence"
   ]
  },
  {
   "cell_type": "code",
   "execution_count": 125,
   "id": "37d506f4-a54f-4c14-9f05-9ca0be83b573",
   "metadata": {},
   "outputs": [
    {
     "name": "stdout",
     "output_type": "stream",
     "text": [
      "Is tuple2 a subsequence of tuple1? True\n"
     ]
    }
   ],
   "source": [
    "tuple1 = (1, 2, 3, 4, 5, 6)\n",
    "tuple2 = (2, 4, 6)\n",
    "\n",
    "is_subsequence = all(element in tuple1 for element in tuple2)\n",
    "print(\"Is tuple2 a subsequence of tuple1?\", is_subsequence)\n"
   ]
  },
  {
   "cell_type": "code",
   "execution_count": 126,
   "id": "4a9ff45b-9553-4614-8f0c-c8fc43c13873",
   "metadata": {},
   "outputs": [],
   "source": [
    "#50) Create a tuple of alternating 1s and 0s of length `n`."
   ]
  },
  {
   "cell_type": "code",
   "execution_count": 127,
   "id": "e0eb16c9-6e9f-4d98-b8fb-6546616b7b9a",
   "metadata": {},
   "outputs": [
    {
     "name": "stdout",
     "output_type": "stream",
     "text": [
      "Tuple of alternating 1s and 0s: (0, 1, 0, 1, 0, 1, 0, 1)\n"
     ]
    }
   ],
   "source": [
    "n = 8\n",
    "alternating_tuple = tuple((i % 2) for i in range(n))\n",
    "print(\"Tuple of alternating 1s and 0s:\", alternating_tuple)\n"
   ]
  },
  {
   "cell_type": "code",
   "execution_count": 128,
   "id": "18042cab-4665-47f2-8c39-8891c940501d",
   "metadata": {},
   "outputs": [],
   "source": [
    "#SET BASED PRACTICE PROBLEM"
   ]
  },
  {
   "cell_type": "code",
   "execution_count": 129,
   "id": "7fbcdfbf-2a39-488b-9ae4-95dbbcd502b7",
   "metadata": {},
   "outputs": [],
   "source": [
    "#1) Create a set with integers from 1 to 5."
   ]
  },
  {
   "cell_type": "code",
   "execution_count": 131,
   "id": "0dc7b002-47fa-48e0-9241-09b709da3578",
   "metadata": {},
   "outputs": [
    {
     "name": "stdout",
     "output_type": "stream",
     "text": [
      "{1, 2, 3, 4, 5} <class 'set'>\n"
     ]
    }
   ],
   "source": [
    "my_set = {1,2,3,4,5}\n",
    "\n",
    "print(my_set,type(my_set))"
   ]
  },
  {
   "cell_type": "code",
   "execution_count": 132,
   "id": "cd4932a8-d389-4542-ba77-cb110ca81f2b",
   "metadata": {},
   "outputs": [],
   "source": [
    "#2) Add an element to a set."
   ]
  },
  {
   "cell_type": "code",
   "execution_count": 133,
   "id": "540f9e89-aa3d-4417-b3b3-5ef1ded3c1f4",
   "metadata": {},
   "outputs": [
    {
     "name": "stdin",
     "output_type": "stream",
     "text": [
      "Enter the element: 8\n"
     ]
    },
    {
     "name": "stdout",
     "output_type": "stream",
     "text": [
      "{1, 2, 3, 4, 5, 8}\n"
     ]
    }
   ],
   "source": [
    "my_set = {1,2,3,4,5}\n",
    "\n",
    "n = int(input(\"Enter the element:\"))\n",
    "\n",
    "my_set.add(n)\n",
    "\n",
    "print(my_set)"
   ]
  },
  {
   "cell_type": "code",
   "execution_count": 134,
   "id": "900d45c9-778b-4787-b961-9b03e0d685ca",
   "metadata": {},
   "outputs": [],
   "source": [
    "#3) Remove an element from a set"
   ]
  },
  {
   "cell_type": "code",
   "execution_count": 135,
   "id": "f9659a88-1023-47db-bf98-2a0e498a49a1",
   "metadata": {},
   "outputs": [
    {
     "name": "stdin",
     "output_type": "stream",
     "text": [
      "Enter the element: 5\n"
     ]
    },
    {
     "name": "stdout",
     "output_type": "stream",
     "text": [
      "{1, 2, 3, 4}\n"
     ]
    }
   ],
   "source": [
    "my_set = {1,2,3,4,5}\n",
    "\n",
    "n = int(input(\"Enter the element:\"))\n",
    "\n",
    "my_set.remove(n)\n",
    "\n",
    "print(my_set)"
   ]
  },
  {
   "cell_type": "code",
   "execution_count": 136,
   "id": "0f5e92d1-ad25-46ff-ad98-18ac295c92b5",
   "metadata": {},
   "outputs": [],
   "source": [
    "#4) Check if an element exists in a set."
   ]
  },
  {
   "cell_type": "code",
   "execution_count": 139,
   "id": "f20b6869-7fcc-4bc0-aa5c-3d3880b34141",
   "metadata": {},
   "outputs": [
    {
     "name": "stdin",
     "output_type": "stream",
     "text": [
      "Enter the element: 4\n"
     ]
    },
    {
     "name": "stdout",
     "output_type": "stream",
     "text": [
      "Element Exists.\n"
     ]
    }
   ],
   "source": [
    "my_set = {1, 2, 3, 4, 5, 8}\n",
    "\n",
    "n = int(input(\"Enter the element:\"))\n",
    "\n",
    "if n in my_set:\n",
    "    print(\"Element Exists.\")\n",
    "else:\n",
    "    print(\"Element doesn't Exist\")"
   ]
  },
  {
   "cell_type": "code",
   "execution_count": 141,
   "id": "99b06876-c349-41ce-b188-318f6d8c1b55",
   "metadata": {},
   "outputs": [],
   "source": [
    "#5) Find the length of a set without using the `len()` function"
   ]
  },
  {
   "cell_type": "code",
   "execution_count": 144,
   "id": "7d7eb601-14bb-41e4-9ce3-32bd0ca93a39",
   "metadata": {},
   "outputs": [
    {
     "name": "stdout",
     "output_type": "stream",
     "text": [
      "6\n"
     ]
    }
   ],
   "source": [
    "my_set = {1, 2, 3, 4, 5, 8}\n",
    "\n",
    "length = 0\n",
    "for i in my_set:\n",
    "    length += 1\n",
    "    \n",
    "print(length)"
   ]
  },
  {
   "cell_type": "code",
   "execution_count": 145,
   "id": "1739dc79-150a-47e6-aba0-6e10a8672b25",
   "metadata": {},
   "outputs": [],
   "source": [
    "#6) Clear all elements from a set."
   ]
  },
  {
   "cell_type": "code",
   "execution_count": 146,
   "id": "81ff2ce2-797d-4094-88ec-b913eb2672af",
   "metadata": {},
   "outputs": [
    {
     "name": "stdout",
     "output_type": "stream",
     "text": [
      "set()\n"
     ]
    }
   ],
   "source": [
    "my_set = {1, 2, 3, 4, 5, 8}\n",
    "\n",
    "my_set.clear()\n",
    "\n",
    "print(my_set)"
   ]
  },
  {
   "cell_type": "code",
   "execution_count": 147,
   "id": "fbcfad53-4408-462a-9b17-ec3fbc6fe267",
   "metadata": {},
   "outputs": [],
   "source": [
    "#7) Create a set of even numbers from 1 to 10."
   ]
  },
  {
   "cell_type": "code",
   "execution_count": 149,
   "id": "a52582a7-c7e7-4efe-9ffd-f5eda42377cf",
   "metadata": {},
   "outputs": [
    {
     "name": "stdout",
     "output_type": "stream",
     "text": [
      "{2, 4, 6, 8, 10}\n"
     ]
    }
   ],
   "source": [
    "my_set = {i for i in range(1,11) if i%2==0}\n",
    "\n",
    "print(my_set)"
   ]
  },
  {
   "cell_type": "code",
   "execution_count": 150,
   "id": "83728fbc-bd17-42e9-9fdb-7bdd715697c2",
   "metadata": {},
   "outputs": [],
   "source": [
    "#8) Create a set of odd numbers from 1 to 10."
   ]
  },
  {
   "cell_type": "code",
   "execution_count": 151,
   "id": "7742d91f-8700-4c34-bca1-1180a4762669",
   "metadata": {},
   "outputs": [
    {
     "name": "stdout",
     "output_type": "stream",
     "text": [
      "{1, 3, 5, 7, 9}\n"
     ]
    }
   ],
   "source": [
    "my_set = {i for i in range(1,11) if i%2!=0}\n",
    "\n",
    "print(my_set)"
   ]
  },
  {
   "cell_type": "code",
   "execution_count": 1,
   "id": "02d033ca-d047-4416-8f44-74670f10b6ad",
   "metadata": {},
   "outputs": [],
   "source": [
    "#9) Find the union of two sets."
   ]
  },
  {
   "cell_type": "code",
   "execution_count": 2,
   "id": "b22d4d68-2d73-4d5c-b362-20b5787d69e4",
   "metadata": {},
   "outputs": [
    {
     "name": "stdout",
     "output_type": "stream",
     "text": [
      "{1, 2, 3, 4, 5}\n"
     ]
    }
   ],
   "source": [
    "set1 = {1,2,3}\n",
    "set2 = {3,4,5}\n",
    "set_union = set1.union(set2)\n",
    "\n",
    "print(set_union)"
   ]
  },
  {
   "cell_type": "code",
   "execution_count": 3,
   "id": "e178ab48-c3f6-445c-80b8-7be665263be3",
   "metadata": {},
   "outputs": [],
   "source": [
    "#10)  Find the intersection of two sets."
   ]
  },
  {
   "cell_type": "code",
   "execution_count": 4,
   "id": "d7b17b95-813f-49c6-8741-28f3c1616e39",
   "metadata": {},
   "outputs": [
    {
     "name": "stdout",
     "output_type": "stream",
     "text": [
      "{3}\n"
     ]
    }
   ],
   "source": [
    "set1 = {1,2,3}\n",
    "set2 = {3,4,5}\n",
    "set_intersection = set1.intersection(set2)\n",
    "\n",
    "print(set_intersection)"
   ]
  },
  {
   "cell_type": "code",
   "execution_count": 5,
   "id": "ceb8c15a-5962-4ad1-b950-7fb83dfba34e",
   "metadata": {},
   "outputs": [],
   "source": [
    "#11)  Find the difference between two sets."
   ]
  },
  {
   "cell_type": "code",
   "execution_count": 6,
   "id": "c36918d5-3638-4795-8386-7e098719a792",
   "metadata": {},
   "outputs": [
    {
     "name": "stdout",
     "output_type": "stream",
     "text": [
      "{1, 2}\n"
     ]
    }
   ],
   "source": [
    "set1 = {1,2,3}\n",
    "set2 = {3,4,5}\n",
    "set_diff = set1.difference(set2)\n",
    "\n",
    "print(set_diff)"
   ]
  },
  {
   "cell_type": "code",
   "execution_count": 7,
   "id": "1f15f8bb-e775-4927-9e84-3c825d71c518",
   "metadata": {},
   "outputs": [],
   "source": [
    "#12) Check if a set is a subset of another set."
   ]
  },
  {
   "cell_type": "code",
   "execution_count": 10,
   "id": "64312589-a2ae-4f88-a98d-6f97ecbcb385",
   "metadata": {},
   "outputs": [
    {
     "name": "stdout",
     "output_type": "stream",
     "text": [
      "True\n"
     ]
    }
   ],
   "source": [
    "set1 = {14,25,47,36,1,2,3}\n",
    "set2 = {1,2,3}\n",
    "\n",
    "subset =  set2.issubset(set1)\n",
    "print(subset)"
   ]
  },
  {
   "cell_type": "code",
   "execution_count": 12,
   "id": "2214e2c8-da05-4d96-ad75-4cb5e2339a38",
   "metadata": {},
   "outputs": [],
   "source": [
    "#13)  Check if a set is a superset of another set."
   ]
  },
  {
   "cell_type": "code",
   "execution_count": 13,
   "id": "188893b1-2a8e-4226-bfe3-e1ef85f797d1",
   "metadata": {},
   "outputs": [
    {
     "name": "stdout",
     "output_type": "stream",
     "text": [
      "False\n"
     ]
    }
   ],
   "source": [
    "set1 = {14,25,47,36,1,2,3}\n",
    "set2 = {1,2,3}\n",
    "\n",
    "set_check =  set2.issuperset(set1)\n",
    "print(set_check)"
   ]
  },
  {
   "cell_type": "code",
   "execution_count": 14,
   "id": "880b59cf-2e66-4eb3-a748-46cf465a9336",
   "metadata": {},
   "outputs": [],
   "source": [
    "#14) Create a set from a list."
   ]
  },
  {
   "cell_type": "code",
   "execution_count": 17,
   "id": "ab48e9f9-246a-467a-a580-bec13069e131",
   "metadata": {},
   "outputs": [
    {
     "name": "stdout",
     "output_type": "stream",
     "text": [
      "{36, 69, 14, 47, 82, 25}\n"
     ]
    }
   ],
   "source": [
    "given_lst = [14,25,36,47,25,69,47,82,25,14]\n",
    "\n",
    "print(set(given_lst))"
   ]
  },
  {
   "cell_type": "code",
   "execution_count": 18,
   "id": "6272ad54-5f19-4746-9b3d-a22349be28fb",
   "metadata": {},
   "outputs": [],
   "source": [
    "#15) Convert a set to a list."
   ]
  },
  {
   "cell_type": "code",
   "execution_count": 20,
   "id": "6bda8ee3-24b2-4d63-bef9-8da816e5372f",
   "metadata": {},
   "outputs": [
    {
     "name": "stdout",
     "output_type": "stream",
     "text": [
      "[36, 25, 74, 14, 95]\n"
     ]
    }
   ],
   "source": [
    "given_set = {25,14,36,14,95,74}\n",
    "\n",
    "lst = list(given_set)\n",
    "\n",
    "print(lst)"
   ]
  },
  {
   "cell_type": "code",
   "execution_count": 21,
   "id": "090f03a7-5941-4150-9f6f-2ba159ba1f93",
   "metadata": {},
   "outputs": [],
   "source": [
    "#16) Remove a random element from a set"
   ]
  },
  {
   "cell_type": "code",
   "execution_count": 25,
   "id": "7f24db28-de7b-40ed-b078-2328ca76b6c9",
   "metadata": {},
   "outputs": [
    {
     "name": "stdout",
     "output_type": "stream",
     "text": [
      "Removed Element: 36\n",
      "After removing the Set is: {25, 74, 14, 95}\n"
     ]
    }
   ],
   "source": [
    "given_set = {25,14,36,14,95,74}\n",
    "\n",
    "remove = given_set.pop()\n",
    "\n",
    "print(\"Removed Element:\",remove)\n",
    "print(\"After removing the Set is:\",given_set) "
   ]
  },
  {
   "cell_type": "code",
   "execution_count": 26,
   "id": "aa2e17e6-37f8-455b-b6cd-803b3e739dd3",
   "metadata": {},
   "outputs": [],
   "source": [
    "#17) Pop an element from a set."
   ]
  },
  {
   "cell_type": "code",
   "execution_count": 28,
   "id": "ab01cb2b-c744-4c42-8e6f-2afe69b7544c",
   "metadata": {},
   "outputs": [
    {
     "data": {
      "text/plain": [
       "1"
      ]
     },
     "execution_count": 28,
     "metadata": {},
     "output_type": "execute_result"
    }
   ],
   "source": [
    "my_set = {1,2,3,4,5,}\n",
    "\n",
    "my_set.pop()"
   ]
  },
  {
   "cell_type": "code",
   "execution_count": 29,
   "id": "f9f0644f-ebc4-45f5-9c04-b99dbb08afcd",
   "metadata": {},
   "outputs": [],
   "source": [
    "#18) Check if two sets have no elements in common"
   ]
  },
  {
   "cell_type": "code",
   "execution_count": 30,
   "id": "e817ff16-90d4-4223-9a69-991e884d3095",
   "metadata": {},
   "outputs": [
    {
     "name": "stdout",
     "output_type": "stream",
     "text": [
      "True\n"
     ]
    }
   ],
   "source": [
    "set1 = {1,2,3}\n",
    "set1 = {4,5,6}\n",
    "\n",
    "no_common = set1.isdisjoint(set2)\n",
    "\n",
    "print(no_common)"
   ]
  },
  {
   "cell_type": "code",
   "execution_count": 31,
   "id": "0af44985-f53d-4bb2-804a-83501e7d2faa",
   "metadata": {},
   "outputs": [],
   "source": [
    "#19) Find the symmetric difference between two sets"
   ]
  },
  {
   "cell_type": "code",
   "execution_count": 32,
   "id": "7ea35369-6219-4206-a472-5056e50bbfbb",
   "metadata": {},
   "outputs": [
    {
     "name": "stdout",
     "output_type": "stream",
     "text": [
      "{1, 2, 4, 5}\n"
     ]
    }
   ],
   "source": [
    "set1 = {1, 2, 3}\n",
    "set2 = {3, 4, 5}\n",
    "symmetric_difference = set1.symmetric_difference(set2)\n",
    "print(symmetric_difference)"
   ]
  },
  {
   "cell_type": "code",
   "execution_count": 33,
   "id": "810d1baa-5ff0-4dc7-8d38-e9c83e2de668",
   "metadata": {},
   "outputs": [],
   "source": [
    "#20) Update a set with elements from another set."
   ]
  },
  {
   "cell_type": "code",
   "execution_count": 34,
   "id": "cf5e7719-8e09-4e4e-a563-ab55e9b71980",
   "metadata": {},
   "outputs": [
    {
     "name": "stdout",
     "output_type": "stream",
     "text": [
      "{1, 2, 3, 4, 5}\n",
      "{3, 4, 5}\n"
     ]
    }
   ],
   "source": [
    "set1 = {1, 2, 3}\n",
    "set2 = {3, 4, 5}\n",
    "\n",
    "set1.update(set2)\n",
    "\n",
    "print(set1)\n",
    "print(set2)"
   ]
  },
  {
   "cell_type": "code",
   "execution_count": 1,
   "id": "3f8cf351-5f4f-4312-b9ab-6877b8968e60",
   "metadata": {},
   "outputs": [],
   "source": [
    "#21) Create a set of the first 5 prime numbers"
   ]
  },
  {
   "cell_type": "code",
   "execution_count": 4,
   "id": "0df1c588-4ec2-45c5-a090-25937c1037be",
   "metadata": {},
   "outputs": [
    {
     "name": "stdout",
     "output_type": "stream",
     "text": [
      "{2, 3, 5, 7, 11}\n"
     ]
    }
   ],
   "source": [
    "def is_prime(n):\n",
    "    if n < 2:\n",
    "        return False\n",
    "    for i in range(2, int(n ** 0.5) + 1):\n",
    "        if n % i == 0:\n",
    "            return False\n",
    "    return True\n",
    "\n",
    "set_primes = {x for x in range(2, 100) if is_prime(x)}\n",
    "set_first_five_primes = set(list(set_primes)[:5])\n",
    "print(set_first_five_primes)"
   ]
  },
  {
   "cell_type": "code",
   "execution_count": 5,
   "id": "bbc91b21-9713-4b90-bd3d-e01056c40418",
   "metadata": {},
   "outputs": [],
   "source": [
    "#22) Check if two sets are identical"
   ]
  },
  {
   "cell_type": "code",
   "execution_count": 7,
   "id": "daf4b7ce-8244-4b6b-b63d-e106773210f5",
   "metadata": {},
   "outputs": [
    {
     "name": "stdout",
     "output_type": "stream",
     "text": [
      "Sets are Identical.\n"
     ]
    }
   ],
   "source": [
    "set1 = {1,2,3}\n",
    "set2 = {1,2,3}\n",
    "if set1 == set2:\n",
    "    print(\"Sets are Identical.\")\n",
    "else:\n",
    "    print(\"Sets are not Identical.\")"
   ]
  },
  {
   "cell_type": "code",
   "execution_count": 8,
   "id": "378ba91d-c824-4133-b852-b30fcfb811ea",
   "metadata": {},
   "outputs": [],
   "source": [
    "#23) Create a frozen set."
   ]
  },
  {
   "cell_type": "code",
   "execution_count": 9,
   "id": "e0541042-47b2-43ed-9928-ac761c46e663",
   "metadata": {},
   "outputs": [
    {
     "name": "stdout",
     "output_type": "stream",
     "text": [
      "frozenset({1, 2, 3, 4, 5})\n"
     ]
    }
   ],
   "source": [
    "frozen_set = frozenset([1,2,3,4,5])\n",
    "\n",
    "print(frozen_set)"
   ]
  },
  {
   "cell_type": "code",
   "execution_count": 10,
   "id": "cfeab203-2dbd-4bbd-b30b-5ffbb5052df7",
   "metadata": {},
   "outputs": [],
   "source": [
    "#24) Check if a set is disjoint with another set."
   ]
  },
  {
   "cell_type": "code",
   "execution_count": 13,
   "id": "10a8314a-5626-43e1-a6b9-714564752775",
   "metadata": {},
   "outputs": [
    {
     "name": "stdout",
     "output_type": "stream",
     "text": [
      "True\n"
     ]
    }
   ],
   "source": [
    "set1 = {1,2,3}\n",
    "set2 = {4,5,6}\n",
    "find_set = set1.isdisjoint(set2)\n",
    "\n",
    "print(find_set)"
   ]
  },
  {
   "cell_type": "code",
   "execution_count": 14,
   "id": "0cdeeefa-c024-480a-94ca-5a4ed072ec09",
   "metadata": {},
   "outputs": [],
   "source": [
    "#25) Create a set of squares of numbers from 1 to 5"
   ]
  },
  {
   "cell_type": "code",
   "execution_count": 15,
   "id": "829bc02e-be99-4279-a7c7-b21cd1b98860",
   "metadata": {},
   "outputs": [
    {
     "name": "stdout",
     "output_type": "stream",
     "text": [
      "{1, 4, 9, 16, 25}\n"
     ]
    }
   ],
   "source": [
    "my_set = {i**2 for i in range(1,6)}\n",
    "print(my_set)"
   ]
  },
  {
   "cell_type": "code",
   "execution_count": 16,
   "id": "74ce5ced-3f28-4d0a-ae51-467bca18c59a",
   "metadata": {},
   "outputs": [],
   "source": [
    "#26)Filter out all even numbers from a set "
   ]
  },
  {
   "cell_type": "code",
   "execution_count": 18,
   "id": "bcd38f29-740d-4597-8c98-b2df053167f9",
   "metadata": {},
   "outputs": [
    {
     "name": "stdout",
     "output_type": "stream",
     "text": [
      "{2, 4, 6}\n"
     ]
    }
   ],
   "source": [
    "my_set = {1,2,3,4,5,6}\n",
    "\n",
    "set_filter = { x for x in my_set if x%2== 0}\n",
    "\n",
    "print(set_filter)"
   ]
  },
  {
   "cell_type": "code",
   "execution_count": 19,
   "id": "bcfcc758-92fd-429a-8d90-0121dddd346c",
   "metadata": {},
   "outputs": [],
   "source": [
    "#27) Multiply all elements in a set by 2."
   ]
  },
  {
   "cell_type": "code",
   "execution_count": 21,
   "id": "43c2df8d-3f0f-454b-86bb-dffb5022f231",
   "metadata": {},
   "outputs": [
    {
     "name": "stdout",
     "output_type": "stream",
     "text": [
      "{2, 4, 6, 8, 10, 12}\n"
     ]
    }
   ],
   "source": [
    "my_set = {1,2,3,4,5,6}\n",
    "\n",
    "multiply_set = {x*2 for x in my_set}\n",
    "\n",
    "print(multiply_set)"
   ]
  },
  {
   "cell_type": "code",
   "execution_count": 22,
   "id": "1f3b3875-58de-48b2-a66f-f32a8009acf9",
   "metadata": {},
   "outputs": [],
   "source": [
    "#28) Create a set of random numbers."
   ]
  },
  {
   "cell_type": "code",
   "execution_count": 29,
   "id": "f06ff45f-43e5-481a-9464-eb183fa62f81",
   "metadata": {},
   "outputs": [
    {
     "name": "stdout",
     "output_type": "stream",
     "text": [
      "{32, 4, 40, 10, 13, 49, 18, 22, 23}\n"
     ]
    }
   ],
   "source": [
    "import random\n",
    "\n",
    "set_random = {random.randint(1, 50) for _ in range(10)}\n",
    "\n",
    "print(set_random)"
   ]
  },
  {
   "cell_type": "code",
   "execution_count": 30,
   "id": "3c989300-338b-4d9e-b696-abcd73be3a2f",
   "metadata": {},
   "outputs": [],
   "source": [
    "#29) Check if a set is empty."
   ]
  },
  {
   "cell_type": "code",
   "execution_count": 36,
   "id": "b44c3890-3ec0-4438-8ac4-cea298e360cc",
   "metadata": {},
   "outputs": [
    {
     "name": "stdout",
     "output_type": "stream",
     "text": [
      "Is the set empty? True\n"
     ]
    }
   ],
   "source": [
    "my_set = set()\n",
    "\n",
    "set_empty = not bool(my_set)\n",
    "\n",
    "print(\"Is the set empty?\",set_empty)"
   ]
  },
  {
   "cell_type": "code",
   "execution_count": 37,
   "id": "eda6bffd-4809-4a2a-b9bf-e87fc39aacfc",
   "metadata": {},
   "outputs": [],
   "source": [
    "#30) Create a nested set (hint: use frozenset)."
   ]
  },
  {
   "cell_type": "code",
   "execution_count": 38,
   "id": "1f3d9563-aa9b-4096-98be-15659d9d8e4a",
   "metadata": {},
   "outputs": [
    {
     "name": "stdout",
     "output_type": "stream",
     "text": [
      "{frozenset({1, 2, 3}), frozenset({4, 5, 6})}\n"
     ]
    }
   ],
   "source": [
    "nested_set = {frozenset([1, 2, 3]), frozenset([4, 5, 6])}\n",
    "\n",
    "print(nested_set)"
   ]
  },
  {
   "cell_type": "code",
   "execution_count": 39,
   "id": "abed7013-56f7-4916-8318-ae5953fd409b",
   "metadata": {},
   "outputs": [],
   "source": [
    "#31) Remove an element from a set using the discard method"
   ]
  },
  {
   "cell_type": "code",
   "execution_count": 40,
   "id": "8408b6db-e510-4599-973e-e22f2f262789",
   "metadata": {},
   "outputs": [
    {
     "name": "stdin",
     "output_type": "stream",
     "text": [
      "Enter the value you want to discard: 17\n"
     ]
    },
    {
     "name": "stdout",
     "output_type": "stream",
     "text": [
      "{12, 13, 14, 15, 16, 18, 19}\n"
     ]
    }
   ],
   "source": [
    "my_set = {12,13,14,15,16,17,18,19}\n",
    "\n",
    "n = int(input(\"Enter the value you want to discard:\"))\n",
    "\n",
    "my_set.discard(n)\n",
    "\n",
    "print(my_set)"
   ]
  },
  {
   "cell_type": "code",
   "execution_count": 41,
   "id": "84cfff3c-e741-43ef-b188-1470d87db069",
   "metadata": {},
   "outputs": [],
   "source": [
    "#32) Compare two sets"
   ]
  },
  {
   "cell_type": "code",
   "execution_count": 42,
   "id": "e9b75e91-8ca4-4e67-97f5-96bc87218914",
   "metadata": {},
   "outputs": [
    {
     "name": "stdout",
     "output_type": "stream",
     "text": [
      "False\n"
     ]
    }
   ],
   "source": [
    "set1 = {1, 2, 3}\n",
    "set2 = {3, 4, 5}\n",
    "compare_sets = set1 == set2\n",
    "\n",
    "print(compare_sets)"
   ]
  },
  {
   "cell_type": "code",
   "execution_count": 43,
   "id": "cd44c28a-dcb2-49a1-ae75-81545374c0e0",
   "metadata": {},
   "outputs": [],
   "source": [
    "#33) Create a set from a string"
   ]
  },
  {
   "cell_type": "code",
   "execution_count": 44,
   "id": "dec74872-a87e-4a53-b7df-09c8d4476b66",
   "metadata": {},
   "outputs": [
    {
     "name": "stdout",
     "output_type": "stream",
     "text": [
      "{'o', 'h', 'l', 'e'}\n"
     ]
    }
   ],
   "source": [
    "string_to_set = set('hello')\n",
    "print(string_to_set)"
   ]
  },
  {
   "cell_type": "code",
   "execution_count": 45,
   "id": "8ccd5ea5-9147-49ef-bc16-9f357f426210",
   "metadata": {},
   "outputs": [],
   "source": [
    "#34) Convert a set of strings to a set of integers."
   ]
  },
  {
   "cell_type": "code",
   "execution_count": 46,
   "id": "e5907859-7ecf-4be6-a163-b48ef5b89ba6",
   "metadata": {},
   "outputs": [
    {
     "name": "stdout",
     "output_type": "stream",
     "text": [
      "{1, 2, 3}\n"
     ]
    }
   ],
   "source": [
    "set_strings = {'1', '2', '3'}\n",
    "set_integers = {int(x) for x in set_strings}\n",
    "print(set_integers)"
   ]
  },
  {
   "cell_type": "code",
   "execution_count": 47,
   "id": "fe18f8ef-2c58-4e55-81a3-b21c41229a07",
   "metadata": {},
   "outputs": [],
   "source": [
    "#35) Convert a set of integers to a set of strings."
   ]
  },
  {
   "cell_type": "code",
   "execution_count": 48,
   "id": "f756f05b-d68c-433e-bfaf-de49241bb2d9",
   "metadata": {},
   "outputs": [
    {
     "name": "stdout",
     "output_type": "stream",
     "text": [
      "{'3', '2', '1'}\n"
     ]
    }
   ],
   "source": [
    "set_integers = {1, 2, 3}\n",
    "set_strings = {str(x) for x in set_integers}\n",
    "\n",
    "print(set_strings)"
   ]
  },
  {
   "cell_type": "code",
   "execution_count": 49,
   "id": "fec2a648-33ca-4aef-a52e-19aba6dec072",
   "metadata": {},
   "outputs": [],
   "source": [
    "#36) Create a set from a tuple."
   ]
  },
  {
   "cell_type": "code",
   "execution_count": 50,
   "id": "0860257a-faf7-4257-8517-f0b765effceb",
   "metadata": {},
   "outputs": [
    {
     "name": "stdout",
     "output_type": "stream",
     "text": [
      "{1, 2, 3}\n"
     ]
    }
   ],
   "source": [
    "tuple_to_set = set((1, 2, 3))\n",
    "\n",
    "print(tuple_to_set)"
   ]
  },
  {
   "cell_type": "code",
   "execution_count": 51,
   "id": "9f542971-3d75-4c3c-8642-3e02b10e70ce",
   "metadata": {},
   "outputs": [],
   "source": [
    "#37) Convert a set to a tuple."
   ]
  },
  {
   "cell_type": "code",
   "execution_count": 54,
   "id": "b580a914-9ce0-4665-9af2-672de00f07a1",
   "metadata": {},
   "outputs": [
    {
     "name": "stdout",
     "output_type": "stream",
     "text": [
      "(1, 2, 3)\n"
     ]
    }
   ],
   "source": [
    "my_set = {1,2,3}\n",
    "\n",
    "ste_to_tuple = tuple(my_set)\n",
    "\n",
    "print(ste_to_tuple)"
   ]
  },
  {
   "cell_type": "code",
   "execution_count": 55,
   "id": "2da983d3-2e7b-4f4f-b9f8-bdeb1c2d71bb",
   "metadata": {},
   "outputs": [],
   "source": [
    "#38) Find the maximum value in a set."
   ]
  },
  {
   "cell_type": "code",
   "execution_count": 56,
   "id": "84d5e51e-337a-4212-89da-92042e5092a7",
   "metadata": {},
   "outputs": [
    {
     "name": "stdout",
     "output_type": "stream",
     "text": [
      "5\n"
     ]
    }
   ],
   "source": [
    "set_max = {1, 2, 3, 4, 5}\n",
    "set_max = max(set_max)\n",
    "print(set_max)"
   ]
  },
  {
   "cell_type": "code",
   "execution_count": 57,
   "id": "1ff0d77c-8c45-47c5-b787-7c97023ccbb6",
   "metadata": {},
   "outputs": [],
   "source": [
    "#39) Find the minimum value in a set."
   ]
  },
  {
   "cell_type": "code",
   "execution_count": 58,
   "id": "b496c025-a9e0-4f91-8916-4709caa86503",
   "metadata": {},
   "outputs": [
    {
     "name": "stdout",
     "output_type": "stream",
     "text": [
      "1\n"
     ]
    }
   ],
   "source": [
    "set_min = {1, 2, 3, 4, 5}\n",
    "set_min = min(set_min)\n",
    "print(set_min)"
   ]
  },
  {
   "cell_type": "code",
   "execution_count": 59,
   "id": "5b9d81be-63a6-4cd3-a472-ffe5e89a91ee",
   "metadata": {},
   "outputs": [],
   "source": [
    "#40) Create a set from user input"
   ]
  },
  {
   "cell_type": "code",
   "execution_count": 60,
   "id": "e1943109-ea57-4863-920f-dc8855a14eff",
   "metadata": {},
   "outputs": [
    {
     "name": "stdin",
     "output_type": "stream",
     "text": [
      "Enter a set of numbers separated by commas:  25,36,14,4,85,25,36\n"
     ]
    },
    {
     "name": "stdout",
     "output_type": "stream",
     "text": [
      "{'4', '36', '85', '25', '14'}\n"
     ]
    }
   ],
   "source": [
    "set_input = set(input(\"Enter a set of numbers separated by commas: \").split(','))\n",
    "\n",
    "print(set_input)"
   ]
  },
  {
   "cell_type": "code",
   "execution_count": 61,
   "id": "0d851f92-9bdc-4819-8e64-a8dad5baf886",
   "metadata": {},
   "outputs": [],
   "source": [
    "#41) Check if the intersection of two sets is empty"
   ]
  },
  {
   "cell_type": "code",
   "execution_count": 62,
   "id": "47c11a4f-0d3d-4e6c-9cd7-d1227b26eb88",
   "metadata": {},
   "outputs": [
    {
     "name": "stdout",
     "output_type": "stream",
     "text": [
      "True\n"
     ]
    }
   ],
   "source": [
    "set1 = {1, 2, 3}\n",
    "set2 = {4, 5, 6}\n",
    "intersection_check = not bool(set1.intersection(set2))\n",
    "print(intersection_check)"
   ]
  },
  {
   "cell_type": "code",
   "execution_count": 63,
   "id": "0b28bb2d-c691-4ca6-b98a-4961229d2542",
   "metadata": {},
   "outputs": [],
   "source": [
    "#42)Create a set of the first 5 Fibonacci numbers."
   ]
  },
  {
   "cell_type": "code",
   "execution_count": 66,
   "id": "3a01f37f-5794-4f72-9bd0-64b0e86177c5",
   "metadata": {},
   "outputs": [
    {
     "name": "stdout",
     "output_type": "stream",
     "text": [
      "Set of the first 5 Fibonacci numbers: {0, 1, 2, 3}\n"
     ]
    }
   ],
   "source": [
    "def generate_fibonacci(n):\n",
    "    fibonacci_set = set()\n",
    "    a, b = 0, 1\n",
    "\n",
    "    for _ in range(n):\n",
    "        fibonacci_set.add(a)\n",
    "        a, b = b, a + b\n",
    "\n",
    "    return fibonacci_set\n",
    "\n",
    "n = 5\n",
    "fibonacci_set = generate_fibonacci(n)\n",
    "\n",
    "print(\"Set of the first\", n, \"Fibonacci numbers:\", fibonacci_set)\n"
   ]
  },
  {
   "cell_type": "code",
   "execution_count": 67,
   "id": "dc8702bd-26dd-4a0e-9a17-508b189e5f53",
   "metadata": {},
   "outputs": [],
   "source": [
    "#43) Remove duplicates from a list using set"
   ]
  },
  {
   "cell_type": "code",
   "execution_count": 68,
   "id": "72b1e8bd-fe44-481c-a427-9fbdeb948fad",
   "metadata": {},
   "outputs": [
    {
     "name": "stdout",
     "output_type": "stream",
     "text": [
      "[1, 2, 3, 4, 5]\n"
     ]
    }
   ],
   "source": [
    "list_duplicates = [1, 2, 3, 2, 1, 4, 5, 4]\n",
    "list_duplicates = list(set(list_duplicates))\n",
    "\n",
    "print(list_duplicates)"
   ]
  },
  {
   "cell_type": "code",
   "execution_count": 69,
   "id": "d93bf723-2ef8-4b77-b2d1-73c86f070dd9",
   "metadata": {},
   "outputs": [],
   "source": [
    "#44) Check if two sets have the same elements, regardless of their count."
   ]
  },
  {
   "cell_type": "code",
   "execution_count": 70,
   "id": "046ce823-2393-4186-914e-aed7ab6578d1",
   "metadata": {},
   "outputs": [
    {
     "name": "stdout",
     "output_type": "stream",
     "text": [
      "True\n"
     ]
    }
   ],
   "source": [
    "set1 = {1, 2, 3}\n",
    "set2 = {3, 2, 1, 1, 2, 3}\n",
    "same_elements_check = set1 == set2\n",
    "print(same_elements_check)"
   ]
  },
  {
   "cell_type": "code",
   "execution_count": 72,
   "id": "63162503-7925-4492-9ecd-e37e166f8875",
   "metadata": {},
   "outputs": [],
   "source": [
    "#45) Create a set of the first `n` powers of 2"
   ]
  },
  {
   "cell_type": "code",
   "execution_count": 73,
   "id": "ad0d34da-f694-4682-b6f3-46b6d3192e40",
   "metadata": {},
   "outputs": [
    {
     "name": "stdout",
     "output_type": "stream",
     "text": [
      "{1, 2, 4, 8, 16}\n"
     ]
    }
   ],
   "source": [
    "set_powers = {2 ** x for x in range(5)}\n",
    "\n",
    "print(set_powers)"
   ]
  },
  {
   "cell_type": "code",
   "execution_count": 74,
   "id": "a5da1db3-9490-4403-b606-65641c977fad",
   "metadata": {},
   "outputs": [],
   "source": [
    "#46)  Find the common elements between a set and a list"
   ]
  },
  {
   "cell_type": "code",
   "execution_count": 75,
   "id": "0a9a0abc-145f-4904-b59b-31effcd04741",
   "metadata": {},
   "outputs": [
    {
     "name": "stdout",
     "output_type": "stream",
     "text": [
      "{3}\n"
     ]
    }
   ],
   "source": [
    "set1 = {1, 2, 3}\n",
    "list1 = [3, 4, 5]\n",
    "common_elements = set1.intersection(set(list1))\n",
    "\n",
    "print(common_elements)"
   ]
  },
  {
   "cell_type": "code",
   "execution_count": 76,
   "id": "a04eb12a-709c-4fa1-ae1e-953c577edae7",
   "metadata": {},
   "outputs": [],
   "source": [
    "#47) Create a set of the first `n` triangular numbers"
   ]
  },
  {
   "cell_type": "code",
   "execution_count": 77,
   "id": "bdb07b49-60aa-48ef-8aa0-79af7f480c29",
   "metadata": {},
   "outputs": [
    {
     "name": "stdout",
     "output_type": "stream",
     "text": [
      "{0, 1, 3, 6, 10}\n"
     ]
    }
   ],
   "source": [
    "set_triangular = {int((x * (x + 1)) / 2) for x in range(5)}\n",
    "\n",
    "print(set_triangular)"
   ]
  },
  {
   "cell_type": "code",
   "execution_count": 78,
   "id": "59bf1d91-258a-4f22-acda-3ec9487836fa",
   "metadata": {},
   "outputs": [],
   "source": [
    "#48) Check if a set contains another set as a subset."
   ]
  },
  {
   "cell_type": "code",
   "execution_count": 79,
   "id": "fb887731-1d89-4370-9512-97fec5a4f8de",
   "metadata": {},
   "outputs": [
    {
     "name": "stdout",
     "output_type": "stream",
     "text": [
      "True\n"
     ]
    }
   ],
   "source": [
    "set1 = {1, 2, 3, 4, 5}\n",
    "set2 = {2, 3, 4}\n",
    "subset_check = set2.issubset(set1)\n",
    "\n",
    "print(subset_check)"
   ]
  },
  {
   "cell_type": "code",
   "execution_count": 81,
   "id": "8477386f-f2a0-4d79-b36a-cc0e11fb01d0",
   "metadata": {},
   "outputs": [],
   "source": [
    "#49) Create a set of alternating 1s and 0s of length `n`.n =5"
   ]
  },
  {
   "cell_type": "code",
   "execution_count": 82,
   "id": "31316192-fbaa-43d9-9080-2e2bdfc699d4",
   "metadata": {},
   "outputs": [
    {
     "name": "stdout",
     "output_type": "stream",
     "text": [
      "{0, 1}\n"
     ]
    }
   ],
   "source": [
    "n = 5\n",
    "set_alternating = {1 if x % 2 == 0 else 0 for x in range(n)}\n",
    "print(set_alternating)"
   ]
  },
  {
   "cell_type": "code",
   "execution_count": 83,
   "id": "4784a264-62ff-4528-8c82-5b247c8408f1",
   "metadata": {},
   "outputs": [],
   "source": [
    "#50) Merge multiple sets into one."
   ]
  },
  {
   "cell_type": "code",
   "execution_count": 84,
   "id": "8b76b6d9-4bb0-40e6-8a82-e4bed6d0e13e",
   "metadata": {},
   "outputs": [
    {
     "name": "stdout",
     "output_type": "stream",
     "text": [
      "{1, 2, 3, 4, 5, 6, 7}\n"
     ]
    }
   ],
   "source": [
    "set1 = {1, 2, 3}\n",
    "set2 = {3, 4, 5}\n",
    "set3 = {5, 6, 7}\n",
    "merged_set = set1.union(set2, set3)\n",
    "print(merged_set)"
   ]
  },
  {
   "cell_type": "code",
   "execution_count": null,
   "id": "180019ea-fb76-4317-bee0-aff6863783b7",
   "metadata": {},
   "outputs": [],
   "source": []
  }
 ],
 "metadata": {
  "kernelspec": {
   "display_name": "Python 3 (ipykernel)",
   "language": "python",
   "name": "python3"
  },
  "language_info": {
   "codemirror_mode": {
    "name": "ipython",
    "version": 3
   },
   "file_extension": ".py",
   "mimetype": "text/x-python",
   "name": "python",
   "nbconvert_exporter": "python",
   "pygments_lexer": "ipython3",
   "version": "3.10.8"
  }
 },
 "nbformat": 4,
 "nbformat_minor": 5
}
