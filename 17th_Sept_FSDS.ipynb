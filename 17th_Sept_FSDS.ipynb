{
 "cells": [
  {
   "cell_type": "code",
   "execution_count": 1,
   "id": "9ad3f9de-9252-4af5-87c7-81344950290a",
   "metadata": {},
   "outputs": [],
   "source": [
    "#FOR LOOP"
   ]
  },
  {
   "cell_type": "code",
   "execution_count": 2,
   "id": "abd38ee1-1241-42ff-8df9-b241eb62dfd6",
   "metadata": {},
   "outputs": [],
   "source": [
    "#1) Write a Python program to print numbers from 1 to 10 using a for loop."
   ]
  },
  {
   "cell_type": "code",
   "execution_count": 3,
   "id": "52832181-56bd-48ac-90f3-8a678d5d29e0",
   "metadata": {},
   "outputs": [
    {
     "name": "stdout",
     "output_type": "stream",
     "text": [
      "1\n",
      "2\n",
      "3\n",
      "4\n",
      "5\n",
      "6\n",
      "7\n",
      "8\n",
      "9\n",
      "10\n"
     ]
    }
   ],
   "source": [
    "for i in range(1,11):\n",
    "    print(i)becomes Fa"
   ]
  },
  {
   "cell_type": "code",
   "execution_count": 4,
   "id": "a5b4d685-6ade-436c-a64e-7eae170c4a1f",
   "metadata": {},
   "outputs": [],
   "source": [
    "#2) Explain the difference between a for loop and a while loop in Python."
   ]
  },
  {
   "cell_type": "code",
   "execution_count": null,
   "id": "e823df7c-4012-4fbd-9378-91607b7969b1",
   "metadata": {},
   "outputs": [],
   "source": [
    "FOR LOOP\n",
    "--> Used for iterating over a sequence (like a list, tuple, or string)\n",
    "which executes a specific number of times based on the length of sequence which is more \n",
    "Convenient when you know the number of iterations beforehand.\n",
    "\n",
    "WHILE LOOP\n",
    "--> Used for executing a block of code repeatedly as long as a Condition is True and loop \n",
    "continues until the condition False and it is more suitable when we don't know the number of Iterations."
   ]
  },
  {
   "cell_type": "code",
   "execution_count": 6,
   "id": "322944e5-04ac-4bda-ba9f-a2c40cd511d1",
   "metadata": {},
   "outputs": [],
   "source": [
    "#3) Write a Python program to calculate the sum of all numbers from 1 to 100 using a for loop."
   ]
  },
  {
   "cell_type": "code",
   "execution_count": 11,
   "id": "690850d1-5dea-4c64-bc0c-cf154d955184",
   "metadata": {},
   "outputs": [
    {
     "name": "stdout",
     "output_type": "stream",
     "text": [
      "The Sum of total from 1 to 100 is : 5050\n"
     ]
    }
   ],
   "source": [
    "total = 0\n",
    "for i in range(1,101):\n",
    "    total += i\n",
    "print(\"The Sum of total from 1 to 100 is :\",total)"
   ]
  },
  {
   "cell_type": "code",
   "execution_count": 12,
   "id": "ea69077a-2de6-485a-afe0-e1039d9bfa6a",
   "metadata": {},
   "outputs": [],
   "source": [
    "#4) How do you iterate through a list using a for loop in Python?"
   ]
  },
  {
   "cell_type": "code",
   "execution_count": 13,
   "id": "03e5c38c-4dd2-40d3-8be7-19630671c1c8",
   "metadata": {},
   "outputs": [
    {
     "name": "stdout",
     "output_type": "stream",
     "text": [
      "14\n",
      "25\n",
      "36\n",
      "74\n",
      "85\n",
      "96\n"
     ]
    }
   ],
   "source": [
    "lst = [14,25,36,74,85,96]\n",
    "\n",
    "for i in lst:\n",
    "    print(i)"
   ]
  },
  {
   "cell_type": "code",
   "execution_count": 14,
   "id": "ddc9c5d4-da41-462c-8763-c5b0d879b19d",
   "metadata": {},
   "outputs": [],
   "source": [
    "#5) Write a Python program to find the product of all elements in a list using a for loop."
   ]
  },
  {
   "cell_type": "code",
   "execution_count": 16,
   "id": "56597f70-3072-4799-a9b7-c68a9b5e9b75",
   "metadata": {},
   "outputs": [
    {
     "name": "stdout",
     "output_type": "stream",
     "text": [
      "The product is : 120\n"
     ]
    }
   ],
   "source": [
    "my_lst = [1,2,3,4,5]\n",
    "\n",
    "product = 1\n",
    "for i in my_lst:\n",
    "    product *= i\n",
    "\n",
    "print(\"The product is :\",product)"
   ]
  },
  {
   "cell_type": "code",
   "execution_count": 17,
   "id": "654c3613-f395-4531-aa6b-3d3ba8795b8f",
   "metadata": {},
   "outputs": [],
   "source": [
    "#6) Create a Python program that prints all even numbers from 1 to 20 using a for loop"
   ]
  },
  {
   "cell_type": "code",
   "execution_count": 18,
   "id": "257fd0eb-ce28-4a9c-9934-ab1fc7b7532d",
   "metadata": {},
   "outputs": [
    {
     "name": "stdout",
     "output_type": "stream",
     "text": [
      "2\n",
      "4\n",
      "6\n",
      "8\n",
      "10\n",
      "12\n",
      "14\n",
      "16\n",
      "18\n",
      "20\n"
     ]
    }
   ],
   "source": [
    "for i in range(1,21):\n",
    "    if i % 2 == 0:\n",
    "        print(i)"
   ]
  },
  {
   "cell_type": "code",
   "execution_count": 19,
   "id": "466ae02d-666d-4795-8394-2192e26e0a90",
   "metadata": {},
   "outputs": [],
   "source": [
    "#7) Write a Python program that calculates the factorial of a number using a for loop."
   ]
  },
  {
   "cell_type": "code",
   "execution_count": 22,
   "id": "d13718c8-2ee3-4beb-a307-b8c32ad50bb9",
   "metadata": {},
   "outputs": [
    {
     "name": "stdin",
     "output_type": "stream",
     "text": [
      "Enter a number: 5\n"
     ]
    },
    {
     "name": "stdout",
     "output_type": "stream",
     "text": [
      "The factorial of 5 is : 120\n"
     ]
    }
   ],
   "source": [
    "n = int(input(\"Enter a number:\"))\n",
    "\n",
    "product = 1\n",
    "for i in range(1, n+1):\n",
    "    product *= i\n",
    "\n",
    "print(f\"The factorial of {n} is :\",product)\n",
    "    \n",
    "    "
   ]
  },
  {
   "cell_type": "code",
   "execution_count": 23,
   "id": "79466407-a64d-47a8-b431-7202036bafe7",
   "metadata": {},
   "outputs": [],
   "source": [
    "#8) How can you iterate through the characters of a string using a for loop in Python?"
   ]
  },
  {
   "cell_type": "code",
   "execution_count": 25,
   "id": "109c5180-14a1-4716-b6c6-2f1b1a45f921",
   "metadata": {},
   "outputs": [
    {
     "name": "stdout",
     "output_type": "stream",
     "text": [
      "h\n",
      "e\n",
      "l\n",
      "l\n",
      "o\n",
      " \n",
      "W\n",
      "o\n",
      "r\n",
      "l\n",
      "d\n",
      "!\n"
     ]
    }
   ],
   "source": [
    "a = \"hello World!\"\n",
    "\n",
    "for i in a:\n",
    "    print(i)"
   ]
  },
  {
   "cell_type": "code",
   "execution_count": 26,
   "id": "ba99018d-536a-483c-bdfe-232f096737a4",
   "metadata": {},
   "outputs": [],
   "source": [
    "#9) Write a Python program to find the largest number in a list using a for loop"
   ]
  },
  {
   "cell_type": "code",
   "execution_count": 30,
   "id": "5c63aaed-d784-43b0-8fa2-b78ac5f9b896",
   "metadata": {},
   "outputs": [
    {
     "data": {
      "text/plain": [
       "69"
      ]
     },
     "execution_count": 30,
     "metadata": {},
     "output_type": "execute_result"
    }
   ],
   "source": [
    "def find_largest(lst):\n",
    "    largest = lst[0]\n",
    "    \n",
    "    for num in lst:\n",
    "        if num>largest:\n",
    "            largest = num\n",
    "    return largest\n",
    "\n",
    "my_list = [14,25,36,20,69,47,65]\n",
    "find_largest(my_list)"
   ]
  },
  {
   "cell_type": "code",
   "execution_count": 32,
   "id": "e35d037b-7866-47a1-b3c9-3aac8e93ba3d",
   "metadata": {},
   "outputs": [],
   "source": [
    "#10) Create a Python program that prints the Fibonacci sequence up to a specified limit using a for loop."
   ]
  },
  {
   "cell_type": "code",
   "execution_count": 36,
   "id": "72090447-6bb4-4703-9633-a761b1780f14",
   "metadata": {},
   "outputs": [
    {
     "name": "stdin",
     "output_type": "stream",
     "text": [
      "Enter a number: 12\n"
     ]
    },
    {
     "name": "stdout",
     "output_type": "stream",
     "text": [
      "0 1 1 2 3 5 8 13 21 34 55 89 "
     ]
    }
   ],
   "source": [
    "def fibonacci_sequence(limit):\n",
    "    a, b = 0, 1\n",
    "    \n",
    "    # Print the first two numbers\n",
    "    print(a, b, end=\" \")\n",
    "    \n",
    "    # Iterate through the sequence using a for loop\n",
    "    for i in range(2, limit):\n",
    "        # Calculate the next number in the sequence\n",
    "        next_number = a + b\n",
    "        \n",
    "        # Print the next number\n",
    "        print(next_number, end=\" \")\n",
    "        \n",
    "        # Update a and b for the next iteration\n",
    "        a, b = b, next_number\n",
    "\n",
    "specified_limit = int(input(\"Enter a number:\"))\n",
    "fibonacci_sequence(specified_limit)\n"
   ]
  },
  {
   "cell_type": "code",
   "execution_count": 37,
   "id": "a95b859a-0287-43f7-83fa-f4c66d6befdc",
   "metadata": {},
   "outputs": [],
   "source": [
    "#11) Write a Python program to count the number of vowels in a given string using a for loop."
   ]
  },
  {
   "cell_type": "code",
   "execution_count": 42,
   "id": "e39a26e6-c326-455a-8c72-02c70189086e",
   "metadata": {},
   "outputs": [
    {
     "name": "stdout",
     "output_type": "stream",
     "text": [
      "7\n"
     ]
    }
   ],
   "source": [
    "string = \"The King Eternal Monarch\"\n",
    "\n",
    "vowels = \"aeiouAEIOU\"\n",
    "count = 0\n",
    "for i in string:\n",
    "    if i in vowels:\n",
    "        count += 1\n",
    "print(count)"
   ]
  },
  {
   "cell_type": "code",
   "execution_count": 44,
   "id": "3b1c7928-01ce-4a3b-aa1c-c6bc714e4476",
   "metadata": {},
   "outputs": [],
   "source": [
    "#12) Create a Python program that generates a multiplication table for a given number using a for loop"
   ]
  },
  {
   "cell_type": "code",
   "execution_count": 45,
   "id": "c2b95acb-2b78-4a3c-a1ce-bccffd08d7c6",
   "metadata": {},
   "outputs": [
    {
     "name": "stdin",
     "output_type": "stream",
     "text": [
      "Enter the number of table you want to print: 5\n"
     ]
    },
    {
     "name": "stdout",
     "output_type": "stream",
     "text": [
      "5 * 1 = 5\n",
      "5 * 2 = 10\n",
      "5 * 3 = 15\n",
      "5 * 4 = 20\n",
      "5 * 5 = 25\n",
      "5 * 6 = 30\n",
      "5 * 7 = 35\n",
      "5 * 8 = 40\n",
      "5 * 9 = 45\n",
      "5 * 10 = 50\n"
     ]
    }
   ],
   "source": [
    "n = int(input(\"Enter the number of table you want to print:\"))\n",
    "\n",
    "for i in range(1,11):\n",
    "    print(f\"{n} * {i} = {n*i}\")"
   ]
  },
  {
   "cell_type": "code",
   "execution_count": 46,
   "id": "cd99f0f5-6269-464f-aac2-2b2259888fc5",
   "metadata": {},
   "outputs": [],
   "source": [
    "#13) Write a Python program to reverse a list using a for loop."
   ]
  },
  {
   "cell_type": "code",
   "execution_count": 49,
   "id": "1040f448-b241-4d11-be01-9914e1a76d05",
   "metadata": {},
   "outputs": [
    {
     "name": "stdout",
     "output_type": "stream",
     "text": [
      "[5, 4, 3, 2, 1]\n"
     ]
    }
   ],
   "source": [
    "original_list = [1,2,3,4,5]\n",
    "reversed_list = []\n",
    "\n",
    "for item in reversed(original_list):\n",
    "    reversed_list.append(item)\n",
    "    \n",
    "print(reversed_list)"
   ]
  },
  {
   "cell_type": "code",
   "execution_count": 50,
   "id": "c6619e4e-22eb-4780-8494-f60a7b136eef",
   "metadata": {},
   "outputs": [],
   "source": [
    "#14) Write a Python program to find the common elements between two lists using a for loop"
   ]
  },
  {
   "cell_type": "code",
   "execution_count": 53,
   "id": "d948ff09-8833-4dd2-9722-c649b2e48e9a",
   "metadata": {},
   "outputs": [
    {
     "name": "stdout",
     "output_type": "stream",
     "text": [
      "[12, 14, 36, 74]\n"
     ]
    }
   ],
   "source": [
    "lst_1 = [12,14,25,36,74]\n",
    "lst_2 = [12,36,14,69,74]\n",
    "\n",
    "common_list = []\n",
    "for item in lst_1:\n",
    "    if item in lst_2:\n",
    "        common_list.append(item)\n",
    "print(common_list)"
   ]
  },
  {
   "cell_type": "code",
   "execution_count": 54,
   "id": "e4c5dff6-2eaa-4c62-a366-91972a712c3d",
   "metadata": {},
   "outputs": [],
   "source": [
    "#15) Explain how to use a for loop to iterate through the keys and values of a dictionary in Python"
   ]
  },
  {
   "cell_type": "code",
   "execution_count": null,
   "id": "9e857257-dbd2-4968-aaad-f220970a283d",
   "metadata": {},
   "outputs": [],
   "source": [
    "Iterating through keys:\n",
    "--> Simply loop through the dictionary directly: for key in my_dict:\n",
    "--> Each loop accesses the current key, so use my_dict[key] to get its value.\n",
    "\n",
    "Iterating through values:\n",
    "--> Use for value in my_dict.values():\n",
    "--> This loop directly gives you each value in the dictionary.\n",
    "\n",
    "Iterating through both:\n",
    "--> Use for key, value in my_dict.items():\n",
    "--> This gives you both the current key and its value in each loop."
   ]
  },
  {
   "cell_type": "code",
   "execution_count": 55,
   "id": "d251879c-1caa-4cff-8352-660c5862bd86",
   "metadata": {},
   "outputs": [],
   "source": [
    "#16) Write a Python program to find the GCD (Greatest Common Divisor) of two numbers using a for loop"
   ]
  },
  {
   "cell_type": "code",
   "execution_count": 56,
   "id": "8219b805-1335-47b5-ab57-f5fbc8e6d1a4",
   "metadata": {},
   "outputs": [
    {
     "name": "stdout",
     "output_type": "stream",
     "text": [
      "The GCD of 48 and 18 is: 6\n"
     ]
    }
   ],
   "source": [
    "def find_gcd(a, b):\n",
    "    min_num = min(a, b)\n",
    "    gcd = 1\n",
    "    \n",
    "    for i in range(1, min_num + 1):\n",
    "        if a % i == 0 and b % i == 0:\n",
    "            gcd = i\n",
    "    \n",
    "    return gcd\n",
    "\n",
    "num1 = 48\n",
    "num2 = 18\n",
    "result = find_gcd(num1, num2)\n",
    "\n",
    "print(f\"The GCD of {num1} and {num2} is: {result}\")\n"
   ]
  },
  {
   "cell_type": "code",
   "execution_count": 57,
   "id": "3342fbf2-7c09-4933-95c7-3701dbaf38f9",
   "metadata": {},
   "outputs": [],
   "source": [
    "#17)  Create a Python program that checks if a string is a palindrome using a for loop."
   ]
  },
  {
   "cell_type": "code",
   "execution_count": 62,
   "id": "7dcfa612-e3a0-404d-adc3-d67e41081bdc",
   "metadata": {},
   "outputs": [
    {
     "name": "stdin",
     "output_type": "stream",
     "text": [
      "Enter a string: mom\n"
     ]
    },
    {
     "name": "stdout",
     "output_type": "stream",
     "text": [
      "mom is Palindrome\n",
      "mom is Palindrome\n",
      "mom is Palindrome\n"
     ]
    }
   ],
   "source": [
    "string = input(\"Enter a string:\")\n",
    "\n",
    "for i in string:\n",
    "    if string == string[::-1]:\n",
    "        print(f\"{string} is Palindrome\")\n",
    "    else:\n",
    "        print(f\"{string} is not Palindrome\")"
   ]
  },
  {
   "cell_type": "code",
   "execution_count": 1,
   "id": "5fb7a0d4-7419-43be-8962-4b3bffc1f76b",
   "metadata": {},
   "outputs": [],
   "source": [
    "#18)  Write a Python program to remove duplicates from a list using a for loop"
   ]
  },
  {
   "cell_type": "code",
   "execution_count": 2,
   "id": "c52453bc-c623-4732-ab57-146a73b6569c",
   "metadata": {},
   "outputs": [
    {
     "name": "stdout",
     "output_type": "stream",
     "text": [
      "The list without any duplicates is : [14, 2, 3, 1, 4, 6, 5, 7, 8, 9, 11]\n"
     ]
    }
   ],
   "source": [
    "input_list = [14,2,3,1,4,6,2,3,5,6,7,8,9,11]\n",
    "\n",
    "unique_list = []\n",
    "for item in input_list:\n",
    "    if item not in unique_list:\n",
    "        unique_list.append(item)\n",
    "#update the input_list with unique_list\n",
    "input_list = unique_list\n",
    "\n",
    "print(\"The list without any duplicates is :\",input_list) "
   ]
  },
  {
   "cell_type": "code",
   "execution_count": 3,
   "id": "2332124c-6df4-4699-a393-abb7272030b4",
   "metadata": {},
   "outputs": [],
   "source": [
    "#19) Create a Python program that counts the number of words in a sentence using a for loop."
   ]
  },
  {
   "cell_type": "code",
   "execution_count": 3,
   "id": "479e2c85-5807-4954-afee-5569d926a39a",
   "metadata": {},
   "outputs": [
    {
     "name": "stdout",
     "output_type": "stream",
     "text": [
      "The Words are in  2\n"
     ]
    }
   ],
   "source": [
    "string = \"Hii world\"\n",
    "count = 0\n",
    "\n",
    "for i in string:\n",
    "    if i.isspace():\n",
    "        count += 1\n",
    "        \n",
    "count +=1\n",
    "\n",
    "print(\"The Words are in \",count)"
   ]
  },
  {
   "cell_type": "code",
   "execution_count": 1,
   "id": "8c46ab81-d950-4aad-9235-05f8cb31d748",
   "metadata": {},
   "outputs": [],
   "source": [
    "#20) Write a Python program to find the sum of all odd numbers from 1 to 50 using a for loop"
   ]
  },
  {
   "cell_type": "code",
   "execution_count": 8,
   "id": "669b0f28-fdef-4834-b1a3-2336cb155334",
   "metadata": {},
   "outputs": [
    {
     "name": "stdout",
     "output_type": "stream",
     "text": [
      "The Sum of all Odd numbers from 1 to 50 is: 625\n"
     ]
    }
   ],
   "source": [
    "total = 0\n",
    "for i in range(1,51):\n",
    "    if i%2 !=0 :\n",
    "        total += i\n",
    "print(\"The Sum of all Odd numbers from 1 to 50 is:\",total)"
   ]
  },
  {
   "cell_type": "code",
   "execution_count": 9,
   "id": "7b850e89-e06a-48f6-9d23-c5e8ecec2fa5",
   "metadata": {},
   "outputs": [],
   "source": [
    "#21)  Write a Python program that checks if a given year is a leap year using a for loop"
   ]
  },
  {
   "cell_type": "code",
   "execution_count": 14,
   "id": "609ab3b0-2b98-4603-8fed-9863ad042ae6",
   "metadata": {},
   "outputs": [
    {
     "name": "stdin",
     "output_type": "stream",
     "text": [
      "Enter a year:  2016\n"
     ]
    },
    {
     "name": "stdout",
     "output_type": "stream",
     "text": [
      "2016 is a leap year.\n"
     ]
    }
   ],
   "source": [
    "year = int(input(\"Enter a year: \"))\n",
    "\n",
    "# Check if the year is evenly divisible by 4 and not divisible by 100, or divisible by 400\n",
    "if year % 4 == 0 and (year % 100 != 0 or year % 400 == 0):\n",
    "    print(f\"{year} is a leap year.\")\n",
    "else:\n",
    "    print(f\"{year} is not a leap year.\")\n"
   ]
  },
  {
   "cell_type": "code",
   "execution_count": 15,
   "id": "c0d2a30f-f3b4-41b5-8712-d117bd7d5689",
   "metadata": {},
   "outputs": [],
   "source": [
    "#22) Create a Python program that calculates the square root of a number using a for loop"
   ]
  },
  {
   "cell_type": "code",
   "execution_count": 23,
   "id": "add97f41-1079-4da5-93f8-efaee4ac06d7",
   "metadata": {},
   "outputs": [
    {
     "name": "stdin",
     "output_type": "stream",
     "text": [
      "Enter a number:  625\n"
     ]
    },
    {
     "name": "stdout",
     "output_type": "stream",
     "text": [
      "The square root of 625.0 is approximately 25.00\n"
     ]
    }
   ],
   "source": [
    "number = float(input(\"Enter a number: \"))\n",
    "result = number\n",
    "\n",
    "for _ in range(10):\n",
    "    result = 0.5 * (result + number / result)\n",
    "\n",
    "print(f\"The square root of {number} is approximately {result:.2f}\")\n"
   ]
  },
  {
   "cell_type": "code",
   "execution_count": 24,
   "id": "e57b4118-6af8-493f-8d05-df5fab65ddbc",
   "metadata": {},
   "outputs": [],
   "source": [
    "#23)  Write a Python program to find the LCM (Least Common Multiple) of two numbers using a for loop"
   ]
  },
  {
   "cell_type": "code",
   "execution_count": 25,
   "id": "f9c71bbd-1d90-4b91-8eec-532494e72672",
   "metadata": {},
   "outputs": [
    {
     "name": "stdin",
     "output_type": "stream",
     "text": [
      "Enter the first number:  25\n",
      "Enter the second number:  3\n"
     ]
    },
    {
     "name": "stdout",
     "output_type": "stream",
     "text": [
      "The LCM of 25 and 3 is 75\n"
     ]
    }
   ],
   "source": [
    "def find_lcm(x, y):\n",
    "    # Find the greater number\n",
    "    greater = max(x, y)\n",
    "\n",
    "    # Use a for loop to find the least common multiple\n",
    "    for i in range(greater, x * y + 1, greater):\n",
    "        if i % x == 0 and i % y == 0:\n",
    "            lcm = i\n",
    "            break\n",
    "\n",
    "    return lcm\n",
    "\n",
    "# Take input for two numbers\n",
    "num1 = int(input(\"Enter the first number: \"))\n",
    "num2 = int(input(\"Enter the second number: \"))\n",
    "\n",
    "# Call the function to find the LCM and print the result\n",
    "lcm = find_lcm(num1, num2)\n",
    "print(f\"The LCM of {num1} and {num2} is {lcm}\")"
   ]
  },
  {
   "cell_type": "code",
   "execution_count": 26,
   "id": "4307d141-4af1-4aa3-a68a-ab55fd9476a6",
   "metadata": {},
   "outputs": [],
   "source": [
    "#IF ELSE "
   ]
  },
  {
   "cell_type": "code",
   "execution_count": 27,
   "id": "d64a4524-5ffb-4eae-b402-213e5a12b13a",
   "metadata": {},
   "outputs": [],
   "source": [
    "#1) Write a Python program to check if a number is positive, negative, or zero using an if-else statement."
   ]
  },
  {
   "cell_type": "code",
   "execution_count": 33,
   "id": "b6525b43-142f-44c7-b2b7-0cc4a0a2c067",
   "metadata": {},
   "outputs": [
    {
     "name": "stdin",
     "output_type": "stream",
     "text": [
      "Enter a number: -69\n"
     ]
    },
    {
     "name": "stdout",
     "output_type": "stream",
     "text": [
      "Negative Value Entered.\n"
     ]
    }
   ],
   "source": [
    "n = int(input(\"Enter a number:\"))\n",
    "\n",
    "if n < 0:\n",
    "    print(\"Negative Value Entered.\")\n",
    "elif n ==0 :\n",
    "    print(\"the number is ZERO\")\n",
    "else:\n",
    "    print(\"Positive Value Entered\")"
   ]
  },
  {
   "cell_type": "code",
   "execution_count": 34,
   "id": "79e28c7d-6606-40f9-904f-47b31963100d",
   "metadata": {},
   "outputs": [],
   "source": [
    "#2) Create a Python program that checks if a given number is even or odd using an if-else statement"
   ]
  },
  {
   "cell_type": "code",
   "execution_count": 39,
   "id": "29b00bb9-a64f-49b2-8c10-477e2328902c",
   "metadata": {},
   "outputs": [
    {
     "name": "stdin",
     "output_type": "stream",
     "text": [
      "Enter a number: 25\n"
     ]
    },
    {
     "name": "stdout",
     "output_type": "stream",
     "text": [
      "Number is Odd\n"
     ]
    }
   ],
   "source": [
    "v = int(input(\"Enter a number:\"))\n",
    "\n",
    "if v % 2 == 0:\n",
    "    print(\"Number is Even\")\n",
    "else:\n",
    "    print(\"Number is Odd\")"
   ]
  },
  {
   "cell_type": "code",
   "execution_count": 40,
   "id": "64ee0ebe-d5f4-48b2-a7d4-8450d97baaae",
   "metadata": {},
   "outputs": [],
   "source": [
    "#3) How can you use nested if-else statements in Python, and provide an example?"
   ]
  },
  {
   "cell_type": "code",
   "execution_count": null,
   "id": "c91fe58b-fe41-433b-b221-39668f165131",
   "metadata": {},
   "outputs": [],
   "source": [
    "#ANSWER\n",
    "Nested if-else statements in Python allow us \n",
    "to have one if-else statement inside another. \n",
    "This is useful for handling more complex conditions."
   ]
  },
  {
   "cell_type": "code",
   "execution_count": 43,
   "id": "7b46649e-3049-47df-8cd8-2cf4862144b9",
   "metadata": {},
   "outputs": [
    {
     "name": "stdin",
     "output_type": "stream",
     "text": [
      "Enter a number:  25\n"
     ]
    },
    {
     "name": "stdout",
     "output_type": "stream",
     "text": [
      "Positive number\n",
      "\tOdd number\n"
     ]
    }
   ],
   "source": [
    "#EXAMPLE\n",
    "num = int(input(\"Enter a number: \"))\n",
    "\n",
    "if num > 0:\n",
    "    print(\"Positive number\")\n",
    "    if num % 2 == 0:\n",
    "        print(\"\\tEven number\")\n",
    "    else:\n",
    "        print(\"\\tOdd number\")\n",
    "else:\n",
    "    print(\"Non-positive number\")"
   ]
  },
  {
   "cell_type": "code",
   "execution_count": 44,
   "id": "f95bc1b0-bd2c-4c19-af56-857395399d0b",
   "metadata": {},
   "outputs": [],
   "source": [
    "#4) Write a Python program to determine the largest of three numbers using if-else."
   ]
  },
  {
   "cell_type": "code",
   "execution_count": 46,
   "id": "a3863f3e-5d74-4ac6-bca7-91cd023983a5",
   "metadata": {},
   "outputs": [
    {
     "name": "stdout",
     "output_type": "stream",
     "text": [
      "85 is Greater\n"
     ]
    }
   ],
   "source": [
    "a, b, c = 25, 85, 69\n",
    "\n",
    "if a>b and a>c :\n",
    "    print(f\"{a} is Greater\")\n",
    "elif b>a and b>c:\n",
    "    print(f\"{b} is Greater\")\n",
    "else:\n",
    "    print(f\"{c} is Greater\")"
   ]
  },
  {
   "cell_type": "code",
   "execution_count": 47,
   "id": "d8c9dd04-a88a-47d6-a3b9-36a9097cbd58",
   "metadata": {},
   "outputs": [],
   "source": [
    "#5) Write a Python program that calculates the absolute value of a number using if-else."
   ]
  },
  {
   "cell_type": "code",
   "execution_count": 51,
   "id": "ab164281-0f19-4650-ac0a-6ae45bbccbc7",
   "metadata": {},
   "outputs": [
    {
     "name": "stdin",
     "output_type": "stream",
     "text": [
      "Enter a number:  -21\n"
     ]
    },
    {
     "name": "stdout",
     "output_type": "stream",
     "text": [
      "The absolute value of -21.0 is 21.0\n"
     ]
    }
   ],
   "source": [
    "number = float(input(\"Enter a number: \"))\n",
    "\n",
    "if number >= 0:\n",
    "    absolute_value = number\n",
    "else:\n",
    "    absolute_value = -number\n",
    "\n",
    "# Print the result\n",
    "print(f\"The absolute value of {number} is {absolute_value}\")\n"
   ]
  },
  {
   "cell_type": "code",
   "execution_count": 52,
   "id": "7bfd75ac-27b7-4f9d-9f81-850caa5e31b7",
   "metadata": {},
   "outputs": [],
   "source": [
    "#6) Create a Python program that checks if a given character is a vowel or consonant using if-else."
   ]
  },
  {
   "cell_type": "code",
   "execution_count": 53,
   "id": "3571fb00-c89d-4865-a89a-f6ce0d0e8494",
   "metadata": {},
   "outputs": [
    {
     "name": "stdin",
     "output_type": "stream",
     "text": [
      "Enter a character:  74\n"
     ]
    },
    {
     "name": "stdout",
     "output_type": "stream",
     "text": [
      "The character 74 is a consonant.\n"
     ]
    }
   ],
   "source": [
    "char = input(\"Enter a character: \")\n",
    "\n",
    "if char.lower() in ['a', 'e', 'i', 'o', 'u']:\n",
    "    print(f\"The character {char} is a vowel.\")\n",
    "else:\n",
    "    print(f\"The character {char} is a consonant.\")\n"
   ]
  },
  {
   "cell_type": "code",
   "execution_count": 54,
   "id": "b7cb413b-d222-4b5c-935e-b459824779e0",
   "metadata": {},
   "outputs": [],
   "source": [
    "#7) Write a Python program to determine if a user is eligible to vote based on their age using if-else"
   ]
  },
  {
   "cell_type": "code",
   "execution_count": 56,
   "id": "303a54d6-aaa5-477a-97d0-461b3510dc50",
   "metadata": {},
   "outputs": [
    {
     "name": "stdin",
     "output_type": "stream",
     "text": [
      "Enter your age:  21\n"
     ]
    },
    {
     "name": "stdout",
     "output_type": "stream",
     "text": [
      "You are eligible to vote.\n"
     ]
    }
   ],
   "source": [
    "age = int(input(\"Enter your age: \"))\n",
    "\n",
    "if age >= 18:\n",
    "    print(\"You are eligible to vote.\")\n",
    "else:\n",
    "    print(\"You are not eligible to vote yet.\")\n"
   ]
  },
  {
   "cell_type": "code",
   "execution_count": 57,
   "id": "11aa0ffe-ab3e-4817-801f-516a2c1d15d4",
   "metadata": {},
   "outputs": [],
   "source": [
    "#8) Create a Python program that calculates the discount amount based on the purchase amount using if-else."
   ]
  },
  {
   "cell_type": "code",
   "execution_count": 58,
   "id": "8d937b15-fae7-45d7-b176-3268e7d4ab4a",
   "metadata": {},
   "outputs": [
    {
     "name": "stdin",
     "output_type": "stream",
     "text": [
      "Enter the purchase amount:  1400\n"
     ]
    },
    {
     "name": "stdout",
     "output_type": "stream",
     "text": [
      "Purchase Amount: $1400.00\n",
      "Discount Rate: 10.0%\n",
      "Discount Amount: $140.00\n",
      "Final Amount after Discount: $1260.00\n"
     ]
    }
   ],
   "source": [
    "purchase_amount = float(input(\"Enter the purchase amount: \"))\n",
    "\n",
    "if purchase_amount >= 1000:\n",
    "    discount_rate = 0.1\n",
    "else:\n",
    "    discount_rate = 0\n",
    "\n",
    "discount_amount = purchase_amount * discount_rate\n",
    "final_amount = purchase_amount - discount_amount\n",
    "\n",
    "print(f\"Purchase Amount: ${purchase_amount:.2f}\")\n",
    "print(f\"Discount Rate: {discount_rate * 100}%\")\n",
    "print(f\"Discount Amount: ${discount_amount:.2f}\")\n",
    "print(f\"Final Amount after Discount: ${final_amount:.2f}\")"
   ]
  },
  {
   "cell_type": "code",
   "execution_count": 59,
   "id": "15a77696-e525-4871-b5c3-bd98ae2861a9",
   "metadata": {},
   "outputs": [],
   "source": [
    "#9) Write a Python program to check if a number is within a specified range using if-else"
   ]
  },
  {
   "cell_type": "code",
   "execution_count": 61,
   "id": "33f4e6eb-369a-425c-802b-5019bcd7c606",
   "metadata": {},
   "outputs": [
    {
     "name": "stdin",
     "output_type": "stream",
     "text": [
      "Enter a number:  52\n"
     ]
    },
    {
     "name": "stdout",
     "output_type": "stream",
     "text": [
      "52 is outside the specified range.\n"
     ]
    }
   ],
   "source": [
    "lower_limit = 10\n",
    "upper_limit = 50\n",
    "\n",
    "number = int(input(\"Enter a number: \"))\n",
    "\n",
    "if lower_limit <= number <= upper_limit:\n",
    "    print(f\"{number} is within the specified range.\")\n",
    "else:\n",
    "    print(f\"{number} is outside the specified range.\")"
   ]
  },
  {
   "cell_type": "code",
   "execution_count": 62,
   "id": "3490e353-1356-41f4-96d5-b8e761c5fb18",
   "metadata": {},
   "outputs": [],
   "source": [
    "#10) Create a Python program that determines the grade of a student based on their score using if-else."
   ]
  },
  {
   "cell_type": "code",
   "execution_count": 66,
   "id": "0166c234-794f-42d2-843a-0191fc402249",
   "metadata": {},
   "outputs": [
    {
     "name": "stdin",
     "output_type": "stream",
     "text": [
      "Enter the student's score:  90\n"
     ]
    },
    {
     "name": "stdout",
     "output_type": "stream",
     "text": [
      "The student's grade is: A\n"
     ]
    }
   ],
   "source": [
    "score = float(input(\"Enter the student's score: \"))\n",
    "\n",
    "if 90 <= score <= 100:\n",
    "    grade = 'A'\n",
    "elif 80 <= score < 90:\n",
    "    grade = 'B'\n",
    "elif 70 <= score < 80:\n",
    "    grade = 'C'\n",
    "elif 60 <= score < 70:\n",
    "    grade = 'D'\n",
    "elif 0 <= score < 60:\n",
    "    grade = 'F'\n",
    "else:\n",
    "    print(\"Invalid score entered.\")\n",
    "    exit()\n",
    "\n",
    "print(f\"The student's grade is: {grade}\")\n"
   ]
  },
  {
   "cell_type": "code",
   "execution_count": 67,
   "id": "d76652b7-f762-446a-8a75-d474f64a246b",
   "metadata": {},
   "outputs": [],
   "source": [
    "#11) Write a Python program to check if a string is empty or not using if-else."
   ]
  },
  {
   "cell_type": "code",
   "execution_count": 70,
   "id": "01bd6bb9-8793-4af8-963d-0d5dc5ff2c20",
   "metadata": {},
   "outputs": [
    {
     "name": "stdin",
     "output_type": "stream",
     "text": [
      "Enter a string:  Rehaan\n"
     ]
    },
    {
     "name": "stdout",
     "output_type": "stream",
     "text": [
      "The string is not empty.\n"
     ]
    }
   ],
   "source": [
    "user_input = input(\"Enter a string: \")\n",
    "\n",
    "if user_input:\n",
    "    print(\"The string is not empty.\")\n",
    "else:\n",
    "    print(\"The string is empty.\")\n"
   ]
  },
  {
   "cell_type": "code",
   "execution_count": 73,
   "id": "37be7ad8-f4c1-43d2-b256-2d5d718927b7",
   "metadata": {},
   "outputs": [],
   "source": [
    "#12) Create a Python program that identifies the type of a triangle \n",
    "# (e.g., equilateral, isosceles, or scalene) based on input values using if-else."
   ]
  },
  {
   "cell_type": "code",
   "execution_count": 78,
   "id": "ae33482c-8393-43af-8a8b-99b828c73521",
   "metadata": {},
   "outputs": [
    {
     "name": "stdin",
     "output_type": "stream",
     "text": [
      "Enter the side of triangle: 25\n",
      "Enter the side of triangle: 14\n",
      "Enter the side of triangle: 36\n"
     ]
    },
    {
     "name": "stdout",
     "output_type": "stream",
     "text": [
      "Above lengths made a SCALENE TRIANGLE.\n"
     ]
    }
   ],
   "source": [
    "a = float(input(\"Enter the side of triangle:\"))\n",
    "b = float(input(\"Enter the side of triangle:\"))\n",
    "c = float(input(\"Enter the side of triangle:\"))\n",
    "\n",
    "if a == b == c:\n",
    "    print(\"Above lengths made a Equilateral Triangle.\")\n",
    "elif a==b or b==c or a==c :\n",
    "    print(\"Above lengths made a ISSOCELES TRIANGLE.\")\n",
    "else:\n",
    "    print(\"Above lengths made a SCALENE TRIANGLE.\")"
   ]
  },
  {
   "cell_type": "code",
   "execution_count": 79,
   "id": "fb49a321-c7b7-4b15-9757-99b621149bb7",
   "metadata": {},
   "outputs": [],
   "source": [
    "#13) Write a Python program to determine the day of the week based on a user-provided number using if-else."
   ]
  },
  {
   "cell_type": "code",
   "execution_count": 90,
   "id": "2adcc35d-67b2-4e09-a09d-9edfef67de70",
   "metadata": {},
   "outputs": [
    {
     "name": "stdin",
     "output_type": "stream",
     "text": [
      "Enter a number : 1\n"
     ]
    },
    {
     "name": "stdout",
     "output_type": "stream",
     "text": [
      "Sunday\n"
     ]
    }
   ],
   "source": [
    "n = int(input(\"Enter a number :\"))\n",
    "\n",
    "if n<1 or n>7:\n",
    "    print(\"Inavlid Number Entered\")\n",
    "elif n == 1:\n",
    "    print(\"Sunday\")\n",
    "elif n ==2 :\n",
    "    print(\"Monday\")\n",
    "elif n == 3:\n",
    "    print(\"Tuesday\")\n",
    "elif n == 4:\n",
    "    print(\"Wednesday\")\n",
    "elif n == 5:\n",
    "    print(\"Thursday\")\n",
    "elif n == 6:\n",
    "    print(\"Friday\")\n",
    "elif n == 7:\n",
    "    print(\"Saturday\")"
   ]
  },
  {
   "cell_type": "code",
   "execution_count": 91,
   "id": "6e2a4668-88ec-4b56-bfb8-34f05fa3959c",
   "metadata": {},
   "outputs": [],
   "source": [
    "#14) Create a Python program that checks if a given year is a leap year using both if-else and a function."
   ]
  },
  {
   "cell_type": "code",
   "execution_count": 92,
   "id": "7778ff81-59cc-41a5-9da7-7193522d205d",
   "metadata": {},
   "outputs": [],
   "source": [
    "def find_leap(n):\n",
    "    if n % 4 == 0 and (n % 100 != 0 or n % 400 == 0):\n",
    "        return \"It's a Leap Year\"\n",
    "    else:\n",
    "        return \"It's not a Leap Year\""
   ]
  },
  {
   "cell_type": "code",
   "execution_count": 93,
   "id": "0a48f6e5-e408-401f-8eec-0b9f821fa379",
   "metadata": {},
   "outputs": [
    {
     "data": {
      "text/plain": [
       "\"It's a Leap Year\""
      ]
     },
     "execution_count": 93,
     "metadata": {},
     "output_type": "execute_result"
    }
   ],
   "source": [
    "find_leap(2012)"
   ]
  },
  {
   "cell_type": "code",
   "execution_count": 94,
   "id": "57a606b5-29ba-4048-8446-f3bac1eed686",
   "metadata": {},
   "outputs": [],
   "source": [
    "#15) How do you use the \"assert\" statement in Python to add debugging checks within if-else blocks?"
   ]
  },
  {
   "cell_type": "code",
   "execution_count": null,
   "id": "0055f74e-6bf9-47c8-99a7-d086e97f544f",
   "metadata": {},
   "outputs": [],
   "source": [
    "The assert statement in Python is used for debugging purposes. \n",
    "It evaluates an expression, and if the expression is false, \n",
    "it raises an AssertionError exception along with an optional error message. \n",
    "It's often used to add sanity checks within the code during development."
   ]
  },
  {
   "cell_type": "code",
   "execution_count": 95,
   "id": "fa2f27a6-bc71-4ce9-bea4-e90d8a856d14",
   "metadata": {},
   "outputs": [],
   "source": [
    "#16) Create a Python program that determines the eligibility of a person for a senior citizen discount based on age using if-else."
   ]
  },
  {
   "cell_type": "code",
   "execution_count": 101,
   "id": "da680983-150f-4998-903e-665dbb13428f",
   "metadata": {},
   "outputs": [
    {
     "name": "stdin",
     "output_type": "stream",
     "text": [
      "Enter the age: 69\n"
     ]
    },
    {
     "name": "stdout",
     "output_type": "stream",
     "text": [
      "Eligible for Senior Citizen\n"
     ]
    }
   ],
   "source": [
    "n = int(input(\"Enter the age:\"))\n",
    "\n",
    "if n <= 0:\n",
    "    print(\"Invalid Age\")\n",
    "elif 0 < n < 60:\n",
    "    print(\"Not eligible for Senior Citizen\")\n",
    "elif 60 <= n <=100:\n",
    "    print(\"Eligible for Senior Citizen\")\n",
    "else:\n",
    "    print(\"Person is Dead.\")"
   ]
  },
  {
   "cell_type": "code",
   "execution_count": 102,
   "id": "954a58a3-cb6e-4b69-8a21-cd081729e748",
   "metadata": {},
   "outputs": [],
   "source": [
    "#17) Write a Python program to categorize a given character as uppercase, lowercase, or neither using if-else"
   ]
  },
  {
   "cell_type": "code",
   "execution_count": 112,
   "id": "92e52c9b-31ee-4386-b83b-11d94617aac7",
   "metadata": {},
   "outputs": [
    {
     "name": "stdin",
     "output_type": "stream",
     "text": [
      "Enter a character: U\n"
     ]
    },
    {
     "name": "stdout",
     "output_type": "stream",
     "text": [
      "Character is Uppercase\n"
     ]
    }
   ],
   "source": [
    "char = input(\"Enter a character:\")\n",
    "\n",
    "if char.isalpha() and char.isupper():\n",
    "    print(\"Character is Uppercase\")\n",
    "elif char.isalpha() and char.islower():\n",
    "    print(\"Character is Lowercase\")\n",
    "else:\n",
    "    print(\"Neither\")"
   ]
  },
  {
   "cell_type": "code",
   "execution_count": 1,
   "id": "e9611cff-39b6-44d7-b178-7e6ba7cbbec4",
   "metadata": {},
   "outputs": [],
   "source": [
    "#18)  Write a Python program to determine the roots of a quadratic equation using if-else"
   ]
  },
  {
   "cell_type": "code",
   "execution_count": 2,
   "id": "9825b297-2841-4b43-89e2-72118dfe88da",
   "metadata": {},
   "outputs": [
    {
     "name": "stdin",
     "output_type": "stream",
     "text": [
      "Enter the coefficient a:  5\n",
      "Enter the coefficient b:  7\n",
      "Enter the coefficient c:  3\n"
     ]
    },
    {
     "name": "stdout",
     "output_type": "stream",
     "text": [
      "Roots are complex. Root 1: -0.7 + 0.33166247903553997j, Root 2: -0.7 - 0.33166247903553997j\n"
     ]
    }
   ],
   "source": [
    "a = float(input(\"Enter the coefficient a: \"))\n",
    "b = float(input(\"Enter the coefficient b: \"))\n",
    "c = float(input(\"Enter the coefficient c: \"))\n",
    "\n",
    "#  discriminant\n",
    "discriminant = b**2 - 4 * a * c\n",
    "\n",
    "# Check the nature of roots using if-else\n",
    "if discriminant > 0:\n",
    "    root1 = (-b + (discriminant)**0.5) / (2 * a)\n",
    "    root2 = (-b - (discriminant)**0.5) / (2 * a)\n",
    "    print(f\"Roots are real and different. Root 1: {root1}, Root 2: {root2}\")\n",
    "elif discriminant == 0:\n",
    "    root = -b / (2 * a)\n",
    "    print(f\"Roots are real and identical. Root: {root}\")\n",
    "else:\n",
    "    real_part = -b / (2 * a)\n",
    "    imaginary_part = (abs(discriminant)**0.5) / (2 * a)\n",
    "    print(f\"Roots are complex. Root 1: {real_part} + {imaginary_part}j, Root 2: {real_part} - {imaginary_part}j\")\n"
   ]
  },
  {
   "cell_type": "code",
   "execution_count": 3,
   "id": "2bf41d79-1009-4ac8-9c60-aa13e42450a0",
   "metadata": {},
   "outputs": [],
   "source": [
    "#19)  Create a Python program that checks if a given year is a century year or not using if-else"
   ]
  },
  {
   "cell_type": "code",
   "execution_count": 7,
   "id": "87145bce-4a08-4441-a4eb-6b0695596d29",
   "metadata": {},
   "outputs": [
    {
     "name": "stdin",
     "output_type": "stream",
     "text": [
      "Enter a year:  2000\n"
     ]
    },
    {
     "name": "stdout",
     "output_type": "stream",
     "text": [
      "2000 is a century year.\n"
     ]
    }
   ],
   "source": [
    "year = int(input(\"Enter a year: \"))\n",
    "\n",
    "# Check if the year is a century year using if-else\n",
    "if year % 100 == 0:\n",
    "    print(f\"{year} is a century year.\")\n",
    "else:\n",
    "    print(f\"{year} is not a century year.\")\n"
   ]
  },
  {
   "cell_type": "code",
   "execution_count": 8,
   "id": "204b41dd-28bd-4ab8-8a4f-43138cd8fb1f",
   "metadata": {},
   "outputs": [],
   "source": [
    "#20) Write a Python program to determine if a given number is a perfect square using if-else."
   ]
  },
  {
   "cell_type": "code",
   "execution_count": 9,
   "id": "8a9f6fcf-8055-423b-867c-a939081fa0e7",
   "metadata": {},
   "outputs": [
    {
     "name": "stdin",
     "output_type": "stream",
     "text": [
      "Enter a number:  25\n"
     ]
    },
    {
     "name": "stdout",
     "output_type": "stream",
     "text": [
      "25 is a perfect square.\n"
     ]
    }
   ],
   "source": [
    "number = int(input(\"Enter a number: \"))\n",
    "\n",
    "# Check if the number is a perfect square using if-else\n",
    "if number < 0:\n",
    "    print(\"Please enter a non-negative number.\")\n",
    "else:\n",
    "    square_root = int(number**0.5)\n",
    "    if square_root**2 == number:\n",
    "        print(f\"{number} is a perfect square.\")\n",
    "    else:\n",
    "        print(f\"{number} is not a perfect square.\")\n"
   ]
  },
  {
   "cell_type": "code",
   "execution_count": 10,
   "id": "a2b9f19a-a866-478d-b175-05d12ece1d8f",
   "metadata": {},
   "outputs": [],
   "source": [
    "#21) Explain the purpose of the \"continue\" and \"break\" statements within if-else loops."
   ]
  },
  {
   "cell_type": "code",
   "execution_count": null,
   "id": "bde78c72-f3cb-4ae4-82c6-5be592e410fb",
   "metadata": {},
   "outputs": [],
   "source": [
    "continue statement:\n",
    "\n",
    "-> The continue statement is used to skip the rest of the code inside a loop for the current iteration and proceed to the next iteration.\n",
    "-> It is typically used when you want to skip certain parts of the loop body based on a condition, and move on to the next iteration.\n",
    "\n",
    "break statement:\n",
    "\n",
    "-> The break statement is used to exit a loop prematurely, regardless of the loop condition. When encountered, it immediately terminates the entire loop.\n",
    "-> It is typically used when a certain condition is met, and there is no need to continue with the remaining iterations of the loop."
   ]
  },
  {
   "cell_type": "code",
   "execution_count": 11,
   "id": "59c2ab82-2159-4f72-a710-28f0b6ec10b6",
   "metadata": {},
   "outputs": [],
   "source": [
    "#22) Create a Python program that calculates the BMI (Body Mass Index) of a person based on their weight and height using if-else."
   ]
  },
  {
   "cell_type": "code",
   "execution_count": 13,
   "id": "6f122cb2-ff99-41ea-b4fb-4878daff62b4",
   "metadata": {},
   "outputs": [
    {
     "name": "stdin",
     "output_type": "stream",
     "text": [
      "Enter weight in kilograms:  65\n",
      "Enter height in meters:  2.5\n"
     ]
    },
    {
     "name": "stdout",
     "output_type": "stream",
     "text": [
      "Body Mass Index (BMI): 10.40\n",
      "Category: Underweight\n"
     ]
    }
   ],
   "source": [
    "weight = float(input(\"Enter weight in kilograms: \"))\n",
    "height = float(input(\"Enter height in meters: \"))\n",
    "\n",
    "# Calculate BMI using if-else\n",
    "bmi = weight / (height ** 2)\n",
    "\n",
    "if bmi < 18.5:\n",
    "    category = \"Underweight\"\n",
    "elif 18.5 <= bmi < 24.9:\n",
    "    category = \"Normal weight\"\n",
    "elif 25 <= bmi < 29.9:\n",
    "    category = \"Overweight\"\n",
    "else:\n",
    "    category = \"Obese\"\n",
    "\n",
    "# Print the BMI and category\n",
    "print(f\"Body Mass Index (BMI): {bmi:.2f}\")\n",
    "print(f\"Category: {category}\")\n"
   ]
  },
  {
   "cell_type": "code",
   "execution_count": 14,
   "id": "5234c220-6bb1-4a43-96df-72a9e53cce92",
   "metadata": {},
   "outputs": [],
   "source": [
    "#23) How can you use the \"filter()\" function with if-else statements to filter elements from a list?"
   ]
  },
  {
   "cell_type": "code",
   "execution_count": null,
   "id": "fd3ba53c-543d-4e28-b15c-087fb52a724d",
   "metadata": {},
   "outputs": [],
   "source": [
    "The filter() function is used to filter elements from an iterable (like a list) based on a specified function. \n",
    "The general syntax is filter(function, iterable), where the function returns True or False for each element in the iterable, \n",
    "and only the elements that evaluate to True are included in the result."
   ]
  },
  {
   "cell_type": "code",
   "execution_count": 15,
   "id": "602d5f12-87eb-4116-a3b7-9d4bf7b6bfc1",
   "metadata": {},
   "outputs": [],
   "source": [
    "#24) Write a Python program to determine if a given number is prime or not using if-else."
   ]
  },
  {
   "cell_type": "code",
   "execution_count": 16,
   "id": "a4195885-ef51-4d3a-9e8c-315b1ac0d506",
   "metadata": {},
   "outputs": [
    {
     "name": "stdin",
     "output_type": "stream",
     "text": [
      "Enter a number:  25\n"
     ]
    },
    {
     "name": "stdout",
     "output_type": "stream",
     "text": [
      "25 is not a prime number.\n"
     ]
    }
   ],
   "source": [
    "number = int(input(\"Enter a number: \"))\n",
    "\n",
    "if number > 1:\n",
    "    for i in range(2, int(number**0.5) + 1):\n",
    "        if number % i == 0:\n",
    "            print(f\"{number} is not a prime number.\")\n",
    "            break\n",
    "    else:\n",
    "        print(f\"{number} is a prime number.\")\n",
    "else:\n",
    "    print(f\"{number} is not a prime number.\")\n"
   ]
  },
  {
   "cell_type": "code",
   "execution_count": 1,
   "id": "a3676849-13e8-44b7-80f0-6cc8753699cf",
   "metadata": {},
   "outputs": [],
   "source": [
    "# MAP "
   ]
  },
  {
   "cell_type": "code",
   "execution_count": 2,
   "id": "9b3e97e0-912c-4018-9f9e-7d820c8c4687",
   "metadata": {},
   "outputs": [],
   "source": [
    "#1) Explain the purpose of the `map()` function in Python and provide an example of how it can beused to apply a function to each element of an iterable."
   ]
  },
  {
   "cell_type": "code",
   "execution_count": null,
   "id": "7fae62e6-6686-445b-b591-b5df2dcea027",
   "metadata": {},
   "outputs": [],
   "source": [
    "The map() function in Python is a built-in function that is used to apply a specified function to all the items in an iterable (such as a list, tuple, or string) \n",
    "and return an iterable of the results. The syntax of 'map()' is ----- map(function, iterable, ...)"
   ]
  },
  {
   "cell_type": "code",
   "execution_count": 4,
   "id": "1154f027-ac29-4ec3-a475-ee00724f71b7",
   "metadata": {},
   "outputs": [
    {
     "name": "stdout",
     "output_type": "stream",
     "text": [
      "[1, 4, 9, 16, 25]\n"
     ]
    }
   ],
   "source": [
    "#Example \n",
    "numbers = [1, 2, 3, 4, 5]\n",
    "\n",
    "def square(x):\n",
    "    return x ** 2\n",
    "\n",
    "squared_numbers = map(square, numbers)\n",
    "\n",
    "# Convert the result to a list (as map() returns an iterator)\n",
    "squared_numbers_list = list(squared_numbers)\n",
    "\n",
    "# Print the result\n",
    "print(squared_numbers_list)\n"
   ]
  },
  {
   "cell_type": "code",
   "execution_count": 5,
   "id": "33ed3fb3-53ce-4b0c-b967-0a7e35fd0d29",
   "metadata": {},
   "outputs": [],
   "source": [
    "#2) Write a Python program that uses the `map()` function to square each element of a list ofnumbers."
   ]
  },
  {
   "cell_type": "code",
   "execution_count": 6,
   "id": "c93c5b89-8336-40b2-bf88-c85dc5f33fbd",
   "metadata": {},
   "outputs": [
    {
     "name": "stdout",
     "output_type": "stream",
     "text": [
      "[4, 16, 49, 81, 64, 121]\n"
     ]
    }
   ],
   "source": [
    "lst = [2,4,7,9,8,11]\n",
    "\n",
    "def squares(x):\n",
    "    return x ** 2\n",
    "\n",
    "squared_numbers = map(squares, lst)\n",
    "\n",
    "print(list(squared_numbers))\n",
    "    "
   ]
  },
  {
   "cell_type": "code",
   "execution_count": 1,
   "id": "e567787f-69cd-4cb2-872e-4ac06ad62184",
   "metadata": {},
   "outputs": [],
   "source": [
    "#3) How does the `map()` function differ from a list comprehension in Python, and when would you choose one over the other?"
   ]
  },
  {
   "cell_type": "code",
   "execution_count": null,
   "id": "6e51f57f-3f3c-4a8f-ac13-e5ff02c9e035",
   "metadata": {},
   "outputs": [],
   "source": [
    "map(): Applies a function to all items in an input list (or other iterable) and returns an iterable map object. \n",
    "List Comprehension: A more concise and readable way to create lists. It constructs a new list by applying an expression to each item in an iterable.\n",
    "\n",
    "When to choose one over the other?\n",
    "--> Use map() when you want to apply a function to every item in an iterable without explicitly creating a new list.\n",
    "--> Use list comprehensions when you want to create a new list by applying an expression to each item in an iterable, \n",
    "    especially when the result should be a list. List comprehensions are often more readable and preferred for such cases."
   ]
  },
  {
   "cell_type": "code",
   "execution_count": 2,
   "id": "c1266a90-4d85-4427-91b5-d5670eb0ae16",
   "metadata": {},
   "outputs": [],
   "source": [
    "#4) Create a Python program that uses the `map()` function to convert a list of names to uppercase."
   ]
  },
  {
   "cell_type": "code",
   "execution_count": 8,
   "id": "837604b9-49e2-47cf-a28d-91c07d518fd2",
   "metadata": {},
   "outputs": [
    {
     "name": "stdin",
     "output_type": "stream",
     "text": [
      "Enter the names: Vicky pwskills python devloper\n"
     ]
    },
    {
     "data": {
      "text/plain": [
       "['VICKY', 'PWSKILLS', 'PYTHON', 'DEVLOPER']"
      ]
     },
     "execution_count": 8,
     "metadata": {},
     "output_type": "execute_result"
    }
   ],
   "source": [
    "names = [val for val in input(\"Enter the names:\").split()]\n",
    "\n",
    "list(map(lambda val : val.upper(), names))\n"
   ]
  },
  {
   "cell_type": "code",
   "execution_count": 9,
   "id": "c67b210a-484d-4dd9-b9ed-46f2f04a11ed",
   "metadata": {},
   "outputs": [],
   "source": [
    "#5) Write a Python program that uses the `map()` function to calculate the length of each word in a list of strings"
   ]
  },
  {
   "cell_type": "code",
   "execution_count": 13,
   "id": "6fca6304-8abd-47a6-b468-43ee67469ea5",
   "metadata": {},
   "outputs": [
    {
     "name": "stdin",
     "output_type": "stream",
     "text": [
      "Enter the words. Vicky pwskills data science\n"
     ]
    },
    {
     "name": "stdout",
     "output_type": "stream",
     "text": [
      "The words list is : ['Vicky', 'pwskills', 'data', 'science']\n",
      "[5, 8, 4, 7]\n"
     ]
    }
   ],
   "source": [
    "def count_len(words):\n",
    "    return list(map(len,words))\n",
    "\n",
    "word_list = [val for val in input(\"Enter the words.\").split()]\n",
    "\n",
    "print(\"The words list is :\",word_list)\n",
    "\n",
    "word_length = count_len(word_list)\n",
    "\n",
    "print(word_length)\n"
   ]
  },
  {
   "cell_type": "code",
   "execution_count": 14,
   "id": "8639e37e-dee9-444a-ae97-cf570dc95a98",
   "metadata": {},
   "outputs": [],
   "source": [
    "#6) How can you use the `map()` function to apply a custom function to elements of multiple lists simultaneously in Python?"
   ]
  },
  {
   "cell_type": "code",
   "execution_count": 15,
   "id": "d5040063-eec6-47fa-adcc-a8d05991b73a",
   "metadata": {},
   "outputs": [
    {
     "name": "stdout",
     "output_type": "stream",
     "text": [
      "Result of applying custom function to elements of multiple lists: [5, 12, 21, 32]\n"
     ]
    }
   ],
   "source": [
    "def custom_function(x, y):\n",
    "    return x * y\n",
    "\n",
    "list1 = [1, 2, 3, 4]\n",
    "list2 = [5, 6, 7, 8]\n",
    "\n",
    "result = list(map(custom_function, list1, list2))\n",
    "\n",
    "print(\"Result of applying custom function to elements of multiple lists:\", result)\n"
   ]
  },
  {
   "cell_type": "code",
   "execution_count": 16,
   "id": "27c365b2-9c3d-4c5b-962d-184693539d91",
   "metadata": {},
   "outputs": [],
   "source": [
    "#7) Create a Python program that uses `map()` to convert a list of temperatures from Celsius to Fahrenheit."
   ]
  },
  {
   "cell_type": "code",
   "execution_count": 17,
   "id": "85988a8b-1ae5-427a-80e1-d6d8b2b30549",
   "metadata": {},
   "outputs": [
    {
     "name": "stdout",
     "output_type": "stream",
     "text": [
      "Temperatures in Fahrenheit: [32.0, 50.0, 68.0, 86.0, 104.0]\n"
     ]
    }
   ],
   "source": [
    "def celsius_to_fahrenheit(celsius):\n",
    "    return (celsius * 9/5) + 32\n",
    "\n",
    "temperatures_celsius = [0, 10, 20, 30, 40]\n",
    "\n",
    "temperatures_fahrenheit = list(map(celsius_to_fahrenheit, temperatures_celsius))\n",
    "\n",
    "print(\"Temperatures in Fahrenheit:\", temperatures_fahrenheit)\n"
   ]
  },
  {
   "cell_type": "code",
   "execution_count": 18,
   "id": "3b589b0f-2062-4ee6-8d72-a37cecacb8cb",
   "metadata": {},
   "outputs": [],
   "source": [
    "#8) Write a Python program that uses the `map()` function to round each element of a list of floating-point numbers to the nearest integer."
   ]
  },
  {
   "cell_type": "code",
   "execution_count": 19,
   "id": "a26e5c19-55ba-4451-bbf8-b59ea8c3e650",
   "metadata": {},
   "outputs": [
    {
     "name": "stdout",
     "output_type": "stream",
     "text": [
      "Rounded integers: [3, 3, 2, 5, 1]\n"
     ]
    }
   ],
   "source": [
    "float_numbers = [3.14, 2.718, 1.618, 4.669, 0.577]\n",
    "\n",
    "rounded_integers = list(map(round, float_numbers))\n",
    "\n",
    "print(\"Rounded integers:\", rounded_integers)\n"
   ]
  },
  {
   "cell_type": "code",
   "execution_count": 20,
   "id": "24f2d799-2f68-4bb5-a561-29d6a1f17626",
   "metadata": {},
   "outputs": [],
   "source": [
    "# REDUCE"
   ]
  },
  {
   "cell_type": "code",
   "execution_count": 21,
   "id": "9576fdc9-a0a4-448d-bf71-82a28789e2cb",
   "metadata": {},
   "outputs": [],
   "source": [
    "#1) what is the `reduce()` function in Python, and what module should you import to use it? Provide an example of its basic usage."
   ]
  },
  {
   "cell_type": "code",
   "execution_count": null,
   "id": "b9a257b7-797e-477d-8a56-1cb22a8c04d4",
   "metadata": {},
   "outputs": [],
   "source": [
    "The reduce() function in Python is used to apply a function of two arguments cumulatively to the items of an iterable, \n",
    "from left to right, so as to reduce the iterable to a single value. \n",
    "It's part of the functools module in Python's standard library."
   ]
  },
  {
   "cell_type": "code",
   "execution_count": 22,
   "id": "282e89cd-507e-42be-9e58-3fbed6573930",
   "metadata": {},
   "outputs": [
    {
     "name": "stdout",
     "output_type": "stream",
     "text": [
      "Result of reducing the list using add function: 15\n"
     ]
    }
   ],
   "source": [
    "from functools import reduce\n",
    "\n",
    "def add(x, y):\n",
    "    return x + y\n",
    "\n",
    "numbers = [1, 2, 3, 4, 5]\n",
    "\n",
    "result = reduce(add, numbers)\n",
    "\n",
    "print(\"Result of reducing the list using add function:\", result)\n"
   ]
  },
  {
   "cell_type": "code",
   "execution_count": 23,
   "id": "95c24eba-ef60-48cb-949c-9e11ce331189",
   "metadata": {},
   "outputs": [],
   "source": [
    "#2) Write a Python program that uses the `reduce()` function to find the product of all elements in a list"
   ]
  },
  {
   "cell_type": "code",
   "execution_count": 25,
   "id": "65fb43d0-484f-48d5-9256-dd48a92e3d83",
   "metadata": {},
   "outputs": [
    {
     "name": "stdout",
     "output_type": "stream",
     "text": [
      "Product of all elements in the list: 120\n"
     ]
    }
   ],
   "source": [
    "numbers = [1, 2, 3, 4, 5]\n",
    "\n",
    "def multiply(x, y):\n",
    "    return x * y\n",
    "\n",
    "product = reduce(multiply, numbers)\n",
    "\n",
    "print(\"Product of all elements in the list:\", product)\n"
   ]
  },
  {
   "cell_type": "code",
   "execution_count": 27,
   "id": "d07a4591-fc28-4019-8e9f-bc25be20408b",
   "metadata": {},
   "outputs": [],
   "source": [
    "#3) Create a Python program that uses `reduce()` to find the maximum element in a list of numbers"
   ]
  },
  {
   "cell_type": "code",
   "execution_count": 5,
   "id": "fa8142ca-af81-4053-8054-c12c19a7554b",
   "metadata": {},
   "outputs": [
    {
     "name": "stdout",
     "output_type": "stream",
     "text": [
      "The maximum element in the list is: 9\n"
     ]
    }
   ],
   "source": [
    "from functools import reduce\n",
    "\n",
    "def find_max_element(numbers):\n",
    "    max_element = lambda x, y: x if x > y else y\n",
    "    \n",
    "    # Use reduce() to find the maximum element in the list\n",
    "    result = reduce(max_element, numbers)\n",
    "    \n",
    "    return result\n",
    "\n",
    "numbers_list = [3, 7, 1, 9, 5, 2]\n",
    "maximum_element = find_max_element(numbers_list)\n",
    "\n",
    "print(f\"The maximum element in the list is: {maximum_element}\")\n"
   ]
  },
  {
   "cell_type": "code",
   "execution_count": 6,
   "id": "d48563b3-edbf-4e7d-8a58-feb9a796ed50",
   "metadata": {},
   "outputs": [],
   "source": [
    "#4) How can you use the `reduce()` function to concatenate a list of strings into a single string?"
   ]
  },
  {
   "cell_type": "code",
   "execution_count": 15,
   "id": "39a40c5a-51ba-429c-bc9d-31fe0eba7228",
   "metadata": {},
   "outputs": [
    {
     "name": "stdout",
     "output_type": "stream",
     "text": [
      "The concatenated string is: Hello World!\n"
     ]
    }
   ],
   "source": [
    "def concatenate_strings(string_list):\n",
    "    concatenate = lambda x, y: x + y\n",
    "    result = reduce(concatenate, string_list)\n",
    "    return result\n",
    "\n",
    "strings_list = [\"Hello\", \" \", \"World\", \"!\"]\n",
    "concatenated_string = concatenate_strings(strings_list)\n",
    "\n",
    "print(f\"The concatenated string is: {concatenated_string}\")\n"
   ]
  },
  {
   "cell_type": "code",
   "execution_count": 8,
   "id": "c8c623e9-e3ea-416a-9fbe-4fc7c56c25b1",
   "metadata": {},
   "outputs": [],
   "source": [
    "#5) Write a Python program that calculates the factorial of a number using the `reduce()` function"
   ]
  },
  {
   "cell_type": "code",
   "execution_count": 9,
   "id": "67ab9aab-3724-4ad7-9c66-27e6aa8dd237",
   "metadata": {},
   "outputs": [
    {
     "name": "stdin",
     "output_type": "stream",
     "text": [
      "Enter a number to calculate its factorial:  5\n"
     ]
    },
    {
     "name": "stdout",
     "output_type": "stream",
     "text": [
      "The factorial of 5 is: 120\n"
     ]
    }
   ],
   "source": [
    "def calculate_factorial(number):\n",
    "    if number < 0:\n",
    "        return \"Factorial is not defined for negative numbers\"\n",
    "    elif number == 0 or number == 1:\n",
    "        return 1\n",
    "    else:\n",
    "        factorial = reduce(lambda x, y: x * y, range(1, number + 1))\n",
    "        return factorial\n",
    "\n",
    "user_input = int(input(\"Enter a number to calculate its factorial: \"))\n",
    "result = calculate_factorial(user_input)\n",
    "\n",
    "print(f\"The factorial of {user_input} is: {result}\")\n"
   ]
  },
  {
   "cell_type": "code",
   "execution_count": 10,
   "id": "49a022e0-ca35-4ce3-b7ed-e2ebffc4b5fb",
   "metadata": {},
   "outputs": [],
   "source": [
    "#6) Create a Python program that uses `reduce()` to find the GCD (Greatest Common Divisor) of a list of numbers"
   ]
  },
  {
   "cell_type": "code",
   "execution_count": 14,
   "id": "a98e6556-f267-4e5c-8b4d-33825d3a0094",
   "metadata": {},
   "outputs": [
    {
     "name": "stdout",
     "output_type": "stream",
     "text": [
      "The GCD of the numbers is: 6\n"
     ]
    }
   ],
   "source": [
    "from math import gcd\n",
    "\n",
    "def find_gcd(numbers):\n",
    "    if len(numbers) == 0:\n",
    "        return \"List is empty, GCD is undefined\"\n",
    "    \n",
    "    # Use reduce() with the gcd function to find the GCD of the numbers\n",
    "    result = reduce(gcd, numbers)\n",
    "    \n",
    "    return result\n",
    "\n",
    "numbers_list = [12, 18, 24, 36]\n",
    "gcd_result = find_gcd(numbers_list)\n",
    "\n",
    "print(f\"The GCD of the numbers is: {gcd_result}\")\n"
   ]
  },
  {
   "cell_type": "code",
   "execution_count": 13,
   "id": "a0cbfc3f-6d8c-4ca4-9323-753eb002ad17",
   "metadata": {},
   "outputs": [],
   "source": [
    "#7) Write a Python program that uses the `reduce()` function to find the sum of the digits of a given number."
   ]
  },
  {
   "cell_type": "code",
   "execution_count": 16,
   "id": "e90211fb-7b9f-4da0-a724-7b08939f3782",
   "metadata": {},
   "outputs": [
    {
     "name": "stdin",
     "output_type": "stream",
     "text": [
      "Enter a number to find the sum of its digits:  2541\n"
     ]
    },
    {
     "name": "stdout",
     "output_type": "stream",
     "text": [
      "The sum of the digits of 2541 is: 12\n"
     ]
    }
   ],
   "source": [
    "def sum_of_digits(number):\n",
    "    if not isinstance(number, int) or number < 0:\n",
    "        return \"Invalid input. Please enter a non-negative integer.\"\n",
    "\n",
    "    # Convert the number to a list of its digits as integers\n",
    "    digits = [int(digit) for digit in str(number)]\n",
    "\n",
    "    # Use reduce() to find the sum of the digits\n",
    "    result = reduce(lambda x, y: x + y, digits)\n",
    "\n",
    "    return result\n",
    "\n",
    "user_input = int(input(\"Enter a number to find the sum of its digits: \"))\n",
    "result = sum_of_digits(user_input)\n",
    "\n",
    "print(f\"The sum of the digits of {user_input} is: {result}\")\n"
   ]
  },
  {
   "cell_type": "code",
   "execution_count": 17,
   "id": "101b1a67-2786-414c-a70f-f7370d21ee70",
   "metadata": {},
   "outputs": [],
   "source": [
    "# FILTER"
   ]
  },
  {
   "cell_type": "code",
   "execution_count": 18,
   "id": "a21317c8-40d1-4a1e-8d7a-347477c906d5",
   "metadata": {},
   "outputs": [],
   "source": [
    "#1) Explain the purpose of the `filter()` function in Python and provide an example of how it can be used to filter elements from an iterable."
   ]
  },
  {
   "cell_type": "code",
   "execution_count": null,
   "id": "0964d1e4-045f-49a0-8b2c-07c33ba07c8e",
   "metadata": {},
   "outputs": [],
   "source": [
    "\n",
    "The filter() function in Python is used to filter elements from an iterable (e.g., list, tuple, or string) \n",
    "based on a given function, often referred to as the \"predicate\" function. \n",
    "The purpose of filter() is to create a new iterable that contains only the elements for which the predicate function returns True."
   ]
  },
  {
   "cell_type": "code",
   "execution_count": 19,
   "id": "f103e484-3bcf-405b-a088-7e262964102a",
   "metadata": {},
   "outputs": [
    {
     "name": "stdout",
     "output_type": "stream",
     "text": [
      "Original numbers: [1, 2, 3, 4, 5, 6, 7, 8, 9, 10]\n",
      "Even numbers: [2, 4, 6, 8, 10]\n"
     ]
    }
   ],
   "source": [
    "numbers = [1, 2, 3, 4, 5, 6, 7, 8, 9, 10]\n",
    "\n",
    "def is_even(num):\n",
    "    return num % 2 == 0\n",
    "\n",
    "even_numbers = filter(is_even, numbers)\n",
    "\n",
    "even_numbers_list = list(even_numbers)\n",
    "\n",
    "print(\"Original numbers:\", numbers)\n",
    "print(\"Even numbers:\", even_numbers_list)\n"
   ]
  },
  {
   "cell_type": "code",
   "execution_count": 20,
   "id": "5f9e0c9c-ed4b-4150-aca2-73ad56e42c03",
   "metadata": {},
   "outputs": [],
   "source": [
    "#2) Write a Python program that uses the `filter()` function to select even numbers from a list of integers."
   ]
  },
  {
   "cell_type": "code",
   "execution_count": 21,
   "id": "1c78b230-42fa-49a7-8bc2-679744442afa",
   "metadata": {},
   "outputs": [
    {
     "name": "stdout",
     "output_type": "stream",
     "text": [
      "Original numbers: [1, 2, 3, 4, 5, 6, 7, 8, 9, 10]\n",
      "Even numbers: [2, 4, 6, 8, 10]\n"
     ]
    }
   ],
   "source": [
    "numbers = [1, 2, 3, 4, 5, 6, 7, 8, 9, 10]\n",
    "\n",
    "def is_even(num):\n",
    "    return num % 2 == 0\n",
    "\n",
    "even_numbers = filter(is_even, numbers)\n",
    "\n",
    "even_numbers_list = list(even_numbers)\n",
    "\n",
    "print(\"Original numbers:\", numbers)\n",
    "print(\"Even numbers:\", even_numbers_list)\n"
   ]
  },
  {
   "cell_type": "code",
   "execution_count": 22,
   "id": "8d5cb7a7-eccc-4bc5-b230-d649bd9a2633",
   "metadata": {},
   "outputs": [],
   "source": [
    "#3) Create a Python program that uses the `filter()` function to select names that start with a specific letter from a list of strings."
   ]
  },
  {
   "cell_type": "code",
   "execution_count": 25,
   "id": "d77edf33-7cb3-49d0-801e-d6e2ee4a5db8",
   "metadata": {},
   "outputs": [
    {
     "name": "stdin",
     "output_type": "stream",
     "text": [
      "Enter the specific letter: I\n"
     ]
    },
    {
     "name": "stdout",
     "output_type": "stream",
     "text": [
      "The names starts with I are: ['Incilo']\n"
     ]
    }
   ],
   "source": [
    "names = [\"Rehan\",\"Vicky\",\"Incilo\",\"Pwskills\"]\n",
    "\n",
    "specific_letter = input(\"Enter the specific letter:\")\n",
    "\n",
    "def find_names(num):\n",
    "    return num[0] == specific_letter\n",
    "\n",
    "name = filter(find_names, names)\n",
    "\n",
    "name_list = list(name)\n",
    "\n",
    "print(\"The names starts with {} are: {}\".format(specific_letter, name_list))"
   ]
  },
  {
   "cell_type": "code",
   "execution_count": 26,
   "id": "eb1e0de7-dea5-4ae5-b935-19ae7ae06dfd",
   "metadata": {},
   "outputs": [],
   "source": [
    "#4) Write a Python program that uses the `filter()` function to select prime numbers from a list of integers."
   ]
  },
  {
   "cell_type": "code",
   "execution_count": 27,
   "id": "8f1cb995-a264-44e6-9790-deb819beea1a",
   "metadata": {},
   "outputs": [
    {
     "name": "stdout",
     "output_type": "stream",
     "text": [
      "Original numbers: [1, 2, 3, 4, 5, 6, 7, 8, 9, 10, 11, 12, 13, 14, 15]\n",
      "Prime numbers: [2, 3, 5, 7, 11, 13]\n"
     ]
    }
   ],
   "source": [
    "def is_prime(num):\n",
    "    if num < 2:\n",
    "        return False\n",
    "    for i in range(2, int(num**0.5) + 1):\n",
    "        if num % i == 0:\n",
    "            return False\n",
    "    return True\n",
    "\n",
    "def filter_prime_numbers(numbers):\n",
    "    return filter(is_prime, numbers)\n",
    "\n",
    "numbers_list = [1, 2, 3, 4, 5, 6, 7, 8, 9, 10, 11, 12, 13, 14, 15]\n",
    "\n",
    "prime_numbers = list(filter_prime_numbers(numbers_list))\n",
    "\n",
    "print(\"Original numbers:\", numbers_list)\n",
    "print(\"Prime numbers:\", prime_numbers)\n"
   ]
  },
  {
   "cell_type": "code",
   "execution_count": 28,
   "id": "acf16bff-7f6c-48d4-8447-487610b6623b",
   "metadata": {},
   "outputs": [],
   "source": [
    "#5) How can you use the `filter()` function to remove None values from a list in Python?"
   ]
  },
  {
   "cell_type": "code",
   "execution_count": 29,
   "id": "d1409cd2-c067-4712-9672-cef35847fe60",
   "metadata": {},
   "outputs": [
    {
     "name": "stdout",
     "output_type": "stream",
     "text": [
      "Original list: [1, None, 3, None, 5, 6, None, 8, 9, None]\n",
      "Filtered list (without None values): [1, 3, 5, 6, 8, 9]\n"
     ]
    }
   ],
   "source": [
    "original_list = [1, None, 3, None, 5, 6, None, 8, 9, None]\n",
    "\n",
    "def is_not_none(value):\n",
    "    return value is not None\n",
    "\n",
    "filtered_list = list(filter(is_not_none, original_list))\n",
    "\n",
    "print(\"Original list:\", original_list)\n",
    "print(\"Filtered list (without None values):\", filtered_list)\n"
   ]
  },
  {
   "cell_type": "code",
   "execution_count": 30,
   "id": "81d53aaa-941b-4381-8ede-df2cd2ba5263",
   "metadata": {},
   "outputs": [],
   "source": [
    "#6) Create a Python program that uses `filter()` to select words longer than a certain length from a list of strings."
   ]
  },
  {
   "cell_type": "code",
   "execution_count": 31,
   "id": "24fc6ecc-1229-419e-b9f8-b48e00ba8339",
   "metadata": {},
   "outputs": [
    {
     "name": "stdout",
     "output_type": "stream",
     "text": [
      "Original words: ['apple', 'banana', 'orange', 'grape', 'kiwi', 'watermelon']\n",
      "Words longer than 5 characters: ['banana', 'orange', 'watermelon']\n"
     ]
    }
   ],
   "source": [
    "def filter_long_words(words, min_length):\n",
    "    return filter(lambda word: len(word) > min_length, words)\n",
    "\n",
    "words_list = [\"apple\", \"banana\", \"orange\", \"grape\", \"kiwi\", \"watermelon\"]\n",
    "min_length = 5\n",
    "\n",
    "long_words = list(filter_long_words(words_list, min_length))\n",
    "\n",
    "print(f\"Original words: {words_list}\")\n",
    "print(f\"Words longer than {min_length} characters: {long_words}\")\n"
   ]
  },
  {
   "cell_type": "code",
   "execution_count": 33,
   "id": "39a51a02-4ca3-4e75-9a1a-2245700f1664",
   "metadata": {},
   "outputs": [],
   "source": [
    "#7) Write a Python program that uses the `filter()` function to select elements greater than a specified threshold from a list of values."
   ]
  },
  {
   "cell_type": "code",
   "execution_count": 34,
   "id": "81d6431c-efa3-49c4-8b8f-1a05b6a5465f",
   "metadata": {},
   "outputs": [
    {
     "name": "stdout",
     "output_type": "stream",
     "text": [
      "Original values: [15, 30, 10, 25, 5, 40]\n",
      "Values greater than 20: [30, 25, 40]\n"
     ]
    }
   ],
   "source": [
    "def filter_greater_than_threshold(values, threshold):\n",
    "    return filter(lambda x: x > threshold, values)\n",
    "\n",
    "values_list = [15, 30, 10, 25, 5, 40]\n",
    "threshold = 20\n",
    "\n",
    "selected_values = list(filter_greater_than_threshold(values_list, threshold))\n",
    "\n",
    "print(f\"Original values: {values_list}\")\n",
    "print(f\"Values greater than {threshold}: {selected_values}\")\n"
   ]
  },
  {
   "cell_type": "code",
   "execution_count": 35,
   "id": "97474098-9e6e-4055-bdca-02024c84d390",
   "metadata": {},
   "outputs": [],
   "source": [
    "# RECURSION "
   ]
  },
  {
   "cell_type": "code",
   "execution_count": 36,
   "id": "0394021a-0015-490a-8536-c9ea43bab1c8",
   "metadata": {},
   "outputs": [],
   "source": [
    "#1) Explain the concept of recursion in Python. How does it differ from iteration ?"
   ]
  },
  {
   "cell_type": "code",
   "execution_count": null,
   "id": "a1adb8c9-77cc-4772-bb57-0873ec04e670",
   "metadata": {},
   "outputs": [],
   "source": [
    "Recursion is a programming concept where a function calls itself directly or indirectly in order to solve a problem. \n",
    "In Python, a function that calls itself is said to be a recursive function. \n",
    "Recursive solutions break a problem into smaller sub-problems, \n",
    "and each recursive call works on a smaller instance of the original problem until a base case is reached, \n",
    "at which point the function returns a result without making further recursive calls"
   ]
  },
  {
   "cell_type": "code",
   "execution_count": 38,
   "id": "3f03619f-9e66-4f6d-b15d-abcca621d95f",
   "metadata": {},
   "outputs": [
    {
     "data": {
      "text/plain": [
       "5040"
      ]
     },
     "execution_count": 38,
     "metadata": {},
     "output_type": "execute_result"
    }
   ],
   "source": [
    "def factorial(n):\n",
    "    # Base case: factorial of 0 or 1 is 1\n",
    "    if n == 0 or n == 1:\n",
    "        return 1\n",
    "    else:\n",
    "        # Recursive case: n! = n * (n-1)!\n",
    "        return n * factorial(n - 1)\n",
    "\n",
    "factorial(7)"
   ]
  },
  {
   "cell_type": "code",
   "execution_count": 39,
   "id": "33269f20-16a4-4ba2-9634-092c5d05ce91",
   "metadata": {},
   "outputs": [],
   "source": [
    "#2) Write a Python program to calculate the factorial of a number using recursion."
   ]
  },
  {
   "cell_type": "code",
   "execution_count": 40,
   "id": "f750daa4-2eb0-4f3b-89eb-83430cd785c9",
   "metadata": {},
   "outputs": [
    {
     "data": {
      "text/plain": [
       "120"
      ]
     },
     "execution_count": 40,
     "metadata": {},
     "output_type": "execute_result"
    }
   ],
   "source": [
    "def factorial(n):\n",
    "    # Base case: factorial of 0 or 1 is 1\n",
    "    if n == 0 or n == 1:\n",
    "        return 1\n",
    "    else:\n",
    "        # Recursive case: n! = n * (n-1)!\n",
    "        return n * factorial(n - 1)\n",
    "\n",
    "factorial(5)"
   ]
  },
  {
   "cell_type": "code",
   "execution_count": 41,
   "id": "47b6b692-bc37-4582-9328-23a9a8e073c2",
   "metadata": {},
   "outputs": [],
   "source": [
    "#3) Create a recursive Python function to find the nth Fibonacci number."
   ]
  },
  {
   "cell_type": "code",
   "execution_count": 1,
   "id": "a6da6b37-39ae-4c25-935a-b7d4f773b815",
   "metadata": {},
   "outputs": [
    {
     "name": "stdin",
     "output_type": "stream",
     "text": [
      "Enter the value of n to find the nth Fibonacci number:  8\n"
     ]
    },
    {
     "name": "stdout",
     "output_type": "stream",
     "text": [
      "The 8th Fibonacci number is: 13\n"
     ]
    }
   ],
   "source": [
    "def fibonacci(n):\n",
    "    # Base cases: \n",
    "    if n <= 0:\n",
    "        return \"Invalid input. Please provide a positive integer for n.\"\n",
    "    elif n == 1:\n",
    "        return 0\n",
    "    elif n == 2:\n",
    "        return 1\n",
    "    else:\n",
    "        # Recursive case: Fibonacci(n) = Fibonacci(n-1) + Fibonacci(n-2)\n",
    "        return fibonacci(n - 1) + fibonacci(n - 2)\n",
    "\n",
    "n = int(input(\"Enter the value of n to find the nth Fibonacci number: \"))\n",
    "result = fibonacci(n)\n",
    "\n",
    "print(f\"The {n}th Fibonacci number is: {result}\")\n"
   ]
  },
  {
   "cell_type": "code",
   "execution_count": 2,
   "id": "db936df2-5f9e-41e5-afe8-dba25d973cd2",
   "metadata": {},
   "outputs": [],
   "source": [
    "#4) Write a recursive Python function to calculate the sum of all elements in a list."
   ]
  },
  {
   "cell_type": "code",
   "execution_count": 3,
   "id": "37909428-b219-42f5-b4ae-3f9433da83f8",
   "metadata": {},
   "outputs": [
    {
     "name": "stdout",
     "output_type": "stream",
     "text": [
      "The sum of the elements in the list is: 15\n"
     ]
    }
   ],
   "source": [
    "def recursive_sum(lst):\n",
    "    # Base case: an empty list has a sum of 0\n",
    "    if not lst:\n",
    "        return 0\n",
    "    else:\n",
    "        return lst[0] + recursive_sum(lst[1:])\n",
    "\n",
    "numbers = [1, 2, 3, 4, 5]\n",
    "\n",
    "result = recursive_sum(numbers)\n",
    "\n",
    "print(f\"The sum of the elements in the list is: {result}\")\n"
   ]
  },
  {
   "cell_type": "code",
   "execution_count": 4,
   "id": "9f604cb6-be3f-4e7e-865e-c6eaea141b49",
   "metadata": {},
   "outputs": [],
   "source": [
    "#5) How can you prevent a recursive function from running indefinitely, causing a stack overflow error?"
   ]
  },
  {
   "cell_type": "code",
   "execution_count": null,
   "id": "5572e58e-f6b1-46c4-a82a-ed71f639e68d",
   "metadata": {},
   "outputs": [],
   "source": [
    "To prevent a recursive function from running indefinitely and causing a stack overflow error, \n",
    "we can introduce a termination condition or limit on the depth of recursion. \n",
    "This ensures that the recursion stops after a certain point and does not continue indefinitely."
   ]
  },
  {
   "cell_type": "code",
   "execution_count": 5,
   "id": "38db9061-1c60-4b08-8459-50bce859a129",
   "metadata": {},
   "outputs": [],
   "source": [
    "#6) Create a recursive Python function to find the greatest common divisor (GCD) of two numbers using the Euclidean algorithm"
   ]
  },
  {
   "cell_type": "code",
   "execution_count": 8,
   "id": "8a3bdc91-3dfc-4ca9-8258-3ce63a897709",
   "metadata": {},
   "outputs": [
    {
     "name": "stdin",
     "output_type": "stream",
     "text": [
      "Enter the first number:  25\n",
      "Enter the second number:  30\n"
     ]
    },
    {
     "name": "stdout",
     "output_type": "stream",
     "text": [
      "The GCD of 25 and 30 is: 5\n"
     ]
    }
   ],
   "source": [
    "def euclidean_gcd(a, b):\n",
    "    # Base case: GCD(a, 0) = a\n",
    "    if b == 0:\n",
    "        return a\n",
    "    else:\n",
    "        # Recursive case: GCD(a, b) = GCD(b, a % b)\n",
    "        return euclidean_gcd(b, a % b)\n",
    "\n",
    "num1 = int(input(\"Enter the first number: \"))\n",
    "num2 = int(input(\"Enter the second number: \"))\n",
    "\n",
    "result = euclidean_gcd(num1, num2)\n",
    "\n",
    "print(f\"The GCD of {num1} and {num2} is: {result}\")\n"
   ]
  },
  {
   "cell_type": "code",
   "execution_count": 9,
   "id": "b76598ff-beab-4999-b7dc-0840414d0c62",
   "metadata": {},
   "outputs": [],
   "source": [
    "#7) Write a recursive Python function to reverse a string."
   ]
  },
  {
   "cell_type": "code",
   "execution_count": 10,
   "id": "87a5ff76-4133-451a-b8b6-52ae96c056f4",
   "metadata": {},
   "outputs": [
    {
     "name": "stdin",
     "output_type": "stream",
     "text": [
      "Enter a string to reverse:  Data Science\n"
     ]
    },
    {
     "name": "stdout",
     "output_type": "stream",
     "text": [
      "The reversed string is: ecneicS ataD\n"
     ]
    }
   ],
   "source": [
    "def recursive_reverse_string(input_str):\n",
    "    if len(input_str) <= 1:\n",
    "        return input_str\n",
    "    else:\n",
    "        return recursive_reverse_string(input_str[1:]) + input_str[0]\n",
    "\n",
    "original_string = input(\"Enter a string to reverse: \")\n",
    "\n",
    "reversed_string = recursive_reverse_string(original_string)\n",
    "\n",
    "print(f\"The reversed string is: {reversed_string}\")\n"
   ]
  },
  {
   "cell_type": "code",
   "execution_count": 11,
   "id": "0ed5ac39-e8dd-446c-87a2-2f3d66d84c50",
   "metadata": {},
   "outputs": [],
   "source": [
    "#8) Create a recursive Python function to calculate the power of a number (x^n)."
   ]
  },
  {
   "cell_type": "code",
   "execution_count": 12,
   "id": "3f3b291f-d648-4667-9558-e6ab101da959",
   "metadata": {},
   "outputs": [
    {
     "name": "stdin",
     "output_type": "stream",
     "text": [
      "Enter the base (x):  5\n",
      "Enter the exponent (n):  3\n"
     ]
    },
    {
     "name": "stdout",
     "output_type": "stream",
     "text": [
      "5.0 raised to the power of 3 is: 125.0\n"
     ]
    }
   ],
   "source": [
    "def power(x, n):\n",
    "    if n == 0:\n",
    "        return 1\n",
    "    else:\n",
    "        # Recursive case: x^n = x * x^(n-1)\n",
    "        return x * power(x, n - 1)\n",
    "\n",
    "base = float(input(\"Enter the base (x): \"))\n",
    "exponent = int(input(\"Enter the exponent (n): \"))\n",
    "\n",
    "result = power(base, exponent)\n",
    "\n",
    "print(f\"{base} raised to the power of {exponent} is: {result}\")\n"
   ]
  },
  {
   "cell_type": "code",
   "execution_count": 13,
   "id": "38a5748b-7add-404f-8bc2-26957213e96b",
   "metadata": {},
   "outputs": [],
   "source": [
    "#9) Write a recursive Python function to find all permutations of a given string."
   ]
  },
  {
   "cell_type": "code",
   "execution_count": 19,
   "id": "a83f9eac-acd7-4e05-9022-23ac70874fc3",
   "metadata": {},
   "outputs": [
    {
     "name": "stdin",
     "output_type": "stream",
     "text": [
      "Enter a string:  YOUVA\n"
     ]
    },
    {
     "name": "stdout",
     "output_type": "stream",
     "text": [
      "All permutations of YOUVA: ['YOUVA', 'YOUAV', 'YOVUA', 'YOVAU', 'YOAUV', 'YOAVU', 'YUOVA', 'YUOAV', 'YUVOA', 'YUVAO', 'YUAOV', 'YUAVO', 'YVOUA', 'YVOAU', 'YVUOA', 'YVUAO', 'YVAOU', 'YVAUO', 'YAOUV', 'YAOVU', 'YAUOV', 'YAUVO', 'YAVOU', 'YAVUO', 'OYUVA', 'OYUAV', 'OYVUA', 'OYVAU', 'OYAUV', 'OYAVU', 'OUYVA', 'OUYAV', 'OUVYA', 'OUVAY', 'OUAYV', 'OUAVY', 'OVYUA', 'OVYAU', 'OVUYA', 'OVUAY', 'OVAYU', 'OVAUY', 'OAYUV', 'OAYVU', 'OAUYV', 'OAUVY', 'OAVYU', 'OAVUY', 'UYOVA', 'UYOAV', 'UYVOA', 'UYVAO', 'UYAOV', 'UYAVO', 'UOYVA', 'UOYAV', 'UOVYA', 'UOVAY', 'UOAYV', 'UOAVY', 'UVYOA', 'UVYAO', 'UVOYA', 'UVOAY', 'UVAYO', 'UVAOY', 'UAYOV', 'UAYVO', 'UAOYV', 'UAOVY', 'UAVYO', 'UAVOY', 'VYOUA', 'VYOAU', 'VYUOA', 'VYUAO', 'VYAOU', 'VYAUO', 'VOYUA', 'VOYAU', 'VOUYA', 'VOUAY', 'VOAYU', 'VOAUY', 'VUYOA', 'VUYAO', 'VUOYA', 'VUOAY', 'VUAYO', 'VUAOY', 'VAYOU', 'VAYUO', 'VAOYU', 'VAOUY', 'VAUYO', 'VAUOY', 'AYOUV', 'AYOVU', 'AYUOV', 'AYUVO', 'AYVOU', 'AYVUO', 'AOYUV', 'AOYVU', 'AOUYV', 'AOUVY', 'AOVYU', 'AOVUY', 'AUYOV', 'AUYVO', 'AUOYV', 'AUOVY', 'AUVYO', 'AUVOY', 'AVYOU', 'AVYUO', 'AVOYU', 'AVOUY', 'AVUYO', 'AVUOY']\n"
     ]
    }
   ],
   "source": [
    "def generate_permutations(s):\n",
    "    if len(s) == 1:\n",
    "        return [s]\n",
    "    else:\n",
    "        perms = []\n",
    "        for i, char in enumerate(s):\n",
    "            remaining_chars = s[:i] + s[i+1:]\n",
    "            sub_permutations = generate_permutations(remaining_chars)\n",
    "            for sub_permutation in sub_permutations:\n",
    "                perms.append(char + sub_permutation)\n",
    "        return perms\n",
    "\n",
    "input_string = input(\"Enter a string: \")\n",
    "result = generate_permutations(input_string)\n",
    "print(f\"All permutations of {input_string}: {result}\")\n"
   ]
  },
  {
   "cell_type": "code",
   "execution_count": 20,
   "id": "e4cc29a9-4ac5-4690-9e96-2613326fe5db",
   "metadata": {},
   "outputs": [],
   "source": [
    "#10) Write a recursive Python function to check if a string is a palindrome."
   ]
  },
  {
   "cell_type": "code",
   "execution_count": 21,
   "id": "fa82d0f2-1152-4911-b983-47794565ce5b",
   "metadata": {},
   "outputs": [
    {
     "name": "stdin",
     "output_type": "stream",
     "text": [
      "Enter a string:  Racecar\n"
     ]
    },
    {
     "name": "stdout",
     "output_type": "stream",
     "text": [
      "The string Racecar is a palindrome: True\n"
     ]
    }
   ],
   "source": [
    "def is_palindrome(s):\n",
    "    s = s.lower()  \n",
    "    if len(s) <= 1:\n",
    "        return True\n",
    "    elif s[0] == s[-1]:\n",
    "        return is_palindrome(s[1:-1])\n",
    "    else:\n",
    "        return False\n",
    "\n",
    "input_string = input(\"Enter a string: \")\n",
    "result = is_palindrome(input_string)\n",
    "print(f\"The string {input_string} is a palindrome: {result}\")\n"
   ]
  },
  {
   "cell_type": "code",
   "execution_count": 22,
   "id": "90b645e5-4790-4cfd-8922-a8a2566018c5",
   "metadata": {},
   "outputs": [],
   "source": [
    "#11)  Create a recursive Python function to generate all possible combinations of a list of elements."
   ]
  },
  {
   "cell_type": "code",
   "execution_count": 24,
   "id": "fab16dc1-cd79-47a2-a416-194da1981450",
   "metadata": {},
   "outputs": [
    {
     "name": "stdin",
     "output_type": "stream",
     "text": [
      "Enter elements separated by spaces:  Data Science\n"
     ]
    },
    {
     "name": "stdout",
     "output_type": "stream",
     "text": [
      "All combinations of ['Data', 'Science']: [[], ['Data'], ['Science'], ['Data', 'Science']]\n"
     ]
    }
   ],
   "source": [
    "def generate_combinations(elements):\n",
    "    if len(elements) == 0:\n",
    "        return [[]]\n",
    "    else:\n",
    "        current_element = elements[0]\n",
    "        rest_combinations = generate_combinations(elements[1:])\n",
    "        current_combinations = []\n",
    "        for combination in rest_combinations:\n",
    "            current_combinations.append(combination)\n",
    "            current_combinations.append([current_element] + combination)\n",
    "        return current_combinations\n",
    "\n",
    "input_list = input(\"Enter elements separated by spaces: \").split()\n",
    "result = generate_combinations(input_list)\n",
    "print(f\"All combinations of {input_list}: {result}\")\n"
   ]
  },
  {
   "cell_type": "code",
   "execution_count": 25,
   "id": "63ccfc74-00d3-411c-b6c7-b7c39496d471",
   "metadata": {},
   "outputs": [],
   "source": [
    "# BASICS OF FUNCTIONS"
   ]
  },
  {
   "cell_type": "code",
   "execution_count": 26,
   "id": "948a8f54-0186-4542-ae4c-71ce67cc6b25",
   "metadata": {},
   "outputs": [],
   "source": [
    "#1) What is a function in Python, and why is it used?"
   ]
  },
  {
   "cell_type": "code",
   "execution_count": null,
   "id": "b0cd9f0f-2ff3-4e47-a77a-376d185f30e5",
   "metadata": {},
   "outputs": [],
   "source": [
    "In Python, a function is a reusable block of code that performs a specific task. \n",
    "It takes input, processes it, and produces output. \n",
    "Functions help organize code, make it more readable, and allow us to avoid repeating the same code multiple times. \n",
    "They are used to break down a program into smaller, manageable parts, making it easier to understand, debug, and maintain. \n",
    "Functions promote code reusability and modular programming, enabling developers to write more efficient and structured code."
   ]
  },
  {
   "cell_type": "code",
   "execution_count": 27,
   "id": "8a7822d9-ab5c-4b3a-aca5-521cb092f27c",
   "metadata": {},
   "outputs": [],
   "source": [
    "#2) How do you define a function in Python? Provide an example"
   ]
  },
  {
   "cell_type": "code",
   "execution_count": null,
   "id": "b92bd77b-0379-4652-91e0-7eda16e01f10",
   "metadata": {},
   "outputs": [],
   "source": [
    "In Python, we can define a function using a 'def' keyword. The basic syntax is \n",
    "#Syntax:\n",
    "def function_name(parameters):\n",
    "    # function body \n",
    "    ###############\n",
    "    return result "
   ]
  },
  {
   "cell_type": "code",
   "execution_count": 28,
   "id": "43780513-8f15-4f95-bb8f-689de3ed9135",
   "metadata": {},
   "outputs": [
    {
     "name": "stdout",
     "output_type": "stream",
     "text": [
      "The sum is: 8\n"
     ]
    }
   ],
   "source": [
    "# EXAMPLE\n",
    "def add_numbers(a, b):\n",
    "    sum_result = a + b\n",
    "    return sum_result\n",
    "\n",
    "result = add_numbers(3, 5)\n",
    "print(\"The sum is:\", result)\n"
   ]
  },
  {
   "cell_type": "code",
   "execution_count": 29,
   "id": "66dc8d26-5780-4d02-80c9-0750ec757b91",
   "metadata": {},
   "outputs": [],
   "source": [
    "#3) Explain the difference between a function definition and a function call."
   ]
  },
  {
   "cell_type": "code",
   "execution_count": null,
   "id": "29e9f0ae-9063-4ed5-a14c-ba0354a17d94",
   "metadata": {},
   "outputs": [],
   "source": [
    "# FUNCTION DEFINITION\n",
    "A function definition is where you define the structure and behavior of a function. \n",
    "It specifies what the function does, what parameters it takes, and what it returns (if anything).\n",
    "\n",
    "# FUNCTION CALL\n",
    "A function call is where you actually invoke or use the function in your code. \n",
    "Its when you provide values (arguments) for the parameters defined in the function and execute the code within the function."
   ]
  },
  {
   "cell_type": "code",
   "execution_count": 30,
   "id": "a1005c1c-47e9-4966-b585-8f3f7a45cdae",
   "metadata": {},
   "outputs": [],
   "source": [
    "#4) Write a Python program that defines a function to calculate the sum of two numbers and then calls the function."
   ]
  },
  {
   "cell_type": "code",
   "execution_count": 31,
   "id": "1ff83a27-2ea4-4af3-b161-5b9b4bf8044e",
   "metadata": {},
   "outputs": [
    {
     "name": "stdout",
     "output_type": "stream",
     "text": [
      "The sum is : 39\n"
     ]
    }
   ],
   "source": [
    "def find_sum(a,b):\n",
    "    result = a+b\n",
    "    return result\n",
    "\n",
    "numbers = find_sum(25,14)\n",
    "\n",
    "print(\"The sum is :\",numbers)\n"
   ]
  },
  {
   "cell_type": "code",
   "execution_count": 32,
   "id": "79ca6bba-ca76-46f1-a36c-00f0634ea9e0",
   "metadata": {},
   "outputs": [],
   "source": [
    "#5) What is a function signature, and what information does it typically include?"
   ]
  },
  {
   "cell_type": "code",
   "execution_count": null,
   "id": "a9f8fbfc-250b-4daa-a0eb-42c52d226d1e",
   "metadata": {},
   "outputs": [],
   "source": [
    "A function signature in Python refers to the part of a function declaration or definition that provides essential information about the function. \n",
    "It includes the function's name, parameters, and sometimes the return type. \n",
    "The function signature serves as a concise summary of how the function is supposed to be used.\n",
    "\n",
    "Function Name:\n",
    "\n",
    "This is the name that identifies the function and is used to call it.\n",
    "Parameters:\n",
    "\n",
    "Parameters (or arguments) are the values that the function takes as input. They are enclosed in parentheses ().\n",
    "Parameters may include names and types, indicating what kind of data the function expects.\n",
    "Return Type:\n",
    "\n",
    "For functions that return a value, the return type specifies the type of the value that the function will produce.\n",
    "If a function does not return a value (i.e., it has a None return type), this part may be omitted."
   ]
  },
  {
   "cell_type": "code",
   "execution_count": 33,
   "id": "f46a35a2-8572-428f-adc4-c174df443f6b",
   "metadata": {},
   "outputs": [],
   "source": [
    "#6) Create a Python function that takes two arguments and returns their product."
   ]
  },
  {
   "cell_type": "code",
   "execution_count": 34,
   "id": "b28bc7d5-a8b8-41a4-9bd0-13ba332c027a",
   "metadata": {},
   "outputs": [
    {
     "name": "stdout",
     "output_type": "stream",
     "text": [
      "the product is : 75\n"
     ]
    }
   ],
   "source": [
    "def find_product(a,b):\n",
    "    product = a * b\n",
    "    return product\n",
    "\n",
    "result = find_product(25,3)\n",
    "print(\"the product is :\",result)"
   ]
  },
  {
   "cell_type": "code",
   "execution_count": 35,
   "id": "3200a0ad-a08d-40ee-8b85-080ca823b2de",
   "metadata": {},
   "outputs": [],
   "source": [
    "# Function Parameters and Arguments:"
   ]
  },
  {
   "cell_type": "code",
   "execution_count": 36,
   "id": "032165ac-5418-461b-92f4-0daa2edf15e5",
   "metadata": {},
   "outputs": [],
   "source": [
    "#1) Explain the concepts of formal parameters and actual arguments in Python functions."
   ]
  },
  {
   "cell_type": "code",
   "execution_count": null,
   "id": "d492c4fa-8b16-41dc-9225-126b28db637e",
   "metadata": {},
   "outputs": [],
   "source": [
    "In Python functions, formal parameters and actual arguments are terms related to the variables used to pass information \n",
    "between the calling code (the code that invokes the function) and the function itself.\n",
    "\n",
    "Formal Parameters:\n",
    "--> Formal parameters are the variables listed in the function definition. \n",
    "They act as placeholders for the values that will be supplied when the function is called.\n",
    "\n",
    "Actual Arguments:\n",
    "--> Actual arguments (or arguments) are the values supplied to the function when it is called. \n",
    "They correspond to the formal parameters and provide the actual data that the function will work with."
   ]
  },
  {
   "cell_type": "code",
   "execution_count": 1,
   "id": "fc6e4a88-9078-439b-81da-5c24044d344b",
   "metadata": {},
   "outputs": [],
   "source": [
    "#2) Write a Python program that defines a function with default argument values"
   ]
  },
  {
   "cell_type": "code",
   "execution_count": 3,
   "id": "2f1c33df-cd90-4b54-bea8-cef049ff50a4",
   "metadata": {},
   "outputs": [
    {
     "name": "stdin",
     "output_type": "stream",
     "text": [
      "Enter your name:  Rehan\n"
     ]
    },
    {
     "name": "stdout",
     "output_type": "stream",
     "text": [
      "Hello, Rehan!\n"
     ]
    },
    {
     "name": "stdin",
     "output_type": "stream",
     "text": [
      "Enter your name:  Rehaan\n",
      "Enter a custom greeting (or press Enter to use the default):  Hii\n"
     ]
    },
    {
     "name": "stdout",
     "output_type": "stream",
     "text": [
      "Hii, Rehaan!\n"
     ]
    }
   ],
   "source": [
    "def greet(name, greeting=\"Hello\"):\n",
    "    print(f\"{greeting}, {name}!\")\n",
    "\n",
    "name_input = input(\"Enter your name: \")\n",
    "greet(name_input)\n",
    "\n",
    "name_input = input(\"Enter your name: \")\n",
    "custom_greeting_input = input(\"Enter a custom greeting (or press Enter to use the default): \")\n",
    "\n",
    "# If custom_greeting_input is empty, the default greeting will be used\n",
    "greet(name_input, custom_greeting_input)\n"
   ]
  },
  {
   "cell_type": "code",
   "execution_count": 4,
   "id": "def579fd-0ad1-4dcf-8790-f5f8cdd23260",
   "metadata": {},
   "outputs": [],
   "source": [
    "#3) How do you use keyword arguments in Python function calls? Provide an example."
   ]
  },
  {
   "cell_type": "code",
   "execution_count": 5,
   "id": "ce069646-4845-454e-9474-bc9be09c4eaf",
   "metadata": {},
   "outputs": [
    {
     "name": "stdout",
     "output_type": "stream",
     "text": [
      "Name: Alice, Age: 25, City: New York\n",
      "Name: Bob, Age: 30, City: Unknown\n",
      "Name: Charlie, Age: 22, City: San Francisco\n"
     ]
    }
   ],
   "source": [
    "def display_info(name, age, city=\"Unknown\"):\n",
    "    print(f\"Name: {name}, Age: {age}, City: {city}\")\n",
    "\n",
    "# Example usage with keyword arguments\n",
    "display_info(name=\"Alice\", age=25, city=\"New York\")\n",
    "display_info(name=\"Bob\", age=30)  # City defaults to \"Unknown\"\n",
    "display_info(name=\"Charlie\", age=22, city=\"San Francisco\")\n"
   ]
  },
  {
   "cell_type": "code",
   "execution_count": 6,
   "id": "2e73b689-e41d-467c-a51f-96163ca283bc",
   "metadata": {},
   "outputs": [],
   "source": [
    "#4) Create a Python function that accepts a variable number of arguments and calculates their sum."
   ]
  },
  {
   "cell_type": "code",
   "execution_count": 7,
   "id": "d7f9a666-0790-41a2-b206-7b27e2d5f979",
   "metadata": {},
   "outputs": [
    {
     "name": "stdout",
     "output_type": "stream",
     "text": [
      "The sum is: 15\n",
      "The sum is: 100\n",
      "The sum is: 30\n"
     ]
    }
   ],
   "source": [
    "def calculate_sum(*args):\n",
    "    total_sum = sum(args)\n",
    "    return total_sum\n",
    "\n",
    "result = calculate_sum(1, 2, 3, 4, 5)\n",
    "print(f\"The sum is: {result}\")\n",
    "\n",
    "result = calculate_sum(10, 20, 30, 40)\n",
    "print(f\"The sum is: {result}\")\n",
    "\n",
    "result = calculate_sum(5, 10, 15)\n",
    "print(f\"The sum is: {result}\")\n"
   ]
  },
  {
   "cell_type": "code",
   "execution_count": 8,
   "id": "ed5f3fcd-5030-4f8c-bb02-26ea7ae8bbaf",
   "metadata": {},
   "outputs": [],
   "source": [
    "#5) What is the purpose of the `*args` and `**kwargs` syntax in function parameter lists?"
   ]
  },
  {
   "cell_type": "code",
   "execution_count": null,
   "id": "09793396-0f0b-4745-807f-938c2e4a8f05",
   "metadata": {},
   "outputs": [],
   "source": [
    " The *args syntax allows a function to accept a variable number of positional arguments. It collects these arguments into a tuple."
   ]
  },
  {
   "cell_type": "code",
   "execution_count": null,
   "id": "a1b78b59-52d6-43d0-84fd-3f221b40ff1a",
   "metadata": {},
   "outputs": [],
   "source": [
    "The **kwargs syntax allows a function to accept a variable number of keyword arguments. It collects these arguments into a dictionary."
   ]
  },
  {
   "cell_type": "code",
   "execution_count": 9,
   "id": "cfe8c1a2-2a7a-4aa3-a178-5d5bd66850e1",
   "metadata": {},
   "outputs": [],
   "source": [
    "# RETURN VALUES AND SCOOPING"
   ]
  },
  {
   "cell_type": "code",
   "execution_count": 10,
   "id": "c3612eed-b042-408b-80bc-c2d1f0973f23",
   "metadata": {},
   "outputs": [],
   "source": [
    "#1)  Describe the role of the `return` statement in Python functions and provide exam"
   ]
  },
  {
   "cell_type": "code",
   "execution_count": null,
   "id": "1a67c288-c907-412d-aec0-5501d8f45d8d",
   "metadata": {},
   "outputs": [],
   "source": [
    "The return statement in Python functions is used to specify the value that a function should produce as its output. \n",
    "When a return statement is encountered, the function execution stops, and the specified value is returned to the caller. \n",
    "If no return statement is present, the function implicitly returns None."
   ]
  },
  {
   "cell_type": "code",
   "execution_count": 11,
   "id": "1f86610e-06ed-4dd3-a774-1252d67d849e",
   "metadata": {},
   "outputs": [],
   "source": [
    "#2) Explain the concept of variable scope in Python, including local and global variables"
   ]
  },
  {
   "cell_type": "code",
   "execution_count": null,
   "id": "5c004ef1-93a8-4876-94d4-8dc83e0c0676",
   "metadata": {},
   "outputs": [],
   "source": [
    "LOCAL VARIABLE \n",
    "--> Variables defined within a function have local scope. They are only accessible within that specific function.\n",
    "\n",
    "GLOBAL VARIABLE\n",
    "--> Variables defined outside of any function or block have global scope. They can be accessed from anywhere in the code."
   ]
  },
  {
   "cell_type": "code",
   "execution_count": 12,
   "id": "35454efc-e6e0-452b-b81c-505914163692",
   "metadata": {},
   "outputs": [],
   "source": [
    "#3) Write a Python program that demonstrates the use of global variables within function"
   ]
  },
  {
   "cell_type": "code",
   "execution_count": 16,
   "id": "09446281-3c5f-4a6c-bcc2-d30b754341ce",
   "metadata": {},
   "outputs": [
    {
     "data": {
      "text/plain": [
       "20"
      ]
     },
     "execution_count": 16,
     "metadata": {},
     "output_type": "execute_result"
    }
   ],
   "source": [
    "global_variable = 20\n",
    "\n",
    "def another_function():\n",
    "    return global_variable\n",
    "\n",
    "another_function()"
   ]
  },
  {
   "cell_type": "code",
   "execution_count": 17,
   "id": "f24b8e46-8177-4987-a1aa-44fb3fd06df4",
   "metadata": {},
   "outputs": [],
   "source": [
    "#4) Create a Python function that calculates the factorial of a number and returns it."
   ]
  },
  {
   "cell_type": "code",
   "execution_count": 18,
   "id": "fd05d76c-469a-45d2-94df-6c0c3b157ce0",
   "metadata": {},
   "outputs": [
    {
     "name": "stdin",
     "output_type": "stream",
     "text": [
      "Enter a number to calculate its factorial:  5\n"
     ]
    },
    {
     "name": "stdout",
     "output_type": "stream",
     "text": [
      "The factorial of 5 is: 120\n"
     ]
    }
   ],
   "source": [
    "def factorial(n):\n",
    "    # Base case: factorial of 0 or 1 is 1\n",
    "    if n == 0 or n == 1:\n",
    "        return 1\n",
    "    else:\n",
    "        # Recursive case: n! = n * (n-1)!\n",
    "        return n * factorial(n - 1)\n",
    "\n",
    "# Example usage\n",
    "number = int(input(\"Enter a number to calculate its factorial: \"))\n",
    "result = factorial(number)\n",
    "\n",
    "print(f\"The factorial of {number} is: {result}\")\n"
   ]
  },
  {
   "cell_type": "code",
   "execution_count": 19,
   "id": "96bd4d13-cee4-4392-802c-51c0cf61b05d",
   "metadata": {},
   "outputs": [],
   "source": [
    "#5) How can you access variables defined outside a function from within the function?"
   ]
  },
  {
   "cell_type": "code",
   "execution_count": null,
   "id": "f5492468-3823-40c5-b4ec-9b5a1f61d8a9",
   "metadata": {},
   "outputs": [],
   "source": []
  },
  {
   "cell_type": "code",
   "execution_count": 20,
   "id": "4b37315f-70d8-4e15-9713-c98936657ef7",
   "metadata": {},
   "outputs": [],
   "source": [
    "# LAMBDA FUNCTIONS AND HIGHER-ORDER FUNCTIONS:"
   ]
  },
  {
   "cell_type": "code",
   "execution_count": 21,
   "id": "480329bd-8029-4e16-a417-9b3a386928e4",
   "metadata": {},
   "outputs": [],
   "source": [
    "#1) What are lambda functions in Python, and when are they typically used?"
   ]
  },
  {
   "cell_type": "code",
   "execution_count": null,
   "id": "b6a88b16-4cf4-4160-9578-68e6f44c6c5d",
   "metadata": {},
   "outputs": [],
   "source": [
    "Lambda functions in Python, also known as anonymous functions or lambda expressions, \n",
    "are concise, one-line functions defined using the lambda keyword. \n",
    "They are a way to create small, unnamed functions on the fly. \n",
    "Lambda functions are often used for short, simple operations where a full function definition is unnecessary."
   ]
  },
  {
   "cell_type": "code",
   "execution_count": 22,
   "id": "c0836bc6-9f30-4041-8c86-6087b9594707",
   "metadata": {},
   "outputs": [],
   "source": [
    "#2) Write a Python program that uses lambda functions to sort a list of tuples based on the second element."
   ]
  },
  {
   "cell_type": "code",
   "execution_count": 23,
   "id": "b8cd5dbb-bcee-4ddf-a135-9032034e905b",
   "metadata": {},
   "outputs": [
    {
     "name": "stdout",
     "output_type": "stream",
     "text": [
      "Sorted students based on age:\n",
      "('Bob', 20)\n",
      "('Charlie', 22)\n",
      "('Alice', 25)\n"
     ]
    }
   ],
   "source": [
    "students = [('Alice', 25), ('Bob', 20), ('Charlie', 22)]\n",
    "\n",
    "# Sorting based on the second element of each tuple using a lambda function\n",
    "sorted_students = sorted(students, key=lambda student: student[1])\n",
    "\n",
    "# Displaying the sorted list\n",
    "print(\"Sorted students based on age:\")\n",
    "for student in sorted_students:\n",
    "    print(student)\n"
   ]
  },
  {
   "cell_type": "code",
   "execution_count": 24,
   "id": "e067ba31-aef7-403f-881a-bfa727051fd4",
   "metadata": {},
   "outputs": [],
   "source": [
    "#3) Explain the concept of higher-order functions in Python, and provide an example."
   ]
  },
  {
   "cell_type": "code",
   "execution_count": null,
   "id": "c2cac490-64c0-4e53-816a-90e1dc678fd2",
   "metadata": {},
   "outputs": [],
   "source": [
    "A higher-order function is a function that takes one or more functions as arguments or returns a function as its result. \n",
    "Essentially, a higher-order function treats functions as first-class citizens, \n",
    "allowing them to be manipulated and passed around like other data types such as integers or strings."
   ]
  },
  {
   "cell_type": "code",
   "execution_count": 25,
   "id": "36c5d346-3ac5-4e8a-9f15-ab98ff384a32",
   "metadata": {},
   "outputs": [
    {
     "name": "stdout",
     "output_type": "stream",
     "text": [
      "Result of addition: 7\n",
      "Result of multiplication: 12\n"
     ]
    }
   ],
   "source": [
    "# Higher-order function that takes a function as a parameter\n",
    "def apply_operation(x, y, operation):\n",
    "    return operation(x, y)\n",
    "\n",
    "# Functions to be used as parameters\n",
    "def add(x, y):\n",
    "    return x + y\n",
    "\n",
    "def multiply(x, y):\n",
    "    return x * y\n",
    "\n",
    "\n",
    "result_addition = apply_operation(3, 4, add)\n",
    "result_multiplication = apply_operation(3, 4, multiply)\n",
    "\n",
    "print(\"Result of addition:\", result_addition)            \n",
    "print(\"Result of multiplication:\", result_multiplication) "
   ]
  },
  {
   "cell_type": "code",
   "execution_count": 26,
   "id": "c3dd6b15-6886-47c9-9b60-5b34b78089fb",
   "metadata": {},
   "outputs": [],
   "source": [
    "#4) Create a Python function that takes a list of numbers and a function as arguments, applying the function to each element in the list."
   ]
  },
  {
   "cell_type": "code",
   "execution_count": 27,
   "id": "e58d0914-1cc2-4796-8a7f-1289d3958c2a",
   "metadata": {},
   "outputs": [
    {
     "name": "stdout",
     "output_type": "stream",
     "text": [
      "Original list: [1, 2, 3, 4, 5]\n",
      "List after applying the square function: [1, 4, 9, 16, 25]\n"
     ]
    }
   ],
   "source": [
    "def apply_function_to_list(numbers, custom_function):\n",
    "\n",
    "    result = [custom_function(num) for num in numbers]\n",
    "    return result\n",
    "\n",
    "numbers_list = [1, 2, 3, 4, 5]\n",
    "\n",
    "# Define a custom function (e.g., square)\n",
    "def square(x):\n",
    "    return x ** 2\n",
    "\n",
    "# Apply the custom function to each element in the list\n",
    "result_squared = apply_function_to_list(numbers_list, square)\n",
    "\n",
    "print(\"Original list:\", numbers_list)\n",
    "print(\"List after applying the square function:\", result_squared)\n"
   ]
  },
  {
   "cell_type": "code",
   "execution_count": 28,
   "id": "7b7485e5-7fe5-4ac9-923d-072d1f853d76",
   "metadata": {},
   "outputs": [],
   "source": [
    "# BUILT - IN FUNCTIONS"
   ]
  },
  {
   "cell_type": "code",
   "execution_count": 29,
   "id": "27d73ffa-9099-4e63-bad1-70c978f6c088",
   "metadata": {},
   "outputs": [],
   "source": [
    "#1) Describe the role of built-in functions like `len()`, `max()`, and `min()` in Python."
   ]
  },
  {
   "cell_type": "code",
   "execution_count": null,
   "id": "ac8e39c3-15c2-4ecd-b7a4-adb98c467698",
   "metadata": {},
   "outputs": [],
   "source": [
    "len() --- Calculates and returns the length of an object, such as a string, list, tuple, or dictionary.\n",
    "max() --- Finds and returns the largest element in an iterable or among multiple arguments.\n",
    "min() --- Finds and returns the smallest element in an iterable or among multiple arguments."
   ]
  },
  {
   "cell_type": "code",
   "execution_count": 31,
   "id": "b43f29f1-863b-4356-99d9-c92a9a673a0a",
   "metadata": {},
   "outputs": [],
   "source": [
    "#2) Write a Python program that uses the `map()` function to apply a function to each element of a list."
   ]
  },
  {
   "cell_type": "code",
   "execution_count": 33,
   "id": "99bbcd27-4eca-4237-9528-d0a6244b648c",
   "metadata": {},
   "outputs": [
    {
     "name": "stdout",
     "output_type": "stream",
     "text": [
      "Original numbers: [1, 2, 3, 4, 5]\n",
      "Squared numbers: [1, 4, 9, 16, 25]\n"
     ]
    }
   ],
   "source": [
    "def square(x):\n",
    "    return x ** 2\n",
    "\n",
    "numbers = [1, 2, 3, 4, 5]\n",
    "\n",
    "squared_numbers = map(square, numbers)\n",
    "\n",
    "squared_numbers_list = list(squared_numbers)\n",
    "\n",
    "print(\"Original numbers:\", numbers)\n",
    "print(\"Squared numbers:\", squared_numbers_list)\n"
   ]
  },
  {
   "cell_type": "code",
   "execution_count": 34,
   "id": "fca70217-a599-48cb-aa3b-ec078ea656a9",
   "metadata": {},
   "outputs": [],
   "source": [
    "#3) How does the `filter()` function work in Python, and when would you use it?"
   ]
  },
  {
   "cell_type": "code",
   "execution_count": null,
   "id": "fdd25c40-9dd6-4bd3-9ada-8f7772177f19",
   "metadata": {},
   "outputs": [],
   "source": [
    " 'filter()' function filters out elements based on a specified condition. The basic syntax of the filter() function is:\n",
    "        filter(function, iterable)"
   ]
  },
  {
   "cell_type": "code",
   "execution_count": 35,
   "id": "34124e9a-f5ee-476c-bbc2-3e84ff4bbd53",
   "metadata": {},
   "outputs": [
    {
     "name": "stdout",
     "output_type": "stream",
     "text": [
      "Original numbers: [1, 2, 3, 4, 5, 6, 7, 8, 9, 10]\n",
      "Filtered even numbers: [2, 4, 6, 8, 10]\n"
     ]
    }
   ],
   "source": [
    "def is_even(num):\n",
    "    return num % 2 == 0\n",
    "\n",
    "numbers = [1, 2, 3, 4, 5, 6, 7, 8, 9, 10]\n",
    "\n",
    "filtered_numbers = filter(is_even, numbers)\n",
    "result = list(filtered_numbers)\n",
    "\n",
    "print(\"Original numbers:\", numbers)\n",
    "print(\"Filtered even numbers:\", result)\n"
   ]
  },
  {
   "cell_type": "code",
   "execution_count": 36,
   "id": "2575a495-e316-4822-a669-c736b1afc0dd",
   "metadata": {},
   "outputs": [],
   "source": [
    "#4) Create a Python program that uses the `reduce()` function to find the product of all elements in a list."
   ]
  },
  {
   "cell_type": "code",
   "execution_count": 37,
   "id": "22dd9b23-1936-4524-9c83-e03d60141ca0",
   "metadata": {},
   "outputs": [
    {
     "name": "stdout",
     "output_type": "stream",
     "text": [
      "Original numbers: [2, 3, 4, 5]\n",
      "Product of all numbers: 120\n"
     ]
    }
   ],
   "source": [
    "from functools import reduce\n",
    "\n",
    "def multiply(x, y):\n",
    "    return x * y\n",
    "\n",
    "numbers = [2, 3, 4, 5]\n",
    "\n",
    "product = reduce(multiply, numbers)\n",
    "\n",
    "print(\"Original numbers:\", numbers)\n",
    "print(\"Product of all numbers:\", product)\n"
   ]
  },
  {
   "cell_type": "code",
   "execution_count": 38,
   "id": "cedb981d-7ca5-46e5-ba64-146353892a93",
   "metadata": {},
   "outputs": [],
   "source": [
    "# FUNCTION DOCUMENTATION AND BEST PRACTICES."
   ]
  },
  {
   "cell_type": "code",
   "execution_count": 39,
   "id": "444e6283-2f98-4137-9cdc-28172784d260",
   "metadata": {},
   "outputs": [],
   "source": [
    "#1) Explain the purpose of docstrings in Python functions and how to write them"
   ]
  },
  {
   "cell_type": "code",
   "execution_count": null,
   "id": "31ad77b8-359d-49a3-b4bd-fed9aa34e81f",
   "metadata": {},
   "outputs": [],
   "source": [
    "Docstrings (documentation strings) in Python are used to provide documentation for functions, classes, modules, or methods. \n",
    "They serve the purpose of explaining what the code does, how to use it, and any additional information that a developer or user might need. \n",
    "Properly documented code is easier to understand, maintain, and share."
   ]
  },
  {
   "cell_type": "code",
   "execution_count": null,
   "id": "c864b4a8-a837-4a1a-b257-94b2d5b4b4b4",
   "metadata": {},
   "outputs": [],
   "source": [
    "How to Write Docstrings:\n",
    "\n",
    "1. Location: Docstrings are placed immediately after the function, class, module, or method definition inside triple-quotes (''' ''' or \"\"\" \"\"\").\n",
    "2. Format: While there are different docstring formats (e.g., Google-style, NumPy-style), \n",
    "        the triple-quoted string should describe the purpose, parameters, return values, and any other relevant information.\n",
    "3. Sections: Common sections in docstrings include:\n",
    "     a. Function/Method Description: A brief description of what the function or method does.\n",
    "     b. Parameters: Descriptions of input parameters, including their types and any constraints.\n",
    "     c. Return: Description of the return value or values."
   ]
  },
  {
   "cell_type": "code",
   "execution_count": null,
   "id": "6a8b152a-7c03-4441-bddc-e2dfbb6a3195",
   "metadata": {},
   "outputs": [],
   "source": []
  }
 ],
 "metadata": {
  "kernelspec": {
   "display_name": "Python 3 (ipykernel)",
   "language": "python",
   "name": "python3"
  },
  "language_info": {
   "codemirror_mode": {
    "name": "ipython",
    "version": 3
   },
   "file_extension": ".py",
   "mimetype": "text/x-python",
   "name": "python",
   "nbconvert_exporter": "python",
   "pygments_lexer": "ipython3",
   "version": "3.10.8"
  }
 },
 "nbformat": 4,
 "nbformat_minor": 5
}
