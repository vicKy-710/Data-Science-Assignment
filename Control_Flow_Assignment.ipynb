{
 "cells": [
  {
   "cell_type": "code",
   "execution_count": 1,
   "id": "951b8536-6663-4727-a757-b90d3a2c15c1",
   "metadata": {},
   "outputs": [],
   "source": [
    "#Basic If Else Statements"
   ]
  },
  {
   "cell_type": "code",
   "execution_count": 2,
   "id": "73484867-60ff-4431-b338-ac7808bd6ca8",
   "metadata": {},
   "outputs": [],
   "source": [
    "#1) Write a Python program to check if a given number is positive or negative."
   ]
  },
  {
   "cell_type": "code",
   "execution_count": 5,
   "id": "c52aca22-ad8f-4e9a-88f6-b74ff55508de",
   "metadata": {},
   "outputs": [
    {
     "name": "stdin",
     "output_type": "stream",
     "text": [
      "Enter a number: -3\n"
     ]
    },
    {
     "name": "stdout",
     "output_type": "stream",
     "text": [
      "-3 is Negative\n"
     ]
    }
   ],
   "source": [
    "n = int(input(\"Enter a number:\"))\n",
    "\n",
    "if n < 0:\n",
    "    print(f\"{n} is Negative\")\n",
    "elif n == 0:\n",
    "    print(f\"{n} is Zero\")\n",
    "else:\n",
    "    print(f\"{n} is Positive\")"
   ]
  },
  {
   "cell_type": "code",
   "execution_count": 6,
   "id": "ec4b033e-a20c-44cf-b821-5f1b3a2ac0e2",
   "metadata": {},
   "outputs": [],
   "source": [
    "#2) Create a program that determines if a person is eligible to vote based on their age."
   ]
  },
  {
   "cell_type": "code",
   "execution_count": 8,
   "id": "f639652e-f693-4c81-8c1f-5a918a88e32e",
   "metadata": {},
   "outputs": [
    {
     "name": "stdin",
     "output_type": "stream",
     "text": [
      "Enter your age: 21\n"
     ]
    },
    {
     "name": "stdout",
     "output_type": "stream",
     "text": [
      "You are eligible to Vote.\n"
     ]
    }
   ],
   "source": [
    "age = int(input(\"Enter your age:\"))\n",
    "\n",
    "if age >= 18 :\n",
    "    print(\"You are eligible to Vote.\")\n",
    "else:\n",
    "    print(\"You're not eligible to Vote.\")"
   ]
  },
  {
   "cell_type": "code",
   "execution_count": 9,
   "id": "464e24c4-a15a-4155-b233-157372310344",
   "metadata": {},
   "outputs": [],
   "source": [
    "#3) Develop a program to find the maximum of two numbers using if-else statements."
   ]
  },
  {
   "cell_type": "code",
   "execution_count": 13,
   "id": "fe3ac0eb-574a-4a68-9eec-9ca9f7e60a3d",
   "metadata": {},
   "outputs": [
    {
     "name": "stdin",
     "output_type": "stream",
     "text": [
      "Enter first number: 14\n",
      "Enter second number: 80\n"
     ]
    },
    {
     "name": "stdout",
     "output_type": "stream",
     "text": [
      "80 is maximum.\n"
     ]
    }
   ],
   "source": [
    "a,b = int(input(\"Enter first number:\")), int(input(\"Enter second number:\"))\n",
    "\n",
    "if a>b:\n",
    "    print(f\"{a} is maximum.\")\n",
    "else:\n",
    "    print(f\"{b} is maximum.\")"
   ]
  },
  {
   "cell_type": "code",
   "execution_count": 14,
   "id": "c7b86681-d3eb-420c-8f09-6e0fb45091cf",
   "metadata": {},
   "outputs": [],
   "source": [
    "#4) Write a Python script to classify a given year as a leap year or not."
   ]
  },
  {
   "cell_type": "code",
   "execution_count": 16,
   "id": "5807347d-6976-46e5-9767-529088119c63",
   "metadata": {},
   "outputs": [
    {
     "name": "stdin",
     "output_type": "stream",
     "text": [
      "Enter a Year: 2024\n"
     ]
    },
    {
     "name": "stdout",
     "output_type": "stream",
     "text": [
      "2024 is a LEAP Year.\n"
     ]
    }
   ],
   "source": [
    "year = int(input(\"Enter a Year:\"))\n",
    "\n",
    "if (year % 4 == 0 and year % 100 != 0) or year % 400 == 0:\n",
    "    print(f\"{year} is a LEAP Year.\")\n",
    "else:\n",
    "    print(f\"{year} is not a LEAP Year.\")"
   ]
  },
  {
   "cell_type": "code",
   "execution_count": 17,
   "id": "9792b232-5336-43b1-8ca3-b3d1495172b5",
   "metadata": {},
   "outputs": [],
   "source": [
    "#5) Create a program that checks whether a character is a vowel or a consonant."
   ]
  },
  {
   "cell_type": "code",
   "execution_count": 28,
   "id": "9ad36cc2-46e4-4d91-87e5-ba6d7ce443d7",
   "metadata": {},
   "outputs": [
    {
     "name": "stdin",
     "output_type": "stream",
     "text": [
      "Enter a Alphabet: Z\n"
     ]
    },
    {
     "name": "stdout",
     "output_type": "stream",
     "text": [
      "It's a Consonant.\n"
     ]
    }
   ],
   "source": [
    "char = input(\"Enter a Alphabet:\")\n",
    "\n",
    "if char.lower() in 'aeiou':\n",
    "    print(\"It's a Vowel.\")\n",
    "else:\n",
    "    print(\"It's a Consonant.\")"
   ]
  },
  {
   "cell_type": "code",
   "execution_count": 29,
   "id": "66916245-5302-47a3-95e8-addd367cd2fe",
   "metadata": {},
   "outputs": [],
   "source": [
    "#6) Implement a program to determine whether a given number is even or odd."
   ]
  },
  {
   "cell_type": "code",
   "execution_count": 34,
   "id": "566d15dd-2303-4b87-9f86-32c03bdf5dea",
   "metadata": {},
   "outputs": [
    {
     "name": "stdin",
     "output_type": "stream",
     "text": [
      "Enter a number: 1425\n"
     ]
    },
    {
     "name": "stdout",
     "output_type": "stream",
     "text": [
      "1425 is Odd\n"
     ]
    }
   ],
   "source": [
    "n = int(input(\"Enter a number:\"))\n",
    "\n",
    "if n % 2 == 0:\n",
    "    print(f\"{n} is Even\")\n",
    "else:\n",
    "    print(f\"{n} is Odd\")"
   ]
  },
  {
   "cell_type": "code",
   "execution_count": 35,
   "id": "5b541873-ef36-416d-bb30-e507bc41a454",
   "metadata": {},
   "outputs": [],
   "source": [
    "#7) Write a Python function to calculate the absolute value of a number without using the `abs()` function."
   ]
  },
  {
   "cell_type": "code",
   "execution_count": 38,
   "id": "bfdf6f4a-0f92-4398-bec4-78a36214a3f6",
   "metadata": {},
   "outputs": [
    {
     "name": "stdin",
     "output_type": "stream",
     "text": [
      "Enter a number: 0\n"
     ]
    },
    {
     "data": {
      "text/plain": [
       "0"
      ]
     },
     "execution_count": 38,
     "metadata": {},
     "output_type": "execute_result"
    }
   ],
   "source": [
    "def absolute(n):\n",
    "    if n < 0 :\n",
    "        return -n\n",
    "    else:\n",
    "        return n\n",
    "#main program\n",
    "n = int(input(\"Enter a number:\"))\n",
    "absolute(n)"
   ]
  },
  {
   "cell_type": "code",
   "execution_count": 39,
   "id": "be54d924-d3d7-4e07-975e-5ef663ff2b0f",
   "metadata": {},
   "outputs": [],
   "source": [
    "#8) Develop a program that determines the largest of three given numbers using if-else statements."
   ]
  },
  {
   "cell_type": "code",
   "execution_count": 4,
   "id": "58934dba-0e47-411c-b249-0a5169d40260",
   "metadata": {},
   "outputs": [
    {
     "name": "stdin",
     "output_type": "stream",
     "text": [
      "Enter 1st number: 25\n",
      "Enter 2nd number: 36\n",
      "Enter 3rd number: 8\n"
     ]
    },
    {
     "name": "stdout",
     "output_type": "stream",
     "text": [
      "36 is Largest.\n"
     ]
    }
   ],
   "source": [
    "a,b,c = int(input(\"Enter 1st number:\")), int(input(\"Enter 2nd number:\")), int(input(\"Enter 3rd number:\"))\n",
    "\n",
    "if a>b and a>c:\n",
    "    print(a,\" is Largest.\")\n",
    "elif b>a and b>c:\n",
    "    print(b,\"is Largest.\")\n",
    "else:\n",
    "    print(c,\"is Largest.\")\n"
   ]
  },
  {
   "cell_type": "code",
   "execution_count": 5,
   "id": "33845f43-7b0f-4c43-88b3-bd5b605d68e8",
   "metadata": {},
   "outputs": [],
   "source": [
    "#9) Create a program that checks if a given string is a palindrome."
   ]
  },
  {
   "cell_type": "code",
   "execution_count": 1,
   "id": "b7f043ff-09a1-462b-af49-af793d389fa0",
   "metadata": {},
   "outputs": [
    {
     "name": "stdin",
     "output_type": "stream",
     "text": [
      "Enter a string: Racecar\n"
     ]
    },
    {
     "name": "stdout",
     "output_type": "stream",
     "text": [
      "PALINDROME\n"
     ]
    }
   ],
   "source": [
    "word = input(\"Enter a string:\").lower()\n",
    "\n",
    "if word == word[::-1]:\n",
    "    print(\"PALINDROME\")\n",
    "else:\n",
    "    print(\"Not PALINDROME\")"
   ]
  },
  {
   "cell_type": "code",
   "execution_count": 2,
   "id": "67cef946-9036-4164-a7e0-8364a762584d",
   "metadata": {},
   "outputs": [],
   "source": [
    "#10) Write a Python program to calculate the grade based on a student's score."
   ]
  },
  {
   "cell_type": "code",
   "execution_count": 8,
   "id": "55b95ca5-1404-4797-980c-c9942c14f6ca",
   "metadata": {},
   "outputs": [
    {
     "name": "stdin",
     "output_type": "stream",
     "text": [
      "Enter a Score from 0 to 100: 14\n"
     ]
    },
    {
     "name": "stdout",
     "output_type": "stream",
     "text": [
      "Fail\n"
     ]
    }
   ],
   "source": [
    "score = int(input(\"Enter a Score from 0 to 100:\"))\n",
    "\n",
    "if 90 <= score <= 100:\n",
    "    print('Grade A')\n",
    "elif 80 <= score < 90:\n",
    "    print('Grade B')\n",
    "elif 70 <= score < 80:\n",
    "    print('Grade C')\n",
    "elif 50 <= score < 70:\n",
    "    print('Grade D')\n",
    "elif 30 <= score < 50:\n",
    "    print(\"Grade E\")\n",
    "elif 0 <= score < 30:\n",
    "    print(\"Fail\")\n",
    "else:\n",
    "    print(\"Invalid Score\")\n"
   ]
  },
  {
   "cell_type": "code",
   "execution_count": 1,
   "id": "e0640a2e-6d3d-4827-b18a-aaf98fb7fb3e",
   "metadata": {},
   "outputs": [],
   "source": [
    "#NESTED IF - ELSE STATEMENT"
   ]
  },
  {
   "cell_type": "code",
   "execution_count": 2,
   "id": "4f1667ed-681a-4f78-891b-b26d2630abc8",
   "metadata": {},
   "outputs": [],
   "source": [
    "#11) Write a program to find the largest among three numbers using nested if-else statements."
   ]
  },
  {
   "cell_type": "code",
   "execution_count": 6,
   "id": "1327f617-3b5f-4942-bfcb-59e0c39cb89f",
   "metadata": {},
   "outputs": [
    {
     "name": "stdin",
     "output_type": "stream",
     "text": [
      "Enter 1st Value: 54\n",
      "Enter 2nd Value: 45\n",
      "Enter 3rd Value: 92\n"
     ]
    },
    {
     "name": "stdout",
     "output_type": "stream",
     "text": [
      "92 is the largest\n"
     ]
    }
   ],
   "source": [
    "num1 = int(input(\"Enter 1st Value:\")) \n",
    "num2 = int(input(\"Enter 2nd Value:\"))\n",
    "num3 = int(input(\"Enter 3rd Value:\"))\n",
    "\n",
    "if num1 >= num2:\n",
    "    if num1 >= num3:\n",
    "        print(f\"{num1} is the largest\")\n",
    "    else:\n",
    "        print(f\"{num3} is the largest\")\n",
    "else:\n",
    "    if num2 >= num3:\n",
    "        print(f\"{num2} is the largest\")\n",
    "    else:\n",
    "        print(f\"{num3} is the largest\")"
   ]
  },
  {
   "cell_type": "code",
   "execution_count": 7,
   "id": "533736a4-4de7-4d2d-b344-b688eab57d7f",
   "metadata": {},
   "outputs": [],
   "source": [
    "#12) Implement a program to determine if a triangle is equilateral, isosceles, or scalene."
   ]
  },
  {
   "cell_type": "code",
   "execution_count": 20,
   "id": "f28b98be-5733-4c36-9ebc-f6a2f2fb65ae",
   "metadata": {},
   "outputs": [
    {
     "name": "stdin",
     "output_type": "stream",
     "text": [
      "Enter the sides of triangle: 10 42 10\n"
     ]
    },
    {
     "name": "stdout",
     "output_type": "stream",
     "text": [
      "\tISSOCELES TRIANGLE.\n"
     ]
    }
   ],
   "source": [
    "a,b,c = input(\"Enter the sides of triangle:\").split()\n",
    "\n",
    "a= int(a)\n",
    "b= int(b)\n",
    "c= int(c)\n",
    "\n",
    "\n",
    "if a == b and b == c:\n",
    "    print(\"\\tEQUILATERAL TRIANGLE.\")\n",
    "    \n",
    "elif a == b or a == c or b == c:\n",
    "        print(\"\\tISSOCELES TRIANGLE.\")\n",
    "else:\n",
    "    print(\"\\tSCALENE TRIANGLE.\")\n",
    "        \n",
    "    \n"
   ]
  },
  {
   "cell_type": "code",
   "execution_count": 21,
   "id": "0ea83524-b407-407e-aa8e-7574e87473bc",
   "metadata": {},
   "outputs": [],
   "source": [
    "#13) Develop a program that checks if a year is a leap year and also if it is a century year."
   ]
  },
  {
   "cell_type": "code",
   "execution_count": 26,
   "id": "c2a4e524-70cf-45b7-b29f-52aa50db2154",
   "metadata": {},
   "outputs": [
    {
     "name": "stdin",
     "output_type": "stream",
     "text": [
      "Enter a Valid Year: 2100\n"
     ]
    },
    {
     "name": "stdout",
     "output_type": "stream",
     "text": [
      "It is a CENTURY YEAR.\n"
     ]
    }
   ],
   "source": [
    "year = int(input(\"Enter a Valid Year:\"))\n",
    "\n",
    "if (year % 4 == 0 and  year % 100 != 0) or (year % 400 == 0):\n",
    "    print(\"Given Year is a LEAP YEAR.\")\n",
    "else:\n",
    "    if (year % 100 == 0):\n",
    "        print(\"It is a CENTURY YEAR.\")"
   ]
  },
  {
   "cell_type": "code",
   "execution_count": 27,
   "id": "6084ae41-19a6-4c42-aa1f-9c4893a580a8",
   "metadata": {},
   "outputs": [],
   "source": [
    "#14) Write a Python script to determine if a number is positive, negative, or zero."
   ]
  },
  {
   "cell_type": "code",
   "execution_count": 33,
   "id": "d3ca2243-66a6-48d9-adf7-42a543bc1e75",
   "metadata": {},
   "outputs": [
    {
     "name": "stdin",
     "output_type": "stream",
     "text": [
      "Enter a number: -36\n"
     ]
    },
    {
     "name": "stdout",
     "output_type": "stream",
     "text": [
      "\tNEGATIVE NUMBER.\n"
     ]
    }
   ],
   "source": [
    "number = float(input(\"Enter a number:\"))\n",
    "\n",
    "if number > 0:\n",
    "    print(\"\\tPOSITIVE NUMBER.\")\n",
    "elif number < 0:\n",
    "    print(\"\\tNEGATIVE NUMBER.\")\n",
    "else:\n",
    "    print(\"\\tZERO.\")"
   ]
  },
  {
   "cell_type": "code",
   "execution_count": 34,
   "id": "1f81a1c6-22f2-4fb7-898f-8fca8747bb64",
   "metadata": {},
   "outputs": [],
   "source": [
    "#15) Create a program to check if a person is a teenager (between 13 and 19 years old)."
   ]
  },
  {
   "cell_type": "code",
   "execution_count": 4,
   "id": "0ec1e518-128c-4bfc-99b0-df4732a4a79e",
   "metadata": {},
   "outputs": [
    {
     "name": "stdin",
     "output_type": "stream",
     "text": [
      "Enter the age: 12\n"
     ]
    },
    {
     "name": "stdout",
     "output_type": "stream",
     "text": [
      "You're not a TEENAGER.\n"
     ]
    }
   ],
   "source": [
    "age = int(input(\"Enter the age:\"))\n",
    "\n",
    "if 13 <= age <= 19:\n",
    "    print(\"You're a TEENAGER.\")\n",
    "else:\n",
    "    print(\"You're not a TEENAGER.\")"
   ]
  },
  {
   "cell_type": "code",
   "execution_count": 5,
   "id": "256cf812-8804-4796-b9c4-a3503f65d569",
   "metadata": {},
   "outputs": [],
   "source": [
    "#16) Develop a program that determines the type of angle based on its measure (acute, obtuse, or right)."
   ]
  },
  {
   "cell_type": "code",
   "execution_count": 16,
   "id": "f08e8d53-c439-4051-b60e-ca875003c620",
   "metadata": {},
   "outputs": [
    {
     "name": "stdin",
     "output_type": "stream",
     "text": [
      "Enter the measure of the angle: 90\n"
     ]
    },
    {
     "name": "stdout",
     "output_type": "stream",
     "text": [
      "Right Angle\n"
     ]
    }
   ],
   "source": [
    "angle = float(input(\"Enter the measure of the angle:\"))\n",
    "\n",
    "if 0 < angle < 90:\n",
    "    print(\"Acute Angle\")\n",
    "elif angle == 90:\n",
    "    print(\"Right Angle\")\n",
    "elif 90< angle <= 180: \n",
    "    print(\"Obtuse Angle\")\n",
    "else:\n",
    "    print(\"Invalid Angle\")"
   ]
  },
  {
   "cell_type": "code",
   "execution_count": 17,
   "id": "b5c57723-e3fb-483d-ba11-0706e7798673",
   "metadata": {},
   "outputs": [],
   "source": [
    "#17) Write a Python program to calculate the roots of a quadratic equation."
   ]
  },
  {
   "cell_type": "code",
   "execution_count": 20,
   "id": "7b253123-ff34-40e7-8625-262f649acaa4",
   "metadata": {},
   "outputs": [
    {
     "name": "stdin",
     "output_type": "stream",
     "text": [
      "Enter the Coefficient of a: 4\n",
      "Enter the Coefficient of a: 15\n",
      "Enter the Coefficient of a: 6\n"
     ]
    },
    {
     "name": "stdout",
     "output_type": "stream",
     "text": [
      "It has TWO Real Roots.\n"
     ]
    }
   ],
   "source": [
    "a = float(input(\"Enter the Coefficient of a:\"))\n",
    "b = float(input(\"Enter the Coefficient of a:\"))\n",
    "c = float(input(\"Enter the Coefficient of a:\"))\n",
    "\n",
    "d = b**2 - 4*a*c\n",
    "\n",
    "if d > 0:\n",
    "    print(\"It has TWO Real Roots.\")\n",
    "elif d==0:\n",
    "    print(\"It has ONE Real Root.\")\n",
    "else:\n",
    "    print(\"It has TWO Complex Conjugate roots.\")"
   ]
  },
  {
   "cell_type": "code",
   "execution_count": 21,
   "id": "2a219cea-b9e5-43e5-91ee-30ea84d02ec9",
   "metadata": {},
   "outputs": [],
   "source": [
    "#18) Implement a program to determine the day of the week based on a user-provided number (1 for Monday, 2 for Tuesday, etc.)."
   ]
  },
  {
   "cell_type": "code",
   "execution_count": 25,
   "id": "8b47a9c0-c52d-4549-89a0-2256c116dcdf",
   "metadata": {},
   "outputs": [
    {
     "name": "stdin",
     "output_type": "stream",
     "text": [
      "Enter a number from 1 to 7: 6\n"
     ]
    },
    {
     "name": "stdout",
     "output_type": "stream",
     "text": [
      "Saturday\n"
     ]
    }
   ],
   "source": [
    "n = int(input(\"Enter a number from 1 to 7:\"))\n",
    "\n",
    "if n == 1:\n",
    "    print(\"Monday\")\n",
    "elif n == 2:\n",
    "    print(\"Tuesday\")\n",
    "elif n == 3:\n",
    "    print(\"Wednesday\")\n",
    "elif n == 4:\n",
    "    print(\"Thursday\")\n",
    "elif n == 5:\n",
    "    print(\"Friday\")\n",
    "elif n == 6:\n",
    "    print(\"Saturday\")\n",
    "elif n == 7:\n",
    "    print(\"Sunday\")\n",
    "else:\n",
    "    print(\"InValid Number Entered.\")"
   ]
  },
  {
   "cell_type": "code",
   "execution_count": 26,
   "id": "e0d6a6e6-93b9-4858-a89b-62f3fefca9e8",
   "metadata": {},
   "outputs": [],
   "source": [
    "#19) Create a program that determines if a year is a leap year and also if it is evenly divisible by 400."
   ]
  },
  {
   "cell_type": "code",
   "execution_count": 28,
   "id": "558aa113-ea24-4fd7-8bd6-68b740209250",
   "metadata": {},
   "outputs": [
    {
     "name": "stdin",
     "output_type": "stream",
     "text": [
      "Enter a Year: 2016\n"
     ]
    },
    {
     "name": "stdout",
     "output_type": "stream",
     "text": [
      "LEAP YEAR.\n"
     ]
    }
   ],
   "source": [
    "year = int(input(\"Enter a Year:\"))\n",
    "\n",
    "if (year % 4 == 0 and year % 100 != 0) or year % 400 == 0:\n",
    "    print(\"LEAP YEAR.\")\n",
    "else:\n",
    "    print(\"Not a Leap Year.\")"
   ]
  },
  {
   "cell_type": "code",
   "execution_count": 29,
   "id": "5438dbff-1187-4031-9fac-5417975b793f",
   "metadata": {},
   "outputs": [],
   "source": [
    "#20) Develop a program that checks if a given number is prime or not using nested if-else statements."
   ]
  },
  {
   "cell_type": "code",
   "execution_count": 34,
   "id": "0b551b42-301c-44e3-b737-69e0ba28de7a",
   "metadata": {},
   "outputs": [
    {
     "name": "stdin",
     "output_type": "stream",
     "text": [
      "Enter a number: 10\n"
     ]
    },
    {
     "name": "stdout",
     "output_type": "stream",
     "text": [
      "Prime Number\n"
     ]
    }
   ],
   "source": [
    "n = int(input(\"Enter a number:\"))\n",
    "\n",
    "if n>=0:\n",
    "    if n % 2 == 0:\n",
    "        print(\"Prime Number\")\n",
    "    else:\n",
    "        print(\"Not a Prime Number\")\n",
    "else:\n",
    "    print(\"Invalid Number\")"
   ]
  },
  {
   "cell_type": "code",
   "execution_count": 35,
   "id": "a613c2f4-ef7b-46fd-a51a-8efb07874c97",
   "metadata": {},
   "outputs": [],
   "source": [
    "#ELIF STATEMENTS"
   ]
  },
  {
   "cell_type": "code",
   "execution_count": 36,
   "id": "76fccfd2-c46c-4949-9104-5b1cfa6ea91c",
   "metadata": {},
   "outputs": [],
   "source": [
    "#21) Write a Python program to assign grades based on different ranges of scores using elif statements."
   ]
  },
  {
   "cell_type": "code",
   "execution_count": 37,
   "id": "415752ee-7ce2-4f75-9c79-358a3642d0fc",
   "metadata": {},
   "outputs": [
    {
     "name": "stdin",
     "output_type": "stream",
     "text": [
      "Enter a Score from 0 to 100: 50\n"
     ]
    },
    {
     "name": "stdout",
     "output_type": "stream",
     "text": [
      "Grade D\n"
     ]
    }
   ],
   "source": [
    "score = int(input(\"Enter a Score from 0 to 100:\"))\n",
    "\n",
    "if 90 <= score <= 100:\n",
    "    print('Grade A')\n",
    "elif 80 <= score < 90:\n",
    "    print('Grade B')\n",
    "elif 70 <= score < 80:\n",
    "    print('Grade C')\n",
    "elif 50 <= score < 70:\n",
    "    print('Grade D')\n",
    "elif 30 <= score < 50:\n",
    "    print(\"Grade E\")\n",
    "elif 0 <= score < 30:\n",
    "    print(\"Fail\")\n",
    "else:\n",
    "    print(\"Invalid Score\")\n"
   ]
  },
  {
   "cell_type": "code",
   "execution_count": 38,
   "id": "f834c75a-5288-476d-8479-ba49ecfe5946",
   "metadata": {},
   "outputs": [],
   "source": [
    "#22) Implement a program to determine the type of a triangle based on its angles."
   ]
  },
  {
   "cell_type": "code",
   "execution_count": 39,
   "id": "eea22544-fcd2-419e-bfa1-922efa79bfba",
   "metadata": {},
   "outputs": [
    {
     "name": "stdin",
     "output_type": "stream",
     "text": [
      "Enter the measure of the angle: 250\n"
     ]
    },
    {
     "name": "stdout",
     "output_type": "stream",
     "text": [
      "Reflex Angle\n"
     ]
    }
   ],
   "source": [
    "angle = float(input(\"Enter the measure of the angle:\"))\n",
    "\n",
    "if 0 < angle < 90:\n",
    "    print(\"Acute Angle\")\n",
    "elif angle == 90:\n",
    "    print(\"Right Angle\")\n",
    "elif 90< angle <= 180: \n",
    "    print(\"Obtuse Angle\")\n",
    "elif angle == 180:\n",
    "    print(\"Straight Angle\")\n",
    "elif 180 < angle <= 360:\n",
    "    print(\"Reflex Angle\")\n",
    "else:\n",
    "    print(\"Invalid Angle\")"
   ]
  },
  {
   "cell_type": "code",
   "execution_count": 40,
   "id": "b75652bc-8ce8-4fec-8eba-7f0cca37369f",
   "metadata": {},
   "outputs": [],
   "source": [
    "#23) Develop a program to categorize a given person's BMI into underweight, normal, overweight, or obese using elif statements. "
   ]
  },
  {
   "cell_type": "code",
   "execution_count": 3,
   "id": "45edf49d-3ecb-428a-a8c3-4f275b5d13cb",
   "metadata": {},
   "outputs": [
    {
     "name": "stdin",
     "output_type": "stream",
     "text": [
      "Enter the Weight in kg: 55\n",
      "Enter the Height in meters: 1.8\n"
     ]
    },
    {
     "name": "stdout",
     "output_type": "stream",
     "text": [
      "UnderWeight\n"
     ]
    }
   ],
   "source": [
    "weight = float(input(\"Enter the Weight in kg:\"))\n",
    "\n",
    "height = float(input(\"Enter the Height in meters:\"))\n",
    "\n",
    "bmi = weight / height**2\n",
    "\n",
    "if bmi >= 25.0:\n",
    "    print(\"OverWeight.\")\n",
    "elif 18.5<= bmi <= 24.9:\n",
    "    print(\"Normal\")\n",
    "elif bmi < 18.5:\n",
    "    print(\"UnderWeight\")\n",
    "else:\n",
    "    print(\"Invalid BMI\")"
   ]
  },
  {
   "cell_type": "code",
   "execution_count": 4,
   "id": "f9b31486-853c-405e-9151-d1e0a9b44c15",
   "metadata": {},
   "outputs": [],
   "source": [
    "#24) Create a program that determines whether a given number is positive, negative, or zero using elif statements."
   ]
  },
  {
   "cell_type": "code",
   "execution_count": 5,
   "id": "7b709b08-5ff4-4ad9-93ff-6eae86949940",
   "metadata": {},
   "outputs": [
    {
     "name": "stdin",
     "output_type": "stream",
     "text": [
      "Enter a number: 5\n"
     ]
    },
    {
     "name": "stdout",
     "output_type": "stream",
     "text": [
      "\tPOSITIVE NUMBER.\n"
     ]
    }
   ],
   "source": [
    "number = float(input(\"Enter a number:\"))\n",
    "\n",
    "if number > 0:\n",
    "    print(\"\\tPOSITIVE NUMBER.\")\n",
    "elif number < 0:\n",
    "    print(\"\\tNEGATIVE NUMBER.\")\n",
    "else:\n",
    "    print(\"\\tZERO.\")"
   ]
  },
  {
   "cell_type": "code",
   "execution_count": 6,
   "id": "06b5a0dc-6f32-4dfb-b879-2035917f345f",
   "metadata": {},
   "outputs": [],
   "source": [
    "#25) Write a Python script to determine the type of a character (uppercase, lowercase, or special) using elif statements."
   ]
  },
  {
   "cell_type": "code",
   "execution_count": 12,
   "id": "39da0961-2b54-46b1-b106-e867f45a0495",
   "metadata": {},
   "outputs": [
    {
     "name": "stdin",
     "output_type": "stream",
     "text": [
      "Enter a character: %\n"
     ]
    },
    {
     "name": "stdout",
     "output_type": "stream",
     "text": [
      "Special Character\n"
     ]
    }
   ],
   "source": [
    "n = input(\"Enter a character:\")\n",
    "\n",
    "if n.isupper():\n",
    "    print(\"Uppercase\")\n",
    "elif n.islower():\n",
    "    print(\"Lowercase\")\n",
    "elif n in \"!@#$%^&*\":\n",
    "    print(\"Special Character\")\n",
    "else:\n",
    "    print(\"Invalid Character\")"
   ]
  },
  {
   "cell_type": "code",
   "execution_count": 13,
   "id": "2a43ab06-c118-4be1-b4e1-ed718aa987ad",
   "metadata": {},
   "outputs": [],
   "source": [
    "#26) Implement a program to calculate the discounted price based on different purchase amounts using elif statements. "
   ]
  },
  {
   "cell_type": "code",
   "execution_count": 14,
   "id": "55952957-a5cb-43f1-9d94-9929f2f7180c",
   "metadata": {},
   "outputs": [
    {
     "name": "stdin",
     "output_type": "stream",
     "text": [
      "Enter the purchase amount: Rs. 500\n"
     ]
    },
    {
     "name": "stdout",
     "output_type": "stream",
     "text": [
      "The discounted Price is : Rs.450.0\n"
     ]
    }
   ],
   "source": [
    "n = float(input(\"Enter the purchase amount: Rs.\"))\n",
    "\n",
    "if n <= 100:\n",
    "    discount = 0\n",
    "elif n <= 500:\n",
    "    discount = 0.1    #10% discount\n",
    "elif n <= 1000:\n",
    "    discount = 0.2      #20% discount\n",
    "else:\n",
    "    discount = 0.3     #30% discount\n",
    "    \n",
    "discounted_price = n * (1-discount)\n",
    "\n",
    "print(\"The discounted Price is : Rs.{}\".format(discounted_price))"
   ]
  },
  {
   "cell_type": "code",
   "execution_count": 15,
   "id": "17aa54fe-007a-4a82-bd8a-6e11ea70b761",
   "metadata": {},
   "outputs": [],
   "source": [
    "#27) Develop a program to calculate the electricity bill based on different consumption slabs using elif statements."
   ]
  },
  {
   "cell_type": "code",
   "execution_count": 25,
   "id": "b03850a7-418d-46ae-8afc-2b27abe57b57",
   "metadata": {},
   "outputs": [
    {
     "name": "stdin",
     "output_type": "stream",
     "text": [
      "Enter the electricity consumption (in kWh):  250\n"
     ]
    },
    {
     "name": "stdout",
     "output_type": "stream",
     "text": [
      "The electricity bill is: Rs 32.50\n"
     ]
    }
   ],
   "source": [
    "def calculate_electricity_bill(consumption):\n",
    "    # Define consumption slabs and corresponding rates\n",
    "    slab1_rate = 0.10  # Rate for the first 100 kWh\n",
    "    slab2_rate = 0.15  # Rate for the next 200 kWh\n",
    "    slab3_rate = 0.20  # Rate beyond 300 kWh\n",
    "\n",
    "    # Initialize total bill\n",
    "    total_bill = 0\n",
    "\n",
    "    # Calculate bill for each slab\n",
    "    if consumption <= 100:\n",
    "        total_bill = consumption * slab1_rate\n",
    "    elif consumption <= 300:\n",
    "        total_bill = 100 * slab1_rate + (consumption - 100) * slab2_rate\n",
    "    else:\n",
    "        total_bill = 100 * slab1_rate + 200 * slab2_rate + (consumption - 300) * slab3_rate\n",
    "\n",
    "    return total_bill\n",
    "\n",
    "# Get user input for electricity consumption\n",
    "consumption = float(input(\"Enter the electricity consumption (in kWh): \"))\n",
    "bill_amount = calculate_electricity_bill(consumption)\n",
    "print(f\"The electricity bill is: Rs {bill_amount:.2f}\")\n",
    "\n"
   ]
  },
  {
   "cell_type": "code",
   "execution_count": 26,
   "id": "27232b7b-b735-4c17-ba0b-e3ad898b8b2e",
   "metadata": {},
   "outputs": [],
   "source": [
    "#28) Create a program to determine the type of quadrilateral based on its angles and sides using elif statements."
   ]
  },
  {
   "cell_type": "code",
   "execution_count": 9,
   "id": "289edc82-32e3-4e6c-a35d-ad9057d93251",
   "metadata": {},
   "outputs": [
    {
     "name": "stdin",
     "output_type": "stream",
     "text": [
      "Enter the first angle in degrees:  90\n",
      "Enter the second angle in degrees:  90\n",
      "Enter the third angle in degrees:  90\n",
      "Enter the fourth angle in degrees:  90\n"
     ]
    },
    {
     "name": "stdout",
     "output_type": "stream",
     "text": [
      "\n",
      "\n"
     ]
    },
    {
     "name": "stdin",
     "output_type": "stream",
     "text": [
      "Enter the length of the first side:  50\n",
      "Enter the length of the second side:  40\n",
      "Enter the length of the third side:  50\n",
      "Enter the length of the fourth side:  40\n"
     ]
    },
    {
     "name": "stdout",
     "output_type": "stream",
     "text": [
      "\n",
      "\n",
      "The Quadrilateral is a Rectangle.\n"
     ]
    }
   ],
   "source": [
    "angle1 = float(input(\"Enter the first angle in degrees: \"))\n",
    "angle2 = float(input(\"Enter the second angle in degrees: \"))\n",
    "angle3 = float(input(\"Enter the third angle in degrees: \"))\n",
    "angle4 = float(input(\"Enter the fourth angle in degrees: \"))\n",
    "print(\"\\n\")\n",
    "side1 = float(input(\"Enter the length of the first side: \"))\n",
    "side2 = float(input(\"Enter the length of the second side: \"))\n",
    "side3 = float(input(\"Enter the length of the third side: \"))\n",
    "side4 = float(input(\"Enter the length of the fourth side: \"))\n",
    "print(\"\\n\")\n",
    "#checking for a Valid Qaudrilateral \n",
    "if angle1 + angle2 + angle3 + angle4 == 360 and side1 + side2 + side3 + side4 > 0:\n",
    "    #determine which type of Quadrilateral it is\n",
    "    if angle1 == angle2 == angle3 == angle4 == 90 and side1 == side2 == side3 ==side4:\n",
    "        print(\"The Qaudrilateral is a Square.\")\n",
    "    elif angle1 == angle3 and angle2 == angle4 and side1 == side3 and side2 == side4 :\n",
    "        print(\"The Quadrilateral is a Rectangle.\")\n",
    "    elif side1 == side2 == side3 == side4 and angle1 == angle3 and angle2 == angle4:\n",
    "        print(\"the Qaudrilateral is a Rhombus.\")\n",
    "    elif angle1 == angle3 and angle2 == angle4:\n",
    "        print(\"The Quadrilateral is a Parallelogram.\")\n",
    "    else:\n",
    "        print(\"The Qudarilateral is a General Quadrilateral.\")\n",
    "else:\n",
    "    print(\"Invalid input. Please ensure that the sum of angles is 360 degrees and the sum of sides is greater than 0.\")\n",
    "    "
   ]
  },
  {
   "cell_type": "code",
   "execution_count": 1,
   "id": "4e1daf64-e9d5-495e-9245-273ef517fb4c",
   "metadata": {},
   "outputs": [],
   "source": [
    "#29) Write a Python script to determine the season based on a user-provided month using elif statements."
   ]
  },
  {
   "cell_type": "code",
   "execution_count": 14,
   "id": "b8d4b441-0404-412d-b4e1-ada7936d932c",
   "metadata": {},
   "outputs": [
    {
     "name": "stdin",
     "output_type": "stream",
     "text": [
      "Enter the Month Name: January\n"
     ]
    },
    {
     "name": "stdout",
     "output_type": "stream",
     "text": [
      "Winter Season\n"
     ]
    }
   ],
   "source": [
    "month = input(\"Enter the Month Name:\").title()\n",
    "\n",
    "if month in (\"March\",\"April\",\"May\"):\n",
    "    print(\"Spring Season\")\n",
    "elif month in (\"June\",\"July\",\"August\"):\n",
    "    print(\"Summer Season\")\n",
    "elif month in (\"September\",\"October\",\"November\"):\n",
    "    print(\"Autumn Season\")\n",
    "elif month in (\"December\",\"January\",\"February\"):\n",
    "    print(\"Winter Season\")\n",
    "else:\n",
    "    print(\"Not a Valid Month.\")"
   ]
  },
  {
   "cell_type": "code",
   "execution_count": 15,
   "id": "fffff98a-179e-44cb-8951-d14631380617",
   "metadata": {},
   "outputs": [],
   "source": [
    "#30) Implement a program to determine the type of a year (leap or common) and month (30 or 31 days) using elif statements."
   ]
  },
  {
   "cell_type": "code",
   "execution_count": 19,
   "id": "90f98781-a549-43fc-a200-bf96f3c2b448",
   "metadata": {},
   "outputs": [
    {
     "name": "stdin",
     "output_type": "stream",
     "text": [
      "Enter a year:  2017\n"
     ]
    },
    {
     "name": "stdout",
     "output_type": "stream",
     "text": [
      "2017 is a common year.\n"
     ]
    },
    {
     "name": "stdin",
     "output_type": "stream",
     "text": [
      "Enter the Month Name: march\n"
     ]
    },
    {
     "name": "stdout",
     "output_type": "stream",
     "text": [
      "The month March has 31 days.\n"
     ]
    }
   ],
   "source": [
    "year = int(input(\"Enter a year: \"))\n",
    "\n",
    "# Check if it's a leap year or a common year\n",
    "if (year % 4 == 0 and year % 100 != 0) or (year % 400 == 0):\n",
    "    print(f\"{year} is a leap year.\")\n",
    "else:\n",
    "    print(f\"{year} is a common year.\")\n",
    "    \n",
    "\n",
    "month = input(\"Enter the Month Name:\").title()\n",
    "\n",
    "if month in (\"January\",\"March\",\"May\",\"July\",\"August\",\"October\",\"December\"):\n",
    "    print(f\"The month {month} has 31 days.\")\n",
    "elif month in (\"April\",\"June\",\"September\",\"November\"):\n",
    "    print(f\"The month {month} has 30 days.\")\n",
    "elif month == \"February\":\n",
    "    if  (year % 4 == 0 and year % 100 != 0) or (year % 400 == 0):\n",
    "        print(f\"The month {month} has 29 days in a leap year.\")\n",
    "    else:\n",
    "        print(f\"The month {month} has 28 days in Common Year.\")\n",
    "else:\n",
    "    print(\"Invalid month. Please Enter the Valid Month.\")"
   ]
  },
  {
   "cell_type": "code",
   "execution_count": 20,
   "id": "e3f114a4-0464-41ac-8636-f5d75b9e9d76",
   "metadata": {},
   "outputs": [],
   "source": [
    "#BASIC LEVEL"
   ]
  },
  {
   "cell_type": "code",
   "execution_count": 21,
   "id": "018a22a1-a69a-4216-8f37-2c1c6b5ba447",
   "metadata": {},
   "outputs": [],
   "source": [
    "#1) Write a Python program that checks if a given number is positive, negative, or zero."
   ]
  },
  {
   "cell_type": "code",
   "execution_count": 22,
   "id": "6bc631ae-4542-4b63-8ee4-b4596a8f4989",
   "metadata": {},
   "outputs": [
    {
     "name": "stdin",
     "output_type": "stream",
     "text": [
      "Enter a number: 5\n"
     ]
    },
    {
     "name": "stdout",
     "output_type": "stream",
     "text": [
      "5 is Positive\n"
     ]
    }
   ],
   "source": [
    "n = int(input(\"Enter a number:\"))\n",
    "\n",
    "if n < 0:\n",
    "    print(f\"{n} is Negative\")\n",
    "elif n == 0:\n",
    "    print(f\"{n} is Zero\")\n",
    "else:\n",
    "    print(f\"{n} is Positive\")"
   ]
  },
  {
   "cell_type": "code",
   "execution_count": 23,
   "id": "917e2506-c7aa-455f-af06-e96106363955",
   "metadata": {},
   "outputs": [],
   "source": [
    "#2) Create a program to determine if a person is eligible to vote based on their age."
   ]
  },
  {
   "cell_type": "code",
   "execution_count": 24,
   "id": "c12c8f0f-f924-49a5-a0b2-cc353f289245",
   "metadata": {},
   "outputs": [
    {
     "name": "stdin",
     "output_type": "stream",
     "text": [
      "Enter your age: 25\n"
     ]
    },
    {
     "name": "stdout",
     "output_type": "stream",
     "text": [
      "You are eligible to Vote.\n"
     ]
    }
   ],
   "source": [
    "age = int(input(\"Enter your age:\"))\n",
    "\n",
    "if age >= 18 :\n",
    "    print(\"You are eligible to Vote.\")\n",
    "else:\n",
    "    print(\"You're not eligible to Vote.\")"
   ]
  },
  {
   "cell_type": "code",
   "execution_count": 25,
   "id": "52c9ceec-679a-4904-bd5a-c2e6f40c6305",
   "metadata": {},
   "outputs": [],
   "source": [
    "#3) Write a program to find the maximum of two given numbers using conditional statements."
   ]
  },
  {
   "cell_type": "code",
   "execution_count": 1,
   "id": "33236d3d-a2bb-487c-8d02-b52b079a0f5c",
   "metadata": {},
   "outputs": [
    {
     "name": "stdin",
     "output_type": "stream",
     "text": [
      "Enter 1st number: 25\n",
      "Enter 2nd number: 25.1\n"
     ]
    },
    {
     "name": "stdout",
     "output_type": "stream",
     "text": [
      "25.1 is the maximum.\n"
     ]
    }
   ],
   "source": [
    "a,b = float(input(\"Enter 1st number:\")),float(input(\"Enter 2nd number:\"))\n",
    "\n",
    "if a > b:\n",
    "    print(f\"{a} is the maximum\")\n",
    "elif a == b:\n",
    "    print(\"Both values are Equal.\")\n",
    "else:\n",
    "    print(f\"{b} is the maximum.\")"
   ]
  },
  {
   "cell_type": "code",
   "execution_count": 2,
   "id": "9a784076-3d3e-46f1-a2f5-53d745742232",
   "metadata": {},
   "outputs": [],
   "source": [
    "#4) Develop a program that calculates the grade of a student based on their exam score."
   ]
  },
  {
   "cell_type": "code",
   "execution_count": 3,
   "id": "efa197ea-e2f4-4483-92ca-db7186accfc4",
   "metadata": {},
   "outputs": [
    {
     "name": "stdin",
     "output_type": "stream",
     "text": [
      "Enter a Score from 0 to 100: 85\n"
     ]
    },
    {
     "name": "stdout",
     "output_type": "stream",
     "text": [
      "Grade B\n"
     ]
    }
   ],
   "source": [
    "score = int(input(\"Enter a Score from 0 to 100:\"))\n",
    "\n",
    "if 90 <= score <= 100:\n",
    "    print('Grade A')\n",
    "elif 80 <= score < 90:\n",
    "    print('Grade B')\n",
    "elif 70 <= score < 80:\n",
    "    print('Grade C')\n",
    "elif 50 <= score < 70:\n",
    "    print('Grade D')\n",
    "elif 30 <= score < 50:\n",
    "    print(\"Grade E\")\n",
    "elif 0 <= score < 30:\n",
    "    print(\"Fail\")\n",
    "else:\n",
    "    print(\"Invalid Score\")\n"
   ]
  },
  {
   "cell_type": "code",
   "execution_count": 4,
   "id": "a8568794-5d04-4768-b177-3ffb84fd4cc9",
   "metadata": {},
   "outputs": [],
   "source": [
    "#5) Create a program that checks if a year is a leap year or not."
   ]
  },
  {
   "cell_type": "code",
   "execution_count": 5,
   "id": "c3c0ac45-d560-4aca-b4b6-b1c2f42fe731",
   "metadata": {},
   "outputs": [
    {
     "name": "stdin",
     "output_type": "stream",
     "text": [
      "Enter a year:  2017\n"
     ]
    },
    {
     "name": "stdout",
     "output_type": "stream",
     "text": [
      "2017 is not a Leap year.\n"
     ]
    }
   ],
   "source": [
    "year = int(input(\"Enter a year: \"))\n",
    "\n",
    "# Check if it's a leap year or a common year\n",
    "if (year % 4 == 0 and year % 100 != 0) or (year % 400 == 0):\n",
    "    print(f\"{year} is a Leap year.\")\n",
    "else:\n",
    "    print(f\"{year} is not a Leap year.\")"
   ]
  },
  {
   "cell_type": "code",
   "execution_count": 6,
   "id": "2511a173-b0de-4c35-9a11-ef398b74e54a",
   "metadata": {},
   "outputs": [],
   "source": [
    "#6) Write a program to classify a triangle based on its sides' lengths."
   ]
  },
  {
   "cell_type": "code",
   "execution_count": 1,
   "id": "063c7339-8966-495e-b9eb-a484fa01d07c",
   "metadata": {},
   "outputs": [
    {
     "name": "stdin",
     "output_type": "stream",
     "text": [
      "Enter the 1st side of triangle: 25\n",
      "Enter the 2nd side of triangle: 14\n",
      "Enter the 3rd side of triangle: 49\n"
     ]
    },
    {
     "name": "stdout",
     "output_type": "stream",
     "text": [
      "\tSCALENE TRIANGLE.\n"
     ]
    }
   ],
   "source": [
    "a = int(input(\"Enter the 1st side of triangle:\"))\n",
    "b = int(input(\"Enter the 2nd side of triangle:\"))\n",
    "c = int(input(\"Enter the 3rd side of triangle:\"))\n",
    "\n",
    "if a == b and b == c:\n",
    "    print(\"\\tEQUILATERAL TRIANGLE.\")\n",
    "    \n",
    "elif a == b or a == c or b == c:\n",
    "        print(\"\\tISSOCELES TRIANGLE.\")\n",
    "else:\n",
    "    print(\"\\tSCALENE TRIANGLE.\")\n"
   ]
  },
  {
   "cell_type": "code",
   "execution_count": 2,
   "id": "ba2771ee-c481-4647-b118-487a9038ee64",
   "metadata": {},
   "outputs": [],
   "source": [
    "#7) Build a program that determines the largest of three given numbers."
   ]
  },
  {
   "cell_type": "code",
   "execution_count": 3,
   "id": "1c29a96f-9d9c-4b07-84ca-8d4b0e94c684",
   "metadata": {},
   "outputs": [
    {
     "name": "stdin",
     "output_type": "stream",
     "text": [
      "Enter 1st number: 25\n",
      "Enter 2nd number: 74\n",
      "Enter 3rd number: 96\n"
     ]
    },
    {
     "name": "stdout",
     "output_type": "stream",
     "text": [
      "96 is Largest.\n"
     ]
    }
   ],
   "source": [
    "a,b,c = int(input(\"Enter 1st number:\")), int(input(\"Enter 2nd number:\")), int(input(\"Enter 3rd number:\"))\n",
    "\n",
    "if a>b and a>c:\n",
    "    print(a,\" is Largest.\")\n",
    "elif b>a and b>c:\n",
    "    print(b,\"is Largest.\")\n",
    "else:\n",
    "    print(c,\"is Largest.\")"
   ]
  },
  {
   "cell_type": "code",
   "execution_count": 4,
   "id": "7134282f-173d-44e6-a5f4-1911279c9348",
   "metadata": {},
   "outputs": [],
   "source": [
    "#8) Develop a program that checks whether a character is a vowel or a consonant."
   ]
  },
  {
   "cell_type": "code",
   "execution_count": 5,
   "id": "a20d8aab-f6f1-4fb8-86b8-f452cc5b9646",
   "metadata": {},
   "outputs": [
    {
     "name": "stdin",
     "output_type": "stream",
     "text": [
      "Enter a character from Alphabet: f\n"
     ]
    },
    {
     "name": "stdout",
     "output_type": "stream",
     "text": [
      "f is a Consonant.\n"
     ]
    }
   ],
   "source": [
    "char = input(\"Enter a character from Alphabet:\").lower()\n",
    "\n",
    "if char in \"aeiou\":\n",
    "    print(f\"{char} is a Vowel.\")\n",
    "else:\n",
    "    print(f\"{char} is a Consonant.\")"
   ]
  },
  {
   "cell_type": "code",
   "execution_count": 6,
   "id": "0eadb664-10f8-4eae-818e-8967977e083c",
   "metadata": {},
   "outputs": [],
   "source": [
    "#9) Create a program to calculate the total cost of a shopping cart based on discounts."
   ]
  },
  {
   "cell_type": "code",
   "execution_count": 7,
   "id": "2a01a1b3-9ebc-4850-85c3-037a0ed16135",
   "metadata": {},
   "outputs": [
    {
     "name": "stdin",
     "output_type": "stream",
     "text": [
      "Enter the total amount of shopping: Rs. 2000\n"
     ]
    },
    {
     "name": "stdout",
     "output_type": "stream",
     "text": [
      "The discounted Price is : Rs.1400.0\n"
     ]
    }
   ],
   "source": [
    "n = float(input(\"Enter the total amount of shopping: Rs.\"))\n",
    "\n",
    "if n <= 100:\n",
    "    discount = 0\n",
    "elif n <= 500:\n",
    "    discount = 0.1    #10% discount\n",
    "elif n <= 1000:\n",
    "    discount = 0.2      #20% discount\n",
    "else:\n",
    "    discount = 0.3     #30% discount\n",
    "    \n",
    "discounted_price = n * (1-discount)\n",
    "\n",
    "print(\"The discounted Price is : Rs.{}\".format(discounted_price))"
   ]
  },
  {
   "cell_type": "code",
   "execution_count": 8,
   "id": "c889d7d4-3f10-46aa-9bf1-5dce8eb9539d",
   "metadata": {},
   "outputs": [],
   "source": [
    "#10) Write a program that checks if a given number is even or odd."
   ]
  },
  {
   "cell_type": "code",
   "execution_count": 9,
   "id": "a8256877-25c9-4fb0-a1e6-ce2609044071",
   "metadata": {},
   "outputs": [
    {
     "name": "stdin",
     "output_type": "stream",
     "text": [
      "Enter a number: 31\n"
     ]
    },
    {
     "name": "stdout",
     "output_type": "stream",
     "text": [
      "31 is Odd.\n"
     ]
    }
   ],
   "source": [
    "num = int(input(\"Enter a number:\"))\n",
    "\n",
    "if num % 2 == 0:\n",
    "    print(f\"{num} is Even.\")\n",
    "else:\n",
    "    print(f\"{num} is Odd.\")"
   ]
  },
  {
   "cell_type": "code",
   "execution_count": null,
   "id": "d5aaeaaa-1cb0-4c99-af3c-8c9c8dd24d39",
   "metadata": {},
   "outputs": [],
   "source": [
    "#INTERMEDIATE LEVEL"
   ]
  },
  {
   "cell_type": "code",
   "execution_count": 10,
   "id": "dcdca319-fe73-4a44-b141-a16c100627a5",
   "metadata": {},
   "outputs": [],
   "source": [
    "#11) Write a program that calculates the roots of a quadratic equation ."
   ]
  },
  {
   "cell_type": "code",
   "execution_count": 11,
   "id": "800871cf-ecf1-4f3a-bdf9-57d330417c75",
   "metadata": {},
   "outputs": [
    {
     "name": "stdin",
     "output_type": "stream",
     "text": [
      "Enter the Coefficient of a: 15\n",
      "Enter the Coefficient of a: 25\n",
      "Enter the Coefficient of a: 6\n"
     ]
    },
    {
     "name": "stdout",
     "output_type": "stream",
     "text": [
      "It has TWO Real Roots.\n"
     ]
    }
   ],
   "source": [
    "a = float(input(\"Enter the Coefficient of a:\"))\n",
    "b = float(input(\"Enter the Coefficient of a:\"))\n",
    "c = float(input(\"Enter the Coefficient of a:\"))\n",
    "\n",
    "d = b**2 - 4*a*c\n",
    "\n",
    "if d > 0:\n",
    "    print(\"It has TWO Real Roots.\")\n",
    "elif d==0:\n",
    "    print(\"It has ONE Real Root.\")\n",
    "else:\n",
    "    print(\"It has TWO Complex Conjugate roots.\")"
   ]
  },
  {
   "cell_type": "code",
   "execution_count": 12,
   "id": "4b4f66f8-8fa2-4f85-bada-98ddcb0e0221",
   "metadata": {},
   "outputs": [],
   "source": [
    "#12) Create a program that determines the day of the week based on the day number (1-7)."
   ]
  },
  {
   "cell_type": "code",
   "execution_count": 15,
   "id": "1d05386e-4ff6-431d-a3f8-a18280aab258",
   "metadata": {},
   "outputs": [
    {
     "name": "stdin",
     "output_type": "stream",
     "text": [
      "Enter the number between 1 to 7 : 4\n"
     ]
    },
    {
     "name": "stdout",
     "output_type": "stream",
     "text": [
      "It's THURSDAY.\n"
     ]
    }
   ],
   "source": [
    "num = int(input(\"Enter the number between 1 to 7 :\"))\n",
    "\n",
    "if 0 < num <8:\n",
    "    if num == 1:\n",
    "        print(\"It's MONDAY.\")\n",
    "    elif num == 2:\n",
    "        print(\"It's TUESDAY.\")\n",
    "    elif num == 3:\n",
    "        print(\"It's WEDNESDAY.\")\n",
    "    elif num == 4:\n",
    "        print(\"It's THURSDAY.\")\n",
    "    elif num == 5:\n",
    "        print(\"It's FRIDAY.\")\n",
    "    elif num == 6:\n",
    "        print(\"It's SATURDAY.\")\n",
    "    elif num == 7:\n",
    "        print(\"It's SUNDAY.\")\n",
    "else:\n",
    "    print(\"Invalid number entered.\")"
   ]
  },
  {
   "cell_type": "code",
   "execution_count": 16,
   "id": "49c4748e-ffc8-44a6-b99b-e071f589c0ff",
   "metadata": {},
   "outputs": [],
   "source": [
    "#13) Develop a program that calculates the factorial of a given number using recursion."
   ]
  },
  {
   "cell_type": "code",
   "execution_count": 19,
   "id": "391831d5-6993-477f-9979-c12cbf789449",
   "metadata": {},
   "outputs": [
    {
     "name": "stdout",
     "output_type": "stream",
     "text": [
      "Factorial of 5!: 120\n"
     ]
    }
   ],
   "source": [
    "def factorial(n):\n",
    "    if n == 0 or n == 1:\n",
    "        return 1\n",
    "    else:\n",
    "        return n * factorial(n - 1)\n",
    "\n",
    "\n",
    "result = factorial(5)\n",
    "print(\"Factorial of 5!:\", result)\n"
   ]
  },
  {
   "cell_type": "code",
   "execution_count": 20,
   "id": "dbd104b9-43fa-4f91-bc17-cb685ac09a8d",
   "metadata": {},
   "outputs": [],
   "source": [
    "#14) Write a program to find the largest among three numbers without using the `max()` function."
   ]
  },
  {
   "cell_type": "code",
   "execution_count": 21,
   "id": "268e1401-cb7d-424b-9faa-cfd4ca0f5496",
   "metadata": {},
   "outputs": [
    {
     "name": "stdin",
     "output_type": "stream",
     "text": [
      "Enter 1st number: 25\n",
      "Enter 2nd number: 85\n",
      "Enter 3rd number: 47\n"
     ]
    },
    {
     "name": "stdout",
     "output_type": "stream",
     "text": [
      "85 is max.\n"
     ]
    }
   ],
   "source": [
    "a,b,c = int(input(\"Enter 1st number:\")), int(input(\"Enter 2nd number:\")), int(input(\"Enter 3rd number:\"))\n",
    "\n",
    "if a>b and a>c:\n",
    "    print(a,\" is max.\")\n",
    "elif b>a and b>c:\n",
    "    print(b,\"is max.\")\n",
    "else:\n",
    "    print(c,\"is max.\")"
   ]
  },
  {
   "cell_type": "code",
   "execution_count": 22,
   "id": "3242986b-fcbe-4d29-a7a6-87f7171605ec",
   "metadata": {},
   "outputs": [],
   "source": [
    "#15) Create a program that simulates a basic ATM transaction menu."
   ]
  },
  {
   "cell_type": "code",
   "execution_count": 35,
   "id": "8ca9f243-4cde-4de7-b295-44887f88fb96",
   "metadata": {},
   "outputs": [
    {
     "name": "stdout",
     "output_type": "stream",
     "text": [
      "ATM OPERATIONS\n",
      "\t1. Balance Enquiry\n",
      "\t2. Deposit\n",
      "\t3. Withdraw\n",
      "\t4. Exit\n"
     ]
    },
    {
     "name": "stdin",
     "output_type": "stream",
     "text": [
      "Enter the Suitable number for performing certaion operation: 2\n",
      "Enter the amount you want to deposit: 50000\n"
     ]
    },
    {
     "name": "stdout",
     "output_type": "stream",
     "text": [
      "Received Rs.50000.0 in your account X4552.\n",
      "Now Your Balance is Rs.51000.0\n"
     ]
    }
   ],
   "source": [
    "print(\"ATM OPERATIONS\")\n",
    "print(\"\\t1. Balance Enquiry\\n\\t2. Deposit\\n\\t3. Withdraw\\n\\t4. Exit\")\n",
    "op = int(input(\"Enter the Suitable number for performing certaion operation:\"))\n",
    "balance = 1000.00\n",
    "if op == 1:\n",
    "    print(f\"Your account X4552 balance is Rs.{balance}\") \n",
    "elif op == 2:\n",
    "    dep_amt = float(input(\"Enter the amount you want to deposit:\"))\n",
    "    \n",
    "    print(f\"Received Rs.{dep_amt} in your account X4552.\\nNow Your Balance is Rs.{balance + dep_amt}\")\n",
    "elif op == 3:\n",
    "    with_amt = float(input(\"Enter the amount you want to withdraw:\"))\n",
    "    \n",
    "    if with_amt <= balance:\n",
    "        print(f\"Your Account X4552 debited with Rs.{with_amt}.\\nNow Your Balance is Rs.{balance - with_amt}\")\n",
    "    else:\n",
    "        print(\"Your Account X4552 has InSufficient Balance.\")\n",
    "elif op == 4:\n",
    "    print(\"Thank You for using the ATM.\")\n",
    "else:\n",
    "    print(\"Invalid operation Entered.\")\n"
   ]
  },
  {
   "cell_type": "code",
   "execution_count": 36,
   "id": "8346bcfc-eb5c-4ee4-b609-d8d8a0d735c0",
   "metadata": {},
   "outputs": [],
   "source": [
    "#16) Build a program that checks if a given string is a palindrome or not."
   ]
  },
  {
   "cell_type": "code",
   "execution_count": 37,
   "id": "f28d1442-7d6e-4703-9200-be67dc816fae",
   "metadata": {},
   "outputs": [
    {
     "name": "stdin",
     "output_type": "stream",
     "text": [
      "Enter a word: Racecar\n"
     ]
    },
    {
     "name": "stdout",
     "output_type": "stream",
     "text": [
      "The Given Word is PALINDROME.\n"
     ]
    }
   ],
   "source": [
    "word = input(\"Enter a word:\").lower()\n",
    "\n",
    "if word == word[::-1]:\n",
    "    print(\"The Given Word is PALINDROME.\")\n",
    "else:\n",
    "    print(\"It's not a Plaindrome Word.\")"
   ]
  },
  {
   "cell_type": "code",
   "execution_count": 38,
   "id": "ba995e1d-469a-4afa-ade2-b797c5d31fb9",
   "metadata": {},
   "outputs": [],
   "source": [
    "#17) Write a program that calculates the average of a list of numbers, excluding the smallest and largest values."
   ]
  },
  {
   "cell_type": "code",
   "execution_count": 41,
   "id": "4c79c4d2-56f1-4ff3-a356-6510f878885a",
   "metadata": {},
   "outputs": [
    {
     "name": "stdout",
     "output_type": "stream",
     "text": [
      "The average (excluding the smallest and largest values) is: 11.25\n"
     ]
    }
   ],
   "source": [
    "def calculate_average(numbers):\n",
    "    if len(numbers) < 3:\n",
    "        print(\"Insufficient data. Please provide at least three numbers.\")\n",
    "        return\n",
    "\n",
    "    # Exclude the smallest and largest values\n",
    "    numbers.sort()\n",
    "    excluded_numbers = numbers[1:-1]\n",
    "\n",
    "    # Calculate the average of the remaining values\n",
    "    average = sum(excluded_numbers) / len(excluded_numbers)\n",
    "\n",
    "    return average\n",
    "\n",
    "# Function call\n",
    "numbers = [12, 5, 8, 21, 16, 9]\n",
    "result = calculate_average(numbers)\n",
    "\n",
    "if result is not None:\n",
    "    print(f\"The average (excluding the smallest and largest values) is: {result:.2f}\")"
   ]
  },
  {
   "cell_type": "code",
   "execution_count": 42,
   "id": "8e723000-f7fe-4432-82a6-0053ea4e1407",
   "metadata": {},
   "outputs": [],
   "source": [
    "#18) Develop a program that converts a given temperature from Celsius to Fahrenheit."
   ]
  },
  {
   "cell_type": "code",
   "execution_count": 44,
   "id": "afdfdfb1-b5ad-4215-ab8c-9e46a8fd65f1",
   "metadata": {},
   "outputs": [
    {
     "name": "stdin",
     "output_type": "stream",
     "text": [
      "Enter the temperature in Celsius:  -1\n"
     ]
    },
    {
     "name": "stdout",
     "output_type": "stream",
     "text": [
      "-1.0 Celsius is equal to 30.2 Fahrenheit\n"
     ]
    }
   ],
   "source": [
    "temp = float(input(\"Enter the temperature in Celsius: \"))\n",
    "\n",
    "fahrenheit = (temp * 9/5) + 32 \n",
    "\n",
    "print(f\"{temp} Celsius is equal to {fahrenheit} Fahrenheit\")"
   ]
  },
  {
   "cell_type": "code",
   "execution_count": 45,
   "id": "6ced08c6-e41e-429e-afe7-e03472277e1d",
   "metadata": {},
   "outputs": [],
   "source": [
    "#19) Create a program that simulates a basic calculator for addition, subtraction, multiplication, and division."
   ]
  },
  {
   "cell_type": "code",
   "execution_count": 46,
   "id": "4ab86111-3f84-4509-a03b-a74e13cd877d",
   "metadata": {},
   "outputs": [
    {
     "name": "stdout",
     "output_type": "stream",
     "text": [
      "\n",
      "Calculator Menu:\n",
      "1. Addition\n",
      "2. Subtraction\n",
      "3. Multiplication\n",
      "4. Division\n",
      "5. Exit\n"
     ]
    },
    {
     "name": "stdin",
     "output_type": "stream",
     "text": [
      "Enter your choice (1-5):  4\n",
      "Enter the first number:  50\n",
      "Enter the second number:  5\n"
     ]
    },
    {
     "name": "stdout",
     "output_type": "stream",
     "text": [
      "Result: 50.0 / 5.0 = 10.0\n",
      "\n",
      "Calculator Menu:\n",
      "1. Addition\n",
      "2. Subtraction\n",
      "3. Multiplication\n",
      "4. Division\n",
      "5. Exit\n"
     ]
    },
    {
     "name": "stdin",
     "output_type": "stream",
     "text": [
      "Enter your choice (1-5):  5\n"
     ]
    },
    {
     "name": "stdout",
     "output_type": "stream",
     "text": [
      "Exiting the calculator. Goodbye!\n"
     ]
    }
   ],
   "source": [
    "while True:\n",
    "    print(\"\\nCalculator Menu:\")\n",
    "    print(\"1. Addition\")\n",
    "    print(\"2. Subtraction\")\n",
    "    print(\"3. Multiplication\")\n",
    "    print(\"4. Division\")\n",
    "    print(\"5. Exit\")\n",
    "\n",
    "    choice = input(\"Enter your choice (1-5): \")\n",
    "\n",
    "    if choice == '5':\n",
    "        print(\"Exiting the calculator. Goodbye!\")\n",
    "        break\n",
    "\n",
    "    if choice in ['1', '2', '3', '4']:\n",
    "        num1 = float(input(\"Enter the first number: \"))\n",
    "        num2 = float(input(\"Enter the second number: \"))\n",
    "\n",
    "        if choice == '1':\n",
    "            print(f\"Result: {num1} + {num2} = {num1 + num2}\")\n",
    "        elif choice == '2':\n",
    "            print(f\"Result: {num1} - {num2} = {num1 - num2}\")\n",
    "        elif choice == '3':\n",
    "            print(f\"Result: {num1} * {num2} = {num1 * num2}\")\n",
    "        elif choice == '4':\n",
    "            if num2 != 0:\n",
    "                print(f\"Result: {num1} / {num2} = {num1 / num2}\")\n",
    "            else:\n",
    "                print(\"Error: Division by zero\")\n",
    "    else:\n",
    "        print(\"Invalid choice. Please enter a number between 1 and 5.\")\n"
   ]
  },
  {
   "cell_type": "code",
   "execution_count": 1,
   "id": "d4edd98a-2ef5-4edc-9e5a-8ba94b58841e",
   "metadata": {},
   "outputs": [],
   "source": [
    "#20) Write a program that determines the roots of a cubic equation using the Cardano formula."
   ]
  },
  {
   "cell_type": "code",
   "execution_count": 2,
   "id": "decb39f3-11fa-4ce5-beeb-b120e7fa3283",
   "metadata": {},
   "outputs": [],
   "source": [
    "#Don't know the Answer"
   ]
  },
  {
   "cell_type": "code",
   "execution_count": 3,
   "id": "d0ebd742-f700-4ed3-b827-90908715ce52",
   "metadata": {},
   "outputs": [],
   "source": [
    "#ADVANCED LEVEL"
   ]
  },
  {
   "cell_type": "code",
   "execution_count": 4,
   "id": "2f70870d-b1e1-430f-a428-5e940217824a",
   "metadata": {},
   "outputs": [],
   "source": [
    "#21) Create a program that calculates the income tax based on the user's income and tax brackets."
   ]
  },
  {
   "cell_type": "code",
   "execution_count": 2,
   "id": "44cd6e8c-a90e-4845-bf28-9c81ae4d6f84",
   "metadata": {},
   "outputs": [
    {
     "name": "stdin",
     "output_type": "stream",
     "text": [
      "Enter your annual income: 80000\n"
     ]
    },
    {
     "name": "stdout",
     "output_type": "stream",
     "text": [
      "Your Income tax is : Rs.19000.0\n"
     ]
    }
   ],
   "source": [
    "def calculate_income_tax(income):\n",
    "    #Tax barckets and rates \n",
    "    brackets = [0, 10000, 40000, 80000]\n",
    "    rates = [0.1, 0.2, 0.3, 0.4]\n",
    "    \n",
    "    tax = 0\n",
    "    for i in range(len(rates)):\n",
    "        if income > brackets[i + 1]:\n",
    "            tax += (brackets[i + 1] - brackets[i]) * rates[i]\n",
    "        else:\n",
    "            tax += (income -  brackets[i]) * rates[i]\n",
    "            break \n",
    "    return tax\n",
    "\n",
    "income = float(input(\"Enter your annual income:\"))\n",
    "\n",
    "income_tax = calculate_income_tax(income)\n",
    "\n",
    "print(f\"Your Income tax is : Rs.{income_tax}\")\n",
    "        "
   ]
  },
  {
   "cell_type": "code",
   "execution_count": 3,
   "id": "13fa7797-138c-4de8-8420-f95a92955948",
   "metadata": {},
   "outputs": [],
   "source": [
    "#22) Write a program that simulates a rock-paper-scissors game against the computer."
   ]
  },
  {
   "cell_type": "code",
   "execution_count": 6,
   "id": "9edf6ee3-c46b-4d6d-b2a0-253cd25b3c7d",
   "metadata": {},
   "outputs": [
    {
     "name": "stdout",
     "output_type": "stream",
     "text": [
      "Welcome to Rock-Paper-Scissor Game.\n"
     ]
    },
    {
     "name": "stdin",
     "output_type": "stream",
     "text": [
      "Choose Rock, Paper or Scissor. rock\n"
     ]
    },
    {
     "name": "stdout",
     "output_type": "stream",
     "text": [
      "\n",
      "You Choose: rock.\n",
      "Computer Choose : paper.\n",
      "\n",
      "Computer Wins !\n"
     ]
    },
    {
     "name": "stdin",
     "output_type": "stream",
     "text": [
      "\n",
      "Do you want to play game again? (yes/no): yes\n",
      "Choose Rock, Paper or Scissor. rock\n"
     ]
    },
    {
     "name": "stdout",
     "output_type": "stream",
     "text": [
      "\n",
      "You Choose: rock.\n",
      "Computer Choose : rock.\n",
      "\n",
      "It's a Tie.\n"
     ]
    },
    {
     "name": "stdin",
     "output_type": "stream",
     "text": [
      "\n",
      "Do you want to play game again? (yes/no): rock\n"
     ]
    },
    {
     "name": "stdout",
     "output_type": "stream",
     "text": [
      "Thanks for playing! GoodBye.\n"
     ]
    }
   ],
   "source": [
    "import random\n",
    "\n",
    "def get_user_choice():\n",
    "    while True:\n",
    "        user_choice = input(\"Choose Rock, Paper or Scissor.\").lower()\n",
    "        if user_choice in [\"rock\",\"paper\",\"scissor\"]:\n",
    "            return user_choice\n",
    "        else:\n",
    "            print(\"Invalid Choice. Please choose Rock, Paper or Scissor.\")\n",
    "\n",
    "def get_computer_choice():\n",
    "    choices = [\"rock\",\"paper\",\"scissor\"]\n",
    "    return random.choice(choices)\n",
    "\n",
    "def find_winner(user_choice,computer_choice):\n",
    "    if user_choice == computer_choice:\n",
    "        return \"\\nIt's a Tie.\"\n",
    "    elif (\n",
    "        (user_choice == \"rock\" and computer_choice == \"scissor\")or \n",
    "        (user_choice == \"paper\" and computer_choice == \"rock\")or\n",
    "        (user_choice == \"scissor\" and computer_choice == \"paper\")\n",
    "    ):\n",
    "        return \"\\nYou Win !\"\n",
    "    else:\n",
    "        return \"\\nComputer Wins !\"\n",
    "\n",
    "def start_game():\n",
    "    print(\"Welcome to Rock-Paper-Scissor Game.\")\n",
    "    \n",
    "    while True:\n",
    "        user_choice = get_user_choice()\n",
    "        computer_choice = get_computer_choice()\n",
    "        \n",
    "        print(f\"\\nYou Choose: {user_choice}.\")\n",
    "        print(f\"Computer Choose : {computer_choice}.\")\n",
    "        \n",
    "        result = find_winner(user_choice, computer_choice)\n",
    "        print(result)\n",
    "        \n",
    "        play_again = input(\"\\nDo you want to play game again? (yes/no):\").lower()\n",
    "        if play_again != \"yes\":\n",
    "            print(\"Thanks for playing! GoodBye.\")\n",
    "            break\n",
    "\n",
    "#Function call\n",
    "start_game()\n",
    "            \n",
    "        \n",
    "    "
   ]
  },
  {
   "cell_type": "code",
   "execution_count": 7,
   "id": "750b47f5-15b6-4627-aae3-749810ce7a4a",
   "metadata": {},
   "outputs": [],
   "source": [
    "#23) Develop a program that generates a random password based on user preferences (length, complexity)."
   ]
  },
  {
   "cell_type": "code",
   "execution_count": 8,
   "id": "d47c2797-3236-4f69-ae28-37b6f7f7124c",
   "metadata": {},
   "outputs": [
    {
     "name": "stdin",
     "output_type": "stream",
     "text": [
      "Enter the desired length of the password:  8\n",
      "Include uppercase letters? (yes/no):  yes\n",
      "Include digits? (yes/no):  yes\n",
      "Include special characters? (yes/no):  yes\n"
     ]
    },
    {
     "name": "stdout",
     "output_type": "stream",
     "text": [
      "Generated Password: $c1/23?e\n"
     ]
    }
   ],
   "source": [
    "import random\n",
    "import string\n",
    "\n",
    "def generate_password(length, include_uppercase, include_digits, include_special_chars):\n",
    "    lowercase_chars = string.ascii_lowercase\n",
    "    uppercase_chars = string.ascii_uppercase if include_uppercase else ''\n",
    "    digit_chars = string.digits if include_digits else ''\n",
    "    special_chars = string.punctuation if include_special_chars else ''\n",
    "\n",
    "    # Combine character sets\n",
    "    all_chars = lowercase_chars + uppercase_chars + digit_chars + special_chars\n",
    "\n",
    "    # Ensure the length is at least 8 characters\n",
    "    length = max(length, 8)\n",
    "\n",
    "    # Generate the password\n",
    "    password = ''.join(random.choice(all_chars) for _ in range(length))\n",
    "\n",
    "    return password\n",
    "\n",
    "# Get user preferences\n",
    "length = int(input(\"Enter the desired length of the password: \"))\n",
    "include_uppercase = input(\"Include uppercase letters? (yes/no): \").lower() == 'yes'\n",
    "include_digits = input(\"Include digits? (yes/no): \").lower() == 'yes'\n",
    "include_special_chars = input(\"Include special characters? (yes/no): \").lower() == 'yes'\n",
    "\n",
    "# Generate and display the password\n",
    "password = generate_password(length, include_uppercase, include_digits, include_special_chars)\n",
    "print(\"Generated Password:\", password)\n"
   ]
  },
  {
   "cell_type": "code",
   "execution_count": 9,
   "id": "d9ec1c35-efe2-4ac6-b387-5a06af009eba",
   "metadata": {},
   "outputs": [],
   "source": [
    "#24) Create a program that implements a simple text-based adventure game with branching scenarios."
   ]
  },
  {
   "cell_type": "code",
   "execution_count": 10,
   "id": "4e316dad-2fc5-4f7a-a056-00d9c40635f8",
   "metadata": {},
   "outputs": [
    {
     "name": "stdout",
     "output_type": "stream",
     "text": [
      "Welcome to the Adventure Game!\n",
      "You find yourself standing at a crossroad.\n",
      "Make decisions to navigate through the adventure.\n",
      "Let's begin!\n",
      "\n",
      "Choose your path:\n",
      "1. Take the left path.\n",
      "2. Take the right path.\n"
     ]
    },
    {
     "name": "stdin",
     "output_type": "stream",
     "text": [
      "Enter 1 or 2:  2\n"
     ]
    },
    {
     "name": "stdout",
     "output_type": "stream",
     "text": [
      "\n",
      "You take the right path and come across a mysterious cave.\n",
      "Inside the cave, you find a sleeping dragon.\n"
     ]
    },
    {
     "name": "stdin",
     "output_type": "stream",
     "text": [
      "Do you want to wake up the dragon? (yes/no):  no\n"
     ]
    },
    {
     "name": "stdout",
     "output_type": "stream",
     "text": [
      "Smart choice! You quietly leave the cave without disturbing the dragon.\n",
      "\n"
     ]
    },
    {
     "name": "stdin",
     "output_type": "stream",
     "text": [
      "Do you want to play again? (yes/no):  no\n"
     ]
    },
    {
     "name": "stdout",
     "output_type": "stream",
     "text": [
      "Thanks for playing! Goodbye.\n"
     ]
    }
   ],
   "source": [
    "import time\n",
    "\n",
    "def introduction():\n",
    "    print(\"Welcome to the Adventure Game!\")\n",
    "    time.sleep(1)\n",
    "    print(\"You find yourself standing at a crossroad.\")\n",
    "    time.sleep(1)\n",
    "    print(\"Make decisions to navigate through the adventure.\")\n",
    "    time.sleep(1)\n",
    "    print(\"Let's begin!\\n\")\n",
    "\n",
    "def choose_path():\n",
    "    print(\"Choose your path:\")\n",
    "    time.sleep(1)\n",
    "    print(\"1. Take the left path.\")\n",
    "    time.sleep(1)\n",
    "    print(\"2. Take the right path.\")\n",
    "    time.sleep(1)\n",
    "    return input(\"Enter 1 or 2: \")\n",
    "\n",
    "def left_path():\n",
    "    print(\"\\nYou take the left path and encounter a friendly squirrel.\")\n",
    "    time.sleep(1)\n",
    "    print(\"The squirrel guides you to a hidden treasure chest.\")\n",
    "    time.sleep(1)\n",
    "    print(\"Congratulations! You found the treasure!\\n\")\n",
    "\n",
    "def right_path():\n",
    "    print(\"\\nYou take the right path and come across a mysterious cave.\")\n",
    "    time.sleep(1)\n",
    "    print(\"Inside the cave, you find a sleeping dragon.\")\n",
    "    time.sleep(1)\n",
    "    choice = input(\"Do you want to wake up the dragon? (yes/no): \").lower()\n",
    "    if choice == 'yes':\n",
    "        print(\"Uh-oh! The dragon wakes up and chases you away.\")\n",
    "    else:\n",
    "        print(\"Smart choice! You quietly leave the cave without disturbing the dragon.\\n\")\n",
    "\n",
    "def play_game():\n",
    "    introduction()\n",
    "\n",
    "    while True:\n",
    "        user_choice = choose_path()\n",
    "\n",
    "        if user_choice == '1':\n",
    "            left_path()\n",
    "        elif user_choice == '2':\n",
    "            right_path()\n",
    "        else:\n",
    "            print(\"Invalid choice. Please enter 1 or 2.\\n\")\n",
    "            continue\n",
    "\n",
    "        play_again = input(\"Do you want to play again? (yes/no): \").lower()\n",
    "        if play_again != 'yes':\n",
    "            print(\"Thanks for playing! Goodbye.\")\n",
    "            break\n",
    "\n",
    "# Run the game\n",
    "play_game()\n"
   ]
  },
  {
   "cell_type": "code",
   "execution_count": 11,
   "id": "fcbd3ff2-776d-4ff5-a92b-34b33aaa48db",
   "metadata": {},
   "outputs": [],
   "source": [
    "#25) Build a program that solves a linear equation for x, considering different cases."
   ]
  },
  {
   "cell_type": "code",
   "execution_count": 12,
   "id": "978cce40-7bea-4c62-b54b-4357d8d57d83",
   "metadata": {},
   "outputs": [
    {
     "name": "stdout",
     "output_type": "stream",
     "text": [
      "Linear Equation Solver: ax + b = 0\n"
     ]
    },
    {
     "name": "stdin",
     "output_type": "stream",
     "text": [
      "Enter the coefficient 'a':  5\n",
      "Enter the coefficient 'b':  4\n"
     ]
    },
    {
     "name": "stdout",
     "output_type": "stream",
     "text": [
      "Solution: x = -0.8\n"
     ]
    }
   ],
   "source": [
    "def solve_linear_equation(a, b):\n",
    "    if a == 0:\n",
    "        if b == 0:\n",
    "            return \"Infinite solutions (identity equation)\"\n",
    "        else:\n",
    "            return \"No solution (contradictory equation)\"\n",
    "    else:\n",
    "        x = -b / a\n",
    "        return f\"Solution: x = {x}\"\n",
    "\n",
    "def main():\n",
    "    print(\"Linear Equation Solver: ax + b = 0\")\n",
    "    \n",
    "    # Get user input for coefficients\n",
    "    a = float(input(\"Enter the coefficient 'a': \"))\n",
    "    b = float(input(\"Enter the coefficient 'b': \"))\n",
    "\n",
    "    # Solve the linear equation\n",
    "    result = solve_linear_equation(a, b)\n",
    "\n",
    "    # Display the result\n",
    "    print(result)\n",
    "\n",
    "if __name__ == \"__main__\":\n",
    "    main()\n"
   ]
  },
  {
   "cell_type": "code",
   "execution_count": 13,
   "id": "760d1067-0c73-49c9-8dfc-01cb8d3fcbfd",
   "metadata": {},
   "outputs": [],
   "source": [
    "#26) Write a program that simulates a basic quiz game with multiple-choice questions and scoring."
   ]
  },
  {
   "cell_type": "code",
   "execution_count": 15,
   "id": "bf3dacb3-ccbe-4800-af21-57dc5b7257da",
   "metadata": {},
   "outputs": [
    {
     "name": "stdout",
     "output_type": "stream",
     "text": [
      "What is the largest mammal?\n",
      "1. Elephant\n",
      "2. Whale Shark\n",
      "3. Blue Whale\n",
      "4. Giraffe\n"
     ]
    },
    {
     "name": "stdin",
     "output_type": "stream",
     "text": [
      "Enter the number of your answer:  2\n"
     ]
    },
    {
     "name": "stdout",
     "output_type": "stream",
     "text": [
      "Wrong! The correct answer was Blue Whale\n",
      "\n",
      "What is the capital of France?\n",
      "1. Berlin\n",
      "2. Paris\n",
      "3. London\n",
      "4. Madrid\n"
     ]
    },
    {
     "name": "stdin",
     "output_type": "stream",
     "text": [
      "Enter the number of your answer:  1\n"
     ]
    },
    {
     "name": "stdout",
     "output_type": "stream",
     "text": [
      "Wrong! The correct answer was Paris\n",
      "\n",
      "Which planet is known as the Red Planet?\n",
      "1. Venus\n",
      "2. Mars\n",
      "3. Jupiter\n",
      "4. Saturn\n"
     ]
    },
    {
     "name": "stdin",
     "output_type": "stream",
     "text": [
      "Enter the number of your answer:  2\n"
     ]
    },
    {
     "name": "stdout",
     "output_type": "stream",
     "text": [
      "Correct!\n",
      "\n",
      "Quiz completed! Your score: 1/3\n"
     ]
    }
   ],
   "source": [
    "import random\n",
    "\n",
    "class Quiz:\n",
    "    def __init__(self, questions):\n",
    "        self.questions = questions\n",
    "        self.score = 0\n",
    "\n",
    "    def ask_question(self, question):\n",
    "        print(question[\"text\"])\n",
    "        for i, option in enumerate(question[\"options\"], start=1):\n",
    "            print(f\"{i}. {option}\")\n",
    "\n",
    "        user_answer = input(\"Enter the number of your answer: \")\n",
    "        return int(user_answer) - 1\n",
    "\n",
    "    def run_quiz(self):\n",
    "        random.shuffle(self.questions)\n",
    "\n",
    "        for question in self.questions:\n",
    "            user_choice = self.ask_question(question)\n",
    "\n",
    "            if user_choice == question[\"correct\"]:\n",
    "                print(\"Correct!\\n\")\n",
    "                self.score += 1\n",
    "            else:\n",
    "                print(f\"Wrong! The correct answer was {question['options'][question['correct']]}\\n\")\n",
    "\n",
    "        print(f\"Quiz completed! Your score: {self.score}/{len(self.questions)}\")\n",
    "\n",
    "# Example questions for the quiz\n",
    "quiz_questions = [\n",
    "    {\n",
    "        \"text\": \"What is the capital of France?\",\n",
    "        \"options\": [\"Berlin\", \"Paris\", \"London\", \"Madrid\"],\n",
    "        \"correct\": 1,\n",
    "    },\n",
    "    {\n",
    "        \"text\": \"Which planet is known as the Red Planet?\",\n",
    "        \"options\": [\"Venus\", \"Mars\", \"Jupiter\", \"Saturn\"],\n",
    "        \"correct\": 1,\n",
    "    },\n",
    "    {\n",
    "        \"text\": \"What is the largest mammal?\",\n",
    "        \"options\": [\"Elephant\", \"Whale Shark\", \"Blue Whale\", \"Giraffe\"],\n",
    "        \"correct\": 2,\n",
    "    },\n",
    "]\n",
    "\n",
    "# Create and run the quiz\n",
    "my_quiz = Quiz(quiz_questions)\n",
    "my_quiz.run_quiz()\n"
   ]
  },
  {
   "cell_type": "code",
   "execution_count": 16,
   "id": "b0eac6a0-31c4-4d6f-9c42-fe88850a6d33",
   "metadata": {},
   "outputs": [],
   "source": [
    "#27) Develop a program that determines whether a given year is a prime number or not."
   ]
  },
  {
   "cell_type": "code",
   "execution_count": 17,
   "id": "06464b7e-b0fa-4bc9-b65c-b2852d443942",
   "metadata": {},
   "outputs": [
    {
     "name": "stdout",
     "output_type": "stream",
     "text": [
      "Prime Year Checker\n"
     ]
    },
    {
     "name": "stdin",
     "output_type": "stream",
     "text": [
      "Enter a year:  2017\n"
     ]
    },
    {
     "name": "stdout",
     "output_type": "stream",
     "text": [
      "2017 is a prime year!\n"
     ]
    }
   ],
   "source": [
    "def is_prime(year):\n",
    "    if year < 2:\n",
    "        return False\n",
    "    for i in range(2, int(year**0.5) + 1):\n",
    "        if year % i == 0:\n",
    "            return False\n",
    "    return True\n",
    "\n",
    "def check():\n",
    "    print(\"Prime Year Checker\")\n",
    "\n",
    "    # Get user input for the year\n",
    "    try:\n",
    "        year = int(input(\"Enter a year: \"))\n",
    "    except ValueError:\n",
    "        print(\"Invalid input. Please enter a valid integer.\")\n",
    "        return\n",
    "\n",
    "    # Check if the year is prime\n",
    "    if is_prime(year):\n",
    "        print(f\"{year} is a prime year!\")\n",
    "    else:\n",
    "        print(f\"{year} is not a prime year.\")\n",
    "\n",
    "check()\n"
   ]
  },
  {
   "cell_type": "code",
   "execution_count": 18,
   "id": "9f2238ee-cdd6-403e-a377-37433409c8fb",
   "metadata": {},
   "outputs": [],
   "source": [
    "#28) Create a program that sorts three numbers in ascending order using conditional statements."
   ]
  },
  {
   "cell_type": "code",
   "execution_count": 19,
   "id": "9c2545b1-d860-49d1-be9f-1122b8c05f24",
   "metadata": {},
   "outputs": [
    {
     "name": "stdout",
     "output_type": "stream",
     "text": [
      "Ascending Order Sorter\n"
     ]
    },
    {
     "name": "stdin",
     "output_type": "stream",
     "text": [
      "Enter the first number:  54\n",
      "Enter the second number:  25\n",
      "Enter the third number:  69\n"
     ]
    },
    {
     "name": "stdout",
     "output_type": "stream",
     "text": [
      "Sorted numbers in ascending order: (25.0, 54.0, 69.0)\n"
     ]
    }
   ],
   "source": [
    "def sort_numbers(a, b, c):\n",
    "    if a <= b and a <= c:\n",
    "        smallest = a\n",
    "        if b <= c:\n",
    "            middle = b\n",
    "            largest = c\n",
    "        else:\n",
    "            middle = c\n",
    "            largest = b\n",
    "    elif b <= a and b <= c:\n",
    "        smallest = b\n",
    "        if a <= c:\n",
    "            middle = a\n",
    "            largest = c\n",
    "        else:\n",
    "            middle = c\n",
    "            largest = a\n",
    "    else:\n",
    "        smallest = c\n",
    "        if a <= b:\n",
    "            middle = a\n",
    "            largest = b\n",
    "        else:\n",
    "            middle = b\n",
    "            largest = a\n",
    "\n",
    "    return smallest, middle, largest\n",
    "\n",
    "def ascend():\n",
    "    print(\"Ascending Order Sorter\")\n",
    "    num1 = float(input(\"Enter the first number: \"))\n",
    "    num2 = float(input(\"Enter the second number: \"))\n",
    "    num3 = float(input(\"Enter the third number: \"))\n",
    "\n",
    "    sorted_numbers = sort_numbers(num1, num2, num3)\n",
    "\n",
    "    print(\"Sorted numbers in ascending order:\", sorted_numbers)\n",
    "\n",
    "ascend()\n"
   ]
  },
  {
   "cell_type": "code",
   "execution_count": 20,
   "id": "6598603c-ee11-4019-95e8-d31a0551b0d8",
   "metadata": {},
   "outputs": [],
   "source": [
    "#29) Build a program that determines the roots of a quartic equation using numerical methods."
   ]
  },
  {
   "cell_type": "code",
   "execution_count": 22,
   "id": "e87ef324-3206-453c-8f95-6d686d755cf1",
   "metadata": {},
   "outputs": [
    {
     "name": "stdout",
     "output_type": "stream",
     "text": [
      "Quartic Equation Solver using Newton-Raphson Method\n"
     ]
    },
    {
     "name": "stdin",
     "output_type": "stream",
     "text": [
      "Enter coefficient a:  6\n",
      "Enter coefficient b:  7\n",
      "Enter coefficient c:  9\n",
      "Enter coefficient d:  25\n",
      "Enter constant term e:  3.14\n",
      "Enter initial guess for root:  52\n"
     ]
    },
    {
     "name": "stdout",
     "output_type": "stream",
     "text": [
      "\n",
      "Root found: x = -0.13123878549676488\n"
     ]
    }
   ],
   "source": [
    "def quartic_function(x, a, b, c, d, e):\n",
    "    return a * x**4 + b * x**3 + c * x**2 + d * x + e\n",
    "\n",
    "def quartic_derivative(x, a, b, c, d):\n",
    "    return 4 * a * x**3 + 3 * b * x**2 + 2 * c * x + d\n",
    "\n",
    "def newton_raphson_quartic(a, b, c, d, e, initial_guess, tolerance=1e-6, max_iterations=100):\n",
    "    x = initial_guess\n",
    "\n",
    "    for _ in range(max_iterations):\n",
    "        f_x = quartic_function(x, a, b, c, d, e)\n",
    "        f_prime_x = quartic_derivative(x, a, b, c, d)\n",
    "\n",
    "        if abs(f_x) < tolerance:\n",
    "            return x\n",
    "\n",
    "        x -= f_x / f_prime_x\n",
    "\n",
    "    return None  \n",
    "\n",
    "def main():\n",
    "    print(\"Quartic Equation Solver using Newton-Raphson Method\")\n",
    "    \n",
    "    a = float(input(\"Enter coefficient a: \"))\n",
    "    b = float(input(\"Enter coefficient b: \"))\n",
    "    c = float(input(\"Enter coefficient c: \"))\n",
    "    d = float(input(\"Enter coefficient d: \"))\n",
    "    e = float(input(\"Enter constant term e: \"))\n",
    "    initial_guess = float(input(\"Enter initial guess for root: \"))\n",
    "\n",
    "\n",
    "    # Solve the quartic equation\n",
    "    root = newton_raphson_quartic(a, b, c, d, e, initial_guess)\n",
    "\n",
    "    if root is not None:\n",
    "        print(f\"\\nRoot found: x = {root}\")\n",
    "    else:\n",
    "        print(\"\\nNewton-Raphson method did not converge within the maximum iterations.\")\n",
    "\n",
    "if __name__ == \"__main__\":\n",
    "    main()\n"
   ]
  },
  {
   "cell_type": "code",
   "execution_count": 23,
   "id": "9ac2742c-c786-4412-8df4-b21b18b7b2e7",
   "metadata": {},
   "outputs": [],
   "source": [
    "#30) Write a program that calculates the BMI (Body Mass Index) and provides health recommendations based on the user's input."
   ]
  },
  {
   "cell_type": "code",
   "execution_count": 24,
   "id": "55ded864-150a-4e75-a144-ca382410927c",
   "metadata": {},
   "outputs": [
    {
     "name": "stdin",
     "output_type": "stream",
     "text": [
      "Enter the Weight in kg: 65\n",
      "Enter the Height in meters: 5.6\n"
     ]
    },
    {
     "name": "stdout",
     "output_type": "stream",
     "text": [
      "UnderWeight\n"
     ]
    }
   ],
   "source": [
    "weight = float(input(\"Enter the Weight in kg:\"))\n",
    "\n",
    "height = float(input(\"Enter the Height in meters:\"))\n",
    "\n",
    "bmi = weight / height**2\n",
    "\n",
    "if bmi >= 25.0:\n",
    "    print(\"OverWeight.\")\n",
    "elif 18.5<= bmi <= 24.9:\n",
    "    print(\"Normal\")\n",
    "elif bmi < 18.5:\n",
    "    print(\"UnderWeight\")\n",
    "else:\n",
    "    print(\"Invalid BMI\")"
   ]
  },
  {
   "cell_type": "code",
   "execution_count": 1,
   "id": "e8fcab5c-46fb-4bcf-a410-130cb13afd85",
   "metadata": {},
   "outputs": [],
   "source": [
    "#CHALLENGE LEVEL"
   ]
  },
  {
   "cell_type": "code",
   "execution_count": 2,
   "id": "966a3ee2-f8bd-48ce-9a0b-04d7f48f2fa3",
   "metadata": {},
   "outputs": [],
   "source": [
    "#31) Create a program that validates a password based on complexity rules (length, characters, etc.)."
   ]
  },
  {
   "cell_type": "code",
   "execution_count": 4,
   "id": "de98e4df-7f29-44b2-b9e8-cf91e701af22",
   "metadata": {},
   "outputs": [
    {
     "name": "stdin",
     "output_type": "stream",
     "text": [
      "Enter your password:  Rehaan@85\n"
     ]
    },
    {
     "name": "stdout",
     "output_type": "stream",
     "text": [
      "Password is valid.\n"
     ]
    }
   ],
   "source": [
    "def is_valid_password(password):\n",
    "    if len(password) < 8:           # Check if the password meets length requirement\n",
    "        return False\n",
    "\n",
    "    # Check if the password contains at least one uppercase letter\n",
    "    if not any('A' <= char <= 'Z' for char in password):\n",
    "        return False\n",
    "\n",
    "    # Check if the password contains at least one lowercase letter\n",
    "    if not any('a' <= char <= 'z' for char in password):\n",
    "        return False\n",
    "\n",
    "    # Check if the password contains at least one digit\n",
    "    if not any('0' <= char <= '9' for char in password):\n",
    "        return False\n",
    "\n",
    "    # Check if the password contains at least one special character\n",
    "    special_characters = \"!@#$%^&*(),.?\\\":{}|<>\"\n",
    "    if not any(char in special_characters for char in password):\n",
    "        return False\n",
    "\n",
    "    # Password passed all checks\n",
    "    return True\n",
    "\n",
    "#function call\n",
    "password = input(\"Enter your password: \")\n",
    "\n",
    "if is_valid_password(password):\n",
    "    print(\"Password is valid.\")\n",
    "else:\n",
    "    print(\"Password is not valid. Please follow the password complexity rules.\")\n"
   ]
  },
  {
   "cell_type": "code",
   "execution_count": 5,
   "id": "c285772f-65f8-41f8-aae8-2be65612f579",
   "metadata": {},
   "outputs": [],
   "source": [
    "#32) Develop a program that performs matrix addition and subtraction based on user input."
   ]
  },
  {
   "cell_type": "code",
   "execution_count": 8,
   "id": "63059fab-618b-45c8-af50-cc68f32f5e6b",
   "metadata": {},
   "outputs": [
    {
     "name": "stdout",
     "output_type": "stream",
     "text": [
      "Enter Matrix A:\n"
     ]
    },
    {
     "name": "stdin",
     "output_type": "stream",
     "text": [
      "Enter the number of rows:  3\n",
      "Enter the number of columns:  2\n",
      "Enter the element at position (1, 1):  5\n",
      "Enter the element at position (1, 2):  6\n",
      "Enter the element at position (2, 1):  10\n",
      "Enter the element at position (2, 2):  9\n",
      "Enter the element at position (3, 1):  36\n",
      "Enter the element at position (3, 2):  96\n"
     ]
    },
    {
     "name": "stdout",
     "output_type": "stream",
     "text": [
      "\n",
      "Enter Matrix B:\n"
     ]
    },
    {
     "name": "stdin",
     "output_type": "stream",
     "text": [
      "Enter the number of rows:  3\n",
      "Enter the number of columns:  2\n",
      "Enter the element at position (1, 1):  56\n",
      "Enter the element at position (1, 2):  14\n",
      "Enter the element at position (2, 1):  23\n",
      "Enter the element at position (2, 2):  78\n",
      "Enter the element at position (3, 1):  65\n",
      "Enter the element at position (3, 2):  25\n"
     ]
    },
    {
     "name": "stdout",
     "output_type": "stream",
     "text": [
      "\n",
      "Matrix A:\n",
      "[5, 6]\n",
      "[10, 9]\n",
      "[36, 96]\n",
      "\n",
      "Matrix B:\n",
      "[56, 14]\n",
      "[23, 78]\n",
      "[65, 25]\n",
      "\n",
      "Sum of Matrices A and B:\n",
      "[61, 20]\n",
      "[33, 87]\n",
      "[101, 121]\n",
      "\n",
      "Difference of Matrices A and B:\n",
      "[-51, -8]\n",
      "[-13, -69]\n",
      "[-29, 71]\n"
     ]
    }
   ],
   "source": [
    "def add_matrices(matrix1, matrix2):\n",
    "    result = [[0 for col in range(len(matrix1[0]))] for row in range(len(matrix1))]\n",
    "    \n",
    "    for i in range(len(matrix1)):\n",
    "        for j in range(len(matrix1[0])):\n",
    "            result[i][j] = matrix1[i][j] + matrix2[i][j]\n",
    "    \n",
    "    return result\n",
    "\n",
    "def subtract_matrices(matrix1, matrix2):\n",
    "    result = [[0 for col in range(len(matrix1[0]))] for row in range(len(matrix1))]\n",
    "    \n",
    "    for i in range(len(matrix1)):\n",
    "        for j in range(len(matrix1[0])):\n",
    "            result[i][j] = matrix1[i][j] - matrix2[i][j]\n",
    "    \n",
    "    return result\n",
    "\n",
    "def print_matrix(matrix):\n",
    "    for row in matrix:\n",
    "        print(row)\n",
    "\n",
    "def get_matrix_from_user():\n",
    "    rows = int(input(\"Enter the number of rows: \"))\n",
    "    cols = int(input(\"Enter the number of columns: \"))\n",
    "    \n",
    "    matrix = []\n",
    "    \n",
    "    for i in range(rows):\n",
    "        row = []\n",
    "        for j in range(cols):\n",
    "            element = int(input(f\"Enter the element at position ({i+1}, {j+1}): \"))\n",
    "            row.append(element)\n",
    "        matrix.append(row)\n",
    "    \n",
    "    return matrix\n",
    "\n",
    "print(\"Enter Matrix A:\")\n",
    "matrix_a = get_matrix_from_user()\n",
    "\n",
    "print(\"\\nEnter Matrix B:\")\n",
    "matrix_b = get_matrix_from_user()\n",
    "\n",
    "# Perform addition and subtraction\n",
    "sum_matrix = add_matrices(matrix_a, matrix_b)\n",
    "difference_matrix = subtract_matrices(matrix_a, matrix_b)\n",
    "\n",
    "# Display the result\n",
    "print(\"\\nMatrix A:\")\n",
    "print_matrix(matrix_a)\n",
    "\n",
    "print(\"\\nMatrix B:\")\n",
    "print_matrix(matrix_b)\n",
    "\n",
    "print(\"\\nSum of Matrices A and B:\")\n",
    "print_matrix(sum_matrix)\n",
    "\n",
    "print(\"\\nDifference of Matrices A and B:\")\n",
    "print_matrix(difference_matrix)\n"
   ]
  },
  {
   "cell_type": "code",
   "execution_count": 9,
   "id": "8340c608-58f8-4634-a7ae-0c356dd59c35",
   "metadata": {},
   "outputs": [],
   "source": [
    "#33) Write a program that calculates the greatest common divisor (GCD) of two numbers using the Euclidean algorithm."
   ]
  },
  {
   "cell_type": "code",
   "execution_count": 10,
   "id": "309cee96-5abb-4f87-8504-312967de95be",
   "metadata": {},
   "outputs": [
    {
     "name": "stdin",
     "output_type": "stream",
     "text": [
      "Enter the first number:  48\n",
      "Enter the second number:  18\n"
     ]
    },
    {
     "name": "stdout",
     "output_type": "stream",
     "text": [
      "6\n"
     ]
    }
   ],
   "source": [
    "def algorithm(a,b):\n",
    "  while b != 0:\n",
    "    a, b = b, a % b\n",
    "  return a\n",
    "\n",
    "num1 = int(input(\"Enter the first number: \"))\n",
    "num2 = int(input(\"Enter the second number: \"))\n",
    "\n",
    "gcd = algorithm(num1, num2)\n",
    "print(gcd)"
   ]
  },
  {
   "cell_type": "code",
   "execution_count": 11,
   "id": "3a411c3d-85c5-40a4-a7a7-7c2fcdd13c5c",
   "metadata": {},
   "outputs": [],
   "source": [
    "#34) Build a program that performs matrix multiplication using nested loops and conditional statements. "
   ]
  },
  {
   "cell_type": "code",
   "execution_count": 4,
   "id": "8047836a-c62d-4eca-a7fb-6b0be193dd37",
   "metadata": {},
   "outputs": [
    {
     "name": "stdout",
     "output_type": "stream",
     "text": [
      "Enter Matrix A:\n"
     ]
    },
    {
     "name": "stdin",
     "output_type": "stream",
     "text": [
      "Enter the number of rows:  2\n",
      "Enter the number of columns:  2\n",
      "Enter the element at position (1, 1):  15\n",
      "Enter the element at position (1, 2):  14\n",
      "Enter the element at position (2, 1):  13\n",
      "Enter the element at position (2, 2):  12\n"
     ]
    },
    {
     "name": "stdout",
     "output_type": "stream",
     "text": [
      "\n",
      "Enter Matrix B:\n"
     ]
    },
    {
     "name": "stdin",
     "output_type": "stream",
     "text": [
      "Enter the number of rows:  2\n",
      "Enter the number of columns:  2\n",
      "Enter the element at position (1, 1):  14\n",
      "Enter the element at position (1, 2):  13\n",
      "Enter the element at position (2, 1):  12\n",
      "Enter the element at position (2, 2):  11\n"
     ]
    },
    {
     "name": "stdout",
     "output_type": "stream",
     "text": [
      "\n",
      "Matrix A:\n",
      "[15, 14]\n",
      "[13, 12]\n",
      "\n",
      "Matrix B:\n",
      "[14, 13]\n",
      "[12, 11]\n",
      "\n",
      "Multiply of Matrices A and B:\n",
      "[210, 182]\n",
      "[156, 132]\n"
     ]
    }
   ],
   "source": [
    "def matrix_multiplication(matrix1, matrix2):\n",
    "    result = [[0 for col in range(len(matrix1[0]))] for row in range(len(matrix1))]\n",
    "    \n",
    "    for i in range(len(matrix1)):\n",
    "        for j in range(len(matrix1[0])):\n",
    "            result[i][j] = matrix1[i][j] * matrix2[i][j]\n",
    "    return result \n",
    "\n",
    "def print_matrix(matrix):\n",
    "    for row in matrix:\n",
    "        print(row)\n",
    "\n",
    "def get_matrix_from_user():\n",
    "    rows = int(input(\"Enter the number of rows: \"))\n",
    "    cols = int(input(\"Enter the number of columns: \"))\n",
    "    \n",
    "    matrix = []\n",
    "    \n",
    "    for i in range(rows):\n",
    "        row = []\n",
    "        for j in range(cols):\n",
    "            element = int(input(f\"Enter the element at position ({i+1}, {j+1}): \"))\n",
    "            row.append(element)\n",
    "        matrix.append(row)\n",
    "    \n",
    "    return matrix\n",
    "\n",
    "print(\"Enter Matrix A:\")\n",
    "matrix_a = get_matrix_from_user()\n",
    "\n",
    "print(\"\\nEnter Matrix B:\")\n",
    "matrix_b = get_matrix_from_user()\n",
    "\n",
    "#print both matrix now \n",
    "print(\"\\nMatrix A:\")\n",
    "print_matrix(matrix_a)\n",
    "\n",
    "print(\"\\nMatrix B:\")\n",
    "print_matrix(matrix_b)\n",
    "\n",
    "multiply_matrix = matrix_multiplication(matrix_a, matrix_b)\n",
    "\n",
    "#Now Print the result\n",
    "print(\"\\nMultiply of Matrices A and B:\")\n",
    "print_matrix(multiply_matrix)\n",
    "\n",
    "    "
   ]
  },
  {
   "cell_type": "code",
   "execution_count": 5,
   "id": "2807483f-31d0-4aff-b6d3-9e4375a70c8f",
   "metadata": {},
   "outputs": [],
   "source": [
    "#35) Create a program that simulates a basic text-based tic-tac-toe game against the computer."
   ]
  },
  {
   "cell_type": "code",
   "execution_count": null,
   "id": "18556624-824d-4f7d-80ab-49614278d27f",
   "metadata": {},
   "outputs": [],
   "source": [
    "#Don't know the answer"
   ]
  },
  {
   "cell_type": "code",
   "execution_count": 10,
   "id": "d0188ac1-356f-4515-b9d2-06d21885bdae",
   "metadata": {},
   "outputs": [],
   "source": [
    "#36) Write a program that generates Fibonacci numbers up to a specified term using iterative methods."
   ]
  },
  {
   "cell_type": "code",
   "execution_count": 12,
   "id": "b05fb0a4-1898-4e76-bd0a-2bfe21b6b372",
   "metadata": {},
   "outputs": [
    {
     "name": "stdin",
     "output_type": "stream",
     "text": [
      "Enter the value upto you want to print: 10\n"
     ]
    },
    {
     "name": "stdout",
     "output_type": "stream",
     "text": [
      "[0, 1, 1, 2, 3, 5, 8, 13, 21, 34]\n"
     ]
    }
   ],
   "source": [
    "def generate_fibonacci(n):\n",
    "    fibonacci_sequence = [0, 1]\n",
    "\n",
    "    while len(fibonacci_sequence) < n:\n",
    "        next_term = fibonacci_sequence[-1] + fibonacci_sequence[-2]\n",
    "        fibonacci_sequence.append(next_term)\n",
    "\n",
    "    return fibonacci_sequence\n",
    "\n",
    "#function call\n",
    "n = int(input(\"Enter the value upto you want to print:\"))\n",
    "fib_sequence = generate_fibonacci(n)\n",
    "print(fib_sequence)"
   ]
  },
  {
   "cell_type": "code",
   "execution_count": 13,
   "id": "62acc8a4-540d-43ae-8500-3b0cabaacc83",
   "metadata": {},
   "outputs": [],
   "source": [
    "#37) Develop a program that calculates the nth term of the Fibonacci sequence using memoization."
   ]
  },
  {
   "cell_type": "code",
   "execution_count": 14,
   "id": "9a487538-c383-4782-bb8d-8d88f9676a84",
   "metadata": {},
   "outputs": [
    {
     "name": "stdin",
     "output_type": "stream",
     "text": [
      "Enter the value of n for the nth Fibonacci term:  15\n"
     ]
    },
    {
     "name": "stdout",
     "output_type": "stream",
     "text": [
      "The 15th term of the Fibonacci sequence is: 610\n"
     ]
    }
   ],
   "source": [
    "def fibonacci(n, memo={}):\n",
    "    if n <= 1:\n",
    "        return n\n",
    "\n",
    "    # Check if the result is already memoized\n",
    "    if n in memo:\n",
    "        return memo[n]\n",
    "\n",
    "    # Calculate the Fibonacci number and memoize the result\n",
    "    result = fibonacci(n - 1, memo) + fibonacci(n - 2, memo)\n",
    "    memo[n] = result\n",
    "    return result\n",
    "\n",
    "# Get input from the user\n",
    "n = int(input(\"Enter the value of n for the nth Fibonacci term: \"))\n",
    "\n",
    "# Calculate the nth Fibonacci term using memoization\n",
    "nth_term = fibonacci(n)\n",
    "\n",
    "# Display the result\n",
    "print(f\"The {n}th term of the Fibonacci sequence is: {nth_term}\")\n"
   ]
  },
  {
   "cell_type": "code",
   "execution_count": 15,
   "id": "390f0281-2160-449e-9baf-743dfdd2953f",
   "metadata": {},
   "outputs": [],
   "source": [
    "#38) Create a program that generates a calendar for a given month and year using conditional statements."
   ]
  },
  {
   "cell_type": "code",
   "execution_count": 16,
   "id": "69bee3be-7692-4d3b-8745-b1f7f789be94",
   "metadata": {},
   "outputs": [
    {
     "name": "stdin",
     "output_type": "stream",
     "text": [
      "Enter the year:  2016\n",
      "Enter the month (1-12):  10\n"
     ]
    },
    {
     "name": "stdout",
     "output_type": "stream",
     "text": [
      "\n",
      "Calendar for October 2016:\n",
      "\n",
      " Mo Tu We Th Fr Sa Su\n",
      "                1  2 \n",
      " 3  4  5  6  7  8  9 \n",
      "10 11 12 13 14 15 16 \n",
      "17 18 19 20 21 22 23 \n",
      "24 25 26 27 28 29 30 \n",
      "31                   \n"
     ]
    }
   ],
   "source": [
    "import calendar\n",
    "\n",
    "def generate_calendar(year, month):\n",
    "    # Validate the input\n",
    "    if not (1 <= month <= 12):\n",
    "        print(\"Invalid month. Month should be between 1 and 12.\")\n",
    "        return\n",
    "\n",
    "    # Generate the calendar\n",
    "    cal = calendar.monthcalendar(year, month)\n",
    "\n",
    "    # Display the calendar\n",
    "    print(f\"\\nCalendar for {calendar.month_name[month]} {year}:\\n\")\n",
    "    print(\" Mo Tu We Th Fr Sa Su\")\n",
    "\n",
    "    for week in cal:\n",
    "        for day in week:\n",
    "            if day == 0:\n",
    "                print(\"   \", end=\"\")\n",
    "            else:\n",
    "                print(f\"{day:2} \", end=\"\")\n",
    "        print()\n",
    "\n",
    "# Get input from the user\n",
    "year = int(input(\"Enter the year: \"))\n",
    "month = int(input(\"Enter the month (1-12): \"))\n",
    "\n",
    "# Generate and display the calendar\n",
    "generate_calendar(year, month)\n"
   ]
  },
  {
   "cell_type": "code",
   "execution_count": 17,
   "id": "d95df301-4712-48fd-9b77-bb185d722bb8",
   "metadata": {},
   "outputs": [],
   "source": [
    "#39) Build a program that simulates a basic text-based blackjack game against the computer."
   ]
  },
  {
   "cell_type": "code",
   "execution_count": 18,
   "id": "63708454-f943-4d68-b3bd-1e6ef8aab282",
   "metadata": {},
   "outputs": [],
   "source": [
    "#Don't know the answer"
   ]
  },
  {
   "cell_type": "code",
   "execution_count": 19,
   "id": "5bbc506e-9583-4fbe-b215-d4cbf77dd60a",
   "metadata": {},
   "outputs": [],
   "source": [
    "#40) Write a program that generates the prime factors of a given number using trial division."
   ]
  },
  {
   "cell_type": "code",
   "execution_count": 20,
   "id": "ea19655f-5bc3-44a5-968b-39eedb1fe311",
   "metadata": {},
   "outputs": [
    {
     "name": "stdin",
     "output_type": "stream",
     "text": [
      "Enter a number to find its prime factors:  15\n"
     ]
    },
    {
     "name": "stdout",
     "output_type": "stream",
     "text": [
      "Prime factors of 15: [3, 5]\n"
     ]
    }
   ],
   "source": [
    "def prime_factors(n):\n",
    "    factors = []\n",
    "    divisor = 2\n",
    "\n",
    "    while n > 1:\n",
    "        while n % divisor == 0:\n",
    "            factors.append(divisor)\n",
    "            n //= divisor\n",
    "        divisor += 1\n",
    "\n",
    "    return factors\n",
    "\n",
    "# Get input from the user\n",
    "number = int(input(\"Enter a number to find its prime factors: \"))\n",
    "\n",
    "# Calculate and display prime factors\n",
    "result = prime_factors(number)\n",
    "\n",
    "print(f\"Prime factors of {number}: {result}\")\n"
   ]
  },
  {
   "cell_type": "code",
   "execution_count": null,
   "id": "688fc48b-e945-4a2f-9184-b3c6464c1d29",
   "metadata": {},
   "outputs": [],
   "source": []
  }
 ],
 "metadata": {
  "kernelspec": {
   "display_name": "Python 3 (ipykernel)",
   "language": "python",
   "name": "python3"
  },
  "language_info": {
   "codemirror_mode": {
    "name": "ipython",
    "version": 3
   },
   "file_extension": ".py",
   "mimetype": "text/x-python",
   "name": "python",
   "nbconvert_exporter": "python",
   "pygments_lexer": "ipython3",
   "version": "3.10.8"
  }
 },
 "nbformat": 4,
 "nbformat_minor": 5
}
