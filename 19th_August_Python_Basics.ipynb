{
 "cells": [
  {
   "cell_type": "code",
   "execution_count": null,
   "id": "0b97d263-9bce-4611-9416-92d3db865285",
   "metadata": {},
   "outputs": [],
   "source": [
    "\"\"\" Quest 1). Declare two variables, `x` and `y`, and assign them integer values. Swap the\n",
    "values of these variables without using any temporary variable.\"\"\""
   ]
  },
  {
   "cell_type": "code",
   "execution_count": 3,
   "id": "9c669c92-65d9-4e99-864b-2ecad14c83d6",
   "metadata": {},
   "outputs": [
    {
     "name": "stdout",
     "output_type": "stream",
     "text": [
      "After Swapping\n",
      "x = 39 \n",
      "y= 25 \n"
     ]
    }
   ],
   "source": [
    "x = 25\n",
    "y = 39\n",
    "\n",
    "#Swapping without using any temporary variable\n",
    "x = x + y\n",
    "y = x - y\n",
    "x = x - y\n",
    "\n",
    "print(\"After Swapping\")\n",
    "print(\"x = {} \".format(x))\n",
    "print(\"y= {} \".format(y))"
   ]
  },
  {
   "cell_type": "code",
   "execution_count": null,
   "id": "a3f21553-5eef-469f-a21d-6ffbc8518dac",
   "metadata": {},
   "outputs": [],
   "source": [
    "\"\"\" Quest 2). Create a program that calculates the area of a rectangle. Take the length and\n",
    "width as inputs from the user and store them in variables. Calculate and display the area.\"\"\""
   ]
  },
  {
   "cell_type": "code",
   "execution_count": 4,
   "id": "3ee84f8c-e20d-401b-8795-dcd7e625ac22",
   "metadata": {},
   "outputs": [
    {
     "name": "stdin",
     "output_type": "stream",
     "text": [
      "Enter the length of the rectangle: 15\n",
      "Enter the breadth of the rectangle: 20\n"
     ]
    },
    {
     "name": "stdout",
     "output_type": "stream",
     "text": [
      "The area of the reactangle is : 300.0\n"
     ]
    }
   ],
   "source": [
    "length = float(input(\"Enter the length of the rectangle:\"))\n",
    "breadth = float(input(\"Enter the breadth of the rectangle:\"))\n",
    "\n",
    "#now implement the logic of area of rectangle \n",
    "area = length * breadth \n",
    "\n",
    "print(\"The area of the reactangle is : {}\".format(area))"
   ]
  },
  {
   "cell_type": "code",
   "execution_count": null,
   "id": "0e555cb2-2032-4834-968e-01f4fc05223a",
   "metadata": {},
   "outputs": [],
   "source": [
    "\"\"\" Quest 3). Write a Python program that converts temperatures from Celsius to\n",
    "Fahrenheit. Take the temperature in Celsius as input, store it in a variable,\n",
    "convert it to Fahrenheit, and display the result.\"\"\""
   ]
  },
  {
   "cell_type": "code",
   "execution_count": 6,
   "id": "3845cb05-afeb-4076-8d21-308e3235b7d2",
   "metadata": {},
   "outputs": [
    {
     "name": "stdin",
     "output_type": "stream",
     "text": [
      "Enter the Celsius temperature :  10\n"
     ]
    },
    {
     "name": "stdout",
     "output_type": "stream",
     "text": [
      "The Fahrenheit temperature is : 50.0\n"
     ]
    }
   ],
   "source": [
    "celsius = float(input(\"Enter the Celsius temperature : \"))\n",
    "\n",
    "# fahrenheit formula = celsius * (9/5) + 32\n",
    "fahrenheit = celsius * (9/5) + 32\n",
    "\n",
    "print(\"The Fahrenheit temperature is : {}\".format(fahrenheit))"
   ]
  },
  {
   "cell_type": "code",
   "execution_count": null,
   "id": "294ec8e0-a8d4-49bc-8c9e-db1afbae857e",
   "metadata": {},
   "outputs": [],
   "source": []
  },
  {
   "cell_type": "code",
   "execution_count": null,
   "id": "11784968-29ae-4e19-8b96-c2bcbacc6f8f",
   "metadata": {},
   "outputs": [],
   "source": [
    "# String based Questions "
   ]
  },
  {
   "cell_type": "code",
   "execution_count": null,
   "id": "84e81fd6-ed40-4995-a9f5-ca4668051dc3",
   "metadata": {},
   "outputs": [],
   "source": []
  },
  {
   "cell_type": "code",
   "execution_count": null,
   "id": "9f501b6b-c0dc-4b91-bf45-1ea7f6700e5d",
   "metadata": {},
   "outputs": [],
   "source": [
    "\"\"\" Quest 1). Write a Python program that takes a string as input and prints the length of\n",
    "the string.\"\"\""
   ]
  },
  {
   "cell_type": "code",
   "execution_count": 8,
   "id": "f46f15cf-ff35-46fb-819c-d3bc2e74f7a1",
   "metadata": {},
   "outputs": [
    {
     "name": "stdin",
     "output_type": "stream",
     "text": [
      "Enter a string value :  I had started a Data Science Course\n"
     ]
    },
    {
     "name": "stdout",
     "output_type": "stream",
     "text": [
      "35\n"
     ]
    }
   ],
   "source": [
    "word  = str(input(\"Enter a string value : \"))\n",
    "\n",
    "#now for calculate the length of input_string\n",
    "str_length = len(word)\n",
    "\n",
    "print(str_length)"
   ]
  },
  {
   "cell_type": "code",
   "execution_count": null,
   "id": "78e08bce-43b9-44a5-accd-e2014b92838a",
   "metadata": {},
   "outputs": [],
   "source": [
    "\"\"\" Quest 2). Create a program that takes a sentence from the user and counts the number\n",
    "of vowels (a, e, i, o, u) in the string.\"\"\""
   ]
  },
  {
   "cell_type": "code",
   "execution_count": 12,
   "id": "5ca28794-be8c-4e72-804d-d891b4453423",
   "metadata": {},
   "outputs": [
    {
     "name": "stdin",
     "output_type": "stream",
     "text": [
      "Enter a string : Python language is one of the simple programming language.\n"
     ]
    },
    {
     "name": "stdout",
     "output_type": "stream",
     "text": [
      "Number of vowels in sentence : 19\n"
     ]
    }
   ],
   "source": [
    "sentence = input(\"Enter a string :\")\n",
    "\n",
    "vowel_count = 0\n",
    "\n",
    "for char in sentence :\n",
    "    val = char.lower()\n",
    "    if val in \"aeiou\":\n",
    "        vowel_count += 1 \n",
    "        \n",
    "print(\"Number of vowels in sentence : {}\".format(vowel_count))"
   ]
  },
  {
   "cell_type": "code",
   "execution_count": null,
   "id": "35f95325-4a79-4ce6-a77b-4fe645404df4",
   "metadata": {},
   "outputs": [],
   "source": [
    "\"\"\" Quest 3). Given a string, reverse the order of characters using string slicing and print\n",
    "the reversed string.\"\"\""
   ]
  },
  {
   "cell_type": "code",
   "execution_count": 14,
   "id": "4ea8bff8-c055-44e6-8011-e8fe46c5b64a",
   "metadata": {},
   "outputs": [
    {
     "name": "stdin",
     "output_type": "stream",
     "text": [
      "Enter a string :  Python\n"
     ]
    },
    {
     "name": "stdout",
     "output_type": "stream",
     "text": [
      "nohtyP\n"
     ]
    }
   ],
   "source": [
    "input_string = input(\"Enter a string : \")\n",
    "\n",
    "reverse = input_string[ : : -1 ] \n",
    "\n",
    "print(reverse)"
   ]
  },
  {
   "cell_type": "code",
   "execution_count": null,
   "id": "0f9484dc-93e5-4b34-bf43-ffd8f7e39c32",
   "metadata": {},
   "outputs": [],
   "source": [
    "\"\"\"Quest 4). Write a program that takes a string as input and checks if it is a palindrome\n",
    "(reads the same forwards and backwards).\"\"\""
   ]
  },
  {
   "cell_type": "code",
   "execution_count": 15,
   "id": "5631480e-b0f8-44b9-abc3-73da41f5d8e0",
   "metadata": {},
   "outputs": [
    {
     "name": "stdin",
     "output_type": "stream",
     "text": [
      "Enter a string :  Racecar\n"
     ]
    },
    {
     "name": "stdout",
     "output_type": "stream",
     "text": [
      "The string is a Palindrome.\n"
     ]
    }
   ],
   "source": [
    "#taking input and converting it to lowercase \n",
    "input_string = input(\"Enter a string : \").lower()\n",
    "\n",
    "#check for palindrome \n",
    "if input_string == input_string[::-1]:\n",
    "    print(\"The string is a Palindrome.\")\n",
    "else:\n",
    "    print(\"The string is not Palindrome.\")"
   ]
  },
  {
   "cell_type": "code",
   "execution_count": null,
   "id": "35501a7c-f6ae-4e81-bd07-3751a930e918",
   "metadata": {},
   "outputs": [],
   "source": [
    "\"\"\" Quest 5). Create a program that takes a string as input and removes all the spaces from\n",
    "it. Print the modified string without spaces.\"\"\""
   ]
  },
  {
   "cell_type": "code",
   "execution_count": 16,
   "id": "892530c1-2c0b-4f2e-a3c6-29c3009ab833",
   "metadata": {},
   "outputs": [
    {
     "name": "stdin",
     "output_type": "stream",
     "text": [
      "Enter a sentence :  Hello World\n"
     ]
    },
    {
     "name": "stdout",
     "output_type": "stream",
     "text": [
      "HelloWorld\n"
     ]
    }
   ],
   "source": [
    "input_string = input(\"Enter a sentence : \")\n",
    "\n",
    "#for removing all spaces from a sentence we must have to do this \n",
    "new_string = input_string.replace(\" \",\"\")\n",
    "\n",
    "print(new_string)"
   ]
  }
 ],
 "metadata": {
  "kernelspec": {
   "display_name": "Python 3 (ipykernel)",
   "language": "python",
   "name": "python3"
  },
  "language_info": {
   "codemirror_mode": {
    "name": "ipython",
    "version": 3
   },
   "file_extension": ".py",
   "mimetype": "text/x-python",
   "name": "python",
   "nbconvert_exporter": "python",
   "pygments_lexer": "ipython3",
   "version": "3.10.8"
  }
 },
 "nbformat": 4,
 "nbformat_minor": 5
}
